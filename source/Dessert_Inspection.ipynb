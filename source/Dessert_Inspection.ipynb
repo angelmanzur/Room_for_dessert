{
 "cells": [
  {
   "cell_type": "code",
   "execution_count": 27,
   "metadata": {
    "ExecuteTime": {
     "end_time": "2019-07-20T17:20:32.811402Z",
     "start_time": "2019-07-20T17:20:32.805358Z"
    }
   },
   "outputs": [],
   "source": [
    "from extract_desserts import *\n",
    "from pattern.text.en import singularize\n",
    "from nltk import FreqDist\n",
    "import matplotlib.pyplot as plt\n",
    "import numpy as np\n",
    "np.random.seed(seed=2019)\n",
    "\n",
    "\n",
    "import gensim\n",
    "import logging\n",
    "logging.basicConfig(format='%(asctime)s : %(levelname)s : %(message)s',\n",
    "                    datefmt='%H:%M:%S',\n",
    "                   level=logging.INFO)\n",
    "\n",
    "from time import time\n",
    "import multiprocessing"
   ]
  },
  {
   "cell_type": "code",
   "execution_count": 3,
   "metadata": {
    "ExecuteTime": {
     "end_time": "2019-07-20T17:04:01.094224Z",
     "start_time": "2019-07-20T17:04:00.583805Z"
    }
   },
   "outputs": [
    {
     "name": "stdout",
     "output_type": "stream",
     "text": [
      "Loading file  ../data/sample_layer1.json\n",
      "Loading ingredient file: ../data/sample_det_ingrs.json\n"
     ]
    }
   ],
   "source": [
    "#load the raw data\n",
    "# lets use the default value that only loads 250 recipes,\n",
    "# instead of 1 million\n",
    "raw_data = get_raw_data()\n",
    "raw_ingredients = get_raw_ingredients()"
   ]
  },
  {
   "cell_type": "code",
   "execution_count": 5,
   "metadata": {
    "ExecuteTime": {
     "end_time": "2019-07-20T17:04:11.944210Z",
     "start_time": "2019-07-20T17:04:11.938339Z"
    }
   },
   "outputs": [
    {
     "name": "stdout",
     "output_type": "stream",
     "text": [
      "N recipes:  20000 \t N list of ingredients  20000\n"
     ]
    }
   ],
   "source": [
    "print('N recipes: ', len(raw_data),\n",
    "      '\\t N list of ingredients ', \n",
    "      len(raw_ingredients))\n"
   ]
  },
  {
   "cell_type": "code",
   "execution_count": 6,
   "metadata": {
    "ExecuteTime": {
     "end_time": "2019-07-20T17:04:41.118260Z",
     "start_time": "2019-07-20T17:04:40.969385Z"
    }
   },
   "outputs": [],
   "source": [
    "## get a list of desserts only\n",
    "desserts, dessert_ings = find_desserts(raw_data, \n",
    "                                       raw_ingredients)\n"
   ]
  },
  {
   "cell_type": "code",
   "execution_count": 7,
   "metadata": {
    "ExecuteTime": {
     "end_time": "2019-07-20T17:04:49.769175Z",
     "start_time": "2019-07-20T17:04:49.764174Z"
    }
   },
   "outputs": [
    {
     "name": "stdout",
     "output_type": "stream",
     "text": [
      "Will look at 4793 dessert recipes, out of 20000 (~24.0%)\n"
     ]
    }
   ],
   "source": [
    "total_recipes = len(raw_data)\n",
    "dessert_recipes = len(desserts)\n",
    "dessert_ingredients = len(dessert_ings)\n",
    "print('Will look at {} dessert recipes, out of {} (~{:1.1f}%)'.format(\n",
    "                            dessert_recipes, total_recipes,\n",
    "                            dessert_recipes/total_recipes*100))"
   ]
  },
  {
   "cell_type": "code",
   "execution_count": 12,
   "metadata": {
    "ExecuteTime": {
     "end_time": "2019-07-20T17:07:58.629501Z",
     "start_time": "2019-07-20T17:07:58.621039Z"
    },
    "scrolled": true
   },
   "outputs": [
    {
     "name": "stdout",
     "output_type": "stream",
     "text": [
      "3231 [True, True, True, True, True, True, True, True, True, True, True, True, True, True]\n"
     ]
    },
    {
     "data": {
      "text/plain": [
       "[{'text': 'cocoa powder'},\n",
       " {'text': 'red food coloring'},\n",
       " {'text': 'vanilla extract'},\n",
       " {'text': 'butter'},\n",
       " {'text': 'sugar'},\n",
       " {'text': 'eggs'},\n",
       " {'text': 'all - purpose flour'},\n",
       " {'text': 'salt'},\n",
       " {'text': 'chocolate chips'},\n",
       " {'text': 'butter'},\n",
       " {'text': 'vanilla extract'},\n",
       " {'text': 'powdered sugar'},\n",
       " {'text': 'white chocolate'},\n",
       " {'text': 'milk'}]"
      ]
     },
     "execution_count": 12,
     "metadata": {},
     "output_type": "execute_result"
    }
   ],
   "source": [
    "item = np.random.randint(dessert_recipes)\n",
    "print(item, dessert_ings[item]['valid'])\n",
    "dessert_ings[item]['ingredients']"
   ]
  },
  {
   "cell_type": "markdown",
   "metadata": {},
   "source": [
    "# Let's look at the unique words"
   ]
  },
  {
   "cell_type": "code",
   "execution_count": 13,
   "metadata": {
    "ExecuteTime": {
     "end_time": "2019-07-20T17:08:41.770580Z",
     "start_time": "2019-07-20T17:08:41.764497Z"
    }
   },
   "outputs": [],
   "source": [
    "spices =['sugar','salt','water','baking soda','baking powder','flour', 'vegetable oil',\n",
    "        'olive oil', 'cornstarch','nutmeg','white sugar','powdered sugar', 'brown sugar',\n",
    "        'margarine','oil','shortening','kosher salt',\"confectioners' sugar\",'icing sugar',\n",
    "        'canola oil','pepper' ,'low - fat milk','light corn syrup','cooking spray', \n",
    "         'corn syrup','vegetable shortening']"
   ]
  },
  {
   "cell_type": "code",
   "execution_count": null,
   "metadata": {},
   "outputs": [],
   "source": []
  },
  {
   "cell_type": "code",
   "execution_count": 14,
   "metadata": {
    "ExecuteTime": {
     "end_time": "2019-07-20T17:08:44.929832Z",
     "start_time": "2019-07-20T17:08:44.924338Z"
    }
   },
   "outputs": [
    {
     "data": {
      "text/plain": [
       "(4793, 5)"
      ]
     },
     "execution_count": 14,
     "metadata": {},
     "output_type": "execute_result"
    }
   ],
   "source": [
    "item=0\n",
    "len(dessert_ings),len(dessert_ings[item]['ingredients'])"
   ]
  },
  {
   "cell_type": "markdown",
   "metadata": {},
   "source": [
    "## Lets create a list of ingredients\n",
    "And we will us it as an input to word2Vec"
   ]
  },
  {
   "cell_type": "code",
   "execution_count": 18,
   "metadata": {
    "ExecuteTime": {
     "end_time": "2019-07-20T17:13:48.545000Z",
     "start_time": "2019-07-20T17:13:48.491736Z"
    }
   },
   "outputs": [
    {
     "name": "stderr",
     "output_type": "stream",
     "text": [
      "2019-07-20 13:13:48,495 : INFO : read 500 ingredients\n",
      "2019-07-20 13:13:48,499 : INFO : read 1000 ingredients\n",
      "2019-07-20 13:13:48,502 : INFO : read 1500 ingredients\n",
      "2019-07-20 13:13:48,504 : INFO : read 2000 ingredients\n",
      "2019-07-20 13:13:48,507 : INFO : read 2500 ingredients\n",
      "2019-07-20 13:13:48,509 : INFO : read 3000 ingredients\n",
      "2019-07-20 13:13:48,512 : INFO : read 3500 ingredients\n",
      "2019-07-20 13:13:48,515 : INFO : read 4000 ingredients\n",
      "2019-07-20 13:13:48,519 : INFO : read 4500 ingredients\n"
     ]
    }
   ],
   "source": [
    "all_dingredients = []\n",
    "count =0\n",
    "for drecipe in dessert_ings:\n",
    "    ings =[]\n",
    "    for entry in drecipe['ingredients']:\n",
    "        ings.append(entry['text'])\n",
    "    all_dingredients.append(ings)\n",
    "    count += 1\n",
    "    if count%500==0:\n",
    "        logging.info(\"read {0} ingredients\".format(count))\n",
    "\n",
    "#         break;\n",
    "\n",
    "# print(all_dingredients)"
   ]
  },
  {
   "cell_type": "code",
   "execution_count": null,
   "metadata": {
    "ExecuteTime": {
     "end_time": "2019-07-20T01:55:50.008878Z",
     "start_time": "2019-07-20T01:55:50.001715Z"
    }
   },
   "outputs": [],
   "source": []
  },
  {
   "cell_type": "markdown",
   "metadata": {
    "ExecuteTime": {
     "end_time": "2019-07-20T01:57:00.922754Z",
     "start_time": "2019-07-20T01:57:00.914197Z"
    }
   },
   "source": [
    "## Create a Word2Vec model training on the ingredients. \n"
   ]
  },
  {
   "cell_type": "code",
   "execution_count": 66,
   "metadata": {
    "ExecuteTime": {
     "end_time": "2019-07-20T17:35:04.006289Z",
     "start_time": "2019-07-20T17:35:04.001043Z"
    }
   },
   "outputs": [],
   "source": [
    "vec_size = 100;\n",
    "model = gensim.models.Word2Vec(\n",
    "   # all_dingredients,\n",
    "    size=vec_size,\n",
    "    window=5,\n",
    "    min_count=20,\n",
    "    workers=10,\n",
    "    alpha=0.02,\n",
    "    iter=10\n",
    "    )"
   ]
  },
  {
   "cell_type": "code",
   "execution_count": null,
   "metadata": {
    "ExecuteTime": {
     "end_time": "2019-07-20T17:34:59.326117Z",
     "start_time": "2019-07-20T17:34:59.307677Z"
    },
    "scrolled": true
   },
   "outputs": [],
   "source": []
  },
  {
   "cell_type": "code",
   "execution_count": 43,
   "metadata": {
    "ExecuteTime": {
     "end_time": "2019-07-20T17:25:48.234292Z",
     "start_time": "2019-07-20T17:25:48.224787Z"
    }
   },
   "outputs": [
    {
     "data": {
      "text/plain": [
       "[('ground allspice', 0.28683406114578247),\n",
       " ('miniature marshmallows', 0.2256890833377838),\n",
       " ('light brown sugar', 0.2219146341085434),\n",
       " ('vegetable oil', 0.21859200298786163),\n",
       " ('superfine sugar', 0.2021401822566986),\n",
       " ('vanilla ice cream', 0.1956455409526825),\n",
       " ('raspberries', 0.19331741333007812),\n",
       " ('slivered almonds', 0.1920645833015442),\n",
       " ('sweetened flaked coconut', 0.1851302534341812),\n",
       " ('cream of tartar', 0.18504293262958527)]"
      ]
     },
     "execution_count": 43,
     "metadata": {},
     "output_type": "execute_result"
    }
   ],
   "source": []
  },
  {
   "cell_type": "code",
   "execution_count": 67,
   "metadata": {
    "ExecuteTime": {
     "end_time": "2019-07-20T17:35:12.242939Z",
     "start_time": "2019-07-20T17:35:12.179761Z"
    }
   },
   "outputs": [
    {
     "name": "stderr",
     "output_type": "stream",
     "text": [
      "2019-07-20 13:35:12,181 : INFO : collecting all words and their counts\n",
      "2019-07-20 13:35:12,183 : INFO : PROGRESS: at sentence #0, processed 0 words, keeping 0 word types\n",
      "2019-07-20 13:35:12,190 : INFO : PROGRESS: at sentence #1000, processed 9237 words, keeping 1669 word types\n",
      "2019-07-20 13:35:12,196 : INFO : PROGRESS: at sentence #2000, processed 18232 words, keeping 2478 word types\n",
      "2019-07-20 13:35:12,203 : INFO : PROGRESS: at sentence #3000, processed 27463 words, keeping 3119 word types\n",
      "2019-07-20 13:35:12,208 : INFO : PROGRESS: at sentence #4000, processed 36509 words, keeping 3679 word types\n",
      "2019-07-20 13:35:12,213 : INFO : collected 4078 word types from a corpus of 44027 raw words and 4793 sentences\n",
      "2019-07-20 13:35:12,216 : INFO : Loading a fresh vocabulary\n",
      "2019-07-20 13:35:12,225 : INFO : min_count=20 retains 272 unique words (6% of original 4078, drops 3806)\n",
      "2019-07-20 13:35:12,226 : INFO : min_count=20 leaves 33941 word corpus (77% of original 44027, drops 10086)\n",
      "2019-07-20 13:35:12,228 : INFO : deleting the raw counts dictionary of 4078 items\n",
      "2019-07-20 13:35:12,229 : INFO : sample=0.001 downsamples 73 most-common words\n",
      "2019-07-20 13:35:12,230 : INFO : downsampling leaves estimated 17176 word corpus (50.6% of prior 33941)\n",
      "2019-07-20 13:35:12,232 : INFO : estimated required memory for 272 words and 100 dimensions: 353600 bytes\n",
      "2019-07-20 13:35:12,235 : INFO : resetting layer weights\n"
     ]
    }
   ],
   "source": [
    "t = time()\n",
    "model.build_vocab(all_dingredients, progress_per=1000)"
   ]
  },
  {
   "cell_type": "code",
   "execution_count": 68,
   "metadata": {
    "ExecuteTime": {
     "end_time": "2019-07-20T17:35:15.495687Z",
     "start_time": "2019-07-20T17:35:14.613726Z"
    }
   },
   "outputs": [
    {
     "name": "stderr",
     "output_type": "stream",
     "text": [
      "2019-07-20 13:35:14,614 : INFO : training model with 10 workers on 272 vocabulary and 100 features, using sg=0 hs=0 sample=0.001 negative=5 window=5\n",
      "2019-07-20 13:35:14,628 : INFO : worker thread finished; awaiting finish of 9 more threads\n",
      "2019-07-20 13:35:14,636 : INFO : worker thread finished; awaiting finish of 8 more threads\n",
      "2019-07-20 13:35:14,639 : INFO : worker thread finished; awaiting finish of 7 more threads\n",
      "2019-07-20 13:35:14,642 : INFO : worker thread finished; awaiting finish of 6 more threads\n",
      "2019-07-20 13:35:14,648 : INFO : worker thread finished; awaiting finish of 5 more threads\n",
      "2019-07-20 13:35:14,652 : INFO : worker thread finished; awaiting finish of 4 more threads\n",
      "2019-07-20 13:35:14,654 : INFO : worker thread finished; awaiting finish of 3 more threads\n",
      "2019-07-20 13:35:14,655 : INFO : worker thread finished; awaiting finish of 2 more threads\n",
      "2019-07-20 13:35:14,655 : INFO : worker thread finished; awaiting finish of 1 more threads\n",
      "2019-07-20 13:35:14,656 : INFO : worker thread finished; awaiting finish of 0 more threads\n",
      "2019-07-20 13:35:14,657 : INFO : EPOCH - 1 : training on 44027 raw words (17104 effective words) took 0.0s, 512334 effective words/s\n",
      "2019-07-20 13:35:14,668 : INFO : worker thread finished; awaiting finish of 9 more threads\n",
      "2019-07-20 13:35:14,674 : INFO : worker thread finished; awaiting finish of 8 more threads\n",
      "2019-07-20 13:35:14,677 : INFO : worker thread finished; awaiting finish of 7 more threads\n",
      "2019-07-20 13:35:14,695 : INFO : worker thread finished; awaiting finish of 6 more threads\n",
      "2019-07-20 13:35:14,701 : INFO : worker thread finished; awaiting finish of 5 more threads\n",
      "2019-07-20 13:35:14,706 : INFO : worker thread finished; awaiting finish of 4 more threads\n",
      "2019-07-20 13:35:14,716 : INFO : worker thread finished; awaiting finish of 3 more threads\n",
      "2019-07-20 13:35:14,721 : INFO : worker thread finished; awaiting finish of 2 more threads\n",
      "2019-07-20 13:35:14,728 : INFO : worker thread finished; awaiting finish of 1 more threads\n",
      "2019-07-20 13:35:14,737 : INFO : worker thread finished; awaiting finish of 0 more threads\n",
      "2019-07-20 13:35:14,739 : INFO : EPOCH - 2 : training on 44027 raw words (17133 effective words) took 0.1s, 234584 effective words/s\n",
      "2019-07-20 13:35:14,773 : INFO : worker thread finished; awaiting finish of 9 more threads\n",
      "2019-07-20 13:35:14,777 : INFO : worker thread finished; awaiting finish of 8 more threads\n",
      "2019-07-20 13:35:14,778 : INFO : worker thread finished; awaiting finish of 7 more threads\n",
      "2019-07-20 13:35:14,782 : INFO : worker thread finished; awaiting finish of 6 more threads\n",
      "2019-07-20 13:35:14,784 : INFO : worker thread finished; awaiting finish of 5 more threads\n",
      "2019-07-20 13:35:14,785 : INFO : worker thread finished; awaiting finish of 4 more threads\n",
      "2019-07-20 13:35:14,786 : INFO : worker thread finished; awaiting finish of 3 more threads\n",
      "2019-07-20 13:35:14,786 : INFO : worker thread finished; awaiting finish of 2 more threads\n",
      "2019-07-20 13:35:14,788 : INFO : worker thread finished; awaiting finish of 1 more threads\n",
      "2019-07-20 13:35:14,788 : INFO : worker thread finished; awaiting finish of 0 more threads\n",
      "2019-07-20 13:35:14,789 : INFO : EPOCH - 3 : training on 44027 raw words (17163 effective words) took 0.0s, 807244 effective words/s\n",
      "2019-07-20 13:35:14,808 : INFO : worker thread finished; awaiting finish of 9 more threads\n",
      "2019-07-20 13:35:14,819 : INFO : worker thread finished; awaiting finish of 8 more threads\n",
      "2019-07-20 13:35:14,823 : INFO : worker thread finished; awaiting finish of 7 more threads\n",
      "2019-07-20 13:35:14,825 : INFO : worker thread finished; awaiting finish of 6 more threads\n",
      "2019-07-20 13:35:14,825 : INFO : worker thread finished; awaiting finish of 5 more threads\n",
      "2019-07-20 13:35:14,826 : INFO : worker thread finished; awaiting finish of 4 more threads\n",
      "2019-07-20 13:35:14,828 : INFO : worker thread finished; awaiting finish of 3 more threads\n",
      "2019-07-20 13:35:14,829 : INFO : worker thread finished; awaiting finish of 2 more threads\n",
      "2019-07-20 13:35:14,829 : INFO : worker thread finished; awaiting finish of 1 more threads\n",
      "2019-07-20 13:35:14,830 : INFO : worker thread finished; awaiting finish of 0 more threads\n",
      "2019-07-20 13:35:14,831 : INFO : EPOCH - 4 : training on 44027 raw words (17022 effective words) took 0.0s, 587369 effective words/s\n",
      "2019-07-20 13:35:14,847 : INFO : worker thread finished; awaiting finish of 9 more threads\n",
      "2019-07-20 13:35:14,855 : INFO : worker thread finished; awaiting finish of 8 more threads\n",
      "2019-07-20 13:35:14,862 : INFO : worker thread finished; awaiting finish of 7 more threads\n",
      "2019-07-20 13:35:14,862 : INFO : worker thread finished; awaiting finish of 6 more threads\n",
      "2019-07-20 13:35:14,863 : INFO : worker thread finished; awaiting finish of 5 more threads\n",
      "2019-07-20 13:35:14,864 : INFO : worker thread finished; awaiting finish of 4 more threads\n",
      "2019-07-20 13:35:14,865 : INFO : worker thread finished; awaiting finish of 3 more threads\n",
      "2019-07-20 13:35:14,866 : INFO : worker thread finished; awaiting finish of 2 more threads\n",
      "2019-07-20 13:35:14,866 : INFO : worker thread finished; awaiting finish of 1 more threads\n",
      "2019-07-20 13:35:14,867 : INFO : worker thread finished; awaiting finish of 0 more threads\n",
      "2019-07-20 13:35:14,867 : INFO : EPOCH - 5 : training on 44027 raw words (17175 effective words) took 0.0s, 678802 effective words/s\n",
      "2019-07-20 13:35:14,886 : INFO : worker thread finished; awaiting finish of 9 more threads\n",
      "2019-07-20 13:35:14,897 : INFO : worker thread finished; awaiting finish of 8 more threads\n",
      "2019-07-20 13:35:14,901 : INFO : worker thread finished; awaiting finish of 7 more threads\n",
      "2019-07-20 13:35:14,902 : INFO : worker thread finished; awaiting finish of 6 more threads\n",
      "2019-07-20 13:35:14,903 : INFO : worker thread finished; awaiting finish of 5 more threads\n",
      "2019-07-20 13:35:14,903 : INFO : worker thread finished; awaiting finish of 4 more threads\n",
      "2019-07-20 13:35:14,905 : INFO : worker thread finished; awaiting finish of 3 more threads\n",
      "2019-07-20 13:35:14,906 : INFO : worker thread finished; awaiting finish of 2 more threads\n",
      "2019-07-20 13:35:14,907 : INFO : worker thread finished; awaiting finish of 1 more threads\n",
      "2019-07-20 13:35:14,908 : INFO : worker thread finished; awaiting finish of 0 more threads\n",
      "2019-07-20 13:35:14,908 : INFO : EPOCH - 6 : training on 44027 raw words (17212 effective words) took 0.0s, 690926 effective words/s\n",
      "2019-07-20 13:35:14,928 : INFO : worker thread finished; awaiting finish of 9 more threads\n",
      "2019-07-20 13:35:14,935 : INFO : worker thread finished; awaiting finish of 8 more threads\n",
      "2019-07-20 13:35:14,941 : INFO : worker thread finished; awaiting finish of 7 more threads\n",
      "2019-07-20 13:35:14,942 : INFO : worker thread finished; awaiting finish of 6 more threads\n",
      "2019-07-20 13:35:14,943 : INFO : worker thread finished; awaiting finish of 5 more threads\n",
      "2019-07-20 13:35:14,943 : INFO : worker thread finished; awaiting finish of 4 more threads\n",
      "2019-07-20 13:35:14,944 : INFO : worker thread finished; awaiting finish of 3 more threads\n",
      "2019-07-20 13:35:14,944 : INFO : worker thread finished; awaiting finish of 2 more threads\n",
      "2019-07-20 13:35:14,946 : INFO : worker thread finished; awaiting finish of 1 more threads\n",
      "2019-07-20 13:35:14,947 : INFO : worker thread finished; awaiting finish of 0 more threads\n",
      "2019-07-20 13:35:14,948 : INFO : EPOCH - 7 : training on 44027 raw words (17240 effective words) took 0.0s, 748315 effective words/s\n",
      "2019-07-20 13:35:14,963 : INFO : worker thread finished; awaiting finish of 9 more threads\n",
      "2019-07-20 13:35:14,980 : INFO : worker thread finished; awaiting finish of 8 more threads\n",
      "2019-07-20 13:35:14,980 : INFO : worker thread finished; awaiting finish of 7 more threads\n",
      "2019-07-20 13:35:14,982 : INFO : worker thread finished; awaiting finish of 6 more threads\n",
      "2019-07-20 13:35:14,982 : INFO : worker thread finished; awaiting finish of 5 more threads\n",
      "2019-07-20 13:35:14,984 : INFO : worker thread finished; awaiting finish of 4 more threads\n",
      "2019-07-20 13:35:14,985 : INFO : worker thread finished; awaiting finish of 3 more threads\n",
      "2019-07-20 13:35:14,986 : INFO : worker thread finished; awaiting finish of 2 more threads\n",
      "2019-07-20 13:35:14,987 : INFO : worker thread finished; awaiting finish of 1 more threads\n"
     ]
    },
    {
     "name": "stderr",
     "output_type": "stream",
     "text": [
      "2019-07-20 13:35:14,987 : INFO : worker thread finished; awaiting finish of 0 more threads\n",
      "2019-07-20 13:35:14,989 : INFO : EPOCH - 8 : training on 44027 raw words (17156 effective words) took 0.0s, 604056 effective words/s\n",
      "2019-07-20 13:35:15,003 : INFO : worker thread finished; awaiting finish of 9 more threads\n",
      "2019-07-20 13:35:15,014 : INFO : worker thread finished; awaiting finish of 8 more threads\n",
      "2019-07-20 13:35:15,016 : INFO : worker thread finished; awaiting finish of 7 more threads\n",
      "2019-07-20 13:35:15,017 : INFO : worker thread finished; awaiting finish of 6 more threads\n",
      "2019-07-20 13:35:15,018 : INFO : worker thread finished; awaiting finish of 5 more threads\n",
      "2019-07-20 13:35:15,019 : INFO : worker thread finished; awaiting finish of 4 more threads\n",
      "2019-07-20 13:35:15,019 : INFO : worker thread finished; awaiting finish of 3 more threads\n",
      "2019-07-20 13:35:15,020 : INFO : worker thread finished; awaiting finish of 2 more threads\n",
      "2019-07-20 13:35:15,021 : INFO : worker thread finished; awaiting finish of 1 more threads\n",
      "2019-07-20 13:35:15,023 : INFO : worker thread finished; awaiting finish of 0 more threads\n",
      "2019-07-20 13:35:15,023 : INFO : EPOCH - 9 : training on 44027 raw words (17282 effective words) took 0.0s, 752241 effective words/s\n",
      "2019-07-20 13:35:15,052 : INFO : worker thread finished; awaiting finish of 9 more threads\n",
      "2019-07-20 13:35:15,065 : INFO : worker thread finished; awaiting finish of 8 more threads\n",
      "2019-07-20 13:35:15,066 : INFO : worker thread finished; awaiting finish of 7 more threads\n",
      "2019-07-20 13:35:15,068 : INFO : worker thread finished; awaiting finish of 6 more threads\n",
      "2019-07-20 13:35:15,068 : INFO : worker thread finished; awaiting finish of 5 more threads\n",
      "2019-07-20 13:35:15,070 : INFO : worker thread finished; awaiting finish of 4 more threads\n",
      "2019-07-20 13:35:15,071 : INFO : worker thread finished; awaiting finish of 3 more threads\n",
      "2019-07-20 13:35:15,072 : INFO : worker thread finished; awaiting finish of 2 more threads\n",
      "2019-07-20 13:35:15,074 : INFO : worker thread finished; awaiting finish of 1 more threads\n",
      "2019-07-20 13:35:15,075 : INFO : worker thread finished; awaiting finish of 0 more threads\n",
      "2019-07-20 13:35:15,076 : INFO : EPOCH - 10 : training on 44027 raw words (17091 effective words) took 0.0s, 645623 effective words/s\n",
      "2019-07-20 13:35:15,104 : INFO : worker thread finished; awaiting finish of 9 more threads\n",
      "2019-07-20 13:35:15,113 : INFO : worker thread finished; awaiting finish of 8 more threads\n",
      "2019-07-20 13:35:15,123 : INFO : worker thread finished; awaiting finish of 7 more threads\n",
      "2019-07-20 13:35:15,123 : INFO : worker thread finished; awaiting finish of 6 more threads\n",
      "2019-07-20 13:35:15,124 : INFO : worker thread finished; awaiting finish of 5 more threads\n",
      "2019-07-20 13:35:15,125 : INFO : worker thread finished; awaiting finish of 4 more threads\n",
      "2019-07-20 13:35:15,126 : INFO : worker thread finished; awaiting finish of 3 more threads\n",
      "2019-07-20 13:35:15,127 : INFO : worker thread finished; awaiting finish of 2 more threads\n",
      "2019-07-20 13:35:15,127 : INFO : worker thread finished; awaiting finish of 1 more threads\n",
      "2019-07-20 13:35:15,128 : INFO : worker thread finished; awaiting finish of 0 more threads\n",
      "2019-07-20 13:35:15,129 : INFO : EPOCH - 11 : training on 44027 raw words (17097 effective words) took 0.0s, 649680 effective words/s\n",
      "2019-07-20 13:35:15,155 : INFO : worker thread finished; awaiting finish of 9 more threads\n",
      "2019-07-20 13:35:15,160 : INFO : worker thread finished; awaiting finish of 8 more threads\n",
      "2019-07-20 13:35:15,163 : INFO : worker thread finished; awaiting finish of 7 more threads\n",
      "2019-07-20 13:35:15,163 : INFO : worker thread finished; awaiting finish of 6 more threads\n",
      "2019-07-20 13:35:15,164 : INFO : worker thread finished; awaiting finish of 5 more threads\n",
      "2019-07-20 13:35:15,165 : INFO : worker thread finished; awaiting finish of 4 more threads\n",
      "2019-07-20 13:35:15,165 : INFO : worker thread finished; awaiting finish of 3 more threads\n",
      "2019-07-20 13:35:15,166 : INFO : worker thread finished; awaiting finish of 2 more threads\n",
      "2019-07-20 13:35:15,167 : INFO : worker thread finished; awaiting finish of 1 more threads\n",
      "2019-07-20 13:35:15,168 : INFO : worker thread finished; awaiting finish of 0 more threads\n",
      "2019-07-20 13:35:15,168 : INFO : EPOCH - 12 : training on 44027 raw words (17131 effective words) took 0.0s, 889340 effective words/s\n",
      "2019-07-20 13:35:15,195 : INFO : worker thread finished; awaiting finish of 9 more threads\n",
      "2019-07-20 13:35:15,204 : INFO : worker thread finished; awaiting finish of 8 more threads\n",
      "2019-07-20 13:35:15,210 : INFO : worker thread finished; awaiting finish of 7 more threads\n",
      "2019-07-20 13:35:15,211 : INFO : worker thread finished; awaiting finish of 6 more threads\n",
      "2019-07-20 13:35:15,211 : INFO : worker thread finished; awaiting finish of 5 more threads\n",
      "2019-07-20 13:35:15,212 : INFO : worker thread finished; awaiting finish of 4 more threads\n",
      "2019-07-20 13:35:15,214 : INFO : worker thread finished; awaiting finish of 3 more threads\n",
      "2019-07-20 13:35:15,214 : INFO : worker thread finished; awaiting finish of 2 more threads\n",
      "2019-07-20 13:35:15,215 : INFO : worker thread finished; awaiting finish of 1 more threads\n",
      "2019-07-20 13:35:15,215 : INFO : worker thread finished; awaiting finish of 0 more threads\n",
      "2019-07-20 13:35:15,216 : INFO : EPOCH - 13 : training on 44027 raw words (17268 effective words) took 0.0s, 722484 effective words/s\n",
      "2019-07-20 13:35:15,238 : INFO : worker thread finished; awaiting finish of 9 more threads\n",
      "2019-07-20 13:35:15,254 : INFO : worker thread finished; awaiting finish of 8 more threads\n",
      "2019-07-20 13:35:15,257 : INFO : worker thread finished; awaiting finish of 7 more threads\n",
      "2019-07-20 13:35:15,258 : INFO : worker thread finished; awaiting finish of 6 more threads\n",
      "2019-07-20 13:35:15,258 : INFO : worker thread finished; awaiting finish of 5 more threads\n",
      "2019-07-20 13:35:15,259 : INFO : worker thread finished; awaiting finish of 4 more threads\n",
      "2019-07-20 13:35:15,260 : INFO : worker thread finished; awaiting finish of 3 more threads\n",
      "2019-07-20 13:35:15,261 : INFO : worker thread finished; awaiting finish of 2 more threads\n",
      "2019-07-20 13:35:15,261 : INFO : worker thread finished; awaiting finish of 1 more threads\n",
      "2019-07-20 13:35:15,263 : INFO : worker thread finished; awaiting finish of 0 more threads\n",
      "2019-07-20 13:35:15,263 : INFO : EPOCH - 14 : training on 44027 raw words (17237 effective words) took 0.0s, 691365 effective words/s\n",
      "2019-07-20 13:35:15,284 : INFO : worker thread finished; awaiting finish of 9 more threads\n",
      "2019-07-20 13:35:15,293 : INFO : worker thread finished; awaiting finish of 8 more threads\n",
      "2019-07-20 13:35:15,295 : INFO : worker thread finished; awaiting finish of 7 more threads\n",
      "2019-07-20 13:35:15,296 : INFO : worker thread finished; awaiting finish of 6 more threads\n",
      "2019-07-20 13:35:15,297 : INFO : worker thread finished; awaiting finish of 5 more threads\n",
      "2019-07-20 13:35:15,298 : INFO : worker thread finished; awaiting finish of 4 more threads\n",
      "2019-07-20 13:35:15,299 : INFO : worker thread finished; awaiting finish of 3 more threads\n",
      "2019-07-20 13:35:15,299 : INFO : worker thread finished; awaiting finish of 2 more threads\n",
      "2019-07-20 13:35:15,300 : INFO : worker thread finished; awaiting finish of 1 more threads\n",
      "2019-07-20 13:35:15,301 : INFO : worker thread finished; awaiting finish of 0 more threads\n",
      "2019-07-20 13:35:15,302 : INFO : EPOCH - 15 : training on 44027 raw words (17152 effective words) took 0.0s, 652223 effective words/s\n",
      "2019-07-20 13:35:15,322 : INFO : worker thread finished; awaiting finish of 9 more threads\n",
      "2019-07-20 13:35:15,330 : INFO : worker thread finished; awaiting finish of 8 more threads\n",
      "2019-07-20 13:35:15,333 : INFO : worker thread finished; awaiting finish of 7 more threads\n",
      "2019-07-20 13:35:15,333 : INFO : worker thread finished; awaiting finish of 6 more threads\n",
      "2019-07-20 13:35:15,334 : INFO : worker thread finished; awaiting finish of 5 more threads\n",
      "2019-07-20 13:35:15,335 : INFO : worker thread finished; awaiting finish of 4 more threads\n",
      "2019-07-20 13:35:15,336 : INFO : worker thread finished; awaiting finish of 3 more threads\n",
      "2019-07-20 13:35:15,336 : INFO : worker thread finished; awaiting finish of 2 more threads\n"
     ]
    },
    {
     "name": "stderr",
     "output_type": "stream",
     "text": [
      "2019-07-20 13:35:15,337 : INFO : worker thread finished; awaiting finish of 1 more threads\n",
      "2019-07-20 13:35:15,339 : INFO : worker thread finished; awaiting finish of 0 more threads\n",
      "2019-07-20 13:35:15,340 : INFO : EPOCH - 16 : training on 44027 raw words (17190 effective words) took 0.0s, 674508 effective words/s\n",
      "2019-07-20 13:35:15,355 : INFO : worker thread finished; awaiting finish of 9 more threads\n",
      "2019-07-20 13:35:15,374 : INFO : worker thread finished; awaiting finish of 8 more threads\n",
      "2019-07-20 13:35:15,375 : INFO : worker thread finished; awaiting finish of 7 more threads\n",
      "2019-07-20 13:35:15,376 : INFO : worker thread finished; awaiting finish of 6 more threads\n",
      "2019-07-20 13:35:15,376 : INFO : worker thread finished; awaiting finish of 5 more threads\n",
      "2019-07-20 13:35:15,377 : INFO : worker thread finished; awaiting finish of 4 more threads\n",
      "2019-07-20 13:35:15,378 : INFO : worker thread finished; awaiting finish of 3 more threads\n",
      "2019-07-20 13:35:15,379 : INFO : worker thread finished; awaiting finish of 2 more threads\n",
      "2019-07-20 13:35:15,379 : INFO : worker thread finished; awaiting finish of 1 more threads\n",
      "2019-07-20 13:35:15,381 : INFO : worker thread finished; awaiting finish of 0 more threads\n",
      "2019-07-20 13:35:15,382 : INFO : EPOCH - 17 : training on 44027 raw words (17276 effective words) took 0.0s, 544493 effective words/s\n",
      "2019-07-20 13:35:15,396 : INFO : worker thread finished; awaiting finish of 9 more threads\n",
      "2019-07-20 13:35:15,405 : INFO : worker thread finished; awaiting finish of 8 more threads\n",
      "2019-07-20 13:35:15,410 : INFO : worker thread finished; awaiting finish of 7 more threads\n",
      "2019-07-20 13:35:15,412 : INFO : worker thread finished; awaiting finish of 6 more threads\n",
      "2019-07-20 13:35:15,413 : INFO : worker thread finished; awaiting finish of 5 more threads\n",
      "2019-07-20 13:35:15,413 : INFO : worker thread finished; awaiting finish of 4 more threads\n",
      "2019-07-20 13:35:15,415 : INFO : worker thread finished; awaiting finish of 3 more threads\n",
      "2019-07-20 13:35:15,416 : INFO : worker thread finished; awaiting finish of 2 more threads\n",
      "2019-07-20 13:35:15,417 : INFO : worker thread finished; awaiting finish of 1 more threads\n",
      "2019-07-20 13:35:15,418 : INFO : worker thread finished; awaiting finish of 0 more threads\n",
      "2019-07-20 13:35:15,419 : INFO : EPOCH - 18 : training on 44027 raw words (17149 effective words) took 0.0s, 704505 effective words/s\n",
      "2019-07-20 13:35:15,429 : INFO : worker thread finished; awaiting finish of 9 more threads\n",
      "2019-07-20 13:35:15,437 : INFO : worker thread finished; awaiting finish of 8 more threads\n",
      "2019-07-20 13:35:15,443 : INFO : worker thread finished; awaiting finish of 7 more threads\n",
      "2019-07-20 13:35:15,443 : INFO : worker thread finished; awaiting finish of 6 more threads\n",
      "2019-07-20 13:35:15,445 : INFO : worker thread finished; awaiting finish of 5 more threads\n",
      "2019-07-20 13:35:15,446 : INFO : worker thread finished; awaiting finish of 4 more threads\n",
      "2019-07-20 13:35:15,447 : INFO : worker thread finished; awaiting finish of 3 more threads\n",
      "2019-07-20 13:35:15,448 : INFO : worker thread finished; awaiting finish of 2 more threads\n",
      "2019-07-20 13:35:15,449 : INFO : worker thread finished; awaiting finish of 1 more threads\n",
      "2019-07-20 13:35:15,450 : INFO : worker thread finished; awaiting finish of 0 more threads\n",
      "2019-07-20 13:35:15,451 : INFO : EPOCH - 19 : training on 44027 raw words (17164 effective words) took 0.0s, 785162 effective words/s\n",
      "2019-07-20 13:35:15,469 : INFO : worker thread finished; awaiting finish of 9 more threads\n",
      "2019-07-20 13:35:15,478 : INFO : worker thread finished; awaiting finish of 8 more threads\n",
      "2019-07-20 13:35:15,481 : INFO : worker thread finished; awaiting finish of 7 more threads\n",
      "2019-07-20 13:35:15,483 : INFO : worker thread finished; awaiting finish of 6 more threads\n",
      "2019-07-20 13:35:15,483 : INFO : worker thread finished; awaiting finish of 5 more threads\n",
      "2019-07-20 13:35:15,484 : INFO : worker thread finished; awaiting finish of 4 more threads\n",
      "2019-07-20 13:35:15,486 : INFO : worker thread finished; awaiting finish of 3 more threads\n",
      "2019-07-20 13:35:15,486 : INFO : worker thread finished; awaiting finish of 2 more threads\n",
      "2019-07-20 13:35:15,487 : INFO : worker thread finished; awaiting finish of 1 more threads\n",
      "2019-07-20 13:35:15,489 : INFO : worker thread finished; awaiting finish of 0 more threads\n",
      "2019-07-20 13:35:15,490 : INFO : EPOCH - 20 : training on 44027 raw words (17204 effective words) took 0.0s, 711118 effective words/s\n",
      "2019-07-20 13:35:15,490 : INFO : training on a 880540 raw words (343446 effective words) took 0.9s, 392570 effective words/s\n"
     ]
    },
    {
     "data": {
      "text/plain": [
       "(343446, 880540)"
      ]
     },
     "execution_count": 68,
     "metadata": {},
     "output_type": "execute_result"
    }
   ],
   "source": [
    "model.train(all_dingredients, total_examples=model.corpus_count,\n",
    "           epochs=20, report_delay=1)"
   ]
  },
  {
   "cell_type": "code",
   "execution_count": 69,
   "metadata": {
    "ExecuteTime": {
     "end_time": "2019-07-20T17:35:18.613524Z",
     "start_time": "2019-07-20T17:35:18.589766Z"
    }
   },
   "outputs": [
    {
     "name": "stderr",
     "output_type": "stream",
     "text": [
      "2019-07-20 13:35:18,591 : INFO : precomputing L2-norms of word weight vectors\n"
     ]
    }
   ],
   "source": [
    "model.init_sims(replace=True)"
   ]
  },
  {
   "cell_type": "code",
   "execution_count": 70,
   "metadata": {
    "ExecuteTime": {
     "end_time": "2019-07-20T17:35:20.119803Z",
     "start_time": "2019-07-20T17:35:20.113045Z"
    }
   },
   "outputs": [
    {
     "data": {
      "text/plain": [
       "[('hazelnuts', 0.9882504940032959),\n",
       " ('almond extract', 0.9836483597755432),\n",
       " ('whipped cream', 0.9784378409385681),\n",
       " ('light corn syrup', 0.9781797528266907)]"
      ]
     },
     "execution_count": 70,
     "metadata": {},
     "output_type": "execute_result"
    }
   ],
   "source": [
    "w1='almonds'\n",
    "model.wv.most_similar(positive=w1, topn=4)"
   ]
  },
  {
   "cell_type": "code",
   "execution_count": 71,
   "metadata": {
    "ExecuteTime": {
     "end_time": "2019-07-20T17:35:22.354790Z",
     "start_time": "2019-07-20T17:35:22.346630Z"
    },
    "scrolled": true
   },
   "outputs": [
    {
     "data": {
      "text/plain": [
       "[('ginger', 0.9762071371078491),\n",
       " ('cloves', 0.9726669788360596),\n",
       " ('zucchini', 0.9680337905883789),\n",
       " ('nutmeg', 0.9537909030914307),\n",
       " ('molasses', 0.9503282904624939),\n",
       " ('raisins', 0.9488424062728882),\n",
       " ('allspice', 0.9459326863288879),\n",
       " ('cinnamon', 0.944369912147522),\n",
       " ('applesauce', 0.938673198223114),\n",
       " ('oats', 0.9307254552841187)]"
      ]
     },
     "execution_count": 71,
     "metadata": {},
     "output_type": "execute_result"
    }
   ],
   "source": [
    "w1='rum'\n",
    "model.wv.most_similar(positive=['apples','banana'],\n",
    "                      negative=['rum'],topn=10)"
   ]
  },
  {
   "cell_type": "code",
   "execution_count": 82,
   "metadata": {
    "ExecuteTime": {
     "end_time": "2019-07-20T17:43:24.352195Z",
     "start_time": "2019-07-20T17:43:24.347123Z"
    }
   },
   "outputs": [],
   "source": [
    "# witem = model.wv.__getitem__(['ginger'])\n",
    "# witem[0]"
   ]
  },
  {
   "cell_type": "code",
   "execution_count": 76,
   "metadata": {
    "ExecuteTime": {
     "end_time": "2019-07-20T17:35:54.732809Z",
     "start_time": "2019-07-20T17:35:54.725469Z"
    }
   },
   "outputs": [
    {
     "data": {
      "text/plain": [
       "'bacon'"
      ]
     },
     "execution_count": 76,
     "metadata": {},
     "output_type": "execute_result"
    }
   ],
   "source": [
    "model.wv.doesnt_match(['apples','butter','banana',\n",
    "                       'rum','bacon'])"
   ]
  },
  {
   "cell_type": "code",
   "execution_count": 83,
   "metadata": {
    "ExecuteTime": {
     "end_time": "2019-07-20T17:47:42.413193Z",
     "start_time": "2019-07-20T17:47:42.406013Z"
    }
   },
   "outputs": [],
   "source": [
    "import matplotlib.pyplot as plt\n",
    "%matplotlib inline \n",
    "import pandas as pd\n",
    "import seaborn as sns\n",
    "sns.set_style('darkgrid')\n",
    "\n",
    "from sklearn.decomposition import PCA\n",
    "from sklearn.manifold import TSNE"
   ]
  },
  {
   "cell_type": "code",
   "execution_count": 144,
   "metadata": {
    "ExecuteTime": {
     "end_time": "2019-07-20T20:51:19.817133Z",
     "start_time": "2019-07-20T20:51:19.803403Z"
    }
   },
   "outputs": [],
   "source": [
    "def tsne_scatterplot(model, word, list_names):\n",
    "    # create an array with the same size as the vector\n",
    "    arrays = np.empty((0,vec_size), dtype='f')\n",
    "    # set the original word,     \n",
    "    word_labels = [word]\n",
    "    color_list = ['red']\n",
    "    # append the vector for the test word\n",
    "    arrays = np.append(arrays, model.wv.__getitem__([word]),axis=0)\n",
    "    \n",
    "    ####### get the closest words and make then blue\n",
    "    #get a list of the most similar words\n",
    "    close_words = model.wv.most_similar([word])\n",
    "    \n",
    "    for word_score in close_words:\n",
    "        # for each word get the vector  \n",
    "        word_vector = model.wv.__getitem__([word_score[0]])\n",
    "        # get the name\n",
    "        word_labels.append(word_score[0])\n",
    "        color_list.append('blue')\n",
    "        arrays = np.append(arrays, word_vector, axis=0)\n",
    "     \n",
    "    # get the words passed in the third entry and \n",
    "    # get those vectors, and set the color as green\n",
    "    for wrd in list_names:\n",
    "        word_vector = model.wv.__getitem__([wrd])\n",
    "        word_labels.append(wrd)\n",
    "        color_list.append('green')\n",
    "        arrays = np.append(arrays, word_vector, axis=0)\n",
    "        \n",
    "    reduc = PCA(n_components=10).fit_transform(arrays)\n",
    "    \n",
    "    np.set_printoptions(suppress=True)\n",
    "    \n",
    "    Y = TSNE(n_components=2, random_state=0, \n",
    "             perplexity=15).fit_transform(reduc)\n",
    "    df = pd.DataFrame({'x':[x for x in Y[:, 0]],\n",
    "                       'y':[y for y in Y[:,1]],\n",
    "                      'words':word_labels,\n",
    "                      'color': color_list})\n",
    "    \n",
    "    fig, _ = plt.subplots()\n",
    "    fig.set_size_inches(8,6)\n",
    "    \n",
    "    p1 = sns.regplot(data=df, \n",
    "                    x='x',y='y',fit_reg=False,\n",
    "                    marker='x',\n",
    "                    scatter_kws={'s':40,\n",
    "                                'facecolors':df['color']})\n",
    "    \n",
    "    for line in range(df.shape[0]):\n",
    "        p1.text(df['x'][line],df['y'][line],\n",
    "               '  '+df['words'][line].title(),\n",
    "               horizontalalignment='left',\n",
    "                verticalalignment='bottom',size='large',\n",
    "                color=df['color'][line],weight='normal'\n",
    "               ).set_size(10)\n",
    "        \n",
    "    plt.xlim(Y[:,0].min()-50, Y[:,0].max() + 50)\n",
    "    plt.ylim(Y[:,1].min()-50, Y[:,1].max() + 50)\n",
    "    \n",
    "    plt.title('t-SNE visualization for {}'.format(word.title()))"
   ]
  },
  {
   "cell_type": "code",
   "execution_count": null,
   "metadata": {},
   "outputs": [],
   "source": []
  },
  {
   "cell_type": "code",
   "execution_count": 145,
   "metadata": {
    "ExecuteTime": {
     "end_time": "2019-07-20T20:51:21.436428Z",
     "start_time": "2019-07-20T20:51:21.152753Z"
    }
   },
   "outputs": [
    {
     "data": {
      "image/png": "[encoded data removed]",
      "text/plain": [
       "<Figure size 576x432 with 1 Axes>"
      ]
     },
     "metadata": {},
     "output_type": "display_data"
    }
   ],
   "source": [
    "tsnescatterplot(model, 'apples', ['butter','rum','raisins'])"
   ]
  },
  {
   "cell_type": "code",
   "execution_count": 146,
   "metadata": {
    "ExecuteTime": {
     "end_time": "2019-07-20T20:51:25.446376Z",
     "start_time": "2019-07-20T20:51:25.442115Z"
    }
   },
   "outputs": [],
   "source": [
    "test_word = 'chocolate'"
   ]
  },
  {
   "cell_type": "code",
   "execution_count": 147,
   "metadata": {
    "ExecuteTime": {
     "end_time": "2019-07-20T20:51:27.408767Z",
     "start_time": "2019-07-20T20:51:27.095644Z"
    }
   },
   "outputs": [
    {
     "data": {
      "image/png": "[encoded data removed]",
      "text/plain": [
       "<Figure size 576x432 with 1 Axes>"
      ]
     },
     "metadata": {},
     "output_type": "display_data"
    }
   ],
   "source": [
    "tsnescatterplot(model, test_word, [t[0] for t in model.wv.most_similar(positive=[test_word], topn=20)][10:])"
   ]
  },
  {
   "cell_type": "code",
   "execution_count": null,
   "metadata": {},
   "outputs": [],
   "source": []
  },
  {
   "cell_type": "code",
   "execution_count": null,
   "metadata": {},
   "outputs": [],
   "source": []
  },
  {
   "cell_type": "code",
   "execution_count": null,
   "metadata": {},
   "outputs": [],
   "source": []
  },
  {
   "cell_type": "code",
   "execution_count": null,
   "metadata": {},
   "outputs": [],
   "source": []
  },
  {
   "cell_type": "code",
   "execution_count": null,
   "metadata": {},
   "outputs": [],
   "source": []
  },
  {
   "cell_type": "code",
   "execution_count": 15,
   "metadata": {
    "ExecuteTime": {
     "end_time": "2019-07-20T01:30:22.936741Z",
     "start_time": "2019-07-20T01:30:21.404998Z"
    },
    "scrolled": true
   },
   "outputs": [],
   "source": [
    "# create bag of ingredients\n",
    "\n",
    "all_ingredients = []\n",
    "\n",
    "for recipe_ings in dessert_ings:\n",
    "    n_ingredients = len(recipe_ings['valid'])\n",
    "    for item, ingredient in enumerate(recipe_ings['ingredients']):\n",
    "        if recipe_ings['valid'][item] ==True:\n",
    "            ingred = ingredient['text'].lower()\n",
    "#             ingred = singularize(ingred)\n",
    "#             if ingred=='eggs':\n",
    "#                 ingred='egg'\n",
    "#             elif 'butter' in ingred:\n",
    "#                 ingred = 'butter'\n",
    "            \n",
    "#             elif ingred == 'granulated sugar':\n",
    "#                 ingred= 'sugar'\n",
    "#             elif 'flour' in ingred:\n",
    "#                 ingred = 'flour'\n",
    "#             elif ingred == 'all - purpose flour' or ingred == 'cake flour':\n",
    "#                 ingred = 'flour'\n",
    "#             elif ingred == 'boiling water' or  ingred=='cold water':\n",
    "#                 ingred = 'water'\n",
    "#             elif ingred== 'light brown sugar' or ingred == 'dark brown sugar':\n",
    "#                 ingred = 'sugar'\n",
    "#             elif ingred == 'vanilla extract' or ingred == 'pure vanilla extract':\n",
    "#                 ingred = 'vanilla'\n",
    "#             elif ingred == 'fresh lemon juice':\n",
    "#                 ingred = 'lemon juice'\n",
    "            # find if ingredient belongs to a spice list\n",
    "            an_ingredient, ingred = is_it_an_ingredient(ingred)\n",
    "            if an_ingredient:\n",
    "                # make it singular\n",
    "                \n",
    "                ingred = singularize(ingred)\n",
    "                all_ingredients.append(ingred)\n",
    "                \n",
    "#             if ingred not in spices:\n",
    "#                 all_ingredients.append(ingred)\n",
    "            "
   ]
  },
  {
   "cell_type": "code",
   "execution_count": 14,
   "metadata": {
    "ExecuteTime": {
     "end_time": "2019-07-20T01:30:17.722996Z",
     "start_time": "2019-07-20T01:30:17.717296Z"
    }
   },
   "outputs": [],
   "source": [
    "import re\n",
    "\n",
    "spice_list = ['sugar','salt','water','baking soda','baking powder','flour', 'oil',\n",
    "         'cornstarch','sugar','margarine','shortening','pepper' ,'milk','light corn syrup','cooking spray', \n",
    "         'corn syrup', 'butter']\n",
    "\n",
    "def is_it_an_ingredient(ingredient):\n",
    "    for spice in spice_list:\n",
    "        if re.search(spice, ingredient):\n",
    "#             print( ingredient,' -> ingredient is a spice')\n",
    "            return False, spice\n",
    "#     print('Did not find ingredient in the list of spices')    \n",
    "    return True, ingredient\n",
    "\n",
    "    "
   ]
  },
  {
   "cell_type": "code",
   "execution_count": 16,
   "metadata": {
    "ExecuteTime": {
     "end_time": "2019-07-20T01:30:26.278431Z",
     "start_time": "2019-07-20T01:30:26.275490Z"
    }
   },
   "outputs": [],
   "source": [
    "ignore_singularize = ['nuts','molasses']"
   ]
  },
  {
   "cell_type": "code",
   "execution_count": 17,
   "metadata": {
    "ExecuteTime": {
     "end_time": "2019-07-20T01:30:28.702143Z",
     "start_time": "2019-07-20T01:30:28.694278Z"
    },
    "scrolled": true
   },
   "outputs": [
    {
     "name": "stdout",
     "output_type": "stream",
     "text": [
      "with 4793 recipes, there are 23554 ingredients, and 2586 unique ingredients.\n"
     ]
    }
   ],
   "source": [
    "ingredient_set = set(all_ingredients)\n",
    "print('with {} recipes, there are {} ingredients, and {} unique ingredients.'.format(\n",
    "                dessert_recipes, len(all_ingredients), len(ingredient_set)))"
   ]
  },
  {
   "cell_type": "code",
   "execution_count": 18,
   "metadata": {
    "ExecuteTime": {
     "end_time": "2019-07-20T01:30:32.610153Z",
     "start_time": "2019-07-20T01:30:32.601226Z"
    }
   },
   "outputs": [
    {
     "data": {
      "text/plain": [
       "'sour cream'"
      ]
     },
     "execution_count": 18,
     "metadata": {},
     "output_type": "execute_result"
    }
   ],
   "source": [
    "singularize('sour cream')"
   ]
  },
  {
   "cell_type": "code",
   "execution_count": 19,
   "metadata": {
    "ExecuteTime": {
     "end_time": "2019-07-20T01:30:38.397893Z",
     "start_time": "2019-07-20T01:30:38.367241Z"
    }
   },
   "outputs": [
    {
     "name": "stdout",
     "output_type": "stream",
     "text": [
      "<FreqDist with 2586 samples and 23554 outcomes>\n"
     ]
    }
   ],
   "source": [
    "fdist = FreqDist(all_ingredients)\n",
    "print(fdist)"
   ]
  },
  {
   "cell_type": "code",
   "execution_count": 20,
   "metadata": {
    "ExecuteTime": {
     "end_time": "2019-07-20T01:30:41.573138Z",
     "start_time": "2019-07-20T01:30:41.568852Z"
    },
    "scrolled": false
   },
   "outputs": [],
   "source": [
    "common = fdist.most_common(4200)"
   ]
  },
  {
   "cell_type": "code",
   "execution_count": 30,
   "metadata": {
    "ExecuteTime": {
     "end_time": "2019-07-20T01:35:39.970925Z",
     "start_time": "2019-07-20T01:35:39.964756Z"
    }
   },
   "outputs": [
    {
     "name": "stdout",
     "output_type": "stream",
     "text": [
      "('soy sauce', 37)\n",
      "('soy cream cheese', 2)\n",
      "('soy yogurt', 2)\n",
      "('dark soy sauce', 2)\n",
      "('soy sour cream', 1)\n",
      "('light soy sauce', 1)\n",
      "('roasted soybean', 1)\n",
      "('low sodium soy sauce', 1)\n"
     ]
    }
   ],
   "source": [
    "for c in common:\n",
    "    if 'soy' in c[0]:\n",
    "        print(c)\n",
    "    "
   ]
  },
  {
   "cell_type": "code",
   "execution_count": null,
   "metadata": {},
   "outputs": [],
   "source": []
  },
  {
   "cell_type": "code",
   "execution_count": null,
   "metadata": {},
   "outputs": [],
   "source": []
  },
  {
   "cell_type": "code",
   "execution_count": 24,
   "metadata": {
    "ExecuteTime": {
     "end_time": "2019-07-20T01:34:30.886166Z",
     "start_time": "2019-07-20T01:34:29.432078Z"
    }
   },
   "outputs": [
    {
     "data": {
      "image/png": "[encoded data removed]",
      "text/plain": [
       "<Figure size 864x576 with 1 Axes>"
      ]
     },
     "metadata": {
      "needs_background": "light"
     },
     "output_type": "display_data"
    }
   ],
   "source": [
    "import matplotlib.pyplot as plt\n",
    "%matplotlib inline\n",
    "\n",
    "fig = plt.figure(figsize=(12, 8))\n",
    "# plt.ylim(0,120)\n",
    "fdist.plot(50,cumulative=False)\n",
    "# plt.ylim(0,30)\n",
    "# plt.show()"
   ]
  },
  {
   "cell_type": "code",
   "execution_count": null,
   "metadata": {},
   "outputs": [],
   "source": []
  },
  {
   "cell_type": "code",
   "execution_count": null,
   "metadata": {
    "ExecuteTime": {
     "end_time": "2019-07-17T21:02:23.558223Z",
     "start_time": "2019-07-17T21:02:22.927034Z"
    }
   },
   "outputs": [],
   "source": [
    "import nltk\n",
    "from nltk.corpus import stopwords\n",
    "import string\n",
    "\n",
    "from nltk import word_tokenize, FreqDist\n",
    "from sklearn.feature_extraction.text import TfidfVectorizer\n",
    "from sklearn.metrics import accuracy_score\n",
    "from sklearn.ensemble import RandomForestClassifier\n",
    "from sklearn.naive_bayes import MultinomialNB\n",
    "import pandas as pd\n",
    "import numpy as np\n",
    "np.random.seed(23)"
   ]
  },
  {
   "cell_type": "code",
   "execution_count": null,
   "metadata": {
    "ExecuteTime": {
     "end_time": "2019-07-17T21:04:23.122367Z",
     "start_time": "2019-07-17T21:04:23.116451Z"
    }
   },
   "outputs": [],
   "source": [
    "stopwords_list  = stopwords.words('english')\n",
    "stopwords_list += list(string.punctuation)\n",
    "stopwords_list +="
   ]
  },
  {
   "cell_type": "code",
   "execution_count": null,
   "metadata": {
    "ExecuteTime": {
     "end_time": "2019-07-17T21:04:24.636738Z",
     "start_time": "2019-07-17T21:04:24.630522Z"
    }
   },
   "outputs": [],
   "source": [
    "stopwords_list[-20:]"
   ]
  },
  {
   "cell_type": "code",
   "execution_count": null,
   "metadata": {},
   "outputs": [],
   "source": []
  }
 ],
 "metadata": {
  "kernelspec": {
   "display_name": "Python 3",
   "language": "python",
   "name": "python3"
  },
  "language_info": {
   "codemirror_mode": {
    "name": "ipython",
    "version": 3
   },
   "file_extension": ".py",
   "mimetype": "text/x-python",
   "name": "python",
   "nbconvert_exporter": "python",
   "pygments_lexer": "ipython3",
   "version": "3.7.3"
  },
  "latex_envs": {
   "LaTeX_envs_menu_present": true,
   "autoclose": false,
   "autocomplete": true,
   "bibliofile": "biblio.bib",
   "cite_by": "apalike",
   "current_citInitial": 1,
   "eqLabelWithNumbers": true,
   "eqNumInitial": 1,
   "hotkeys": {
    "equation": "Ctrl-E",
    "itemize": "Ctrl-I"
   },
   "labels_anchors": false,
   "latex_user_defs": false,
   "report_style_numbering": false,
   "user_envs_cfg": false
  },
  "toc": {
   "base_numbering": 1,
   "nav_menu": {},
   "number_sections": true,
   "sideBar": true,
   "skip_h1_title": false,
   "title_cell": "Table of Contents",
   "title_sidebar": "Contents",
   "toc_cell": false,
   "toc_position": {},
   "toc_section_display": true,
   "toc_window_display": false
  },
  "varInspector": {
   "cols": {
    "lenName": 16,
    "lenType": 16,
    "lenVar": 40
   },
   "kernels_config": {
    "python": {
     "delete_cmd_postfix": "",
     "delete_cmd_prefix": "del ",
     "library": "var_list.py",
     "varRefreshCmd": "print(var_dic_list())"
    },
    "r": {
     "delete_cmd_postfix": ") ",
     "delete_cmd_prefix": "rm(",
     "library": "var_list.r",
     "varRefreshCmd": "cat(var_dic_list()) "
    }
   },
   "types_to_exclude": [
    "module",
    "function",
    "builtin_function_or_method",
    "instance",
    "_Feature"
   ],
   "window_display": false
  }
 },
 "nbformat": 4,
 "nbformat_minor": 2
}
