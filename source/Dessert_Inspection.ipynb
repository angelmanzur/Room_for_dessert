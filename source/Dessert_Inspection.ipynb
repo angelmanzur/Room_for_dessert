{
 "cells": [
  {
   "cell_type": "code",
   "execution_count": 1,
   "metadata": {
    "ExecuteTime": {
     "end_time": "2019-07-20T01:24:23.829136Z",
     "start_time": "2019-07-20T01:24:20.385067Z"
    }
   },
   "outputs": [],
   "source": [
    "from extract_desserts import *\n",
    "from  pattern.text.en import singularize\n",
    "from nltk import FreqDist"
   ]
  },
  {
   "cell_type": "code",
   "execution_count": 6,
   "metadata": {
    "ExecuteTime": {
     "end_time": "2019-07-20T01:25:15.297442Z",
     "start_time": "2019-07-20T01:25:14.817362Z"
    }
   },
   "outputs": [
    {
     "name": "stdout",
     "output_type": "stream",
     "text": [
      "Loading file  ../data/sample_layer1.json\n",
      "Loading ingredient file: ../data/sample_det_ingrs.json\n"
     ]
    }
   ],
   "source": [
    "#load the raw data\n",
    "# lets use the default value that only loads 250 recipes,\n",
    "# instead of 1 million\n",
    "raw_data = get_raw_data()\n",
    "raw_ingredients = get_raw_ingredients()"
   ]
  },
  {
   "cell_type": "code",
   "execution_count": 8,
   "metadata": {
    "ExecuteTime": {
     "end_time": "2019-07-20T01:25:36.152592Z",
     "start_time": "2019-07-20T01:25:36.147285Z"
    }
   },
   "outputs": [
    {
     "name": "stdout",
     "output_type": "stream",
     "text": [
      "N recipes:  20000 \t N list of ingredients  20000\n"
     ]
    }
   ],
   "source": [
    "print('N recipes: ',\n",
    "      len(raw_data),\n",
    "      '\\t N list of ingredients ', \n",
    "      len(raw_ingredients))\n"
   ]
  },
  {
   "cell_type": "code",
   "execution_count": 9,
   "metadata": {
    "ExecuteTime": {
     "end_time": "2019-07-20T01:28:08.073196Z",
     "start_time": "2019-07-20T01:28:07.928910Z"
    }
   },
   "outputs": [],
   "source": [
    "desserts, dessert_ings = find_desserts(raw_data, \n",
    "                                       raw_ingredients)\n"
   ]
  },
  {
   "cell_type": "code",
   "execution_count": 10,
   "metadata": {
    "ExecuteTime": {
     "end_time": "2019-07-20T01:28:22.296503Z",
     "start_time": "2019-07-20T01:28:22.289650Z"
    }
   },
   "outputs": [
    {
     "name": "stdout",
     "output_type": "stream",
     "text": [
      "Will look at 4793 dessert recipes, out of 20000 (~24.0%)\n"
     ]
    }
   ],
   "source": [
    "total_recipes = len(raw_data)\n",
    "dessert_recipes = len(desserts)\n",
    "dessert_ingredients = len(dessert_ings)\n",
    "print('Will look at {} dessert recipes, out of {} (~{:1.1f}%)'.format(\n",
    "                            dessert_recipes, total_recipes,\n",
    "                            dessert_recipes/total_recipes*100))"
   ]
  },
  {
   "cell_type": "code",
   "execution_count": 11,
   "metadata": {
    "ExecuteTime": {
     "end_time": "2019-07-20T01:29:42.009850Z",
     "start_time": "2019-07-20T01:29:41.981124Z"
    },
    "scrolled": true
   },
   "outputs": [
    {
     "name": "stdout",
     "output_type": "stream",
     "text": [
      "[True, True, True, True, True, True, True, True, True]\n"
     ]
    },
    {
     "data": {
      "text/plain": [
       "[{'text': 'butter'},\n",
       " {'text': 'sugar'},\n",
       " {'text': 'baking soda'},\n",
       " {'text': 'eggs'},\n",
       " {'text': 'flour'},\n",
       " {'text': 'cocoa'},\n",
       " {'text': 'soured milk'},\n",
       " {'text': 'raisins'},\n",
       " {'text': 'vanilla'}]"
      ]
     },
     "execution_count": 11,
     "metadata": {},
     "output_type": "execute_result"
    }
   ],
   "source": [
    "item = 123\n",
    "print(dessert_ings[item]['valid'])\n",
    "dessert_ings[item]['ingredients']"
   ]
  },
  {
   "cell_type": "code",
   "execution_count": 12,
   "metadata": {
    "ExecuteTime": {
     "end_time": "2019-07-20T01:29:50.880656Z",
     "start_time": "2019-07-20T01:29:50.869478Z"
    }
   },
   "outputs": [],
   "source": [
    "spices =['sugar','salt','water','baking soda','baking powder','flour', 'vegetable oil',\n",
    "        'olive oil', 'cornstarch','nutmeg','white sugar','powdered sugar', 'brown sugar',\n",
    "        'margarine','oil','shortening','kosher salt',\"confectioners' sugar\",'icing sugar',\n",
    "        'canola oil','pepper' ,'low - fat milk','light corn syrup','cooking spray', \n",
    "         'corn syrup','vegetable shortening']"
   ]
  },
  {
   "cell_type": "code",
   "execution_count": null,
   "metadata": {},
   "outputs": [],
   "source": []
  },
  {
   "cell_type": "code",
   "execution_count": 35,
   "metadata": {
    "ExecuteTime": {
     "end_time": "2019-07-20T01:41:04.860093Z",
     "start_time": "2019-07-20T01:41:04.853130Z"
    }
   },
   "outputs": [
    {
     "data": {
      "text/plain": [
       "(4793, 5)"
      ]
     },
     "execution_count": 35,
     "metadata": {},
     "output_type": "execute_result"
    }
   ],
   "source": [
    "item=0\n",
    "len(dessert_ings),len(dessert_ings[item]['ingredients'])"
   ]
  },
  {
   "cell_type": "code",
   "execution_count": 44,
   "metadata": {
    "ExecuteTime": {
     "end_time": "2019-07-20T01:55:24.646549Z",
     "start_time": "2019-07-20T01:55:24.622928Z"
    }
   },
   "outputs": [
    {
     "name": "stdout",
     "output_type": "stream",
     "text": [
      "500 done\n",
      "1000 done\n",
      "1500 done\n",
      "2000 done\n",
      "2500 done\n",
      "3000 done\n",
      "3500 done\n",
      "4000 done\n",
      "4500 done\n"
     ]
    }
   ],
   "source": [
    "all_dingredients = []\n",
    "count =0\n",
    "for drecipe in dessert_ings:\n",
    "    ings =[]\n",
    "    for entry in drecipe['ingredients']:\n",
    "        ings.append(entry['text'])\n",
    "    all_dingredients.append(ings)\n",
    "    count += 1\n",
    "    if count%500==0:\n",
    "        print(count, 'done')\n",
    "#         break;\n",
    "\n",
    "# print(all_dingredients)"
   ]
  },
  {
   "cell_type": "code",
   "execution_count": 48,
   "metadata": {
    "ExecuteTime": {
     "end_time": "2019-07-20T01:55:50.008878Z",
     "start_time": "2019-07-20T01:55:50.001715Z"
    }
   },
   "outputs": [
    {
     "data": {
      "text/plain": [
       "['oatmeal',\n",
       " 'cottage cheese',\n",
       " 'eggs',\n",
       " 'milk',\n",
       " 'cinnamon',\n",
       " 'brown sugar',\n",
       " 'raisins']"
      ]
     },
     "execution_count": 48,
     "metadata": {},
     "output_type": "execute_result"
    }
   ],
   "source": [
    "all_dingredients[3400]"
   ]
  },
  {
   "cell_type": "code",
   "execution_count": 52,
   "metadata": {
    "ExecuteTime": {
     "end_time": "2019-07-20T01:57:00.922754Z",
     "start_time": "2019-07-20T01:57:00.914197Z"
    }
   },
   "outputs": [],
   "source": [
    "import gensim\n",
    "import logging\n",
    "logging.basicConfig(format='%(asctime)s : %(levelname)s : %(message)s', \n",
    "                    level=logging.INFO)\n",
    "\n"
   ]
  },
  {
   "cell_type": "code",
   "execution_count": 53,
   "metadata": {
    "ExecuteTime": {
     "end_time": "2019-07-20T01:58:33.278693Z",
     "start_time": "2019-07-20T01:58:32.694930Z"
    }
   },
   "outputs": [
    {
     "name": "stderr",
     "output_type": "stream",
     "text": [
      "2019-07-19 21:58:32,696 : WARNING : consider setting layer size to a multiple of 4 for greater performance\n",
      "2019-07-19 21:58:32,698 : INFO : collecting all words and their counts\n",
      "2019-07-19 21:58:32,699 : INFO : PROGRESS: at sentence #0, processed 0 words, keeping 0 word types\n",
      "2019-07-19 21:58:32,713 : INFO : collected 4078 word types from a corpus of 44027 raw words and 4793 sentences\n",
      "2019-07-19 21:58:32,715 : INFO : Loading a fresh vocabulary\n",
      "2019-07-19 21:58:32,719 : INFO : min_count=3 retains 1318 unique words (32% of original 4078, drops 2760)\n",
      "2019-07-19 21:58:32,719 : INFO : min_count=3 leaves 40716 word corpus (92% of original 44027, drops 3311)\n",
      "2019-07-19 21:58:32,725 : INFO : deleting the raw counts dictionary of 4078 items\n",
      "2019-07-19 21:58:32,726 : INFO : sample=0.001 downsamples 59 most-common words\n",
      "2019-07-19 21:58:32,727 : INFO : downsampling leaves estimated 25039 word corpus (61.5% of prior 40716)\n",
      "2019-07-19 21:58:32,731 : INFO : estimated required memory for 1318 words and 50 dimensions: 1186200 bytes\n",
      "2019-07-19 21:58:32,732 : INFO : resetting layer weights\n",
      "2019-07-19 21:58:32,750 : INFO : training model with 10 workers on 1318 vocabulary and 50 features, using sg=0 hs=0 sample=0.001 negative=5 window=5\n",
      "2019-07-19 21:58:32,775 : INFO : worker thread finished; awaiting finish of 9 more threads\n",
      "2019-07-19 21:58:32,790 : INFO : worker thread finished; awaiting finish of 8 more threads\n",
      "2019-07-19 21:58:32,805 : INFO : worker thread finished; awaiting finish of 7 more threads\n",
      "2019-07-19 21:58:32,808 : INFO : worker thread finished; awaiting finish of 6 more threads\n",
      "2019-07-19 21:58:32,810 : INFO : worker thread finished; awaiting finish of 5 more threads\n",
      "2019-07-19 21:58:32,815 : INFO : worker thread finished; awaiting finish of 4 more threads\n",
      "2019-07-19 21:58:32,821 : INFO : worker thread finished; awaiting finish of 3 more threads\n",
      "2019-07-19 21:58:32,823 : INFO : worker thread finished; awaiting finish of 2 more threads\n",
      "2019-07-19 21:58:32,826 : INFO : worker thread finished; awaiting finish of 1 more threads\n",
      "2019-07-19 21:58:32,827 : INFO : worker thread finished; awaiting finish of 0 more threads\n",
      "2019-07-19 21:58:32,829 : INFO : EPOCH - 1 : training on 44027 raw words (25046 effective words) took 0.1s, 395086 effective words/s\n",
      "2019-07-19 21:58:32,858 : INFO : worker thread finished; awaiting finish of 9 more threads\n",
      "2019-07-19 21:58:32,865 : INFO : worker thread finished; awaiting finish of 8 more threads\n",
      "2019-07-19 21:58:32,872 : INFO : worker thread finished; awaiting finish of 7 more threads\n",
      "2019-07-19 21:58:32,875 : INFO : worker thread finished; awaiting finish of 6 more threads\n",
      "2019-07-19 21:58:32,876 : INFO : worker thread finished; awaiting finish of 5 more threads\n",
      "2019-07-19 21:58:32,877 : INFO : worker thread finished; awaiting finish of 4 more threads\n",
      "2019-07-19 21:58:32,878 : INFO : worker thread finished; awaiting finish of 3 more threads\n",
      "2019-07-19 21:58:32,879 : INFO : worker thread finished; awaiting finish of 2 more threads\n",
      "2019-07-19 21:58:32,880 : INFO : worker thread finished; awaiting finish of 1 more threads\n",
      "2019-07-19 21:58:32,883 : INFO : worker thread finished; awaiting finish of 0 more threads\n",
      "2019-07-19 21:58:32,884 : INFO : EPOCH - 2 : training on 44027 raw words (25056 effective words) took 0.0s, 893564 effective words/s\n",
      "2019-07-19 21:58:32,910 : INFO : worker thread finished; awaiting finish of 9 more threads\n",
      "2019-07-19 21:58:32,920 : INFO : worker thread finished; awaiting finish of 8 more threads\n",
      "2019-07-19 21:58:32,924 : INFO : worker thread finished; awaiting finish of 7 more threads\n",
      "2019-07-19 21:58:32,925 : INFO : worker thread finished; awaiting finish of 6 more threads\n",
      "2019-07-19 21:58:32,929 : INFO : worker thread finished; awaiting finish of 5 more threads\n",
      "2019-07-19 21:58:32,932 : INFO : worker thread finished; awaiting finish of 4 more threads\n",
      "2019-07-19 21:58:32,933 : INFO : worker thread finished; awaiting finish of 3 more threads\n",
      "2019-07-19 21:58:32,934 : INFO : worker thread finished; awaiting finish of 2 more threads\n",
      "2019-07-19 21:58:32,935 : INFO : worker thread finished; awaiting finish of 1 more threads\n",
      "2019-07-19 21:58:32,944 : INFO : worker thread finished; awaiting finish of 0 more threads\n",
      "2019-07-19 21:58:32,945 : INFO : EPOCH - 3 : training on 44027 raw words (25050 effective words) took 0.0s, 621120 effective words/s\n",
      "2019-07-19 21:58:32,968 : INFO : worker thread finished; awaiting finish of 9 more threads\n",
      "2019-07-19 21:58:32,988 : INFO : worker thread finished; awaiting finish of 8 more threads\n",
      "2019-07-19 21:58:32,989 : INFO : worker thread finished; awaiting finish of 7 more threads\n",
      "2019-07-19 21:58:32,990 : INFO : worker thread finished; awaiting finish of 6 more threads\n",
      "2019-07-19 21:58:32,992 : INFO : worker thread finished; awaiting finish of 5 more threads\n",
      "2019-07-19 21:58:32,992 : INFO : worker thread finished; awaiting finish of 4 more threads\n",
      "2019-07-19 21:58:32,993 : INFO : worker thread finished; awaiting finish of 3 more threads\n",
      "2019-07-19 21:58:32,994 : INFO : worker thread finished; awaiting finish of 2 more threads\n",
      "2019-07-19 21:58:32,995 : INFO : worker thread finished; awaiting finish of 1 more threads\n",
      "2019-07-19 21:58:32,996 : INFO : worker thread finished; awaiting finish of 0 more threads\n",
      "2019-07-19 21:58:32,997 : INFO : EPOCH - 4 : training on 44027 raw words (24999 effective words) took 0.0s, 802943 effective words/s\n",
      "2019-07-19 21:58:33,011 : INFO : worker thread finished; awaiting finish of 9 more threads\n",
      "2019-07-19 21:58:33,027 : INFO : worker thread finished; awaiting finish of 8 more threads\n",
      "2019-07-19 21:58:33,035 : INFO : worker thread finished; awaiting finish of 7 more threads\n",
      "2019-07-19 21:58:33,036 : INFO : worker thread finished; awaiting finish of 6 more threads\n",
      "2019-07-19 21:58:33,037 : INFO : worker thread finished; awaiting finish of 5 more threads\n",
      "2019-07-19 21:58:33,037 : INFO : worker thread finished; awaiting finish of 4 more threads\n",
      "2019-07-19 21:58:33,038 : INFO : worker thread finished; awaiting finish of 3 more threads\n",
      "2019-07-19 21:58:33,039 : INFO : worker thread finished; awaiting finish of 2 more threads\n",
      "2019-07-19 21:58:33,041 : INFO : worker thread finished; awaiting finish of 1 more threads\n",
      "2019-07-19 21:58:33,041 : INFO : worker thread finished; awaiting finish of 0 more threads\n",
      "2019-07-19 21:58:33,042 : INFO : EPOCH - 5 : training on 44027 raw words (25086 effective words) took 0.0s, 732031 effective words/s\n",
      "2019-07-19 21:58:33,083 : INFO : worker thread finished; awaiting finish of 9 more threads\n",
      "2019-07-19 21:58:33,093 : INFO : worker thread finished; awaiting finish of 8 more threads\n",
      "2019-07-19 21:58:33,093 : INFO : worker thread finished; awaiting finish of 7 more threads\n",
      "2019-07-19 21:58:33,094 : INFO : worker thread finished; awaiting finish of 6 more threads\n",
      "2019-07-19 21:58:33,096 : INFO : worker thread finished; awaiting finish of 5 more threads\n",
      "2019-07-19 21:58:33,097 : INFO : worker thread finished; awaiting finish of 4 more threads\n",
      "2019-07-19 21:58:33,098 : INFO : worker thread finished; awaiting finish of 3 more threads\n",
      "2019-07-19 21:58:33,099 : INFO : worker thread finished; awaiting finish of 2 more threads\n",
      "2019-07-19 21:58:33,101 : INFO : worker thread finished; awaiting finish of 1 more threads\n",
      "2019-07-19 21:58:33,102 : INFO : worker thread finished; awaiting finish of 0 more threads\n",
      "2019-07-19 21:58:33,103 : INFO : EPOCH - 6 : training on 44027 raw words (25027 effective words) took 0.0s, 845298 effective words/s\n",
      "2019-07-19 21:58:33,115 : INFO : worker thread finished; awaiting finish of 9 more threads\n",
      "2019-07-19 21:58:33,132 : INFO : worker thread finished; awaiting finish of 8 more threads\n",
      "2019-07-19 21:58:33,135 : INFO : worker thread finished; awaiting finish of 7 more threads\n",
      "2019-07-19 21:58:33,136 : INFO : worker thread finished; awaiting finish of 6 more threads\n",
      "2019-07-19 21:58:33,137 : INFO : worker thread finished; awaiting finish of 5 more threads\n",
      "2019-07-19 21:58:33,138 : INFO : worker thread finished; awaiting finish of 4 more threads\n",
      "2019-07-19 21:58:33,138 : INFO : worker thread finished; awaiting finish of 3 more threads\n",
      "2019-07-19 21:58:33,140 : INFO : worker thread finished; awaiting finish of 2 more threads\n"
     ]
    },
    {
     "name": "stderr",
     "output_type": "stream",
     "text": [
      "2019-07-19 21:58:33,141 : INFO : worker thread finished; awaiting finish of 1 more threads\n",
      "2019-07-19 21:58:33,141 : INFO : worker thread finished; awaiting finish of 0 more threads\n",
      "2019-07-19 21:58:33,142 : INFO : EPOCH - 7 : training on 44027 raw words (25030 effective words) took 0.0s, 908138 effective words/s\n",
      "2019-07-19 21:58:33,162 : INFO : worker thread finished; awaiting finish of 9 more threads\n",
      "2019-07-19 21:58:33,177 : INFO : worker thread finished; awaiting finish of 8 more threads\n",
      "2019-07-19 21:58:33,185 : INFO : worker thread finished; awaiting finish of 7 more threads\n",
      "2019-07-19 21:58:33,186 : INFO : worker thread finished; awaiting finish of 6 more threads\n",
      "2019-07-19 21:58:33,188 : INFO : worker thread finished; awaiting finish of 5 more threads\n",
      "2019-07-19 21:58:33,188 : INFO : worker thread finished; awaiting finish of 4 more threads\n",
      "2019-07-19 21:58:33,190 : INFO : worker thread finished; awaiting finish of 3 more threads\n",
      "2019-07-19 21:58:33,191 : INFO : worker thread finished; awaiting finish of 2 more threads\n",
      "2019-07-19 21:58:33,192 : INFO : worker thread finished; awaiting finish of 1 more threads\n",
      "2019-07-19 21:58:33,193 : INFO : worker thread finished; awaiting finish of 0 more threads\n",
      "2019-07-19 21:58:33,194 : INFO : EPOCH - 8 : training on 44027 raw words (25070 effective words) took 0.0s, 705310 effective words/s\n",
      "2019-07-19 21:58:33,207 : INFO : worker thread finished; awaiting finish of 9 more threads\n",
      "2019-07-19 21:58:33,218 : INFO : worker thread finished; awaiting finish of 8 more threads\n",
      "2019-07-19 21:58:33,226 : INFO : worker thread finished; awaiting finish of 7 more threads\n",
      "2019-07-19 21:58:33,226 : INFO : worker thread finished; awaiting finish of 6 more threads\n",
      "2019-07-19 21:58:33,227 : INFO : worker thread finished; awaiting finish of 5 more threads\n",
      "2019-07-19 21:58:33,227 : INFO : worker thread finished; awaiting finish of 4 more threads\n",
      "2019-07-19 21:58:33,228 : INFO : worker thread finished; awaiting finish of 3 more threads\n",
      "2019-07-19 21:58:33,229 : INFO : worker thread finished; awaiting finish of 2 more threads\n",
      "2019-07-19 21:58:33,231 : INFO : worker thread finished; awaiting finish of 1 more threads\n",
      "2019-07-19 21:58:33,232 : INFO : worker thread finished; awaiting finish of 0 more threads\n",
      "2019-07-19 21:58:33,233 : INFO : EPOCH - 9 : training on 44027 raw words (25073 effective words) took 0.0s, 832922 effective words/s\n",
      "2019-07-19 21:58:33,255 : INFO : worker thread finished; awaiting finish of 9 more threads\n",
      "2019-07-19 21:58:33,262 : INFO : worker thread finished; awaiting finish of 8 more threads\n",
      "2019-07-19 21:58:33,268 : INFO : worker thread finished; awaiting finish of 7 more threads\n",
      "2019-07-19 21:58:33,268 : INFO : worker thread finished; awaiting finish of 6 more threads\n",
      "2019-07-19 21:58:33,269 : INFO : worker thread finished; awaiting finish of 5 more threads\n",
      "2019-07-19 21:58:33,270 : INFO : worker thread finished; awaiting finish of 4 more threads\n",
      "2019-07-19 21:58:33,271 : INFO : worker thread finished; awaiting finish of 3 more threads\n",
      "2019-07-19 21:58:33,272 : INFO : worker thread finished; awaiting finish of 2 more threads\n",
      "2019-07-19 21:58:33,273 : INFO : worker thread finished; awaiting finish of 1 more threads\n",
      "2019-07-19 21:58:33,274 : INFO : worker thread finished; awaiting finish of 0 more threads\n",
      "2019-07-19 21:58:33,274 : INFO : EPOCH - 10 : training on 44027 raw words (25067 effective words) took 0.0s, 1188608 effective words/s\n",
      "2019-07-19 21:58:33,275 : INFO : training on a 440270 raw words (250504 effective words) took 0.5s, 477889 effective words/s\n",
      "2019-07-19 21:58:33,276 : WARNING : under 10 jobs per worker: consider setting a smaller `batch_words' for smoother alpha decay\n"
     ]
    }
   ],
   "source": [
    "model = gensim.models.Word2Vec(\n",
    "    all_dingredients,\n",
    "    size=50,\n",
    "    window=5,\n",
    "    min_count=3,\n",
    "    workers=10,\n",
    "    iter=10\n",
    "    )"
   ]
  },
  {
   "cell_type": "code",
   "execution_count": 55,
   "metadata": {
    "ExecuteTime": {
     "end_time": "2019-07-20T02:00:32.956354Z",
     "start_time": "2019-07-20T02:00:32.941612Z"
    },
    "scrolled": true
   },
   "outputs": [
    {
     "data": {
      "text/plain": [
       "[('peanut butter', 0.9971922636032104),\n",
       " ('chocolate chips', 0.9969877004623413),\n",
       " ('pecans', 0.9954007863998413),\n",
       " ('bananas', 0.9950093030929565)]"
      ]
     },
     "execution_count": 55,
     "metadata": {},
     "output_type": "execute_result"
    }
   ],
   "source": [
    "w1='butter'\n",
    "model.wv.most_similar(positive=w1, topn=4)"
   ]
  },
  {
   "cell_type": "code",
   "execution_count": 78,
   "metadata": {
    "ExecuteTime": {
     "end_time": "2019-07-20T02:10:35.214984Z",
     "start_time": "2019-07-20T02:10:35.207823Z"
    }
   },
   "outputs": [
    {
     "data": {
      "text/plain": [
       "[('dry red wine', 0.9976661205291748),\n",
       " ('scallion', 0.9976271390914917),\n",
       " ('pine nuts', 0.9975374937057495),\n",
       " ('salt and black pepper', 0.9974648952484131),\n",
       " ('fresh chives', 0.997443675994873),\n",
       " ('fresh cilantro', 0.9973474740982056),\n",
       " ('red wine', 0.9972602128982544),\n",
       " ('fresh dill', 0.9972414374351501),\n",
       " ('turkey', 0.9971878528594971),\n",
       " ('leeks', 0.9971705079078674)]"
      ]
     },
     "execution_count": 78,
     "metadata": {},
     "output_type": "execute_result"
    }
   ],
   "source": [
    "w1='rum'\n",
    "model.wv.most_similar(positive=['rum','banana'],\n",
    "                      negative=['butter'],topn=10)"
   ]
  },
  {
   "cell_type": "code",
   "execution_count": 64,
   "metadata": {
    "ExecuteTime": {
     "end_time": "2019-07-20T02:02:25.909926Z",
     "start_time": "2019-07-20T02:02:25.902996Z"
    }
   },
   "outputs": [
    {
     "data": {
      "text/plain": [
       "0.6568946138721347"
      ]
     },
     "execution_count": 64,
     "metadata": {},
     "output_type": "execute_result"
    }
   ],
   "source": [
    "model.wv.similarity('egg','bacon')"
   ]
  },
  {
   "cell_type": "code",
   "execution_count": null,
   "metadata": {},
   "outputs": [],
   "source": []
  },
  {
   "cell_type": "code",
   "execution_count": null,
   "metadata": {},
   "outputs": [],
   "source": []
  },
  {
   "cell_type": "code",
   "execution_count": null,
   "metadata": {},
   "outputs": [],
   "source": []
  },
  {
   "cell_type": "code",
   "execution_count": null,
   "metadata": {},
   "outputs": [],
   "source": []
  },
  {
   "cell_type": "code",
   "execution_count": 15,
   "metadata": {
    "ExecuteTime": {
     "end_time": "2019-07-20T01:30:22.936741Z",
     "start_time": "2019-07-20T01:30:21.404998Z"
    },
    "scrolled": true
   },
   "outputs": [],
   "source": [
    "# create bag of ingredients\n",
    "\n",
    "all_ingredients = []\n",
    "\n",
    "for recipe_ings in dessert_ings:\n",
    "    n_ingredients = len(recipe_ings['valid'])\n",
    "    for item, ingredient in enumerate(recipe_ings['ingredients']):\n",
    "        if recipe_ings['valid'][item] ==True:\n",
    "            ingred = ingredient['text'].lower()\n",
    "#             ingred = singularize(ingred)\n",
    "#             if ingred=='eggs':\n",
    "#                 ingred='egg'\n",
    "#             elif 'butter' in ingred:\n",
    "#                 ingred = 'butter'\n",
    "            \n",
    "#             elif ingred == 'granulated sugar':\n",
    "#                 ingred= 'sugar'\n",
    "#             elif 'flour' in ingred:\n",
    "#                 ingred = 'flour'\n",
    "#             elif ingred == 'all - purpose flour' or ingred == 'cake flour':\n",
    "#                 ingred = 'flour'\n",
    "#             elif ingred == 'boiling water' or  ingred=='cold water':\n",
    "#                 ingred = 'water'\n",
    "#             elif ingred== 'light brown sugar' or ingred == 'dark brown sugar':\n",
    "#                 ingred = 'sugar'\n",
    "#             elif ingred == 'vanilla extract' or ingred == 'pure vanilla extract':\n",
    "#                 ingred = 'vanilla'\n",
    "#             elif ingred == 'fresh lemon juice':\n",
    "#                 ingred = 'lemon juice'\n",
    "            # find if ingredient belongs to a spice list\n",
    "            an_ingredient, ingred = is_it_an_ingredient(ingred)\n",
    "            if an_ingredient:\n",
    "                # make it singular\n",
    "                \n",
    "                ingred = singularize(ingred)\n",
    "                all_ingredients.append(ingred)\n",
    "                \n",
    "#             if ingred not in spices:\n",
    "#                 all_ingredients.append(ingred)\n",
    "            "
   ]
  },
  {
   "cell_type": "code",
   "execution_count": 14,
   "metadata": {
    "ExecuteTime": {
     "end_time": "2019-07-20T01:30:17.722996Z",
     "start_time": "2019-07-20T01:30:17.717296Z"
    }
   },
   "outputs": [],
   "source": [
    "import re\n",
    "\n",
    "spice_list = ['sugar','salt','water','baking soda','baking powder','flour', 'oil',\n",
    "         'cornstarch','sugar','margarine','shortening','pepper' ,'milk','light corn syrup','cooking spray', \n",
    "         'corn syrup', 'butter']\n",
    "\n",
    "def is_it_an_ingredient(ingredient):\n",
    "    for spice in spice_list:\n",
    "        if re.search(spice, ingredient):\n",
    "#             print( ingredient,' -> ingredient is a spice')\n",
    "            return False, spice\n",
    "#     print('Did not find ingredient in the list of spices')    \n",
    "    return True, ingredient\n",
    "\n",
    "    "
   ]
  },
  {
   "cell_type": "code",
   "execution_count": 16,
   "metadata": {
    "ExecuteTime": {
     "end_time": "2019-07-20T01:30:26.278431Z",
     "start_time": "2019-07-20T01:30:26.275490Z"
    }
   },
   "outputs": [],
   "source": [
    "ignore_singularize = ['nuts','molasses']"
   ]
  },
  {
   "cell_type": "code",
   "execution_count": 17,
   "metadata": {
    "ExecuteTime": {
     "end_time": "2019-07-20T01:30:28.702143Z",
     "start_time": "2019-07-20T01:30:28.694278Z"
    },
    "scrolled": true
   },
   "outputs": [
    {
     "name": "stdout",
     "output_type": "stream",
     "text": [
      "with 4793 recipes, there are 23554 ingredients, and 2586 unique ingredients.\n"
     ]
    }
   ],
   "source": [
    "ingredient_set = set(all_ingredients)\n",
    "print('with {} recipes, there are {} ingredients, and {} unique ingredients.'.format(\n",
    "                dessert_recipes, len(all_ingredients), len(ingredient_set)))"
   ]
  },
  {
   "cell_type": "code",
   "execution_count": 18,
   "metadata": {
    "ExecuteTime": {
     "end_time": "2019-07-20T01:30:32.610153Z",
     "start_time": "2019-07-20T01:30:32.601226Z"
    }
   },
   "outputs": [
    {
     "data": {
      "text/plain": [
       "'sour cream'"
      ]
     },
     "execution_count": 18,
     "metadata": {},
     "output_type": "execute_result"
    }
   ],
   "source": [
    "singularize('sour cream')"
   ]
  },
  {
   "cell_type": "code",
   "execution_count": 19,
   "metadata": {
    "ExecuteTime": {
     "end_time": "2019-07-20T01:30:38.397893Z",
     "start_time": "2019-07-20T01:30:38.367241Z"
    }
   },
   "outputs": [
    {
     "name": "stdout",
     "output_type": "stream",
     "text": [
      "<FreqDist with 2586 samples and 23554 outcomes>\n"
     ]
    }
   ],
   "source": [
    "fdist = FreqDist(all_ingredients)\n",
    "print(fdist)"
   ]
  },
  {
   "cell_type": "code",
   "execution_count": 20,
   "metadata": {
    "ExecuteTime": {
     "end_time": "2019-07-20T01:30:41.573138Z",
     "start_time": "2019-07-20T01:30:41.568852Z"
    },
    "scrolled": false
   },
   "outputs": [],
   "source": [
    "common = fdist.most_common(4200)"
   ]
  },
  {
   "cell_type": "code",
   "execution_count": 30,
   "metadata": {
    "ExecuteTime": {
     "end_time": "2019-07-20T01:35:39.970925Z",
     "start_time": "2019-07-20T01:35:39.964756Z"
    }
   },
   "outputs": [
    {
     "name": "stdout",
     "output_type": "stream",
     "text": [
      "('soy sauce', 37)\n",
      "('soy cream cheese', 2)\n",
      "('soy yogurt', 2)\n",
      "('dark soy sauce', 2)\n",
      "('soy sour cream', 1)\n",
      "('light soy sauce', 1)\n",
      "('roasted soybean', 1)\n",
      "('low sodium soy sauce', 1)\n"
     ]
    }
   ],
   "source": [
    "for c in common:\n",
    "    if 'soy' in c[0]:\n",
    "        print(c)\n",
    "    "
   ]
  },
  {
   "cell_type": "code",
   "execution_count": null,
   "metadata": {},
   "outputs": [],
   "source": []
  },
  {
   "cell_type": "code",
   "execution_count": null,
   "metadata": {},
   "outputs": [],
   "source": []
  },
  {
   "cell_type": "code",
   "execution_count": 24,
   "metadata": {
    "ExecuteTime": {
     "end_time": "2019-07-20T01:34:30.886166Z",
     "start_time": "2019-07-20T01:34:29.432078Z"
    }
   },
   "outputs": [
    {
     "data": {
      "image/png": "[encoded data removed]",
      "text/plain": [
       "<Figure size 864x576 with 1 Axes>"
      ]
     },
     "metadata": {
      "needs_background": "light"
     },
     "output_type": "display_data"
    }
   ],
   "source": [
    "import matplotlib.pyplot as plt\n",
    "%matplotlib inline\n",
    "\n",
    "fig = plt.figure(figsize=(12, 8))\n",
    "# plt.ylim(0,120)\n",
    "fdist.plot(50,cumulative=False)\n",
    "# plt.ylim(0,30)\n",
    "# plt.show()"
   ]
  },
  {
   "cell_type": "code",
   "execution_count": null,
   "metadata": {},
   "outputs": [],
   "source": []
  },
  {
   "cell_type": "code",
   "execution_count": null,
   "metadata": {
    "ExecuteTime": {
     "end_time": "2019-07-17T21:02:23.558223Z",
     "start_time": "2019-07-17T21:02:22.927034Z"
    }
   },
   "outputs": [],
   "source": [
    "import nltk\n",
    "from nltk.corpus import stopwords\n",
    "import string\n",
    "\n",
    "from nltk import word_tokenize, FreqDist\n",
    "from sklearn.feature_extraction.text import TfidfVectorizer\n",
    "from sklearn.metrics import accuracy_score\n",
    "from sklearn.ensemble import RandomForestClassifier\n",
    "from sklearn.naive_bayes import MultinomialNB\n",
    "import pandas as pd\n",
    "import numpy as np\n",
    "np.random.seed(23)"
   ]
  },
  {
   "cell_type": "code",
   "execution_count": null,
   "metadata": {
    "ExecuteTime": {
     "end_time": "2019-07-17T21:04:23.122367Z",
     "start_time": "2019-07-17T21:04:23.116451Z"
    }
   },
   "outputs": [],
   "source": [
    "stopwords_list  = stopwords.words('english')\n",
    "stopwords_list += list(string.punctuation)\n",
    "stopwords_list +="
   ]
  },
  {
   "cell_type": "code",
   "execution_count": null,
   "metadata": {
    "ExecuteTime": {
     "end_time": "2019-07-17T21:04:24.636738Z",
     "start_time": "2019-07-17T21:04:24.630522Z"
    }
   },
   "outputs": [],
   "source": [
    "stopwords_list[-20:]"
   ]
  },
  {
   "cell_type": "code",
   "execution_count": null,
   "metadata": {},
   "outputs": [],
   "source": []
  }
 ],
 "metadata": {
  "kernelspec": {
   "display_name": "Python 3",
   "language": "python",
   "name": "python3"
  },
  "language_info": {
   "codemirror_mode": {
    "name": "ipython",
    "version": 3
   },
   "file_extension": ".py",
   "mimetype": "text/x-python",
   "name": "python",
   "nbconvert_exporter": "python",
   "pygments_lexer": "ipython3",
   "version": "3.7.3"
  },
  "latex_envs": {
   "LaTeX_envs_menu_present": true,
   "autoclose": false,
   "autocomplete": true,
   "bibliofile": "biblio.bib",
   "cite_by": "apalike",
   "current_citInitial": 1,
   "eqLabelWithNumbers": true,
   "eqNumInitial": 1,
   "hotkeys": {
    "equation": "Ctrl-E",
    "itemize": "Ctrl-I"
   },
   "labels_anchors": false,
   "latex_user_defs": false,
   "report_style_numbering": false,
   "user_envs_cfg": false
  },
  "toc": {
   "base_numbering": 1,
   "nav_menu": {},
   "number_sections": true,
   "sideBar": true,
   "skip_h1_title": false,
   "title_cell": "Table of Contents",
   "title_sidebar": "Contents",
   "toc_cell": false,
   "toc_position": {},
   "toc_section_display": true,
   "toc_window_display": false
  },
  "varInspector": {
   "cols": {
    "lenName": 16,
    "lenType": 16,
    "lenVar": 40
   },
   "kernels_config": {
    "python": {
     "delete_cmd_postfix": "",
     "delete_cmd_prefix": "del ",
     "library": "var_list.py",
     "varRefreshCmd": "print(var_dic_list())"
    },
    "r": {
     "delete_cmd_postfix": ") ",
     "delete_cmd_prefix": "rm(",
     "library": "var_list.r",
     "varRefreshCmd": "cat(var_dic_list()) "
    }
   },
   "types_to_exclude": [
    "module",
    "function",
    "builtin_function_or_method",
    "instance",
    "_Feature"
   ],
   "window_display": false
  }
 },
 "nbformat": 4,
 "nbformat_minor": 2
}
