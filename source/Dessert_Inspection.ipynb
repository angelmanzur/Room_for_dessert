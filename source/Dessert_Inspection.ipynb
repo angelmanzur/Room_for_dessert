{
 "cells": [
  {
   "cell_type": "code",
   "execution_count": 1,
   "metadata": {
    "ExecuteTime": {
     "end_time": "2019-07-23T19:41:45.706650Z",
     "start_time": "2019-07-23T19:41:42.855792Z"
    }
   },
   "outputs": [],
   "source": [
    "from extract_desserts import *\n",
    "from pattern.text.en import singularize\n",
    "from nltk import FreqDist\n",
    "import matplotlib.pyplot as plt\n",
    "import numpy as np\n",
    "np.random.seed(seed=2019)\n",
    "\n",
    "import gensim\n",
    "import logging\n",
    "logging.basicConfig(format='%(asctime)s : %(levelname)s : %(message)s',\n",
    "                    datefmt='%H:%M:%S',\n",
    "                   level=logging.INFO)\n",
    "\n",
    "from time import time\n",
    "import multiprocessing\n",
    "\n",
    "import warnings\n",
    "warnings.filterwarnings('ignore')"
   ]
  },
  {
   "cell_type": "code",
   "execution_count": 2,
   "metadata": {
    "ExecuteTime": {
     "end_time": "2019-07-23T19:41:47.784788Z",
     "start_time": "2019-07-23T19:41:47.400033Z"
    }
   },
   "outputs": [
    {
     "name": "stdout",
     "output_type": "stream",
     "text": [
      "Loading file  ../data/sample_layer1.json\n",
      "Loading ingredient file: ../data/sample_det_ingrs.json\n"
     ]
    }
   ],
   "source": [
    "#load the raw data\n",
    "# lets use the default value that only loads 250 recipes,\n",
    "# instead of 1 million\n",
    "raw_data = get_raw_data()\n",
    "raw_ingredients = get_raw_ingredients()"
   ]
  },
  {
   "cell_type": "code",
   "execution_count": 3,
   "metadata": {
    "ExecuteTime": {
     "end_time": "2019-07-23T19:41:50.768945Z",
     "start_time": "2019-07-23T19:41:50.762979Z"
    }
   },
   "outputs": [
    {
     "name": "stdout",
     "output_type": "stream",
     "text": [
      "N recipes: 20000\t N list of ingredients: 20000\n"
     ]
    }
   ],
   "source": [
    "print('N recipes: {}\\t N list of ingredients: {}'.format(len(raw_data),\n",
    "      len(raw_ingredients)))\n"
   ]
  },
  {
   "cell_type": "code",
   "execution_count": 4,
   "metadata": {
    "ExecuteTime": {
     "end_time": "2019-07-23T19:42:03.409364Z",
     "start_time": "2019-07-23T19:41:55.967263Z"
    },
    "scrolled": false
   },
   "outputs": [],
   "source": [
    "## get a list of desserts only\n",
    "desserts, dessert_ings = find_desserts(raw_data, raw_ingredients)#,test_id='02916fd389')\n"
   ]
  },
  {
   "cell_type": "code",
   "execution_count": 9,
   "metadata": {
    "ExecuteTime": {
     "end_time": "2019-07-23T19:42:33.240469Z",
     "start_time": "2019-07-23T19:42:33.235335Z"
    }
   },
   "outputs": [
    {
     "name": "stdout",
     "output_type": "stream",
     "text": [
      "Will look at 3848 dessert recipes, out of 20000 (~19.2%)\n"
     ]
    }
   ],
   "source": [
    "total_recipes = len(raw_data)\n",
    "dessert_recipes = len(desserts)\n",
    "dessert_ingredients = len(dessert_ings)\n",
    "print('Will look at {} dessert recipes, out of {} (~{:1.1f}%)'.format(\n",
    "                            dessert_recipes, total_recipes,\n",
    "                            dessert_recipes/total_recipes*100))"
   ]
  },
  {
   "cell_type": "code",
   "execution_count": 45,
   "metadata": {
    "ExecuteTime": {
     "end_time": "2019-07-23T19:52:56.554709Z",
     "start_time": "2019-07-23T19:52:56.550229Z"
    }
   },
   "outputs": [],
   "source": [
    "not_a_flavor_list = ['flour','cake mix','baking soda','baking powder', 'canola oil',\n",
    "                     'vegetable oil','cornstarch','shortening','margarine','yeast',\n",
    "                     'gelatin' ,'coloring','corn syrup','cooking spray', \n",
    "         'crisco', 'cake', 'crisco','xanthan','bicarbonate','pie shell','pie crust',\n",
    "                     'cornmeal','splenda','stevium','ice cube'\n",
    "                    ]\n",
    "\n",
    "generic_ingredient_list = ['pumpkin', 'vanilla','cinnammon','cocoa powder',\n",
    "                           'chocolate chip','salted butter', 'graham cracker','mint',\n",
    "                          'salted butter']\n",
    "\n"
   ]
  },
  {
   "cell_type": "code",
   "execution_count": 46,
   "metadata": {
    "ExecuteTime": {
     "end_time": "2019-07-23T19:53:00.589152Z",
     "start_time": "2019-07-23T19:53:00.570308Z"
    }
   },
   "outputs": [],
   "source": [
    "import re\n",
    "\n",
    "\n",
    "def in_not_a_flavor_list(ingredient):\n",
    "    for word in not_a_flavor_list:\n",
    "        if re.search(word, ingredient):\n",
    "            return True   \n",
    "    return False\n",
    "\n",
    "\n",
    "def is_generic_ingredient(ingredient):\n",
    "    for word in generic_ingredient_list:\n",
    "#         print(word,ingredient)\n",
    "        if re.search(word, ingredient):\n",
    "            return True, word\n",
    "    return False, ingredient\n",
    "\n",
    "def clean_dessert_ingredients(all_ingredients):\n",
    "    count =0\n",
    "    for item, ingredients_list in enumerate(all_ingredients):\n",
    "        to_remove = []\n",
    "        for ingr_item, ingredient in enumerate(ingredients_list['ingredients']):\n",
    "            tmp_ingredient = ingredient['text'].lower().replace(' - ','-')\n",
    "            tmp_ingredient = tmp_ingredient.replace(\"'\",'')\n",
    "            tmp_ingredient = tmp_ingredient.replace(\" & \",'&')\n",
    "            tmp_ingredient = tmp_ingredient.replace('fat free', 'fat-free')\n",
    "#             tmp_ingredient = singularize(tmp_ingredient)\n",
    "            \n",
    "#             print(ingredient['text'].replace(' - ','-'))\n",
    "            if re.search('water', tmp_ingredient) and not re.search('watermelon',tmp_ingredient) and not re.search('rose water',tmp_ingredient):\n",
    "                to_remove.append(ingr_item)\n",
    "            \n",
    "            if in_not_a_flavor_list(tmp_ingredient):\n",
    "                to_remove.append(ingr_item)\n",
    "            elif re.match('oil', tmp_ingredient):\n",
    "                to_remove.append(ingr_item)\n",
    "\n",
    "                        \n",
    "            \n",
    "            if re.search('heavy', tmp_ingredient) and re.search('cream',tmp_ingredient):\n",
    "                tmp_ingredient='heavy cream'\n",
    "            \n",
    "            generic_ingr, ingr = is_generic_ingredient(tmp_ingredient)\n",
    "            if generic_ingr:\n",
    "                tmp_ingredient = ingr\n",
    "\n",
    "                \n",
    "#             elif (re.search('purpose flour', tmp_ingredient) \n",
    "#                   or re.search('cake flour',tmp_ingredient) \n",
    "#                   or re.search('rising flour', tmp_ingredient) \n",
    "#                   or re.search('plain flour', tmp_ingredient)\n",
    "#                   or re.search('white flour', tmp_ingredient)\n",
    "#                   or re.search('raising flour', tmp_ingredient)\n",
    "\n",
    "#                  ):\n",
    "#                 tmp_ingredient = 'flour' \n",
    "            elif re.search('brown sugar', tmp_ingredient) or re.search('demerara sugar', tmp_ingredient):\n",
    "                tmp_ingredient = 'brown sugar'\n",
    "            \n",
    "            elif re.search('powdered sugar', tmp_ingredient) or re.search('confectioners sugar',tmp_ingredient) :\n",
    "                tmp_ingredient ='powdered sugar'\n",
    "            elif re.search('sugar', tmp_ingredient) or re.search('white sugar', tmp_ingredient) or re.search('granulated sugar',tmp_ingredient):\n",
    "                tmp_ingredient = 'sugar'\n",
    "\n",
    "            elif re.search('semi-sweet', tmp_ingredient) and re.search('chocolate',tmp_ingredient):\n",
    "                tmp_ingredient = 'chocolate'\n",
    "\n",
    "            if (not re.search('flour', tmp_ingredient) \n",
    "                and not re.search('molasses',tmp_ingredient)\n",
    "                and not re.search('oats',tmp_ingredient)):\n",
    "                tmp_ingredient = singularize(tmp_ingredient)\n",
    "\n",
    "\n",
    "            all_ingredients[item]['ingredients'][ingr_item]['text'] = tmp_ingredient\n",
    "            \n",
    "        if len(to_remove)>0:\n",
    "            \n",
    "            to_remove.sort(reverse=True)\n",
    "            \n",
    "                \n",
    "#             print(item,'to remove', to_remove)\n",
    "            for i in to_remove:\n",
    "#                 print('try to remove', all_ingredients[item]['ingredients'][i])\n",
    "                del all_ingredients[item]['ingredients'][i]\n",
    "#         for iremove in to_remove:\n",
    "#             del all_ingredients\n",
    "#         print('--------------------------')\n",
    "        if item%500==0:\n",
    "            logging.info(\"read {0} recipes\".format(item))\n",
    "    return all_ingredients\n",
    "\n",
    "def print_dessert_ingredients(all_ingredients):\n",
    "    count =0\n",
    "    for item, ingredients_list in enumerate(all_ingredients):\n",
    "        for ingr_item, ingredient in enumerate(ingredients_list['ingredients']):\n",
    "            \n",
    "            \n",
    "            print(ingredient['text'])\n",
    "        \n",
    "        print('--------------------------')\n",
    "        if item==50:\n",
    "            break\n",
    "    return all_ingredients"
   ]
  },
  {
   "cell_type": "code",
   "execution_count": null,
   "metadata": {
    "ExecuteTime": {
     "start_time": "2019-07-23T19:52:59.280Z"
    }
   },
   "outputs": [],
   "source": [
    "clean_ingredients =  clean_dessert_ingredients(dessert_ings);\n",
    "# print_dessert_ingredients(clean_ingredients)\n",
    "# print(dessert_ings)\n"
   ]
  },
  {
   "cell_type": "code",
   "execution_count": 37,
   "metadata": {
    "ExecuteTime": {
     "end_time": "2019-07-23T19:51:01.439916Z",
     "start_time": "2019-07-23T19:51:01.433324Z"
    }
   },
   "outputs": [
    {
     "data": {
      "text/plain": [
       "3848"
      ]
     },
     "execution_count": 37,
     "metadata": {},
     "output_type": "execute_result"
    }
   ],
   "source": [
    "len(clean_ingredients)\n",
    "# item = np.random.randint(dessert_recipes)\n",
    "# print(item, dessert_ings[item]['valid'])\n",
    "# dessert_ings[item]['ingredients']"
   ]
  },
  {
   "cell_type": "code",
   "execution_count": null,
   "metadata": {
    "ExecuteTime": {
     "end_time": "2019-07-22T18:55:07.334131Z",
     "start_time": "2019-07-22T18:55:07.328603Z"
    }
   },
   "outputs": [],
   "source": [
    "m = re.match('onion', 'yellow onions' )\n",
    "print(m)\n",
    "\n",
    "m = re.search('onion', 'yellow onions' )\n",
    "print(m)"
   ]
  },
  {
   "cell_type": "code",
   "execution_count": null,
   "metadata": {},
   "outputs": [],
   "source": []
  },
  {
   "cell_type": "code",
   "execution_count": null,
   "metadata": {},
   "outputs": [],
   "source": []
  },
  {
   "cell_type": "markdown",
   "metadata": {},
   "source": [
    "# Let's look at the unique words"
   ]
  },
  {
   "cell_type": "code",
   "execution_count": null,
   "metadata": {
    "ExecuteTime": {
     "end_time": "2019-07-23T01:04:21.327056Z",
     "start_time": "2019-07-23T01:04:21.321657Z"
    }
   },
   "outputs": [],
   "source": []
  },
  {
   "cell_type": "code",
   "execution_count": null,
   "metadata": {},
   "outputs": [],
   "source": []
  },
  {
   "cell_type": "code",
   "execution_count": null,
   "metadata": {
    "ExecuteTime": {
     "end_time": "2019-07-22T15:23:54.080375Z",
     "start_time": "2019-07-22T15:23:54.073474Z"
    }
   },
   "outputs": [],
   "source": [
    "item=0\n",
    "len(dessert_ings),len(dessert_ings[item]['ingredients'])"
   ]
  },
  {
   "cell_type": "markdown",
   "metadata": {},
   "source": [
    "## Lets create a list of ingredients\n",
    "And we will us it as an input to word2Vec"
   ]
  },
  {
   "cell_type": "code",
   "execution_count": null,
   "metadata": {
    "ExecuteTime": {
     "end_time": "2019-07-23T18:44:34.567818Z",
     "start_time": "2019-07-23T18:44:34.535270Z"
    }
   },
   "outputs": [],
   "source": [
    "ingredients_per_recipe = []\n",
    "count =0\n",
    "for drecipe in dessert_ings:\n",
    "    ings =[]\n",
    "    for entry in drecipe['ingredients']:\n",
    "        ings.append(entry['text'])\n",
    "    ingredients_per_recipe.append(ings)\n",
    "    count += 1\n",
    "    if count%500==0:\n",
    "        logging.info(\"read {0} ingredients\".format(count))\n",
    "\n",
    "#         break;\n",
    "\n",
    "# print(all_dingredients)"
   ]
  },
  {
   "cell_type": "code",
   "execution_count": null,
   "metadata": {
    "ExecuteTime": {
     "end_time": "2019-07-23T15:09:32.643435Z",
     "start_time": "2019-07-23T15:09:32.637504Z"
    }
   },
   "outputs": [],
   "source": [
    "ingredients_per_recipe[0]"
   ]
  },
  {
   "cell_type": "markdown",
   "metadata": {
    "ExecuteTime": {
     "end_time": "2019-07-20T01:57:00.922754Z",
     "start_time": "2019-07-20T01:57:00.914197Z"
    },
    "heading_collapsed": true
   },
   "source": [
    "## Create a Word2Vec model training on the ingredients. \n"
   ]
  },
  {
   "cell_type": "code",
   "execution_count": null,
   "metadata": {
    "ExecuteTime": {
     "end_time": "2019-07-23T15:27:15.647482Z",
     "start_time": "2019-07-23T15:27:15.643585Z"
    },
    "hidden": true
   },
   "outputs": [],
   "source": [
    "vec_size = 100;\n",
    "model = gensim.models.Word2Vec(\n",
    "   # all_dingredients,\n",
    "    size=vec_size,\n",
    "    window=5,\n",
    "    min_count=20,\n",
    "    workers=10,\n",
    "    alpha=0.02,\n",
    "    iter=4,\n",
    "    sg=0)"
   ]
  },
  {
   "cell_type": "code",
   "execution_count": null,
   "metadata": {
    "ExecuteTime": {
     "end_time": "2019-07-23T15:27:17.606457Z",
     "start_time": "2019-07-23T15:27:17.571670Z"
    },
    "hidden": true,
    "scrolled": true
   },
   "outputs": [],
   "source": [
    "t = time()\n",
    "model.build_vocab(ingredients_per_recipe, progress_per=1000)"
   ]
  },
  {
   "cell_type": "code",
   "execution_count": null,
   "metadata": {
    "ExecuteTime": {
     "end_time": "2019-07-23T15:27:26.393113Z",
     "start_time": "2019-07-23T15:27:25.007575Z"
    },
    "hidden": true
   },
   "outputs": [],
   "source": [
    "model.train(ingredients_per_recipe, total_examples=model.corpus_count,\n",
    "           epochs=40, report_delay=1)"
   ]
  },
  {
   "cell_type": "code",
   "execution_count": null,
   "metadata": {
    "ExecuteTime": {
     "end_time": "2019-07-23T15:27:36.418852Z",
     "start_time": "2019-07-23T15:27:36.411721Z"
    },
    "hidden": true
   },
   "outputs": [],
   "source": [
    "model.init_sims(replace=True)"
   ]
  },
  {
   "cell_type": "code",
   "execution_count": null,
   "metadata": {
    "ExecuteTime": {
     "end_time": "2019-07-23T15:28:29.478947Z",
     "start_time": "2019-07-23T15:28:29.471469Z"
    },
    "hidden": true
   },
   "outputs": [],
   "source": [
    "w1='almond'\n",
    "w1='rum'\n",
    "model.wv.most_similar(positive=w1, topn=4)"
   ]
  },
  {
   "cell_type": "code",
   "execution_count": null,
   "metadata": {
    "ExecuteTime": {
     "end_time": "2019-07-23T15:28:45.458529Z",
     "start_time": "2019-07-23T15:28:45.451236Z"
    },
    "hidden": true,
    "scrolled": true
   },
   "outputs": [],
   "source": [
    "w1='rum'\n",
    "model.wv.most_similar(positive=['apple','banana'],\n",
    "                      negative=['rum'],topn=10)"
   ]
  },
  {
   "cell_type": "code",
   "execution_count": null,
   "metadata": {
    "ExecuteTime": {
     "end_time": "2019-07-20T17:43:24.352195Z",
     "start_time": "2019-07-20T17:43:24.347123Z"
    },
    "hidden": true
   },
   "outputs": [],
   "source": [
    "# witem = model.wv.__getitem__(['ginger'])\n",
    "# witem[0]"
   ]
  },
  {
   "cell_type": "code",
   "execution_count": null,
   "metadata": {
    "ExecuteTime": {
     "end_time": "2019-07-23T15:29:01.643195Z",
     "start_time": "2019-07-23T15:29:01.636590Z"
    },
    "hidden": true
   },
   "outputs": [],
   "source": [
    "model.wv.doesnt_match(['apple','butter','banana',\n",
    "                       'rum','flour'])"
   ]
  },
  {
   "cell_type": "code",
   "execution_count": null,
   "metadata": {
    "ExecuteTime": {
     "end_time": "2019-07-23T17:15:38.260298Z",
     "start_time": "2019-07-23T17:15:38.244703Z"
    },
    "hidden": true
   },
   "outputs": [],
   "source": [
    "import matplotlib.pyplot as plt\n",
    "%matplotlib inline \n",
    "import pandas as pd\n",
    "import seaborn as sns\n",
    "sns.set_style('darkgrid')\n",
    "\n",
    "from sklearn.decomposition import PCA\n",
    "from sklearn.manifold import TSNE\n",
    "\n",
    "from mpl_toolkits.mplot3d import Axes3D"
   ]
  },
  {
   "cell_type": "code",
   "execution_count": null,
   "metadata": {
    "ExecuteTime": {
     "end_time": "2019-07-23T17:25:53.717444Z",
     "start_time": "2019-07-23T17:25:53.704772Z"
    },
    "hidden": true
   },
   "outputs": [],
   "source": [
    "# def ingredient_scatterplot(model, word, list_names):\n",
    "def ingredient_scatterplot(model, word):\n",
    "    # create an array with the same size as the vector\n",
    "    arrays = np.empty((0,vec_size), dtype='f')\n",
    "    # set the original word,     \n",
    "    word_labels = [word]\n",
    "    color_list = ['red']\n",
    "    # append the vector for the test word\n",
    "    arrays = np.append(arrays, model.wv.__getitem__([word]),axis=0)\n",
    "    \n",
    "    ####### get the closest words and make then blue\n",
    "    #get a list of the most similar words\n",
    "    close_words = model.wv.most_similar([word],topn=25)\n",
    "    \n",
    "    for word_score in close_words:\n",
    "        # for each word get the vector  \n",
    "        word_vector = model.wv.__getitem__([word_score[0]])\n",
    "        # get the name\n",
    "        word_labels.append(word_score[0])\n",
    "        color_list.append('blue')\n",
    "        arrays = np.append(arrays, word_vector, axis=0)\n",
    "             \n",
    "    Y = PCA(n_components=2).fit_transform(arrays)\n",
    "    \n",
    "#     np.set_printoptions(suppress=True)\n",
    "    \n",
    "#     Y = TSNE(n_components=2, random_state=0, \n",
    "#              perplexity=15).fit_transform(reduc)\n",
    "    df = pd.DataFrame({'x':[x for x in Y[:, 0]],\n",
    "                       'y':[y for y in Y[:, 1]],\n",
    "#                        'z':[z for z in Y[:, 2]],\n",
    "                       'words':word_labels,\n",
    "                       'color': color_list})\n",
    "    \n",
    "    fig, _ = plt.subplots()\n",
    "    fig.set_size_inches(8,6)\n",
    "    \n",
    "    p1 = sns.regplot(data=df, \n",
    "                    x='x',y='y',fit_reg=False,\n",
    "                    marker='x',\n",
    "                    scatter_kws={'s':40,\n",
    "                                'facecolors':df['color']})\n",
    "    \n",
    "    for line in range(df.shape[0]):\n",
    "        p1.text(df['x'][line],df['y'][line],#df['z'][line],\n",
    "               '  '+df['words'][line].title(),\n",
    "               horizontalalignment='left',\n",
    "                verticalalignment='bottom',size='large',\n",
    "                color=df['color'][line],weight='normal'\n",
    "               ).set_size(10)\n",
    "#     fig = plt.figure(figsize=(8,6))\n",
    "#     ax = Axes3D(fig)  \n",
    "    \n",
    "#     ax.scatter(df['x'], df['y'], df['z'], marker='o')\n",
    "    plt.xlim(Y[:,0].min()-0.1, Y[:,0].max()+0.1 )\n",
    "    plt.ylim(Y[:,1].min()-0.1, Y[:,1].max()+0.1 )\n",
    "#     plt.zlim(Y[:,2].min(), Y[:,2].max() )\n",
    "    plt.title('Food pairing for {}'.format(word.title()))"
   ]
  },
  {
   "cell_type": "code",
   "execution_count": null,
   "metadata": {
    "hidden": true
   },
   "outputs": [],
   "source": []
  },
  {
   "cell_type": "code",
   "execution_count": null,
   "metadata": {
    "ExecuteTime": {
     "end_time": "2019-07-23T17:25:55.809044Z",
     "start_time": "2019-07-23T17:25:55.608398Z"
    },
    "hidden": true
   },
   "outputs": [],
   "source": [
    "ingredient_scatterplot(model, 'apple')"
   ]
  },
  {
   "cell_type": "code",
   "execution_count": null,
   "metadata": {
    "ExecuteTime": {
     "end_time": "2019-07-23T17:26:54.039286Z",
     "start_time": "2019-07-23T17:26:54.034467Z"
    },
    "hidden": true
   },
   "outputs": [],
   "source": [
    "test_word = 'rum'"
   ]
  },
  {
   "cell_type": "code",
   "execution_count": null,
   "metadata": {
    "ExecuteTime": {
     "end_time": "2019-07-23T17:26:55.939707Z",
     "start_time": "2019-07-23T17:26:55.744084Z"
    },
    "hidden": true,
    "scrolled": true
   },
   "outputs": [],
   "source": [
    "ingredient_scatterplot(model, test_word)\n",
    "\n"
   ]
  },
  {
   "cell_type": "markdown",
   "metadata": {
    "hidden": true
   },
   "source": [
    "### Make a network graph"
   ]
  },
  {
   "cell_type": "code",
   "execution_count": null,
   "metadata": {
    "ExecuteTime": {
     "end_time": "2019-07-23T17:28:40.238667Z",
     "start_time": "2019-07-23T17:28:39.671704Z"
    },
    "hidden": true
   },
   "outputs": [],
   "source": [
    "import networkx as nx\n"
   ]
  },
  {
   "cell_type": "code",
   "execution_count": null,
   "metadata": {
    "ExecuteTime": {
     "end_time": "2019-07-23T18:32:24.911250Z",
     "start_time": "2019-07-23T18:32:24.728636Z"
    },
    "hidden": true
   },
   "outputs": [],
   "source": [
    "\n",
    "w1='rum'\n",
    "ingred_list = model.wv.most_similar(positive=w1, topn=20)\n",
    "\n",
    "# print(ingred_list)\n",
    "G = nx.Graph()\n",
    "G.add_node(w1,nodesize=20)\n",
    "for n_node, ingred in enumerate(ingred_list):\n",
    "    G.add_node(ingred[0], nodesize=ingred[1]*10)\n",
    "    G.add_weighted_edges_from([(w1, ingred[0], ingred[1])])\n",
    "               \n",
    "sizes = [G.node[node]['nodesize']*300 for node in G]\n",
    "        #     G.add_edge(1,n_node+2)\n",
    "# G.add_nodes_from([1,2,3,4,5,6,7])\n",
    "# G.add_edge(1,2)\n",
    "# G.add_edge(1,3)\n",
    "# G.add_edge(1,4)\n",
    "# G.add_edge(1,5)\n",
    "# G.add_edge(1,6)\n",
    "# G.add_edge(1,7)\n",
    "\n",
    "# G.node[1]['label']='blue'\n",
    "# G.add_edge(1,4)\n",
    "\n",
    "plt.figure(figsize=(10,8))\n",
    "\n",
    "options = {\n",
    "    'edge_color': '#4C34EB',\n",
    "    'width': 1,\n",
    "    'with_labels': True,\n",
    "    'font_weight': 'heavy',\n",
    "}\n",
    "\n",
    "nx.draw(G,  node_size=sizes, \n",
    "        pos=nx.spring_layout(G, k=0.5, iterations=50), **options)\n",
    "# ax = plt.gca()\n",
    "# ax.collections[0].set_edgecolor('#5555')\n",
    "# plt.show()"
   ]
  },
  {
   "cell_type": "code",
   "execution_count": null,
   "metadata": {
    "ExecuteTime": {
     "end_time": "2019-07-23T18:01:16.073938Z",
     "start_time": "2019-07-23T18:01:16.064670Z"
    },
    "hidden": true
   },
   "outputs": [],
   "source": [
    "G.nodes"
   ]
  },
  {
   "cell_type": "code",
   "execution_count": null,
   "metadata": {
    "hidden": true
   },
   "outputs": [],
   "source": []
  },
  {
   "cell_type": "markdown",
   "metadata": {},
   "source": [
    "## look at unique values"
   ]
  },
  {
   "cell_type": "code",
   "execution_count": 9,
   "metadata": {
    "ExecuteTime": {
     "end_time": "2019-07-23T18:53:59.682147Z",
     "start_time": "2019-07-23T18:53:59.675450Z"
    }
   },
   "outputs": [],
   "source": []
  },
  {
   "cell_type": "code",
   "execution_count": 38,
   "metadata": {
    "ExecuteTime": {
     "end_time": "2019-07-23T19:51:06.263875Z",
     "start_time": "2019-07-23T19:51:06.245390Z"
    },
    "scrolled": true
   },
   "outputs": [],
   "source": [
    "# create bag of ingredients\n",
    "\n",
    "all_ingredients = []\n",
    "\n",
    "for recipe_ings in clean_ingredients:# dessert_ings:\n",
    "    n_ingredients = len(recipe_ings['valid'])\n",
    "    for item, ingredient in enumerate(recipe_ings['ingredients']):\n",
    "#         if recipe_ings['valid'][item] ==True:\n",
    "        ingred = ingredient['text'].lower()\n",
    "\n",
    "        all_ingredients.append(ingred)\n",
    "                \n",
    "\n",
    "            "
   ]
  },
  {
   "cell_type": "code",
   "execution_count": 39,
   "metadata": {
    "ExecuteTime": {
     "end_time": "2019-07-23T19:51:10.151974Z",
     "start_time": "2019-07-23T19:51:10.142706Z"
    }
   },
   "outputs": [],
   "source": [
    "\n",
    "### Funciton to retrieve reciepes given an ingredient list\n",
    "\n",
    "def get_recipes_for_ingredients(search_list, ingredients_list, recipe_list):\n",
    "    \"\"\"\n",
    "    Function to look for a recipe with all the ingredients in  the list passed\n",
    "    \n",
    "    Output:\n",
    "        List of ingredients.\n",
    "    \"\"\"\n",
    "    \n",
    "    found_recipe_list = []\n",
    "    found_ingredient_list = []\n",
    "    for item,recipe_ingrs in enumerate(ingredients_list):\n",
    "        temp_ingr_list = []\n",
    "        ingredients = recipe_ingrs['ingredients']\n",
    "        n_ingredients = len(ingredients)\n",
    "        found_ingredient =0\n",
    "        for ingredient in ingredients:\n",
    "            if re.search(search_list[0], ingredient['text']):\n",
    "                found_ingredient=1\n",
    "            temp_ingr_list.append(ingredient['text'])\n",
    "\n",
    "        # find all elements in the list\n",
    "#         result = all(elem in temp_ingr_list for elem in search_list)\n",
    "        # find any elements in the list\n",
    "        result = any(singularize(elem) in temp_ingr_list for elem in search_list)\n",
    "        \n",
    "        \n",
    "        if result or found_ingredient==1:\n",
    "            found_recipe_list.append(recipe_list[item])\n",
    "            found_ingredient_list.append(temp_ingr_list)\n",
    "#             print('adding item', item)\n",
    "           \n",
    "    \n",
    "    \n",
    "    \n",
    "    return found_recipe_list, found_ingredient_list\n",
    "    "
   ]
  },
  {
   "cell_type": "code",
   "execution_count": 17,
   "metadata": {
    "ExecuteTime": {
     "end_time": "2019-07-23T19:43:22.867129Z",
     "start_time": "2019-07-23T19:43:22.864376Z"
    }
   },
   "outputs": [],
   "source": [
    "# all_ingredients"
   ]
  },
  {
   "cell_type": "code",
   "execution_count": 40,
   "metadata": {
    "ExecuteTime": {
     "end_time": "2019-07-23T19:51:15.256905Z",
     "start_time": "2019-07-23T19:51:15.251171Z"
    },
    "scrolled": true
   },
   "outputs": [
    {
     "name": "stdout",
     "output_type": "stream",
     "text": [
      "with 3848 recipes, there are 27625 ingredients, and 2179 unique ingredients.\n"
     ]
    }
   ],
   "source": [
    "ingredient_set = set(all_ingredients)\n",
    "print('with {} recipes, there are {} ingredients, and {} unique ingredients.'.format(\n",
    "                dessert_recipes, len(all_ingredients), len(ingredient_set)))"
   ]
  },
  {
   "cell_type": "code",
   "execution_count": 68,
   "metadata": {
    "ExecuteTime": {
     "end_time": "2019-07-23T19:32:17.766361Z",
     "start_time": "2019-07-23T19:32:17.760952Z"
    }
   },
   "outputs": [
    {
     "name": "stdout",
     "output_type": "stream",
     "text": [
      "with 3848 recipes, there are 25197 ingredients, and 2136 unique ingredients.\n"
     ]
    }
   ],
   "source": [
    "ingredient_set = set(all_ingredients)\n",
    "print('with {} recipes, there are {} ingredients, and {} unique ingredients.'.format(\n",
    "                dessert_recipes, len(all_ingredients), len(ingredient_set)))"
   ]
  },
  {
   "cell_type": "code",
   "execution_count": 41,
   "metadata": {
    "ExecuteTime": {
     "end_time": "2019-07-23T19:51:19.174431Z",
     "start_time": "2019-07-23T19:51:19.151604Z"
    }
   },
   "outputs": [
    {
     "name": "stdout",
     "output_type": "stream",
     "text": [
      "<FreqDist with 2179 samples and 27625 outcomes>\n"
     ]
    }
   ],
   "source": [
    "fdist = FreqDist(all_ingredients)\n",
    "print(fdist)"
   ]
  },
  {
   "cell_type": "code",
   "execution_count": 42,
   "metadata": {
    "ExecuteTime": {
     "end_time": "2019-07-23T19:51:23.133028Z",
     "start_time": "2019-07-23T19:51:23.127768Z"
    },
    "scrolled": false
   },
   "outputs": [],
   "source": [
    "common = fdist.most_common(2500)"
   ]
  },
  {
   "cell_type": "code",
   "execution_count": 43,
   "metadata": {
    "ExecuteTime": {
     "end_time": "2019-07-23T19:51:27.228110Z",
     "start_time": "2019-07-23T19:51:27.216389Z"
    },
    "scrolled": true
   },
   "outputs": [
    {
     "name": "stdout",
     "output_type": "stream",
     "text": [
      "('cherry pie filling', 16)\n",
      "('toffee piece', 12)\n"
     ]
    }
   ],
   "source": [
    "# common\n",
    "# f= open(\"words.txt\",\"w+\")\n",
    "for cc in common:\n",
    "    if re.search('pie', cc[0]) and cc[1]>10:\n",
    "        print(cc)\n",
    "#     f.write('{}: \\t {}\\n'.format(cc[0], cc[1]))"
   ]
  },
  {
   "cell_type": "code",
   "execution_count": 44,
   "metadata": {
    "ExecuteTime": {
     "end_time": "2019-07-23T19:51:31.447729Z",
     "start_time": "2019-07-23T19:51:31.414393Z"
    }
   },
   "outputs": [
    {
     "data": {
      "text/plain": [
       "[('sugar', 2867),\n",
       " ('vanilla', 2066),\n",
       " ('egg', 1853),\n",
       " ('salt', 1659),\n",
       " ('butter', 1513),\n",
       " ('brown sugar', 849),\n",
       " ('milk', 741),\n",
       " ('salted butter', 632),\n",
       " ('powdered sugar', 564),\n",
       " ('chocolate chip', 450),\n",
       " ('cinnamon', 444),\n",
       " ('heavy cream', 355),\n",
       " ('ground cinnamon', 338),\n",
       " ('egg yolk', 297),\n",
       " ('cream cheese', 290),\n",
       " ('pecan', 267),\n",
       " ('cocoa powder', 243),\n",
       " ('honey', 237),\n",
       " ('walnut', 236),\n",
       " ('egg white', 208),\n",
       " ('banana', 199),\n",
       " ('nutmeg', 176),\n",
       " ('pumpkin', 176),\n",
       " ('buttermilk', 173),\n",
       " ('lemon juice', 171),\n",
       " ('sour cream', 154),\n",
       " ('whipping cream', 141),\n",
       " ('raisin', 123),\n",
       " ('ground nutmeg', 117),\n",
       " ('almond extract', 110),\n",
       " ('nut', 107),\n",
       " ('ground ginger', 103),\n",
       " ('peanut butter', 101),\n",
       " ('cocoa', 101),\n",
       " ('ground clove', 96),\n",
       " ('apple', 95),\n",
       " ('whole milk', 95),\n",
       " ('lemon', 90),\n",
       " ('chocolate', 87),\n",
       " ('strawberry', 85),\n",
       " ('low-fat milk', 84),\n",
       " ('sweetened condensed milk', 84),\n",
       " ('orange juice', 82),\n",
       " ('evaporated milk', 82),\n",
       " ('semisweet chocolate', 81),\n",
       " ('bittersweet chocolate', 79),\n",
       " ('cream of tartar', 78),\n",
       " ('rolled oats', 77),\n",
       " ('fresh lemon juice', 77),\n",
       " ('kosher salt', 71),\n",
       " ('molasses', 70),\n",
       " ('mint', 65),\n",
       " ('orange zest', 64),\n",
       " ('lemon zest', 63),\n",
       " ('clove', 61),\n",
       " ('almond', 59),\n",
       " ('cool whip', 55),\n",
       " ('sea salt', 55),\n",
       " ('ginger', 54),\n",
       " ('unsweetened chocolate', 53),\n",
       " ('maple syrup', 52),\n",
       " ('whipped cream', 51),\n",
       " ('white chocolate', 50),\n",
       " ('cool whip topping', 50),\n",
       " ('creamy peanut butter', 49),\n",
       " ('applesauce', 47),\n",
       " ('cream', 45),\n",
       " ('ground allspice', 44),\n",
       " ('oats', 42),\n",
       " ('blueberry', 41),\n",
       " ('rum', 41),\n",
       " ('allspice', 40),\n",
       " ('philadelphia cream cheese', 40),\n",
       " ('coconut', 39),\n",
       " ('flaked coconut', 39),\n",
       " ('orange', 37),\n",
       " ('olive oil', 37),\n",
       " ('half-and-half', 36),\n",
       " ('dried cranberry', 36),\n",
       " ('dark chocolate', 36),\n",
       " ('fresh strawberry', 35),\n",
       " ('sliced almond', 35),\n",
       " ('bourbon', 34),\n",
       " ('brandy', 33),\n",
       " ('date', 32),\n",
       " ('crushed pineapple', 32),\n",
       " ('quick-cooking oats', 32),\n",
       " ('peach', 32),\n",
       " ('old fashioned oats', 31),\n",
       " ('pecan half', 31),\n",
       " ('carrot', 30),\n",
       " ('whipped topping', 30),\n",
       " ('skim milk', 30),\n",
       " ('zucchini', 30),\n",
       " ('shredded coconut', 30),\n",
       " ('oatmeal', 28),\n",
       " ('raspberry', 28),\n",
       " ('hazelnut', 28),\n",
       " ('unsweetened applesauce', 28),\n",
       " ('golden raisin', 27),\n",
       " ('chocolate syrup', 27),\n",
       " ('fresh raspberry', 27),\n",
       " ('oreo cookies', 27),\n",
       " ('maraschino cherry', 26),\n",
       " ('cinnamon stick', 26),\n",
       " ('granny smith apple', 26),\n",
       " ('lemon peel', 25),\n",
       " ('apple juice', 25),\n",
       " ('coconut oil', 25),\n",
       " ('butterscotch chip', 25),\n",
       " ('unsweetened cocoa', 25),\n",
       " ('caramel', 24),\n",
       " ('orange rind', 23),\n",
       " ('lemon extract', 23),\n",
       " ('candy sprinkle', 23),\n",
       " ('marshmallow', 23),\n",
       " ('vinegar', 23),\n",
       " ('raspberry jam', 23),\n",
       " ('coconut milk', 22),\n",
       " ('pistachio', 22),\n",
       " ('coffee', 22),\n",
       " ('bread', 21),\n",
       " ('mango', 21),\n",
       " ('fresh orange juice', 21),\n",
       " ('peanut', 21),\n",
       " ('sweetened flaked coconut', 21),\n",
       " ('fresh blueberry', 21),\n",
       " ('slivered almond', 20),\n",
       " ('smooth peanut butter', 20),\n",
       " ('greek yogurt', 20),\n",
       " ('ricotta cheese', 20),\n",
       " ('ice cream', 20),\n",
       " ('macadamia nut', 20),\n",
       " ('nonfat milk', 20),\n",
       " ('frozen whipped topping', 20),\n",
       " ('sweet potato', 20),\n",
       " ('white vinegar', 20),\n",
       " ('quick oats', 19),\n",
       " ('poppy seed', 19),\n",
       " ('milk chocolate', 19),\n",
       " ('cranberry', 19),\n",
       " ('ground cardamom', 19),\n",
       " ('blackberry', 19),\n",
       " ('pure maple syrup', 19),\n",
       " ('soymilk', 18),\n",
       " ('plain yogurt', 18),\n",
       " ('semisweet chocolate morsel', 18),\n",
       " ('dark rum', 18),\n",
       " ('blanched almond', 18),\n",
       " ('fruit', 18),\n",
       " ('dried cherry', 17),\n",
       " ('fine salt', 17),\n",
       " ('agave nectar', 17),\n",
       " ('french bread', 17),\n",
       " ('instant espresso powder', 17),\n",
       " ('cherry pie filling', 16),\n",
       " ('instant chocolate pudding mix', 16),\n",
       " ('powdered milk', 16),\n",
       " ('peanut butter chip', 16),\n",
       " ('kahlua', 16),\n",
       " ('mayonnaise', 16),\n",
       " ('brownie mix', 16),\n",
       " ('baking cocoa', 16),\n",
       " ('low-fat sour cream', 16),\n",
       " ('caramel ice cream topping', 16),\n",
       " ('chocolate shaving', 16),\n",
       " ('cookies', 15),\n",
       " ('icing', 15),\n",
       " ('marshmallow cream', 15),\n",
       " ('pear', 15),\n",
       " ('half-and-half cream', 15),\n",
       " ('lemon rind', 14),\n",
       " ('fresh cranberry', 14),\n",
       " ('golden syrup', 14),\n",
       " ('dried apricot', 14),\n",
       " ('instant coffee', 14),\n",
       " ('fresh lime juice', 14),\n",
       " ('yogurt', 14),\n",
       " ('table salt', 14),\n",
       " ('miniature marshmallow', 14),\n",
       " ('wheat germ', 13),\n",
       " ('tart apple', 13),\n",
       " ('rose water', 13),\n",
       " ('cardamom', 13),\n",
       " ('rhubarb', 13),\n",
       " ('strong coffee', 13),\n",
       " ('vodka', 13),\n",
       " ('syrup', 13),\n",
       " ('orange peel', 13),\n",
       " ('sesame seed', 13),\n",
       " ('sweet butter', 13),\n",
       " ('mascarpone cheese', 13),\n",
       " ('ladyfinger', 13),\n",
       " ('caramel sauce', 12),\n",
       " ('pretzel', 12),\n",
       " ('crystallized ginger', 12),\n",
       " ('chocolate instant pudding', 12),\n",
       " ('coconut extract', 12),\n",
       " ('light cream', 12),\n",
       " ('frozen strawberry', 12),\n",
       " ('crushed pineapple in juice', 12),\n",
       " ('plum', 12),\n",
       " ('lime zest', 12),\n",
       " ('crunchy peanut butter', 12),\n",
       " ('pineapple', 12),\n",
       " ('toffee piece', 12),\n",
       " ('cottage cheese', 12),\n",
       " ('mashed banana', 12),\n",
       " ('juice', 11),\n",
       " ('instant pudding mix', 11),\n",
       " ('nonfat dry milk powder', 11),\n",
       " ('frosting', 11),\n",
       " ('fresh ginger', 11),\n",
       " ('quick-cooking rolled oats', 11),\n",
       " ('2% low-fat milk', 11),\n",
       " ('extra virgin olive oil', 11),\n",
       " ('apple cider', 11),\n",
       " ('pastry dough', 11),\n",
       " ('ice', 11),\n",
       " ('lime juice', 11),\n",
       " ('kirsch', 11),\n",
       " ('ground almond', 11),\n",
       " ('bisquick baking mix', 10),\n",
       " ('orange extract', 10),\n",
       " ('planters pecan', 10),\n",
       " ('apricot jam', 10),\n",
       " ('grand marnier', 10),\n",
       " ('brewed coffee', 10),\n",
       " ('low-fat buttermilk', 10),\n",
       " ('almond meal', 10),\n",
       " ('granola cereal', 10),\n",
       " ('instant coffee granule', 10),\n",
       " ('lime', 10),\n",
       " ('orange liqueur', 10),\n",
       " ('cooking apple', 10),\n",
       " ('coffee liqueur', 10),\n",
       " ('fresh peach', 10),\n",
       " ('sunflower seed', 10),\n",
       " ('condensed milk', 10),\n",
       " ('creme de cacao', 10),\n",
       " ('cider vinegar', 10),\n",
       " ('mini marshmallow', 10),\n",
       " ('candy', 10),\n",
       " ('almond butter', 9),\n",
       " ('flax seed meal', 9),\n",
       " ('angel flake coconut', 9),\n",
       " ('unsweetened baking chocolate', 9),\n",
       " ('rum extract', 9),\n",
       " ('mixed spice', 9),\n",
       " ('sunflower oil', 9),\n",
       " ('creme fraiche', 9),\n",
       " ('apple cider vinegar', 9),\n",
       " ('double cream', 9),\n",
       " ('cherry', 9),\n",
       " ('1 teaspoon soda', 9),\n",
       " ('cashew', 9),\n",
       " ('knudsen sour cream', 9),\n",
       " ('desiccated coconut', 9),\n",
       " ('almond paste', 9),\n",
       " ('irish cream', 9),\n",
       " ('mascarpone', 9),\n",
       " ('puff pastry', 8),\n",
       " ('cayenne pepper', 8),\n",
       " ('dark cocoa', 8),\n",
       " ('candied cherry', 8),\n",
       " ('custard', 8),\n",
       " ('instant coffee powder', 8),\n",
       " ('ground mace', 8),\n",
       " ('coffee ice cream', 8),\n",
       " ('jam', 8),\n",
       " ('cognac', 8),\n",
       " ('sweetened whipped cream', 8),\n",
       " ('cheddar cheese', 8),\n",
       " ('white bread', 8),\n",
       " ('kraft caramel', 8),\n",
       " ('almond milk', 8),\n",
       " ('kiwi fruit', 8),\n",
       " ('marshmallow creme', 8),\n",
       " ('reduced-fat cream cheese', 8),\n",
       " ('chunky peanut butter', 8),\n",
       " ('eggnog', 8),\n",
       " ('glaze', 8),\n",
       " ('egg substitute', 8),\n",
       " ('fresh ground black pepper', 8),\n",
       " ('strawberry jam', 8),\n",
       " ('pine nut', 8),\n",
       " ('anise seed', 7),\n",
       " ('unsweetened dried shredded coconut', 7),\n",
       " ('arrowroot', 7),\n",
       " ('oat bran', 7),\n",
       " ('balsamic vinegar', 7),\n",
       " ('candy corn', 7),\n",
       " ('bacon', 7),\n",
       " ('goat cheese', 7),\n",
       " ('lard', 7),\n",
       " ('nutella', 7),\n",
       " ('fresh fruit', 7),\n",
       " ('semisweet chocolate chunk', 7),\n",
       " ('agave syrup', 7),\n",
       " ('corn flake', 7),\n",
       " ('fine sea salt', 7),\n",
       " ('popped popcorn', 7),\n",
       " ('fat-free evaporated milk', 7),\n",
       " ('lemon curd', 7),\n",
       " ('cooking oil', 7),\n",
       " ('sour milk', 7),\n",
       " ('rice krispy', 7),\n",
       " ('liqueur', 7),\n",
       " ('sharp cheddar cheese', 7),\n",
       " ('ground flax seed', 7),\n",
       " ('chocolate bar', 7),\n",
       " ('chocolate wafer crumb', 7),\n",
       " ('breadcrumb', 7),\n",
       " ('frozen puff pastry', 7),\n",
       " ('amaretto', 7),\n",
       " ('amaretto liqueur', 7),\n",
       " ('salt and pepper', 7),\n",
       " ('dark molasses', 7),\n",
       " ('fat-free half-and-half', 6),\n",
       " ('cream cheese frosting', 6),\n",
       " ('whole wheat bread', 6),\n",
       " ('popcorn', 6),\n",
       " ('planters sliced almond', 6),\n",
       " ('sliced apple', 6),\n",
       " ('unsulphured molasses', 6),\n",
       " ('shredded cheddar cheese', 6),\n",
       " ('biscuit', 6),\n",
       " ('apple butter', 6),\n",
       " ('coarse salt', 6),\n",
       " ('gingersnap cookies', 6),\n",
       " ('unsweetened chocolate square', 6),\n",
       " ('heath candy bar', 6),\n",
       " ('semolina', 6),\n",
       " ('frozen raspberry', 6),\n",
       " ('lemon, juice of', 6),\n",
       " ('caramel topping', 6),\n",
       " ('beer', 6),\n",
       " ('roasted peanut', 6),\n",
       " ('canned crushed pineapple', 6),\n",
       " ('whole milk ricotta cheese', 6),\n",
       " ('toasted almond', 6),\n",
       " ('frozen blueberry', 6),\n",
       " ('salted peanut', 6),\n",
       " ('baking apple', 6),\n",
       " ('phyllo pastry', 6),\n",
       " ('apricot', 6),\n",
       " ('mandarin orange', 6),\n",
       " ('orange-flavored liqueur', 6),\n",
       " ('cream-filled chocolate sandwich cookies', 6),\n",
       " ('dried fruit', 6),\n",
       " ('parmesan cheese', 6),\n",
       " ('sherry wine', 6),\n",
       " ('chocolate candy bar', 6),\n",
       " ('tapioca', 6),\n",
       " ('pineapple juice', 6),\n",
       " ('walnut piece', 6),\n",
       " ('rice', 6),\n",
       " ('strong black coffee', 6),\n",
       " ('currant', 6),\n",
       " ('caraway seed', 6),\n",
       " ('coconut flake', 6),\n",
       " ('avocado', 6),\n",
       " ('flax seed', 6),\n",
       " ('whole almond', 6),\n",
       " ('bisquick', 6),\n",
       " ('seedless raspberry jam', 6),\n",
       " ('pastry shell', 6),\n",
       " ('chocolate frosting', 6),\n",
       " ('cereal', 6),\n",
       " ('dried sweetened cranberry', 6),\n",
       " ('cream cheese spread', 6),\n",
       " ('chocolate wafer', 6),\n",
       " ('cool whip lite', 6),\n",
       " ('vital wheat gluten', 6),\n",
       " ('fresh rhubarb', 5),\n",
       " ('egg beaters egg substitute', 5),\n",
       " ('natural-style peanut butter', 5),\n",
       " ('chocolate sprinkle', 5),\n",
       " ('apricot preserve', 5),\n",
       " ('dried currant', 5),\n",
       " ('butter flavor extract', 5),\n",
       " ('extract', 5),\n",
       " ('peach slouse', 5),\n",
       " ('whiskey', 5),\n",
       " ('oreo cookie crumb', 5),\n",
       " ('potato starch', 5),\n",
       " ('fresh lemon zest', 5),\n",
       " ('maple flavoring', 5),\n",
       " ('reduced-fat peanut butter', 5),\n",
       " ('gummy worm', 5),\n",
       " ('butter flavoring', 5),\n",
       " ('puree', 5),\n",
       " ('salted cashew', 5),\n",
       " ('chow mein noodle', 5),\n",
       " ('sour cherry', 5),\n",
       " ('pepper', 5),\n",
       " ('sultana', 5),\n",
       " ('salt&freshly ground black pepper', 5),\n",
       " ('candied ginger', 5),\n",
       " ('', 5),\n",
       " ('unsalted peanut', 5),\n",
       " ('curry powder', 5),\n",
       " ('fresh lemon rind', 5),\n",
       " ('orange juice concentrate', 5),\n",
       " ('marzipan', 5),\n",
       " ('refrigerated crescent dinner roll', 5),\n",
       " ('black pepper', 5),\n",
       " ('red wine', 5),\n",
       " ('crispy rice cereal', 5),\n",
       " ('candy cane', 5),\n",
       " ('orange marmalade', 5),\n",
       " ('extra-large egg', 5),\n",
       " ('minute tapioca', 5),\n",
       " ('white chocolate baking square', 5),\n",
       " ('miniature peanut butter cup', 5),\n",
       " ('mace', 5),\n",
       " ('fresh ground pepper', 5),\n",
       " ('golden delicious apple', 5),\n",
       " ('gingersnap', 5),\n",
       " ('pecan piece', 5),\n",
       " ('thickened cream', 5),\n",
       " ('maple extract', 5),\n",
       " ('nectarine', 5),\n",
       " ('chocolate ice cream', 5),\n",
       " ('key lime juice', 5),\n",
       " ('chocolate milk', 5),\n",
       " ('roasted almond', 5),\n",
       " ('cheese', 5),\n",
       " ('ginger powder', 5),\n",
       " ('evaporated low-fat milk', 5),\n",
       " ('bittersweet chocolate square', 5),\n",
       " ('light karo syrup', 5),\n",
       " ('peanut brittle', 5),\n",
       " ('corn oil', 4),\n",
       " ('popped corn', 4),\n",
       " ('milk chocolate candy bar', 4),\n",
       " ('bread cube', 4),\n",
       " ('pudding', 4),\n",
       " ('cool whip free', 4),\n",
       " ('dry roasted peanut', 4),\n",
       " ('biscuit mix', 4),\n",
       " ('club soda', 4),\n",
       " ('ice cream cone', 4),\n",
       " ('english toffee bit', 4),\n",
       " ('ritz cracker', 4),\n",
       " ('mixed candied fruit', 4),\n",
       " ('fresh fig', 4),\n",
       " ('ganache', 4),\n",
       " ('gingerroot', 4),\n",
       " ('pecan nut', 4),\n",
       " ('parchment paper', 4),\n",
       " ('frozen waffle', 4),\n",
       " ('instant lemon pudding', 4),\n",
       " ('guar gum', 4),\n",
       " ('candied red cherry', 4),\n",
       " ('free-range egg', 4),\n",
       " ('chocolate hazelnut spread', 4),\n",
       " ('fig', 4),\n",
       " ('espresso', 4),\n",
       " ('light sour cream', 4),\n",
       " ('unsalted dry roasted peanut', 4),\n",
       " ('orange, zest of', 4),\n",
       " ('cayenne', 4),\n",
       " ('almond powder', 4),\n",
       " ('dijon mustard', 4),\n",
       " ('wheat', 4),\n",
       " ('silken tofu', 4),\n",
       " ('boysenberry', 4),\n",
       " ('instant banana pudding mix', 4),\n",
       " ('jar', 4),\n",
       " ('fruit juice', 4),\n",
       " ('light cream cheese', 4),\n",
       " ('espresso powder', 4),\n",
       " ('tart cherry', 4),\n",
       " ('shelled pistachio', 4),\n",
       " ('instant malted milk powder', 4),\n",
       " ('chocolate-covered coffee bean', 4),\n",
       " ('stick', 4),\n",
       " ('chip', 4),\n",
       " ('custard powder', 4),\n",
       " ('tapioca starch', 4),\n",
       " ('candy bar', 4),\n",
       " ('rolo chocolate', 4),\n",
       " ('fresh cherry', 4),\n",
       " ('creme de menthe', 4),\n",
       " ('fat-free cream cheese', 4),\n",
       " ('baking mix', 4),\n",
       " ('quick-cooking oatmeal', 4),\n",
       " ('hersheys syrup', 4),\n",
       " ('canned peach', 4),\n",
       " ('sweet chocolate', 4),\n",
       " ('plain fat-free yogurt', 4),\n",
       " ('fudge brownie mix', 4),\n",
       " ('reeses peanut butter cup', 4),\n",
       " ('hot coffee', 4),\n",
       " ('mixed nut', 4),\n",
       " ('unsweetened apple juice', 4),\n",
       " ('star anise', 4),\n",
       " ('batter', 4),\n",
       " ('pitted date', 4),\n",
       " ('fat-free sweetened condensed milk', 4),\n",
       " ('strawberry jelly', 4),\n",
       " ('chocolate cookie crumb', 4),\n",
       " ('coconut cream', 4),\n",
       " ('cantaloupe', 4),\n",
       " ('1% low-fat milk', 4),\n",
       " ('pomegranate seed', 4),\n",
       " ('potato', 4),\n",
       " ('clear honey', 4),\n",
       " ('nonfat plain yogurt', 4),\n",
       " ('crisp rice cereal', 4),\n",
       " ('apple pie spice', 4),\n",
       " ('root beer', 4),\n",
       " ('extra large egg', 4),\n",
       " ('banana cream instant pudding', 4),\n",
       " ('tea', 4),\n",
       " ('wesson oil', 4),\n",
       " ('all-bran cereal', 4),\n",
       " ('phyllo dough', 4),\n",
       " ('short-grain rice', 4),\n",
       " ('swiss cheese', 4),\n",
       " ('royal icing', 4),\n",
       " ('chocolate sandwich style cookies', 4),\n",
       " ('jell-o chocolate instant pudding', 4),\n",
       " ('lemon, zest of', 4),\n",
       " ('peanut butter cup', 4),\n",
       " ('frozen cranberry', 4),\n",
       " ('chia seed', 4),\n",
       " ('ice cream sandwich', 4),\n",
       " ('almond flavoring', 4),\n",
       " ('walnut half', 4),\n",
       " ('rice milk', 4),\n",
       " ('salad oil', 4),\n",
       " ('cream-style corn', 4),\n",
       " ('chocolate fudge topping', 4),\n",
       " ('pineapple chunk', 4),\n",
       " ('apricot half', 4),\n",
       " ('chocolate curl', 4),\n",
       " ('decorative candy', 4),\n",
       " ('ground hazelnut', 4),\n",
       " ('pie pastry', 4),\n",
       " ('passion fruit', 4),\n",
       " ('berry', 4),\n",
       " ('light rum', 4),\n",
       " ('low-fat granola', 3),\n",
       " ('orange sherbet', 3),\n",
       " ('salad dressing', 3),\n",
       " ('brown rice syrup', 3),\n",
       " ('gluten', 3),\n",
       " ('saltine cracker', 3),\n",
       " ('cranberry juice cocktail', 3),\n",
       " ('anise extract', 3),\n",
       " ('citron', 3),\n",
       " ('rose petal', 3),\n",
       " ('beetroot', 3),\n",
       " ('2 teaspoon soda', 3),\n",
       " ('herb', 3),\n",
       " ('dry roasted salted peanut', 3),\n",
       " ('black walnut', 3),\n",
       " ('ground coriander', 3),\n",
       " ('prune', 3),\n",
       " ('chocolate wafer cookies', 3),\n",
       " ('1 can cherry pie filling', 3),\n",
       " ('fresh gingerroot', 3),\n",
       " ('fat', 3),\n",
       " ('1 tsp soda', 3),\n",
       " ('lime slouse', 3),\n",
       " ('black sesame seed', 3),\n",
       " ('planters walnut', 3),\n",
       " ('karo syrup', 3),\n",
       " ('hot fudge topping', 3),\n",
       " ('white frosting', 3),\n",
       " ('frozen orange juice concentrate', 3),\n",
       " ('scallion', 3),\n",
       " ('green apple', 3),\n",
       " ('soy sauce', 3),\n",
       " ('pastry for double-crust pie', 3),\n",
       " ('1 can sweetened condensed lowfat milk', 3),\n",
       " ('raspberry liqueur', 3),\n",
       " ('quick-cooking tapioca', 3),\n",
       " ('white karo', 3),\n",
       " ('preserve', 3),\n",
       " ('clarified butter', 3),\n",
       " ('toasted hazelnut', 3),\n",
       " ('strawberry ice cream', 3),\n",
       " ('powdered ginger', 3),\n",
       " ('dream whip', 3),\n",
       " ('waffle cone', 3),\n",
       " ('lemon slouse', 3),\n",
       " ('2 pouches certo fruit pectin', 3),\n",
       " ('apple pie filling', 3),\n",
       " ('reduced-calorie whipped topping', 3),\n",
       " ('1/2 teaspoon soda', 3),\n",
       " ('semisweet baking chocolate', 3),\n",
       " ('matcha green tea powder', 3),\n",
       " ('skim milk powder', 3),\n",
       " ('safflower oil', 3),\n",
       " ('base', 3),\n",
       " ('filling', 3),\n",
       " ('light whipped topping', 3),\n",
       " ('glace cherry', 3),\n",
       " ('1 can sweetened condensed milk', 3),\n",
       " ('candied pineapple', 3),\n",
       " ('instant potato flake', 3),\n",
       " ('fresh coarse ground black pepper', 3),\n",
       " ('basil', 3),\n",
       " ('whipped cream cheese', 3),\n",
       " ('gumdrop', 3),\n",
       " ('fruit preserve', 3),\n",
       " ('mashed potato', 3),\n",
       " ('fresh thyme', 3),\n",
       " ('fresh chive', 3),\n",
       " ('velveeta cheese', 3),\n",
       " ('navel orange', 3),\n",
       " ('protein powder', 3),\n",
       " ('apple jelly', 3),\n",
       " ('blue cheese', 3),\n",
       " ('cherry preserve', 3),\n",
       " ('liquid honey', 3),\n",
       " ('papaya', 3),\n",
       " ('ground pecan', 3),\n",
       " ('ale', 3),\n",
       " ('evaporated skim milk', 3),\n",
       " ('black peppercorn', 3),\n",
       " ('sweetened coconut', 3),\n",
       " ('unsweetened coconut milk', 3),\n",
       " ('triple sec', 3),\n",
       " ('meringue powder', 3),\n",
       " ('ground black pepper', 3),\n",
       " ('carob powder', 3),\n",
       " ('lollipop stick', 3),\n",
       " ('spiced rum', 3),\n",
       " ('m&m', 3),\n",
       " ('parsnip', 3),\n",
       " ('dried tart cherry', 3),\n",
       " ('whole unblanched almond', 3),\n",
       " ('plain low-fat yogurt', 3),\n",
       " ('marsala', 3),\n",
       " ('brewed espresso', 3),\n",
       " ('puffed wheat cereal', 3),\n",
       " ('pearl tapioca', 3),\n",
       " ('unsweetened almond milk', 3),\n",
       " ('jelly bean', 3),\n",
       " ('licorice', 3),\n",
       " ('toasted sliced almond', 3),\n",
       " ('brown rice', 3),\n",
       " ('frangelico', 3),\n",
       " ('macaroon', 3),\n",
       " ('lightly sweetened whipped cream', 3),\n",
       " ('chocolate-covered english toffee bar', 3),\n",
       " ('croissant', 3),\n",
       " ('mixed berry', 3),\n",
       " ('butterfinger candy bar', 3),\n",
       " ('baking chocolate', 3),\n",
       " ('bread dough', 3),\n",
       " ('light molasses', 3),\n",
       " ('cranberry juice', 3),\n",
       " ('white baking chocolate', 3),\n",
       " ('blanched slivered almond', 3),\n",
       " ('salted almond', 3),\n",
       " ('low-fat cream cheese', 3),\n",
       " ('white rum', 3),\n",
       " ('extra-large egg yolk', 3),\n",
       " ('candied orange peel', 3),\n",
       " ('hershey chocolate ki', 3),\n",
       " ('coconut flavoring', 3),\n",
       " ('red cinnamon candy', 3),\n",
       " ('fresh apricot', 3),\n",
       " ('pineapple slouse', 3),\n",
       " ('whole clove', 3),\n",
       " ('pink grapefruit', 3),\n",
       " ('fresh blackberry', 3),\n",
       " ('mandarin orange segment', 3),\n",
       " ('french-style ladyfinger cookies', 3),\n",
       " ('dark unsweetened cocoa', 3),\n",
       " ('day-old white bread', 3),\n",
       " ('reduced-fat oreo cookies', 3),\n",
       " ('dry milk', 3),\n",
       " ('fruit fresh', 3),\n",
       " ('dark raisin', 3),\n",
       " ('fat-free sour cream', 3),\n",
       " ('katakuriko', 3),\n",
       " ('refrigerated biscuit', 3),\n",
       " ('malted milk ball', 3),\n",
       " ('pomegranate juice', 3),\n",
       " ('seedless blackberry jam', 3),\n",
       " ('orange soda', 3),\n",
       " ('jelly powder', 3),\n",
       " ('canned cherry pie filling', 3),\n",
       " ('apricot nectar', 3),\n",
       " ('coriander seed', 3),\n",
       " ('semisweet chocolate piece', 3),\n",
       " ('jalapeno pepper', 3),\n",
       " ('truffle', 3),\n",
       " ('sourdough starter', 3),\n",
       " ('liquid egg substitute', 3),\n",
       " ('cookie cutter', 3),\n",
       " ('fresh basil', 3),\n",
       " ('hot fudge', 3),\n",
       " ('natural almond', 3),\n",
       " ('m&ms plain chocolate candy', 3),\n",
       " ('fat-free whipped topping', 3),\n",
       " ('corn', 3),\n",
       " ('irish whiskey', 3),\n",
       " ('ghee', 3),\n",
       " ('frozen rhubarb', 2),\n",
       " ('salted nut', 2),\n",
       " ('lemons, zest of', 2),\n",
       " ('blackstrap molasses', 2),\n",
       " ('pineapple preserve', 2),\n",
       " ('old-fashioned oatmeal', 2),\n",
       " ('tomato', 2),\n",
       " ('ginger snap', 2),\n",
       " ('caramel candy', 2),\n",
       " ('almond flavored liqueur', 2),\n",
       " ('tart green apple', 2),\n",
       " ('simple syrup', 2),\n",
       " ('mango juice', 2),\n",
       " ('flavoring', 2),\n",
       " ('whipped dessert topping mix', 2),\n",
       " ('amish starter', 2),\n",
       " ('monterey jack cheese', 2),\n",
       " ('chily', 2),\n",
       " ('cinnamon raisin bread', 2),\n",
       " ('persimmon pulp', 2),\n",
       " ('large marshmallow', 2),\n",
       " ('pitted prune', 2),\n",
       " ('cookie crumb', 2),\n",
       " ('sesame', 2),\n",
       " ('frozen unsweetened blackberry', 2),\n",
       " ('sweet baking chocolate', 2),\n",
       " ('lowfat chocolate milk', 2),\n",
       " ('challah', 2),\n",
       " ('banana syrup', 2),\n",
       " ('1 can crushed pineapple', 2),\n",
       " ('refrigerated pie dough', 2),\n",
       " ('espresso bean', 2),\n",
       " ('milk chocolate melt', 2),\n",
       " ('tart crust', 2),\n",
       " ('oleo', 2),\n",
       " ('german chocolate', 2),\n",
       " ('squash puree', 2),\n",
       " ('tequila', 2),\n",
       " ('mixed dried fruit', 2),\n",
       " ('white raisin', 2),\n",
       " ('gala apple', 2),\n",
       " ('natural bran', 2),\n",
       " ('miracle whip', 2),\n",
       " ('treacle', 2),\n",
       " ('sorghum', 2),\n",
       " ('green cardamom pod', 2),\n",
       " ('millet seed', 2),\n",
       " ('wheat gluten', 2),\n",
       " ('fresh corn', 2),\n",
       " ('sesame oil', 2),\n",
       " ('limoncello', 2),\n",
       " ('brewed tea', 2),\n",
       " ('dried blueberry', 2),\n",
       " ('cheesecloth', 2),\n",
       " ('distilled white vinegar', 2),\n",
       " ('pepitum', 2),\n",
       " ('chocolate extract', 2),\n",
       " ('kabocha squash', 2),\n",
       " ('white syrup', 2),\n",
       " ('light butter', 2),\n",
       " ('broken pretzel', 2),\n",
       " ('chocolate flavor instant pudding and pie filling mix', 2),\n",
       " ('butterscotch schnapp', 2),\n",
       " ('chocolate liqueur', 2),\n",
       " ('unsalted cashew', 2),\n",
       " ('candy orange slouse', 2),\n",
       " ('chocolate crumb crust', 2),\n",
       " ('tangerine zest', 2),\n",
       " ('heinz apple cider vinegar', 2),\n",
       " ('unsweetened flaked coconut', 2),\n",
       " ('liquor', 2),\n",
       " ('coffee creamer', 2),\n",
       " ('aluminum foil', 2),\n",
       " ('neufchatel cheese', 2),\n",
       " ('fudge sauce', 2),\n",
       " ('buttermilk biscuit', 2),\n",
       " ('black treacle', 2),\n",
       " ('cookie', 2),\n",
       " ('recipe cream filling', 2),\n",
       " ('fresh rosemary leaf', 2),\n",
       " ('rock salt', 2),\n",
       " ('low fat cottage cheese', 2),\n",
       " ('almond bark', 2),\n",
       " ('grape juice', 2),\n",
       " ('topping', 2),\n",
       " ('pastry crust', 2),\n",
       " ('lavender', 2),\n",
       " ('dried apple', 2),\n",
       " ('chocolate candy melt', 2),\n",
       " ('chocolate cookies', 2),\n",
       " ('coffee bean', 2),\n",
       " ('cider', 2),\n",
       " ('ginger ale', 2),\n",
       " ('raspberry preserve', 2),\n",
       " ('baby carrot', 2),\n",
       " ('wheat bran', 2),\n",
       " ('red seedless grape', 2),\n",
       " ('cranberry sauce', 2),\n",
       " ('sweet potato puree', 2),\n",
       " ('dry mustard', 2),\n",
       " ('baileys irish cream', 2),\n",
       " ('instant white chocolate pudding and pie filling mix', 2),\n",
       " ('2 tbsp. lemon juice safeway 4 ct for $5.00 thru 02/09', 2),\n",
       " ('coconut cookies', 2),\n",
       " ('creme de banane', 2),\n",
       " ('pineapple tidbit', 2),\n",
       " ('non-fat powdered milk', 2),\n",
       " ('red cherry', 2),\n",
       " ('bread mix', 2),\n",
       " ('almond biscottu', 2),\n",
       " ('butterscotch pudding', 2),\n",
       " ('microwave popcorn', 2),\n",
       " ('frozen bread dough', 2),\n",
       " ('tea bag', 2),\n",
       " ('persimmon', 2),\n",
       " ('muesli', 2),\n",
       " ('soy yogurt', 2),\n",
       " ('parmigiano-reggiano cheese', 2),\n",
       " ('fresh sage leaf', 2),\n",
       " ('dried lavender flower', 2),\n",
       " ('red delicious apple', 2),\n",
       " ('cooked rice', 2),\n",
       " ('pectin', 2),\n",
       " ('lemon flavoring', 2),\n",
       " ('low-fat butter', 2),\n",
       " ('light bread', 2),\n",
       " ('frozen non-dairy topping', 2),\n",
       " ('lemonade mix', 2),\n",
       " ('fat-free ricotta cheese', 2),\n",
       " ('sunflower seed butter', 2),\n",
       " ('sharp white cheddar cheese', 2),\n",
       " ('biscuit dough', 2),\n",
       " ('toasted wheat germ', 2),\n",
       " ('grapeseed oil', 2),\n",
       " ('fresh herb', 2),\n",
       " ('almond essence', 2),\n",
       " ('cauliflower', 2),\n",
       " ('cannoli shell', 2),\n",
       " ('honey roasted peanut', 2),\n",
       " ('pet milk', 2),\n",
       " ('cooked bacon', 2),\n",
       " ('rosemary', 2),\n",
       " ('espresso coffee', 2),\n",
       " ('1 cup, 2-23 teaspoons, 78 pinches whipping cream', 2),\n",
       " ('frozen apple juice concentrate', 2),\n",
       " ('cocoa butter', 2),\n",
       " ('fruit cocktail', 2),\n",
       " ('1 pack strawberry', 2),\n",
       " ('red chili pepper', 2),\n",
       " ('rose essence', 2),\n",
       " ('sage leaf', 2),\n",
       " ('sucanat', 2),\n",
       " ('fresh parmesan cheese', 2),\n",
       " ('blueberry pie filling', 2),\n",
       " ('apple juice concentrate', 2),\n",
       " ('frozen coconut', 2),\n",
       " ('malt drink powder', 2),\n",
       " ('godiva dark chocolate bar', 2),\n",
       " ('unsweetened coconut', 2),\n",
       " ('molasses cookies', 2),\n",
       " ('quick oatmeal', 2),\n",
       " ('frozen chopped spinach', 2),\n",
       " ('low-fat plain yogurt', 2),\n",
       " ('1 (8 ounce.) cold whip', 2),\n",
       " ('tart shell', 2),\n",
       " ('clove powder', 2),\n",
       " ('table cream', 2),\n",
       " ('raw peanut', 2),\n",
       " ('lavender flower', 2),\n",
       " ('kale', 2),\n",
       " ('brioche bread', 2),\n",
       " ('roasted pecan', 2),\n",
       " ('jelly', 2),\n",
       " ('amarettu', 2),\n",
       " ('digestive biscuit', 2),\n",
       " ('white pepper', 2),\n",
       " ('wooden stick', 2),\n",
       " ('green cherry', 2),\n",
       " ('rice bubble', 2),\n",
       " ('fresh cream', 2),\n",
       " ('hazelnut meal', 2),\n",
       " ('imported white chocolate', 2),\n",
       " ('hostess twinky', 2),\n",
       " ('bacardi dark rum', 2),\n",
       " ('real maple syrup', 2),\n",
       " ('nonfat sour cream', 2),\n",
       " ('real butter', 2),\n",
       " ('wine', 2),\n",
       " ('corn muffin mix', 2),\n",
       " ('kirsch liqueur', 2),\n",
       " ('chocolate pudding', 2),\n",
       " ('hot cocoa', 2),\n",
       " ('shortbread cookies', 2),\n",
       " ('whole pecan', 2),\n",
       " ('frozen yogurt', 2),\n",
       " ('instant chocolate drink mix', 2),\n",
       " ('waffle', 2),\n",
       " ('strawberry pie filling', 2),\n",
       " ('1 cup chopped, toasted pecan', 2),\n",
       " ('blackberry wine', 2),\n",
       " ('cookie dough', 2),\n",
       " ('kiwi', 2),\n",
       " ('tabasco sauce', 2),\n",
       " ('sour pitted cherry', 2),\n",
       " ('frozen fat-free whipped topping', 2),\n",
       " ('mexican chocolate', 2),\n",
       " ('marsala wine', 2),\n",
       " ('instant butterscotch pudding mix', 2),\n",
       " ('pretzel stick', 2),\n",
       " ('pistachio nut', 2),\n",
       " ('squash', 2),\n",
       " ('topping:', 2),\n",
       " ('low-fat ricotta cheese', 2),\n",
       " ('unsweetened dutch cocoa', 2),\n",
       " ('coffee-flavored liqueur', 2),\n",
       " ('whole berry cranberry sauce', 2),\n",
       " ('day-old french bread', 2),\n",
       " ('red potato', 2),\n",
       " ('bitter chocolate', 2),\n",
       " ('wattleseed', 2),\n",
       " ('thyme', 2),\n",
       " ('fresh mango', 2),\n",
       " ('pineapple chunks in juice', 2),\n",
       " ('chocolate pudding mix', 2),\n",
       " ('banana instant pudding', 2),\n",
       " ('macadamium', 2),\n",
       " ('unsweetened pineapple juice', 2),\n",
       " ('milk chocolate ki', 2),\n",
       " ('dry red wine', 2),\n",
       " ('meringue', 2),\n",
       " ('chocolate-flavored candy coating', 2),\n",
       " ('barley nugget cereal', 2),\n",
       " ('chocolate piece', 2),\n",
       " ('soda cracker', 2),\n",
       " ('gorgonzola', 2),\n",
       " ('green tea powder', 2),\n",
       " ('soft tofu', 2),\n",
       " ('lemon pie filling', 2),\n",
       " ('fruit sauce', 2),\n",
       " ('craisin', 2),\n",
       " ('fat-free cool whip', 2),\n",
       " ('gouda cheese', 2),\n",
       " ('chili powder', 2),\n",
       " ('lemon verbena leaf', 2),\n",
       " ('jalapeno', 2),\n",
       " ('instant lemon pudding mix', 2),\n",
       " ('miniature tart shell', 2),\n",
       " ('red apple', 2),\n",
       " ('lemon sorbet', 2),\n",
       " ('shortcrust pastry', 2),\n",
       " ('sweet cherry', 2),\n",
       " ('okara', 2),\n",
       " ('artificial sweetener', 2),\n",
       " ('hersheys chocolate syrup', 2),\n",
       " ('fresh basil leaf', 2),\n",
       " ('candied green cherry', 2),\n",
       " ('soy nut butter', 2),\n",
       " ('plum brandy', 2),\n",
       " ('dutch process cocoa', 2),\n",
       " ('pate', 2),\n",
       " ('fleur de sel', 2),\n",
       " ('unbaked 9-inch deep dish pie pastry', 2),\n",
       " ('banana extract', 2),\n",
       " ('ground coffee', 2),\n",
       " ('phyllo pastry sheet', 2),\n",
       " ('nutter butter sandwich cookies', 2),\n",
       " ('goats milk', 2),\n",
       " ('fresh edible flower', 2),\n",
       " ('butterscotch topping', 2),\n",
       " ('philadelphia neufchatel cheese', 2),\n",
       " ('red raspberry', 2),\n",
       " ('seedless raisin', 2),\n",
       " ('peach schnapp', 2),\n",
       " ('chocolate-covered raisin', 2),\n",
       " ('powdered drink mix', 2),\n",
       " ('southern comfort', 2),\n",
       " ('blueberry jam', 2),\n",
       " ('manioc starch', 2),\n",
       " ('black bean', 2),\n",
       " ('white sesame seed', 2),\n",
       " ('carnation evaporated milk', 2),\n",
       " ('rice paper', 2),\n",
       " ('raw zucchini', 1),\n",
       " ('1 box salted soda crackers (i use saltines)', 1),\n",
       " ('1 box certo pectin crystal', 1),\n",
       " ('lemons, juice of', 1),\n",
       " ('2 cups peeled, cooked, mashed sweet potatoes*', 1),\n",
       " ('2 can pillsbury grands homestyle refrigerated buttermilk biscuits (16.3 oz can)',\n",
       "  1),\n",
       " ('dark sweet cherry', 1),\n",
       " ('magic shell ice cream topping', 1),\n",
       " ('black cherry soda', 1),\n",
       " ('salt&fresh ground pepper', 1),\n",
       " ('reduced-fat creamy peanut butter', 1),\n",
       " ('(makes 2 cups)', 1),\n",
       " ('prune puree', 1),\n",
       " ...]"
      ]
     },
     "execution_count": 44,
     "metadata": {},
     "output_type": "execute_result"
    }
   ],
   "source": [
    "common"
   ]
  },
  {
   "cell_type": "code",
   "execution_count": 33,
   "metadata": {
    "ExecuteTime": {
     "end_time": "2019-07-23T19:45:30.646856Z",
     "start_time": "2019-07-23T19:45:30.435883Z"
    }
   },
   "outputs": [
    {
     "name": "stdout",
     "output_type": "stream",
     "text": [
      "found 1 recipes\n",
      "0\tChocolate Stuffed Shells\n"
     ]
    }
   ],
   "source": [
    "found_lists, found_ingredients = get_recipes_for_ingredients(['pasta'], dessert_ings,desserts)\n",
    "print('found {} recipes'.format(len(found_lists)))\n",
    "\n",
    "for item, rec in enumerate(found_lists):\n",
    "    print('{}\\t{}'.format(item, rec['title']))"
   ]
  },
  {
   "cell_type": "code",
   "execution_count": null,
   "metadata": {
    "ExecuteTime": {
     "end_time": "2019-07-23T14:59:38.509886Z",
     "start_time": "2019-07-23T14:59:38.500831Z"
    }
   },
   "outputs": [],
   "source": [
    "item = 0\n",
    "found_lists[item],found_ingredients[item]"
   ]
  },
  {
   "cell_type": "code",
   "execution_count": null,
   "metadata": {
    "ExecuteTime": {
     "end_time": "2019-07-22T18:11:29.544909Z",
     "start_time": "2019-07-22T18:11:29.530483Z"
    }
   },
   "outputs": [],
   "source": []
  },
  {
   "cell_type": "code",
   "execution_count": null,
   "metadata": {},
   "outputs": [],
   "source": []
  },
  {
   "cell_type": "code",
   "execution_count": null,
   "metadata": {},
   "outputs": [],
   "source": []
  },
  {
   "cell_type": "code",
   "execution_count": null,
   "metadata": {},
   "outputs": [],
   "source": []
  },
  {
   "cell_type": "code",
   "execution_count": null,
   "metadata": {
    "ExecuteTime": {
     "end_time": "2019-07-22T17:32:10.212346Z",
     "start_time": "2019-07-22T17:32:10.207223Z"
    }
   },
   "outputs": [],
   "source": [
    "test = 'onio'\n",
    "\n",
    "for ingr in found_ingredients[82]:\n",
    "    if re.match(test, ingr):\n",
    "        print('----> found a',test, ingr)\n",
    "    else:\n",
    "        print(ingr)"
   ]
  },
  {
   "cell_type": "code",
   "execution_count": null,
   "metadata": {},
   "outputs": [],
   "source": []
  },
  {
   "cell_type": "code",
   "execution_count": null,
   "metadata": {},
   "outputs": [],
   "source": []
  },
  {
   "cell_type": "code",
   "execution_count": null,
   "metadata": {
    "ExecuteTime": {
     "end_time": "2019-07-22T17:04:55.482482Z",
     "start_time": "2019-07-22T17:04:55.475854Z"
    }
   },
   "outputs": [],
   "source": [
    "test_ingredients = []\n",
    "for ingred in dessert_ings[2029]['ingredients']:\n",
    "    test_ingredients.append(ingred['text'])\n",
    "print(test_ingredients)"
   ]
  },
  {
   "cell_type": "code",
   "execution_count": null,
   "metadata": {
    "ExecuteTime": {
     "end_time": "2019-07-22T17:09:33.507515Z",
     "start_time": "2019-07-22T17:09:33.499371Z"
    }
   },
   "outputs": [],
   "source": [
    "food_pattern = 'flourish'\n",
    "# for ing in test_ingredients:\n",
    "m = re.search(food_pattern, 'vanilla and flour don')\n",
    "print(m)"
   ]
  },
  {
   "cell_type": "code",
   "execution_count": null,
   "metadata": {},
   "outputs": [],
   "source": []
  },
  {
   "cell_type": "code",
   "execution_count": null,
   "metadata": {
    "ExecuteTime": {
     "end_time": "2019-07-20T01:34:30.886166Z",
     "start_time": "2019-07-20T01:34:29.432078Z"
    }
   },
   "outputs": [],
   "source": [
    "import matplotlib.pyplot as plt\n",
    "%matplotlib inline\n",
    "\n",
    "fig = plt.figure(figsize=(12, 8))\n",
    "# plt.ylim(0,120)\n",
    "fdist.plot(50,cumulative=False)\n",
    "# plt.ylim(0,30)\n",
    "# plt.show()"
   ]
  },
  {
   "cell_type": "code",
   "execution_count": null,
   "metadata": {},
   "outputs": [],
   "source": []
  },
  {
   "cell_type": "code",
   "execution_count": null,
   "metadata": {
    "ExecuteTime": {
     "end_time": "2019-07-17T21:02:23.558223Z",
     "start_time": "2019-07-17T21:02:22.927034Z"
    }
   },
   "outputs": [],
   "source": [
    "import nltk\n",
    "from nltk.corpus import stopwords\n",
    "import string\n",
    "\n",
    "from nltk import word_tokenize, FreqDist\n",
    "from sklearn.feature_extraction.text import TfidfVectorizer\n",
    "from sklearn.metrics import accuracy_score\n",
    "from sklearn.ensemble import RandomForestClassifier\n",
    "from sklearn.naive_bayes import MultinomialNB\n",
    "import pandas as pd\n",
    "import numpy as np\n",
    "np.random.seed(23)"
   ]
  },
  {
   "cell_type": "code",
   "execution_count": null,
   "metadata": {
    "ExecuteTime": {
     "end_time": "2019-07-17T21:04:23.122367Z",
     "start_time": "2019-07-17T21:04:23.116451Z"
    }
   },
   "outputs": [],
   "source": [
    "stopwords_list  = stopwords.words('english')\n",
    "stopwords_list += list(string.punctuation)\n",
    "stopwords_list +="
   ]
  },
  {
   "cell_type": "code",
   "execution_count": null,
   "metadata": {
    "ExecuteTime": {
     "end_time": "2019-07-17T21:04:24.636738Z",
     "start_time": "2019-07-17T21:04:24.630522Z"
    }
   },
   "outputs": [],
   "source": [
    "stopwords_list[-20:]"
   ]
  },
  {
   "cell_type": "code",
   "execution_count": null,
   "metadata": {
    "ExecuteTime": {
     "end_time": "2019-07-23T16:37:58.138977Z",
     "start_time": "2019-07-23T16:37:58.134163Z"
    }
   },
   "outputs": [],
   "source": [
    "# import spacy"
   ]
  },
  {
   "cell_type": "code",
   "execution_count": null,
   "metadata": {
    "ExecuteTime": {
     "end_time": "2019-07-23T15:34:45.873441Z",
     "start_time": "2019-07-23T15:34:45.851429Z"
    }
   },
   "outputs": [],
   "source": []
  },
  {
   "cell_type": "code",
   "execution_count": null,
   "metadata": {
    "ExecuteTime": {
     "end_time": "2019-07-23T16:51:36.206140Z",
     "start_time": "2019-07-23T16:51:22.135493Z"
    }
   },
   "outputs": [],
   "source": [
    "# !python -m spacy download en"
   ]
  },
  {
   "cell_type": "code",
   "execution_count": null,
   "metadata": {
    "ExecuteTime": {
     "end_time": "2019-07-23T16:51:47.019184Z",
     "start_time": "2019-07-23T16:51:47.013248Z"
    }
   },
   "outputs": [],
   "source": [
    "import numpy as np\n",
    "import pandas as pd\n",
    "import seaborn as sns\n",
    "from keras.preprocessing.text import Tokenizer\n",
    "from keras.preprocessing.sequence import pad_sequences\n",
    "from keras.utils import to_categorical\n",
    "import matplotlib.pyplot as plt\n",
    "%matplotlib inline\n",
    "import spacy"
   ]
  },
  {
   "cell_type": "code",
   "execution_count": null,
   "metadata": {
    "ExecuteTime": {
     "end_time": "2019-07-23T16:51:48.881414Z",
     "start_time": "2019-07-23T16:51:48.703786Z"
    }
   },
   "outputs": [],
   "source": [
    "nlp = spacy.load('en')"
   ]
  },
  {
   "cell_type": "code",
   "execution_count": null,
   "metadata": {
    "ExecuteTime": {
     "end_time": "2019-07-23T16:57:56.039490Z",
     "start_time": "2019-07-23T16:57:56.032940Z"
    }
   },
   "outputs": [],
   "source": [
    "desserts[3204]['instructions']\n",
    "\n",
    "test_instructions = ''\n",
    "\n",
    "for instr in desserts[3204]['instructions']:\n",
    "    test_instructions += instr['text'] + ' '\n",
    "    \n",
    "print(test_instructions)"
   ]
  },
  {
   "cell_type": "code",
   "execution_count": null,
   "metadata": {
    "ExecuteTime": {
     "end_time": "2019-07-23T16:58:12.479164Z",
     "start_time": "2019-07-23T16:58:12.429649Z"
    }
   },
   "outputs": [],
   "source": [
    "parsed_text = nlp(test_instructions)"
   ]
  },
  {
   "cell_type": "code",
   "execution_count": null,
   "metadata": {
    "ExecuteTime": {
     "end_time": "2019-07-23T16:58:14.607322Z",
     "start_time": "2019-07-23T16:58:14.600954Z"
    }
   },
   "outputs": [],
   "source": [
    "parsed_text"
   ]
  },
  {
   "cell_type": "code",
   "execution_count": null,
   "metadata": {
    "ExecuteTime": {
     "end_time": "2019-07-23T16:59:31.238742Z",
     "start_time": "2019-07-23T16:59:31.202734Z"
    }
   },
   "outputs": [],
   "source": [
    "for num, entity in enumerate(nlp(test_instructions).ents):\n",
    "    print(num+1,'Entity: ',entity, entity.label_)"
   ]
  },
  {
   "cell_type": "code",
   "execution_count": null,
   "metadata": {
    "ExecuteTime": {
     "end_time": "2019-07-23T17:02:11.336427Z",
     "start_time": "2019-07-23T17:02:11.240253Z"
    }
   },
   "outputs": [],
   "source": [
    "token_pos = [token.pos for token in nlp(test_instructions)]\n",
    "tokens = [token for token in nlp(test_instructions)]\n",
    "sd = list(zip(tokens, token_pos))\n",
    "sd = pd.DataFrame(sd, columns=['token','pos'])\n",
    "sd.head()"
   ]
  },
  {
   "cell_type": "code",
   "execution_count": null,
   "metadata": {
    "ExecuteTime": {
     "end_time": "2019-07-23T17:02:24.492685Z",
     "start_time": "2019-07-23T17:02:24.478476Z"
    }
   },
   "outputs": [],
   "source": [
    "sd"
   ]
  },
  {
   "cell_type": "code",
   "execution_count": null,
   "metadata": {
    "ExecuteTime": {
     "end_time": "2019-07-23T17:03:56.299469Z",
     "start_time": "2019-07-23T17:03:56.296128Z"
    }
   },
   "outputs": [],
   "source": [
    "max_num_words = 1000\n",
    "max_seg_length = 100\n",
    "tokenizer = Tokenizer(num_words=max_num_words)"
   ]
  },
  {
   "cell_type": "code",
   "execution_count": null,
   "metadata": {},
   "outputs": [],
   "source": []
  }
 ],
 "metadata": {
  "kernelspec": {
   "display_name": "Python 3",
   "language": "python",
   "name": "python3"
  },
  "language_info": {
   "codemirror_mode": {
    "name": "ipython",
    "version": 3
   },
   "file_extension": ".py",
   "mimetype": "text/x-python",
   "name": "python",
   "nbconvert_exporter": "python",
   "pygments_lexer": "ipython3",
   "version": "3.7.3"
  },
  "latex_envs": {
   "LaTeX_envs_menu_present": true,
   "autoclose": false,
   "autocomplete": true,
   "bibliofile": "biblio.bib",
   "cite_by": "apalike",
   "current_citInitial": 1,
   "eqLabelWithNumbers": true,
   "eqNumInitial": 1,
   "hotkeys": {
    "equation": "Ctrl-E",
    "itemize": "Ctrl-I"
   },
   "labels_anchors": false,
   "latex_user_defs": false,
   "report_style_numbering": false,
   "user_envs_cfg": false
  },
  "toc": {
   "base_numbering": 1,
   "nav_menu": {},
   "number_sections": true,
   "sideBar": true,
   "skip_h1_title": false,
   "title_cell": "Table of Contents",
   "title_sidebar": "Contents",
   "toc_cell": false,
   "toc_position": {},
   "toc_section_display": true,
   "toc_window_display": false
  },
  "varInspector": {
   "cols": {
    "lenName": 16,
    "lenType": 16,
    "lenVar": 40
   },
   "kernels_config": {
    "python": {
     "delete_cmd_postfix": "",
     "delete_cmd_prefix": "del ",
     "library": "var_list.py",
     "varRefreshCmd": "print(var_dic_list())"
    },
    "r": {
     "delete_cmd_postfix": ") ",
     "delete_cmd_prefix": "rm(",
     "library": "var_list.r",
     "varRefreshCmd": "cat(var_dic_list()) "
    }
   },
   "types_to_exclude": [
    "module",
    "function",
    "builtin_function_or_method",
    "instance",
    "_Feature"
   ],
   "window_display": false
  }
 },
 "nbformat": 4,
 "nbformat_minor": 2
}
