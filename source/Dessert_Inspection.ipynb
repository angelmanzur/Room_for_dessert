{
 "cells": [
  {
   "cell_type": "code",
   "execution_count": 1,
   "metadata": {
    "ExecuteTime": {
     "end_time": "2019-07-23T02:25:17.368993Z",
     "start_time": "2019-07-23T02:25:14.776574Z"
    }
   },
   "outputs": [],
   "source": [
    "from extract_desserts import *\n",
    "from pattern.text.en import singularize\n",
    "from nltk import FreqDist\n",
    "import matplotlib.pyplot as plt\n",
    "import numpy as np\n",
    "np.random.seed(seed=2019)\n",
    "\n",
    "import gensim\n",
    "import logging\n",
    "logging.basicConfig(format='%(asctime)s : %(levelname)s : %(message)s',\n",
    "                    datefmt='%H:%M:%S',\n",
    "                   level=logging.INFO)\n",
    "\n",
    "from time import time\n",
    "import multiprocessing"
   ]
  },
  {
   "cell_type": "code",
   "execution_count": 2,
   "metadata": {
    "ExecuteTime": {
     "end_time": "2019-07-23T02:25:23.289666Z",
     "start_time": "2019-07-23T02:25:22.817299Z"
    }
   },
   "outputs": [
    {
     "name": "stdout",
     "output_type": "stream",
     "text": [
      "Loading file  ../data/sample_layer1.json\n",
      "Loading ingredient file: ../data/sample_det_ingrs.json\n"
     ]
    }
   ],
   "source": [
    "#load the raw data\n",
    "# lets use the default value that only loads 250 recipes,\n",
    "# instead of 1 million\n",
    "raw_data = get_raw_data()\n",
    "raw_ingredients = get_raw_ingredients()"
   ]
  },
  {
   "cell_type": "code",
   "execution_count": 3,
   "metadata": {
    "ExecuteTime": {
     "end_time": "2019-07-23T02:25:30.220327Z",
     "start_time": "2019-07-23T02:25:30.212737Z"
    }
   },
   "outputs": [
    {
     "name": "stdout",
     "output_type": "stream",
     "text": [
      "N recipes: 20000\t N list of ingredients: 20000\n"
     ]
    }
   ],
   "source": [
    "print('N recipes: {}\\t N list of ingredients: {}'.format(len(raw_data),\n",
    "      len(raw_ingredients)))\n"
   ]
  },
  {
   "cell_type": "code",
   "execution_count": 4,
   "metadata": {
    "ExecuteTime": {
     "end_time": "2019-07-23T02:25:43.119764Z",
     "start_time": "2019-07-23T02:25:37.091366Z"
    },
    "scrolled": false
   },
   "outputs": [
    {
     "name": "stdout",
     "output_type": "stream",
     "text": [
      "['fish', 'salmon', 'tuna', 'chicken', 'turkey', 'garlic', 'onion', 'lamb', 'sausage', 'shrimp', 'beef', 'taco', 'shallot', 'veal', 'pork', 'mincemeat', 'crab', 'filet', 'chipotle', 'panceta', 'asparagus', 'parsley', 'mushroom', 'sardines', 'olives']\n"
     ]
    }
   ],
   "source": [
    "## get a list of desserts only\n",
    "desserts, dessert_ings = find_desserts(raw_data, raw_ingredients)#,test_id='02916fd389')\n"
   ]
  },
  {
   "cell_type": "code",
   "execution_count": 5,
   "metadata": {
    "ExecuteTime": {
     "end_time": "2019-07-23T02:26:04.615636Z",
     "start_time": "2019-07-23T02:26:04.610373Z"
    }
   },
   "outputs": [
    {
     "name": "stdout",
     "output_type": "stream",
     "text": [
      "Will look at 4096 dessert recipes, out of 20000 (~20.5%)\n"
     ]
    }
   ],
   "source": [
    "total_recipes = len(raw_data)\n",
    "dessert_recipes = len(desserts)\n",
    "dessert_ingredients = len(dessert_ings)\n",
    "print('Will look at {} dessert recipes, out of {} (~{:1.1f}%)'.format(\n",
    "                            dessert_recipes, total_recipes,\n",
    "                            dessert_recipes/total_recipes*100))"
   ]
  },
  {
   "cell_type": "code",
   "execution_count": 106,
   "metadata": {
    "ExecuteTime": {
     "end_time": "2019-07-23T03:28:09.120331Z",
     "start_time": "2019-07-23T03:28:09.097870Z"
    }
   },
   "outputs": [],
   "source": [
    "def clean_dessert_ingredients(all_ingredients):\n",
    "    count =0\n",
    "    for item, ingredients_list in enumerate(all_ingredients):\n",
    "        to_remove = []\n",
    "        for ingr_item, ingredient in enumerate(ingredients_list['ingredients']):\n",
    "            tmp_ingredient = ingredient['text'].lower().replace(' - ','-')\n",
    "            tmp_ingredient = tmp_ingredient.replace(\"'\",'')\n",
    "#             tmp_ingredient = singularize(tmp_ingredient)\n",
    "            \n",
    "#             print(ingredient['text'].replace(' - ','-'))\n",
    "            if re.search('water', tmp_ingredient) and not re.search('watermelon',tmp_ingredient) and not re.search('rose water',tmp_ingredient):\n",
    "                to_remove.append(ingr_item)\n",
    "            \n",
    "            if re.search('vanilla extract', tmp_ingredient):\n",
    "                tmp_ingredient='vanilla extract'\n",
    "\n",
    "            elif re.search('purpose flour', tmp_ingredient) or re.search('cake flour',tmp_ingredient) or re.search('rising flour', tmp_ingredient):\n",
    "                tmp_ingredient = 'flour' \n",
    "            elif re.search('brown sugar', tmp_ingredient) or re.search('demerara sugar', tmp_ingredient):\n",
    "                tmp_ingredient = 'brown sugar'\n",
    "            elif re.search('powdered sugar', tmp_ingredient) or re.search('confectioners sugar',tmp_ingredient) :\n",
    "                tmp_ingredient ='powdered sugar'\n",
    "            if not re.search('flour', tmp_ingredient) and not re.search('molasses',tmp_ingredient):\n",
    "                tmp_ingredient = singularize(tmp_ingredient)\n",
    "\n",
    "\n",
    "            all_ingredients[item]['ingredients'][ingr_item]['text'] = tmp_ingredient\n",
    "            \n",
    "        if len(to_remove)>0:\n",
    "            \n",
    "            to_remove.sort(reverse=True)\n",
    "            \n",
    "                \n",
    "#             print(item,'to remove', to_remove)\n",
    "            for i in to_remove:\n",
    "#                 print('try to remove', all_ingredients[item]['ingredients'][i])\n",
    "                del all_ingredients[item]['ingredients'][i]\n",
    "#         for iremove in to_remove:\n",
    "#             del all_ingredients\n",
    "#         print('--------------------------')\n",
    "        if item%250==0:\n",
    "            logging.info(\"read {0} recipes\".format(item))\n",
    "    return all_ingredients\n",
    "\n",
    "def print_dessert_ingredients(all_ingredients):\n",
    "    count =0\n",
    "    for item, ingredients_list in enumerate(all_ingredients):\n",
    "        for ingr_item, ingredient in enumerate(ingredients_list['ingredients']):\n",
    "            \n",
    "            \n",
    "            print(ingredient['text'])\n",
    "        \n",
    "        print('--------------------------')\n",
    "        if item==50:\n",
    "            break\n",
    "    return all_ingredients"
   ]
  },
  {
   "cell_type": "code",
   "execution_count": 107,
   "metadata": {
    "ExecuteTime": {
     "end_time": "2019-07-23T03:28:20.566889Z",
     "start_time": "2019-07-23T03:28:18.651844Z"
    }
   },
   "outputs": [
    {
     "name": "stderr",
     "output_type": "stream",
     "text": [
      "23:28:18 : INFO : read 0 recipes\n",
      "23:28:18 : INFO : read 250 recipes\n",
      "23:28:18 : INFO : read 500 recipes\n",
      "23:28:19 : INFO : read 750 recipes\n",
      "23:28:19 : INFO : read 1000 recipes\n",
      "23:28:19 : INFO : read 1250 recipes\n",
      "23:28:19 : INFO : read 1500 recipes\n",
      "23:28:19 : INFO : read 1750 recipes\n",
      "23:28:19 : INFO : read 2000 recipes\n",
      "23:28:19 : INFO : read 2250 recipes\n",
      "23:28:19 : INFO : read 2500 recipes\n",
      "23:28:19 : INFO : read 2750 recipes\n",
      "23:28:20 : INFO : read 3000 recipes\n",
      "23:28:20 : INFO : read 3250 recipes\n",
      "23:28:20 : INFO : read 3500 recipes\n",
      "23:28:20 : INFO : read 3750 recipes\n",
      "23:28:20 : INFO : read 4000 recipes\n"
     ]
    }
   ],
   "source": [
    "clean_ingredients =  clean_dessert_ingredients(dessert_ings);\n",
    "# print_dessert_ingredients(clean_ingredients)\n",
    "# print(dessert_ings)\n"
   ]
  },
  {
   "cell_type": "code",
   "execution_count": 89,
   "metadata": {
    "ExecuteTime": {
     "end_time": "2019-07-23T03:21:16.105204Z",
     "start_time": "2019-07-23T03:21:16.098342Z"
    }
   },
   "outputs": [
    {
     "name": "stdout",
     "output_type": "stream",
     "text": [
      "9\n",
      "2\n",
      "1\n",
      "[9, 2, 1]\n"
     ]
    }
   ],
   "source": [
    "to_remove = [1, 9, 2]\n",
    "to_remove.sort(reverse=True)\n",
    "for i in to_remove:\n",
    "    print(i)\n",
    "to_remove.sort(reverse=True)\n",
    "print(to_remove)"
   ]
  },
  {
   "cell_type": "code",
   "execution_count": 46,
   "metadata": {
    "ExecuteTime": {
     "end_time": "2019-07-23T02:57:48.139853Z",
     "start_time": "2019-07-23T02:57:48.133672Z"
    },
    "collapsed": true
   },
   "outputs": [
    {
     "data": {
      "text/plain": [
       "{'valid': [False,\n",
       "  True,\n",
       "  True,\n",
       "  True,\n",
       "  True,\n",
       "  True,\n",
       "  True,\n",
       "  True,\n",
       "  True,\n",
       "  True,\n",
       "  True,\n",
       "  True,\n",
       "  True,\n",
       "  True,\n",
       "  True,\n",
       "  True,\n",
       "  True,\n",
       "  True,\n",
       "  True],\n",
       " 'id': '0271c03778',\n",
       " 'ingredients': [{'text': '2 packages yeast, 0.25 ounce packages, dissolved in the below amount of cup lukewarm water'},\n",
       "  {'text': 'water'},\n",
       "  {'text': 'sugar'},\n",
       "  {'text': 'shortening'},\n",
       "  {'text': 'salt'},\n",
       "  {'text': 'hot water'},\n",
       "  {'text': 'flour'},\n",
       "  {'text': 'egg'},\n",
       "  {'text': 'yellow cake mix'},\n",
       "  {'text': 'butter'},\n",
       "  {'text': 'brown sugar'},\n",
       "  {'text': 'yellow cake mix'},\n",
       "  {'text': 'cinnamon'},\n",
       "  {'text': 'candy sprinkle'},\n",
       "  {'text': 'butter'},\n",
       "  {'text': 'yellow cake mix'},\n",
       "  {'text': 'vanilla extract'},\n",
       "  {'text': 'powdered sugar'},\n",
       "  {'text': 'milk'}]}"
      ]
     },
     "execution_count": 46,
     "metadata": {},
     "output_type": "execute_result"
    }
   ],
   "source": [
    "dessert_ings[1288];\n",
    "clean_ingredients[2038]"
   ]
  },
  {
   "cell_type": "code",
   "execution_count": 6,
   "metadata": {
    "ExecuteTime": {
     "end_time": "2019-07-23T01:37:58.065716Z",
     "start_time": "2019-07-23T01:37:58.061174Z"
    }
   },
   "outputs": [],
   "source": [
    "# item = np.random.randint(dessert_recipes)\n",
    "# print(item, dessert_ings[item]['valid'])\n",
    "# dessert_ings[item]['ingredients']"
   ]
  },
  {
   "cell_type": "code",
   "execution_count": 10,
   "metadata": {
    "ExecuteTime": {
     "end_time": "2019-07-22T18:55:07.334131Z",
     "start_time": "2019-07-22T18:55:07.328603Z"
    }
   },
   "outputs": [
    {
     "name": "stdout",
     "output_type": "stream",
     "text": [
      "None\n",
      "<re.Match object; span=(7, 12), match='onion'>\n"
     ]
    }
   ],
   "source": [
    "m = re.match('onion', 'yellow onions' )\n",
    "print(m)\n",
    "\n",
    "m = re.search('onion', 'yellow onions' )\n",
    "print(m)"
   ]
  },
  {
   "cell_type": "code",
   "execution_count": null,
   "metadata": {},
   "outputs": [],
   "source": []
  },
  {
   "cell_type": "code",
   "execution_count": null,
   "metadata": {},
   "outputs": [],
   "source": []
  },
  {
   "cell_type": "markdown",
   "metadata": {},
   "source": [
    "# Let's look at the unique words"
   ]
  },
  {
   "cell_type": "code",
   "execution_count": 6,
   "metadata": {
    "ExecuteTime": {
     "end_time": "2019-07-23T01:04:21.327056Z",
     "start_time": "2019-07-23T01:04:21.321657Z"
    }
   },
   "outputs": [],
   "source": [
    "spices =['sugar','salt','water','baking soda','baking powder','flour', 'vegetable oil',\n",
    "        'olive oil', 'cornstarch','nutmeg','white sugar','powdered sugar', 'brown sugar',\n",
    "        'margarine','oil','shortening','kosher salt',\"confectioners' sugar\",'icing sugar',\n",
    "        'canola oil','pepper' ,'low - fat milk','light corn syrup','cooking spray', \n",
    "         'corn syrup','vegetable shortening']"
   ]
  },
  {
   "cell_type": "code",
   "execution_count": null,
   "metadata": {},
   "outputs": [],
   "source": []
  },
  {
   "cell_type": "code",
   "execution_count": 9,
   "metadata": {
    "ExecuteTime": {
     "end_time": "2019-07-22T15:23:54.080375Z",
     "start_time": "2019-07-22T15:23:54.073474Z"
    }
   },
   "outputs": [
    {
     "data": {
      "text/plain": [
       "(4659, 5)"
      ]
     },
     "execution_count": 9,
     "metadata": {},
     "output_type": "execute_result"
    }
   ],
   "source": [
    "item=0\n",
    "len(dessert_ings),len(dessert_ings[item]['ingredients'])"
   ]
  },
  {
   "cell_type": "markdown",
   "metadata": {
    "heading_collapsed": true
   },
   "source": [
    "## Lets create a list of ingredients\n",
    "And we will us it as an input to word2Vec"
   ]
  },
  {
   "cell_type": "code",
   "execution_count": 30,
   "metadata": {
    "ExecuteTime": {
     "end_time": "2019-07-23T02:02:30.481537Z",
     "start_time": "2019-07-23T02:02:30.457852Z"
    },
    "hidden": true
   },
   "outputs": [
    {
     "name": "stderr",
     "output_type": "stream",
     "text": [
      "22:02:30 : INFO : read 500 ingredients\n",
      "22:02:30 : INFO : read 1000 ingredients\n",
      "22:02:30 : INFO : read 1500 ingredients\n",
      "22:02:30 : INFO : read 2000 ingredients\n",
      "22:02:30 : INFO : read 2500 ingredients\n",
      "22:02:30 : INFO : read 3000 ingredients\n",
      "22:02:30 : INFO : read 3500 ingredients\n",
      "22:02:30 : INFO : read 4000 ingredients\n"
     ]
    }
   ],
   "source": [
    "all_dingredients = []\n",
    "count =0\n",
    "for drecipe in dessert_ings:\n",
    "    ings =[]\n",
    "    for entry in drecipe['ingredients']:\n",
    "        ings.append(entry['text'])\n",
    "    all_dingredients.append(ings)\n",
    "    count += 1\n",
    "    if count%500==0:\n",
    "        logging.info(\"read {0} ingredients\".format(count))\n",
    "\n",
    "#         break;\n",
    "\n",
    "# print(all_dingredients)"
   ]
  },
  {
   "cell_type": "code",
   "execution_count": null,
   "metadata": {
    "ExecuteTime": {
     "end_time": "2019-07-20T01:55:50.008878Z",
     "start_time": "2019-07-20T01:55:50.001715Z"
    },
    "hidden": true
   },
   "outputs": [],
   "source": []
  },
  {
   "cell_type": "markdown",
   "metadata": {
    "ExecuteTime": {
     "end_time": "2019-07-20T01:57:00.922754Z",
     "start_time": "2019-07-20T01:57:00.914197Z"
    },
    "heading_collapsed": true
   },
   "source": [
    "## Create a Word2Vec model training on the ingredients. \n"
   ]
  },
  {
   "cell_type": "code",
   "execution_count": 7,
   "metadata": {
    "ExecuteTime": {
     "end_time": "2019-07-23T01:15:35.482131Z",
     "start_time": "2019-07-23T01:15:35.477456Z"
    },
    "hidden": true
   },
   "outputs": [],
   "source": [
    "vec_size = 100;\n",
    "model = gensim.models.Word2Vec(\n",
    "   # all_dingredients,\n",
    "    size=vec_size,\n",
    "    window=5,\n",
    "    min_count=20,\n",
    "    workers=10,\n",
    "    alpha=0.02,\n",
    "    iter=10,\n",
    "    sg=1)"
   ]
  },
  {
   "cell_type": "code",
   "execution_count": null,
   "metadata": {
    "ExecuteTime": {
     "end_time": "2019-07-20T17:34:59.326117Z",
     "start_time": "2019-07-20T17:34:59.307677Z"
    },
    "hidden": true,
    "scrolled": true
   },
   "outputs": [],
   "source": []
  },
  {
   "cell_type": "code",
   "execution_count": null,
   "metadata": {
    "ExecuteTime": {
     "end_time": "2019-07-20T17:25:48.234292Z",
     "start_time": "2019-07-20T17:25:48.224787Z"
    },
    "hidden": true
   },
   "outputs": [],
   "source": []
  },
  {
   "cell_type": "code",
   "execution_count": 8,
   "metadata": {
    "ExecuteTime": {
     "end_time": "2019-07-23T01:15:40.367135Z",
     "start_time": "2019-07-23T01:15:40.169764Z"
    },
    "hidden": true
   },
   "outputs": [
    {
     "name": "stderr",
     "output_type": "stream",
     "text": [
      "21:15:40 : INFO : collecting all words and their counts\n",
      "21:15:40 : INFO : PROGRESS: at sentence #0, processed 0 words, keeping 0 word types\n",
      "21:15:40 : INFO : PROGRESS: at sentence #1000, processed 8960 words, keeping 1387 word types\n",
      "21:15:40 : INFO : PROGRESS: at sentence #2000, processed 17990 words, keeping 2029 word types\n",
      "21:15:40 : INFO : PROGRESS: at sentence #3000, processed 26711 words, keeping 2570 word types\n",
      "21:15:40 : INFO : PROGRESS: at sentence #4000, processed 35887 words, keeping 3059 word types\n",
      "21:15:40 : INFO : collected 3118 word types from a corpus of 37105 raw words and 4132 sentences\n",
      "21:15:40 : INFO : Loading a fresh vocabulary\n",
      "21:15:40 : INFO : min_count=20 retains 214 unique words (6% of original 3118, drops 2904)\n",
      "21:15:40 : INFO : min_count=20 leaves 29459 word corpus (79% of original 37105, drops 7646)\n",
      "21:15:40 : INFO : deleting the raw counts dictionary of 3118 items\n",
      "21:15:40 : INFO : sample=0.001 downsamples 71 most-common words\n",
      "21:15:40 : INFO : downsampling leaves estimated 13650 word corpus (46.3% of prior 29459)\n",
      "21:15:40 : INFO : estimated required memory for 214 words and 100 dimensions: 278200 bytes\n",
      "21:15:40 : INFO : resetting layer weights\n"
     ]
    }
   ],
   "source": [
    "t = time()\n",
    "model.build_vocab(all_dingredients, progress_per=1000)"
   ]
  },
  {
   "cell_type": "code",
   "execution_count": 9,
   "metadata": {
    "ExecuteTime": {
     "end_time": "2019-07-23T01:15:45.939118Z",
     "start_time": "2019-07-23T01:15:45.093389Z"
    },
    "hidden": true
   },
   "outputs": [
    {
     "name": "stderr",
     "output_type": "stream",
     "text": [
      "21:15:45 : INFO : training model with 10 workers on 214 vocabulary and 100 features, using sg=1 hs=0 sample=0.001 negative=5 window=5\n",
      "21:15:45 : INFO : worker thread finished; awaiting finish of 9 more threads\n",
      "21:15:45 : INFO : worker thread finished; awaiting finish of 8 more threads\n",
      "21:15:45 : INFO : worker thread finished; awaiting finish of 7 more threads\n",
      "21:15:45 : INFO : worker thread finished; awaiting finish of 6 more threads\n",
      "21:15:45 : INFO : worker thread finished; awaiting finish of 5 more threads\n",
      "21:15:45 : INFO : worker thread finished; awaiting finish of 4 more threads\n",
      "21:15:45 : INFO : worker thread finished; awaiting finish of 3 more threads\n",
      "21:15:45 : INFO : worker thread finished; awaiting finish of 2 more threads\n",
      "21:15:45 : INFO : worker thread finished; awaiting finish of 1 more threads\n",
      "21:15:45 : INFO : worker thread finished; awaiting finish of 0 more threads\n",
      "21:15:45 : INFO : EPOCH - 1 : training on 37105 raw words (13515 effective words) took 0.0s, 428688 effective words/s\n",
      "21:15:45 : INFO : worker thread finished; awaiting finish of 9 more threads\n",
      "21:15:45 : INFO : worker thread finished; awaiting finish of 8 more threads\n",
      "21:15:45 : INFO : worker thread finished; awaiting finish of 7 more threads\n",
      "21:15:45 : INFO : worker thread finished; awaiting finish of 6 more threads\n",
      "21:15:45 : INFO : worker thread finished; awaiting finish of 5 more threads\n",
      "21:15:45 : INFO : worker thread finished; awaiting finish of 4 more threads\n",
      "21:15:45 : INFO : worker thread finished; awaiting finish of 3 more threads\n",
      "21:15:45 : INFO : worker thread finished; awaiting finish of 2 more threads\n",
      "21:15:45 : INFO : worker thread finished; awaiting finish of 1 more threads\n",
      "21:15:45 : INFO : worker thread finished; awaiting finish of 0 more threads\n",
      "21:15:45 : INFO : EPOCH - 2 : training on 37105 raw words (13639 effective words) took 0.1s, 265837 effective words/s\n",
      "21:15:45 : INFO : worker thread finished; awaiting finish of 9 more threads\n",
      "21:15:45 : INFO : worker thread finished; awaiting finish of 8 more threads\n",
      "21:15:45 : INFO : worker thread finished; awaiting finish of 7 more threads\n",
      "21:15:45 : INFO : worker thread finished; awaiting finish of 6 more threads\n",
      "21:15:45 : INFO : worker thread finished; awaiting finish of 5 more threads\n",
      "21:15:45 : INFO : worker thread finished; awaiting finish of 4 more threads\n",
      "21:15:45 : INFO : worker thread finished; awaiting finish of 3 more threads\n",
      "21:15:45 : INFO : worker thread finished; awaiting finish of 2 more threads\n",
      "21:15:45 : INFO : worker thread finished; awaiting finish of 1 more threads\n",
      "21:15:45 : INFO : worker thread finished; awaiting finish of 0 more threads\n",
      "21:15:45 : INFO : EPOCH - 3 : training on 37105 raw words (13843 effective words) took 0.0s, 386825 effective words/s\n",
      "21:15:45 : INFO : worker thread finished; awaiting finish of 9 more threads\n",
      "21:15:45 : INFO : worker thread finished; awaiting finish of 8 more threads\n",
      "21:15:45 : INFO : worker thread finished; awaiting finish of 7 more threads\n",
      "21:15:45 : INFO : worker thread finished; awaiting finish of 6 more threads\n",
      "21:15:45 : INFO : worker thread finished; awaiting finish of 5 more threads\n",
      "21:15:45 : INFO : worker thread finished; awaiting finish of 4 more threads\n",
      "21:15:45 : INFO : worker thread finished; awaiting finish of 3 more threads\n",
      "21:15:45 : INFO : worker thread finished; awaiting finish of 2 more threads\n",
      "21:15:45 : INFO : worker thread finished; awaiting finish of 1 more threads\n",
      "21:15:45 : INFO : worker thread finished; awaiting finish of 0 more threads\n",
      "21:15:45 : INFO : EPOCH - 4 : training on 37105 raw words (13672 effective words) took 0.0s, 291418 effective words/s\n",
      "21:15:45 : INFO : worker thread finished; awaiting finish of 9 more threads\n",
      "21:15:45 : INFO : worker thread finished; awaiting finish of 8 more threads\n",
      "21:15:45 : INFO : worker thread finished; awaiting finish of 7 more threads\n",
      "21:15:45 : INFO : worker thread finished; awaiting finish of 6 more threads\n",
      "21:15:45 : INFO : worker thread finished; awaiting finish of 5 more threads\n",
      "21:15:45 : INFO : worker thread finished; awaiting finish of 4 more threads\n",
      "21:15:45 : INFO : worker thread finished; awaiting finish of 3 more threads\n",
      "21:15:45 : INFO : worker thread finished; awaiting finish of 2 more threads\n",
      "21:15:45 : INFO : worker thread finished; awaiting finish of 1 more threads\n",
      "21:15:45 : INFO : worker thread finished; awaiting finish of 0 more threads\n",
      "21:15:45 : INFO : EPOCH - 5 : training on 37105 raw words (13600 effective words) took 0.0s, 357079 effective words/s\n",
      "21:15:45 : INFO : worker thread finished; awaiting finish of 9 more threads\n",
      "21:15:45 : INFO : worker thread finished; awaiting finish of 8 more threads\n",
      "21:15:45 : INFO : worker thread finished; awaiting finish of 7 more threads\n",
      "21:15:45 : INFO : worker thread finished; awaiting finish of 6 more threads\n",
      "21:15:45 : INFO : worker thread finished; awaiting finish of 5 more threads\n",
      "21:15:45 : INFO : worker thread finished; awaiting finish of 4 more threads\n",
      "21:15:45 : INFO : worker thread finished; awaiting finish of 3 more threads\n",
      "21:15:45 : INFO : worker thread finished; awaiting finish of 2 more threads\n",
      "21:15:45 : INFO : worker thread finished; awaiting finish of 1 more threads\n",
      "21:15:45 : INFO : worker thread finished; awaiting finish of 0 more threads\n",
      "21:15:45 : INFO : EPOCH - 6 : training on 37105 raw words (13693 effective words) took 0.0s, 600626 effective words/s\n",
      "21:15:45 : INFO : worker thread finished; awaiting finish of 9 more threads\n",
      "21:15:45 : INFO : worker thread finished; awaiting finish of 8 more threads\n",
      "21:15:45 : INFO : worker thread finished; awaiting finish of 7 more threads\n",
      "21:15:45 : INFO : worker thread finished; awaiting finish of 6 more threads\n",
      "21:15:45 : INFO : worker thread finished; awaiting finish of 5 more threads\n",
      "21:15:45 : INFO : worker thread finished; awaiting finish of 4 more threads\n",
      "21:15:45 : INFO : worker thread finished; awaiting finish of 3 more threads\n",
      "21:15:45 : INFO : worker thread finished; awaiting finish of 2 more threads\n",
      "21:15:45 : INFO : worker thread finished; awaiting finish of 1 more threads\n",
      "21:15:45 : INFO : worker thread finished; awaiting finish of 0 more threads\n",
      "21:15:45 : INFO : EPOCH - 7 : training on 37105 raw words (13652 effective words) took 0.0s, 502070 effective words/s\n",
      "21:15:45 : INFO : worker thread finished; awaiting finish of 9 more threads\n",
      "21:15:45 : INFO : worker thread finished; awaiting finish of 8 more threads\n",
      "21:15:45 : INFO : worker thread finished; awaiting finish of 7 more threads\n",
      "21:15:45 : INFO : worker thread finished; awaiting finish of 6 more threads\n",
      "21:15:45 : INFO : worker thread finished; awaiting finish of 5 more threads\n",
      "21:15:45 : INFO : worker thread finished; awaiting finish of 4 more threads\n",
      "21:15:45 : INFO : worker thread finished; awaiting finish of 3 more threads\n",
      "21:15:45 : INFO : worker thread finished; awaiting finish of 2 more threads\n",
      "21:15:45 : INFO : worker thread finished; awaiting finish of 1 more threads\n",
      "21:15:45 : INFO : worker thread finished; awaiting finish of 0 more threads\n",
      "21:15:45 : INFO : EPOCH - 8 : training on 37105 raw words (13613 effective words) took 0.0s, 688732 effective words/s\n",
      "21:15:45 : INFO : worker thread finished; awaiting finish of 9 more threads\n",
      "21:15:45 : INFO : worker thread finished; awaiting finish of 8 more threads\n",
      "21:15:45 : INFO : worker thread finished; awaiting finish of 7 more threads\n",
      "21:15:45 : INFO : worker thread finished; awaiting finish of 6 more threads\n",
      "21:15:45 : INFO : worker thread finished; awaiting finish of 5 more threads\n",
      "21:15:45 : INFO : worker thread finished; awaiting finish of 4 more threads\n",
      "21:15:45 : INFO : worker thread finished; awaiting finish of 3 more threads\n",
      "21:15:45 : INFO : worker thread finished; awaiting finish of 2 more threads\n",
      "21:15:45 : INFO : worker thread finished; awaiting finish of 1 more threads\n",
      "21:15:45 : INFO : worker thread finished; awaiting finish of 0 more threads\n",
      "21:15:45 : INFO : EPOCH - 9 : training on 37105 raw words (13635 effective words) took 0.0s, 572941 effective words/s\n",
      "21:15:45 : INFO : worker thread finished; awaiting finish of 9 more threads\n",
      "21:15:45 : INFO : worker thread finished; awaiting finish of 8 more threads\n",
      "21:15:45 : INFO : worker thread finished; awaiting finish of 7 more threads\n"
     ]
    },
    {
     "name": "stderr",
     "output_type": "stream",
     "text": [
      "21:15:45 : INFO : worker thread finished; awaiting finish of 6 more threads\n",
      "21:15:45 : INFO : worker thread finished; awaiting finish of 5 more threads\n",
      "21:15:45 : INFO : worker thread finished; awaiting finish of 4 more threads\n",
      "21:15:45 : INFO : worker thread finished; awaiting finish of 3 more threads\n",
      "21:15:45 : INFO : worker thread finished; awaiting finish of 2 more threads\n",
      "21:15:45 : INFO : worker thread finished; awaiting finish of 1 more threads\n",
      "21:15:45 : INFO : worker thread finished; awaiting finish of 0 more threads\n",
      "21:15:45 : INFO : EPOCH - 10 : training on 37105 raw words (13730 effective words) took 0.0s, 652820 effective words/s\n",
      "21:15:45 : INFO : worker thread finished; awaiting finish of 9 more threads\n",
      "21:15:45 : INFO : worker thread finished; awaiting finish of 8 more threads\n",
      "21:15:45 : INFO : worker thread finished; awaiting finish of 7 more threads\n",
      "21:15:45 : INFO : worker thread finished; awaiting finish of 6 more threads\n",
      "21:15:45 : INFO : worker thread finished; awaiting finish of 5 more threads\n",
      "21:15:45 : INFO : worker thread finished; awaiting finish of 4 more threads\n",
      "21:15:45 : INFO : worker thread finished; awaiting finish of 3 more threads\n",
      "21:15:45 : INFO : worker thread finished; awaiting finish of 2 more threads\n",
      "21:15:45 : INFO : worker thread finished; awaiting finish of 1 more threads\n",
      "21:15:45 : INFO : worker thread finished; awaiting finish of 0 more threads\n",
      "21:15:45 : INFO : EPOCH - 11 : training on 37105 raw words (13702 effective words) took 0.0s, 547979 effective words/s\n",
      "21:15:45 : INFO : worker thread finished; awaiting finish of 9 more threads\n",
      "21:15:45 : INFO : worker thread finished; awaiting finish of 8 more threads\n",
      "21:15:45 : INFO : worker thread finished; awaiting finish of 7 more threads\n",
      "21:15:45 : INFO : worker thread finished; awaiting finish of 6 more threads\n",
      "21:15:45 : INFO : worker thread finished; awaiting finish of 5 more threads\n",
      "21:15:45 : INFO : worker thread finished; awaiting finish of 4 more threads\n",
      "21:15:45 : INFO : worker thread finished; awaiting finish of 3 more threads\n",
      "21:15:45 : INFO : worker thread finished; awaiting finish of 2 more threads\n",
      "21:15:45 : INFO : worker thread finished; awaiting finish of 1 more threads\n",
      "21:15:45 : INFO : worker thread finished; awaiting finish of 0 more threads\n",
      "21:15:45 : INFO : EPOCH - 12 : training on 37105 raw words (13621 effective words) took 0.0s, 409310 effective words/s\n",
      "21:15:45 : INFO : worker thread finished; awaiting finish of 9 more threads\n",
      "21:15:45 : INFO : worker thread finished; awaiting finish of 8 more threads\n",
      "21:15:45 : INFO : worker thread finished; awaiting finish of 7 more threads\n",
      "21:15:45 : INFO : worker thread finished; awaiting finish of 6 more threads\n",
      "21:15:45 : INFO : worker thread finished; awaiting finish of 5 more threads\n",
      "21:15:45 : INFO : worker thread finished; awaiting finish of 4 more threads\n",
      "21:15:45 : INFO : worker thread finished; awaiting finish of 3 more threads\n",
      "21:15:45 : INFO : worker thread finished; awaiting finish of 2 more threads\n",
      "21:15:45 : INFO : worker thread finished; awaiting finish of 1 more threads\n",
      "21:15:45 : INFO : worker thread finished; awaiting finish of 0 more threads\n",
      "21:15:45 : INFO : EPOCH - 13 : training on 37105 raw words (13680 effective words) took 0.0s, 490920 effective words/s\n",
      "21:15:45 : INFO : worker thread finished; awaiting finish of 9 more threads\n",
      "21:15:45 : INFO : worker thread finished; awaiting finish of 8 more threads\n",
      "21:15:45 : INFO : worker thread finished; awaiting finish of 7 more threads\n",
      "21:15:45 : INFO : worker thread finished; awaiting finish of 6 more threads\n",
      "21:15:45 : INFO : worker thread finished; awaiting finish of 5 more threads\n",
      "21:15:45 : INFO : worker thread finished; awaiting finish of 4 more threads\n",
      "21:15:45 : INFO : worker thread finished; awaiting finish of 3 more threads\n",
      "21:15:45 : INFO : worker thread finished; awaiting finish of 2 more threads\n",
      "21:15:45 : INFO : worker thread finished; awaiting finish of 1 more threads\n",
      "21:15:45 : INFO : worker thread finished; awaiting finish of 0 more threads\n",
      "21:15:45 : INFO : EPOCH - 14 : training on 37105 raw words (13675 effective words) took 0.0s, 544103 effective words/s\n",
      "21:15:45 : INFO : worker thread finished; awaiting finish of 9 more threads\n",
      "21:15:45 : INFO : worker thread finished; awaiting finish of 8 more threads\n",
      "21:15:45 : INFO : worker thread finished; awaiting finish of 7 more threads\n",
      "21:15:45 : INFO : worker thread finished; awaiting finish of 6 more threads\n",
      "21:15:45 : INFO : worker thread finished; awaiting finish of 5 more threads\n",
      "21:15:45 : INFO : worker thread finished; awaiting finish of 4 more threads\n",
      "21:15:45 : INFO : worker thread finished; awaiting finish of 3 more threads\n",
      "21:15:45 : INFO : worker thread finished; awaiting finish of 2 more threads\n",
      "21:15:45 : INFO : worker thread finished; awaiting finish of 1 more threads\n",
      "21:15:45 : INFO : worker thread finished; awaiting finish of 0 more threads\n",
      "21:15:45 : INFO : EPOCH - 15 : training on 37105 raw words (13626 effective words) took 0.0s, 487082 effective words/s\n",
      "21:15:45 : INFO : worker thread finished; awaiting finish of 9 more threads\n",
      "21:15:45 : INFO : worker thread finished; awaiting finish of 8 more threads\n",
      "21:15:45 : INFO : worker thread finished; awaiting finish of 7 more threads\n",
      "21:15:45 : INFO : worker thread finished; awaiting finish of 6 more threads\n",
      "21:15:45 : INFO : worker thread finished; awaiting finish of 5 more threads\n",
      "21:15:45 : INFO : worker thread finished; awaiting finish of 4 more threads\n",
      "21:15:45 : INFO : worker thread finished; awaiting finish of 3 more threads\n",
      "21:15:45 : INFO : worker thread finished; awaiting finish of 2 more threads\n",
      "21:15:45 : INFO : worker thread finished; awaiting finish of 1 more threads\n",
      "21:15:45 : INFO : worker thread finished; awaiting finish of 0 more threads\n",
      "21:15:45 : INFO : EPOCH - 16 : training on 37105 raw words (13632 effective words) took 0.0s, 442738 effective words/s\n",
      "21:15:45 : INFO : worker thread finished; awaiting finish of 9 more threads\n",
      "21:15:45 : INFO : worker thread finished; awaiting finish of 8 more threads\n",
      "21:15:45 : INFO : worker thread finished; awaiting finish of 7 more threads\n",
      "21:15:45 : INFO : worker thread finished; awaiting finish of 6 more threads\n",
      "21:15:45 : INFO : worker thread finished; awaiting finish of 5 more threads\n",
      "21:15:45 : INFO : worker thread finished; awaiting finish of 4 more threads\n",
      "21:15:45 : INFO : worker thread finished; awaiting finish of 3 more threads\n",
      "21:15:45 : INFO : worker thread finished; awaiting finish of 2 more threads\n",
      "21:15:45 : INFO : worker thread finished; awaiting finish of 1 more threads\n",
      "21:15:45 : INFO : worker thread finished; awaiting finish of 0 more threads\n",
      "21:15:45 : INFO : EPOCH - 17 : training on 37105 raw words (13617 effective words) took 0.0s, 511746 effective words/s\n",
      "21:15:45 : INFO : worker thread finished; awaiting finish of 9 more threads\n",
      "21:15:45 : INFO : worker thread finished; awaiting finish of 8 more threads\n",
      "21:15:45 : INFO : worker thread finished; awaiting finish of 7 more threads\n",
      "21:15:45 : INFO : worker thread finished; awaiting finish of 6 more threads\n",
      "21:15:45 : INFO : worker thread finished; awaiting finish of 5 more threads\n",
      "21:15:45 : INFO : worker thread finished; awaiting finish of 4 more threads\n",
      "21:15:45 : INFO : worker thread finished; awaiting finish of 3 more threads\n",
      "21:15:45 : INFO : worker thread finished; awaiting finish of 2 more threads\n",
      "21:15:45 : INFO : worker thread finished; awaiting finish of 1 more threads\n",
      "21:15:45 : INFO : worker thread finished; awaiting finish of 0 more threads\n",
      "21:15:45 : INFO : EPOCH - 18 : training on 37105 raw words (13684 effective words) took 0.0s, 465129 effective words/s\n",
      "21:15:45 : INFO : worker thread finished; awaiting finish of 9 more threads\n",
      "21:15:45 : INFO : worker thread finished; awaiting finish of 8 more threads\n",
      "21:15:45 : INFO : worker thread finished; awaiting finish of 7 more threads\n",
      "21:15:45 : INFO : worker thread finished; awaiting finish of 6 more threads\n",
      "21:15:45 : INFO : worker thread finished; awaiting finish of 5 more threads\n",
      "21:15:45 : INFO : worker thread finished; awaiting finish of 4 more threads\n",
      "21:15:45 : INFO : worker thread finished; awaiting finish of 3 more threads\n"
     ]
    },
    {
     "name": "stderr",
     "output_type": "stream",
     "text": [
      "21:15:45 : INFO : worker thread finished; awaiting finish of 2 more threads\n",
      "21:15:45 : INFO : worker thread finished; awaiting finish of 1 more threads\n",
      "21:15:45 : INFO : worker thread finished; awaiting finish of 0 more threads\n",
      "21:15:45 : INFO : EPOCH - 19 : training on 37105 raw words (13690 effective words) took 0.0s, 539064 effective words/s\n",
      "21:15:45 : INFO : worker thread finished; awaiting finish of 9 more threads\n",
      "21:15:45 : INFO : worker thread finished; awaiting finish of 8 more threads\n",
      "21:15:45 : INFO : worker thread finished; awaiting finish of 7 more threads\n",
      "21:15:45 : INFO : worker thread finished; awaiting finish of 6 more threads\n",
      "21:15:45 : INFO : worker thread finished; awaiting finish of 5 more threads\n",
      "21:15:45 : INFO : worker thread finished; awaiting finish of 4 more threads\n",
      "21:15:45 : INFO : worker thread finished; awaiting finish of 3 more threads\n",
      "21:15:45 : INFO : worker thread finished; awaiting finish of 2 more threads\n",
      "21:15:45 : INFO : worker thread finished; awaiting finish of 1 more threads\n",
      "21:15:45 : INFO : worker thread finished; awaiting finish of 0 more threads\n",
      "21:15:45 : INFO : EPOCH - 20 : training on 37105 raw words (13829 effective words) took 0.0s, 683160 effective words/s\n",
      "21:15:45 : INFO : training on a 742100 raw words (273348 effective words) took 0.8s, 327148 effective words/s\n",
      "21:15:45 : WARNING : under 10 jobs per worker: consider setting a smaller `batch_words' for smoother alpha decay\n"
     ]
    },
    {
     "data": {
      "text/plain": [
       "(273348, 742100)"
      ]
     },
     "execution_count": 9,
     "metadata": {},
     "output_type": "execute_result"
    }
   ],
   "source": [
    "model.train(all_dingredients, total_examples=model.corpus_count,\n",
    "           epochs=20, report_delay=1)"
   ]
  },
  {
   "cell_type": "code",
   "execution_count": 11,
   "metadata": {
    "ExecuteTime": {
     "end_time": "2019-07-23T01:15:55.577839Z",
     "start_time": "2019-07-23T01:15:55.570591Z"
    },
    "hidden": true
   },
   "outputs": [
    {
     "name": "stderr",
     "output_type": "stream",
     "text": [
      "21:15:55 : INFO : precomputing L2-norms of word weight vectors\n"
     ]
    }
   ],
   "source": [
    "model.init_sims(replace=True)"
   ]
  },
  {
   "cell_type": "code",
   "execution_count": 13,
   "metadata": {
    "ExecuteTime": {
     "end_time": "2019-07-23T01:16:08.199207Z",
     "start_time": "2019-07-23T01:16:08.191807Z"
    },
    "hidden": true
   },
   "outputs": [
    {
     "data": {
      "text/plain": [
       "[('skim milk', 0.8660790920257568),\n",
       " ('dry yeast', 0.8642836809158325),\n",
       " ('cranberries', 0.8593516945838928),\n",
       " ('bread', 0.851582944393158)]"
      ]
     },
     "execution_count": 13,
     "metadata": {},
     "output_type": "execute_result"
    }
   ],
   "source": [
    "w1='almonds'\n",
    "w1='water'\n",
    "model.wv.most_similar(positive=w1, topn=4)"
   ]
  },
  {
   "cell_type": "code",
   "execution_count": 14,
   "metadata": {
    "ExecuteTime": {
     "end_time": "2019-07-23T01:16:18.128412Z",
     "start_time": "2019-07-23T01:16:18.119116Z"
    },
    "hidden": true,
    "scrolled": true
   },
   "outputs": [
    {
     "data": {
      "text/plain": [
       "[('dates', 0.8782709836959839),\n",
       " ('pumpkin', 0.8454946279525757),\n",
       " ('canned pumpkin', 0.8299166560173035),\n",
       " ('carrots', 0.8166115283966064),\n",
       " ('pumpkin pie spice', 0.8032814264297485),\n",
       " ('rolled oats', 0.8018128871917725),\n",
       " ('raisins', 0.7987691760063171),\n",
       " ('brown sugar', 0.7884279489517212),\n",
       " ('apple juice', 0.7806726694107056),\n",
       " ('nuts', 0.7713814973831177)]"
      ]
     },
     "execution_count": 14,
     "metadata": {},
     "output_type": "execute_result"
    }
   ],
   "source": [
    "w1='rum'\n",
    "model.wv.most_similar(positive=['apples','banana'],\n",
    "                      negative=['water'],topn=10)"
   ]
  },
  {
   "cell_type": "code",
   "execution_count": 82,
   "metadata": {
    "ExecuteTime": {
     "end_time": "2019-07-20T17:43:24.352195Z",
     "start_time": "2019-07-20T17:43:24.347123Z"
    },
    "hidden": true
   },
   "outputs": [],
   "source": [
    "# witem = model.wv.__getitem__(['ginger'])\n",
    "# witem[0]"
   ]
  },
  {
   "cell_type": "code",
   "execution_count": 15,
   "metadata": {
    "ExecuteTime": {
     "end_time": "2019-07-23T01:16:26.526346Z",
     "start_time": "2019-07-23T01:16:26.518431Z"
    },
    "hidden": true
   },
   "outputs": [
    {
     "name": "stderr",
     "output_type": "stream",
     "text": [
      "/anaconda3/lib/python3.7/site-packages/gensim/models/keyedvectors.py:730: FutureWarning: arrays to stack must be passed as a \"sequence\" type such as list or tuple. Support for non-sequence iterables such as generators is deprecated as of NumPy 1.16 and will raise an error in the future.\n",
      "  vectors = vstack(self.word_vec(word, use_norm=True) for word in used_words).astype(REAL)\n"
     ]
    },
    {
     "data": {
      "text/plain": [
       "'butter'"
      ]
     },
     "execution_count": 15,
     "metadata": {},
     "output_type": "execute_result"
    }
   ],
   "source": [
    "model.wv.doesnt_match(['apples','butter','banana',\n",
    "                       'rum','flour'])"
   ]
  },
  {
   "cell_type": "code",
   "execution_count": 18,
   "metadata": {
    "ExecuteTime": {
     "end_time": "2019-07-23T01:16:45.388887Z",
     "start_time": "2019-07-23T01:16:45.110966Z"
    },
    "hidden": true
   },
   "outputs": [],
   "source": [
    "import matplotlib.pyplot as plt\n",
    "%matplotlib inline \n",
    "import pandas as pd\n",
    "import seaborn as sns\n",
    "sns.set_style('darkgrid')\n",
    "\n",
    "from sklearn.decomposition import PCA\n",
    "from sklearn.manifold import TSNE"
   ]
  },
  {
   "cell_type": "code",
   "execution_count": 19,
   "metadata": {
    "ExecuteTime": {
     "end_time": "2019-07-23T01:16:50.041480Z",
     "start_time": "2019-07-23T01:16:50.027675Z"
    },
    "hidden": true
   },
   "outputs": [],
   "source": [
    "def tsne_scatterplot(model, word, list_names):\n",
    "    # create an array with the same size as the vector\n",
    "    arrays = np.empty((0,vec_size), dtype='f')\n",
    "    # set the original word,     \n",
    "    word_labels = [word]\n",
    "    color_list = ['red']\n",
    "    # append the vector for the test word\n",
    "    arrays = np.append(arrays, model.wv.__getitem__([word]),axis=0)\n",
    "    \n",
    "    ####### get the closest words and make then blue\n",
    "    #get a list of the most similar words\n",
    "    close_words = model.wv.most_similar([word])\n",
    "    \n",
    "    for word_score in close_words:\n",
    "        # for each word get the vector  \n",
    "        word_vector = model.wv.__getitem__([word_score[0]])\n",
    "        # get the name\n",
    "        word_labels.append(word_score[0])\n",
    "        color_list.append('blue')\n",
    "        arrays = np.append(arrays, word_vector, axis=0)\n",
    "     \n",
    "    # get the words passed in the third entry and \n",
    "    # get those vectors, and set the color as green\n",
    "    for wrd in list_names:\n",
    "        word_vector = model.wv.__getitem__([wrd])\n",
    "        word_labels.append(wrd)\n",
    "        color_list.append('green')\n",
    "        arrays = np.append(arrays, word_vector, axis=0)\n",
    "        \n",
    "    reduc = PCA(n_components=10).fit_transform(arrays)\n",
    "    \n",
    "    np.set_printoptions(suppress=True)\n",
    "    \n",
    "    Y = TSNE(n_components=2, random_state=0, \n",
    "             perplexity=15).fit_transform(reduc)\n",
    "    df = pd.DataFrame({'x':[x for x in Y[:, 0]],\n",
    "                       'y':[y for y in Y[:,1]],\n",
    "                      'words':word_labels,\n",
    "                      'color': color_list})\n",
    "    \n",
    "    fig, _ = plt.subplots()\n",
    "    fig.set_size_inches(8,6)\n",
    "    \n",
    "    p1 = sns.regplot(data=df, \n",
    "                    x='x',y='y',fit_reg=False,\n",
    "                    marker='x',\n",
    "                    scatter_kws={'s':40,\n",
    "                                'facecolors':df['color']})\n",
    "    \n",
    "    for line in range(df.shape[0]):\n",
    "        p1.text(df['x'][line],df['y'][line],\n",
    "               '  '+df['words'][line].title(),\n",
    "               horizontalalignment='left',\n",
    "                verticalalignment='bottom',size='large',\n",
    "                color=df['color'][line],weight='normal'\n",
    "               ).set_size(10)\n",
    "        \n",
    "    plt.xlim(Y[:,0].min()-50, Y[:,0].max() + 50)\n",
    "    plt.ylim(Y[:,1].min()-50, Y[:,1].max() + 50)\n",
    "    \n",
    "    plt.title('t-SNE visualization for {}'.format(word.title()))"
   ]
  },
  {
   "cell_type": "code",
   "execution_count": null,
   "metadata": {
    "hidden": true
   },
   "outputs": [],
   "source": []
  },
  {
   "cell_type": "code",
   "execution_count": 20,
   "metadata": {
    "ExecuteTime": {
     "end_time": "2019-07-23T01:16:54.893668Z",
     "start_time": "2019-07-23T01:16:54.637741Z"
    },
    "hidden": true
   },
   "outputs": [
    {
     "data": {
      "image/png": "[encoded data removed]",
      "text/plain": [
       "<Figure size 576x432 with 1 Axes>"
      ]
     },
     "metadata": {},
     "output_type": "display_data"
    }
   ],
   "source": [
    "tsne_scatterplot(model, 'apples', ['butter','rum','raisins'])"
   ]
  },
  {
   "cell_type": "code",
   "execution_count": 21,
   "metadata": {
    "ExecuteTime": {
     "end_time": "2019-07-23T01:16:59.663794Z",
     "start_time": "2019-07-23T01:16:59.660055Z"
    },
    "hidden": true
   },
   "outputs": [],
   "source": [
    "test_word = 'water'"
   ]
  },
  {
   "cell_type": "code",
   "execution_count": 22,
   "metadata": {
    "ExecuteTime": {
     "end_time": "2019-07-23T01:17:04.498364Z",
     "start_time": "2019-07-23T01:17:04.215593Z"
    },
    "hidden": true
   },
   "outputs": [
    {
     "data": {
      "image/png": "[encoded data removed]",
      "text/plain": [
       "<Figure size 576x432 with 1 Axes>"
      ]
     },
     "metadata": {},
     "output_type": "display_data"
    }
   ],
   "source": [
    "tsne_scatterplot(model, test_word, [t[0] for t in model.wv.most_similar(positive=[test_word], topn=20)][10:])"
   ]
  },
  {
   "cell_type": "code",
   "execution_count": null,
   "metadata": {
    "hidden": true
   },
   "outputs": [],
   "source": []
  },
  {
   "cell_type": "code",
   "execution_count": null,
   "metadata": {
    "hidden": true
   },
   "outputs": [],
   "source": []
  },
  {
   "cell_type": "code",
   "execution_count": null,
   "metadata": {
    "hidden": true
   },
   "outputs": [],
   "source": []
  },
  {
   "cell_type": "markdown",
   "metadata": {},
   "source": [
    "## look at unique values"
   ]
  },
  {
   "cell_type": "code",
   "execution_count": 44,
   "metadata": {
    "ExecuteTime": {
     "end_time": "2019-07-23T02:14:24.980713Z",
     "start_time": "2019-07-23T02:14:24.976010Z"
    }
   },
   "outputs": [],
   "source": [
    "import re\n",
    "\n",
    "spice_list = ['sugar','salt','water','baking soda','baking powder','flour', 'oil',\n",
    "         'cornstarch','sugar','margarine','shortening','pepper' ,'milk','light corn syrup','cooking spray', \n",
    "         'corn syrup', 'butter']\n",
    "\n",
    "def is_it_an_ingredient(ingredient):\n",
    "    for spice in spice_list:\n",
    "        if re.search(spice, ingredient):\n",
    "#             print( ingredient,' -> ingredient is a spice')\n",
    "            return False, spice\n",
    "#     print('Did not find ingredient in the list of spices')    \n",
    "    return True, ingredient"
   ]
  },
  {
   "cell_type": "code",
   "execution_count": 108,
   "metadata": {
    "ExecuteTime": {
     "end_time": "2019-07-23T03:29:18.639202Z",
     "start_time": "2019-07-23T03:29:18.617696Z"
    },
    "scrolled": true
   },
   "outputs": [],
   "source": [
    "# create bag of ingredients\n",
    "\n",
    "all_ingredients = []\n",
    "\n",
    "for recipe_ings in clean_ingredients:# dessert_ings:\n",
    "    n_ingredients = len(recipe_ings['valid'])\n",
    "    for item, ingredient in enumerate(recipe_ings['ingredients']):\n",
    "#         if recipe_ings['valid'][item] ==True:\n",
    "        ingred = ingredient['text'].lower()\n",
    "#             ingred = singularize(ingred)\n",
    "#             if ingred=='eggs':\n",
    "#                 ingred='egg'\n",
    "#             elif 'butter' in ingred:\n",
    "#                 ingred = 'butter'\n",
    "            \n",
    "#             elif ingred == 'granulated sugar':\n",
    "#                 ingred= 'sugar'\n",
    "#             elif 'flour' in ingred:\n",
    "#                 ingred = 'flour'\n",
    "#             elif ingred == 'all - purpose flour' or ingred == 'cake flour':\n",
    "#                 ingred = 'flour'\n",
    "#             elif ingred == 'boiling water' or  ingred=='cold water':\n",
    "#                 ingred = 'water'\n",
    "#             elif ingred== 'light brown sugar' or ingred == 'dark brown sugar':\n",
    "#                 ingred = 'sugar'\n",
    "#             elif ingred == 'vanilla extract' or ingred == 'pure vanilla extract':\n",
    "#                 ingred = 'vanilla'\n",
    "#             elif ingred == 'fresh lemon juice':\n",
    "#                 ingred = 'lemon juice'\n",
    "            # find if ingredient belongs to a spice list\n",
    "\n",
    "    \n",
    "###             an_ingredient, ingred = is_it_an_ingredient(ingred)\n",
    "###             if an_ingredient:\n",
    "                # make it singular\n",
    "                \n",
    "###                 ingred = singularize(ingred)\n",
    "        all_ingredients.append(ingred)\n",
    "                \n",
    "#             if ingred not in spices:\n",
    "#                 all_ingredients.append(ingred)\n",
    "            "
   ]
  },
  {
   "cell_type": "code",
   "execution_count": 109,
   "metadata": {
    "ExecuteTime": {
     "end_time": "2019-07-23T03:29:28.124838Z",
     "start_time": "2019-07-23T03:29:28.114421Z"
    }
   },
   "outputs": [],
   "source": [
    "\n",
    "### Funciton to retrieve reciepes given an ingredient list\n",
    "\n",
    "def get_recipes_for_ingredients(search_list, ingredients_list, recipe_list):\n",
    "    \"\"\"\n",
    "    Function to look for a recipe with all the ingredients in  the list passed\n",
    "    \n",
    "    Output:\n",
    "        List of ingredients.\n",
    "    \"\"\"\n",
    "    \n",
    "    found_recipe_list = []\n",
    "    found_ingredient_list = []\n",
    "    for item,recipe_ingrs in enumerate(ingredients_list):\n",
    "        temp_ingr_list = []\n",
    "        ingredients = recipe_ingrs['ingredients']\n",
    "        n_ingredients = len(ingredients)\n",
    "        found_ingredient =0\n",
    "        for ingredient in ingredients:\n",
    "            if re.search(search_list[0], ingredient['text']):\n",
    "                found_ingredient=1\n",
    "            temp_ingr_list.append(ingredient['text'])\n",
    "\n",
    "        # find all elements in the list\n",
    "#         result = all(elem in temp_ingr_list for elem in search_list)\n",
    "        # find any elements in the list\n",
    "        result = any(singularize(elem) in temp_ingr_list for elem in search_list)\n",
    "        \n",
    "        \n",
    "        if result or found_ingredient==1:\n",
    "            found_recipe_list.append(recipe_list[item])\n",
    "            found_ingredient_list.append(temp_ingr_list)\n",
    "#             print('adding item', item)\n",
    "           \n",
    "    \n",
    "    \n",
    "    \n",
    "    return found_recipe_list, found_ingredient_list\n",
    "    "
   ]
  },
  {
   "cell_type": "code",
   "execution_count": 59,
   "metadata": {
    "ExecuteTime": {
     "end_time": "2019-07-23T03:05:29.640252Z",
     "start_time": "2019-07-23T03:05:29.624238Z"
    },
    "scrolled": true
   },
   "outputs": [
    {
     "name": "stdout",
     "output_type": "stream",
     "text": [
      "with 4096 recipes, there are 36826 ingredients, and 2930 unique ingredients.\n"
     ]
    }
   ],
   "source": [
    "ingredient_set = set(all_ingredients)\n",
    "print('with {} recipes, there are {} ingredients, and {} unique ingredients.'.format(\n",
    "                dessert_recipes, len(all_ingredients), len(ingredient_set)))"
   ]
  },
  {
   "cell_type": "code",
   "execution_count": 110,
   "metadata": {
    "ExecuteTime": {
     "end_time": "2019-07-23T03:29:43.391448Z",
     "start_time": "2019-07-23T03:29:43.383227Z"
    }
   },
   "outputs": [
    {
     "name": "stdout",
     "output_type": "stream",
     "text": [
      "with 4096 recipes, there are 35879 ingredients, and 2908 unique ingredients.\n"
     ]
    }
   ],
   "source": [
    "ingredient_set = set(all_ingredients)\n",
    "print('with {} recipes, there are {} ingredients, and {} unique ingredients.'.format(\n",
    "                dessert_recipes, len(all_ingredients), len(ingredient_set)))"
   ]
  },
  {
   "cell_type": "code",
   "execution_count": 111,
   "metadata": {
    "ExecuteTime": {
     "end_time": "2019-07-23T03:29:53.411472Z",
     "start_time": "2019-07-23T03:29:53.380883Z"
    }
   },
   "outputs": [
    {
     "name": "stdout",
     "output_type": "stream",
     "text": [
      "<FreqDist with 2908 samples and 35879 outcomes>\n"
     ]
    }
   ],
   "source": [
    "fdist = FreqDist(all_ingredients)\n",
    "print(fdist)"
   ]
  },
  {
   "cell_type": "code",
   "execution_count": 112,
   "metadata": {
    "ExecuteTime": {
     "end_time": "2019-07-23T03:30:03.079018Z",
     "start_time": "2019-07-23T03:30:03.070861Z"
    },
    "scrolled": false
   },
   "outputs": [],
   "source": [
    "common = fdist.most_common(2500)"
   ]
  },
  {
   "cell_type": "code",
   "execution_count": 33,
   "metadata": {
    "ExecuteTime": {
     "end_time": "2019-07-23T02:52:14.981543Z",
     "start_time": "2019-07-23T02:52:14.966588Z"
    },
    "scrolled": true
   },
   "outputs": [],
   "source": [
    "# common\n",
    "f= open(\"words.txt\",\"w+\")\n",
    "for cc in common:\n",
    "    f.write('{}: \\t {}\\n'.format(cc[0], cc[1]))"
   ]
  },
  {
   "cell_type": "code",
   "execution_count": 120,
   "metadata": {
    "ExecuteTime": {
     "end_time": "2019-07-23T03:34:01.249283Z",
     "start_time": "2019-07-23T03:34:01.238744Z"
    },
    "scrolled": true
   },
   "outputs": [
    {
     "data": {
      "text/plain": [
       "[('1 envelope dream whip', 1),\n",
       " ('1 german choc. mix', 1),\n",
       " ('2 cans evaporated milk', 1),\n",
       " ('peppermint ice cream', 1),\n",
       " ('chocolate crumb pie shell', 1),\n",
       " ('imitation maple flavor', 1),\n",
       " ('1- 3/4 cup unbleached all purpose or bread flour, or more as needed', 1),\n",
       " ('chocolate graham wafer pie crust', 1),\n",
       " ('1 pound, 1-23 ounces, weight raspberry', 1),\n",
       " ('1 cup, 4 tablespoons, 3/4 teaspoons, 1-78 pinches double cream (whipping cream)',\n",
       "  1),\n",
       " ('1 can sweetened condensed milk (397g can)', 1),\n",
       " ('2 packages marias crushed biscuit', 1),\n",
       " ('2 packages cream cheese of your choice', 1),\n",
       " ('1 springform pan to arm the pay', 1),\n",
       " ('peach jell-o', 1),\n",
       " ('bologna', 1),\n",
       " ('red wine vinegar', 1),\n",
       " ('1 box reduced-fat vanilla wafer', 1),\n",
       " ('bell pepper', 1),\n",
       " ('1 box no sugar needed pectin', 1),\n",
       " ('reduced-sugar yellow cake mix', 1),\n",
       " ('egg white powder', 1),\n",
       " ('6 cups thinly sliced peeled apples king soopers 1 lb for $0.87 thru 02/09',\n",
       "  1),\n",
       " ('stevia powder', 1),\n",
       " ('1 box betty crocker angle food mix', 1),\n",
       " ('pomegranate', 1),\n",
       " ('chocolate sorbet', 1),\n",
       " ('dried orange peel', 1),\n",
       " ('vanilla baking chip', 1),\n",
       " ('equipment: a small (about 1 1/2-inch) ice cream scoop; a large pastry bag fitted with a 3/4-inch plain tip',\n",
       "  1),\n",
       " ('honey-roasted peanut', 1),\n",
       " ('shortbread pie crust', 1),\n",
       " ('1 quart. culture, set overnight', 1),\n",
       " ('dried tarragon', 1),\n",
       " ('baby potato', 1),\n",
       " ('frozen pea', 1),\n",
       " ('fresh pineapple chunk', 1),\n",
       " ('raspberry sorbet', 1),\n",
       " ('1 jar peach preserves, 12 ounce jar', 1),\n",
       " ('peach brandy', 1),\n",
       " ('1/2 c. raspberry filling', 1),\n",
       " ('spumante', 1),\n",
       " ('butter brickle ice cream', 1),\n",
       " ('unbaked pastry shell', 1),\n",
       " ('50 gm low fat spread', 1),\n",
       " ('porridge oat', 1),\n",
       " ('pumpkin pie filling', 1),\n",
       " ('almond joy candy bar', 1),\n",
       " ('vanilla cookie pie crust', 1),\n",
       " ('lime oil', 1)]"
      ]
     },
     "execution_count": 120,
     "metadata": {},
     "output_type": "execute_result"
    }
   ],
   "source": [
    "common[-50:]"
   ]
  },
  {
   "cell_type": "code",
   "execution_count": 116,
   "metadata": {
    "ExecuteTime": {
     "end_time": "2019-07-23T03:32:48.309562Z",
     "start_time": "2019-07-23T03:32:48.097765Z"
    }
   },
   "outputs": [
    {
     "name": "stdout",
     "output_type": "stream",
     "text": [
      "found 2 recipes\n",
      "0\tCandy Cane Cookies\n",
      "1\tDelightful 4 Layer Dessert\n"
     ]
    }
   ],
   "source": [
    "found_lists, found_ingredients = get_recipes_for_ingredients(['oleo'], dessert_ings,desserts)\n",
    "print('found {} recipes'.format(len(found_lists)))\n",
    "\n",
    "for item, rec in enumerate(found_lists):\n",
    "    print('{}\\t{}'.format(item, rec['title']))"
   ]
  },
  {
   "cell_type": "code",
   "execution_count": 117,
   "metadata": {
    "ExecuteTime": {
     "end_time": "2019-07-23T03:32:57.286541Z",
     "start_time": "2019-07-23T03:32:57.279604Z"
    }
   },
   "outputs": [
    {
     "data": {
      "text/plain": [
       "({'ingredients': [{'text': '1 cup oleo, softened'},\n",
       "   {'text': '1 cup powdered sugar, measured then sifted'},\n",
       "   {'text': '1 egg'},\n",
       "   {'text': '1 12 teaspoons almond extract'},\n",
       "   {'text': '1 teaspoon vanilla'},\n",
       "   {'text': '2 12 cups flour, measured then sifted'},\n",
       "   {'text': '1 teaspoon salt'},\n",
       "   {'text': 'peppermint candy, crushed (optional)'},\n",
       "   {'text': 'unbleached cane sugar (optional)'}],\n",
       "  'url': 'http://www.food.com/recipe/candy-cane-cookies-273492',\n",
       "  'partition': 'train',\n",
       "  'title': 'Candy Cane Cookies',\n",
       "  'id': '005b472428',\n",
       "  'instructions': [{'text': 'Heat oven to 375F.'},\n",
       "   {'text': 'Mix oleo, egg, almond extract, vanilla and powdered sugar together.'},\n",
       "   {'text': 'In separate bowl, combine flour & salt.'},\n",
       "   {'text': 'Slowly add to creamed mixture.'},\n",
       "   {'text': 'Divide dough add red food coloring to one half.'},\n",
       "   {'text': 'Take 1 tsp of each color.'},\n",
       "   {'text': 'Roll each into 4 1/2 inch strips.'},\n",
       "   {'text': 'Lay next to each other, roll once or twice to \"attach\".'},\n",
       "   {'text': 'Gently twist and form into candy cane shape.'},\n",
       "   {'text': 'Lay on cookie sheet lined with parchment paper.'},\n",
       "   {'text': 'Bake 8 to 10 minutes.'},\n",
       "   {'text': 'Optional: after removed from oven, sprinkle with mixture of equal parts crushed peppermints and sugar.'}]},\n",
       " ['oleo',\n",
       "  'powdered sugar',\n",
       "  'egg',\n",
       "  'almond extract',\n",
       "  'vanilla',\n",
       "  'flour',\n",
       "  'salt',\n",
       "  'peppermint candy',\n",
       "  'unbleached cane sugar'])"
      ]
     },
     "execution_count": 117,
     "metadata": {},
     "output_type": "execute_result"
    }
   ],
   "source": [
    "item = 0\n",
    "found_lists[item],found_ingredients[item]"
   ]
  },
  {
   "cell_type": "code",
   "execution_count": null,
   "metadata": {
    "ExecuteTime": {
     "end_time": "2019-07-22T18:11:29.544909Z",
     "start_time": "2019-07-22T18:11:29.530483Z"
    }
   },
   "outputs": [],
   "source": []
  },
  {
   "cell_type": "code",
   "execution_count": null,
   "metadata": {},
   "outputs": [],
   "source": []
  },
  {
   "cell_type": "code",
   "execution_count": null,
   "metadata": {},
   "outputs": [],
   "source": []
  },
  {
   "cell_type": "code",
   "execution_count": null,
   "metadata": {},
   "outputs": [],
   "source": []
  },
  {
   "cell_type": "code",
   "execution_count": 26,
   "metadata": {
    "ExecuteTime": {
     "end_time": "2019-07-22T17:32:10.212346Z",
     "start_time": "2019-07-22T17:32:10.207223Z"
    }
   },
   "outputs": [
    {
     "name": "stdout",
     "output_type": "stream",
     "text": [
      "shrimp\n",
      "butter\n",
      "cream cheese\n",
      "chili sauce\n",
      "lemon juice\n",
      "----> found a onio onion\n",
      "celery rib\n"
     ]
    }
   ],
   "source": [
    "test = 'onio'\n",
    "\n",
    "for ingr in found_ingredients[82]:\n",
    "    if re.match(test, ingr):\n",
    "        print('----> found a',test, ingr)\n",
    "    else:\n",
    "        print(ingr)"
   ]
  },
  {
   "cell_type": "code",
   "execution_count": null,
   "metadata": {},
   "outputs": [],
   "source": []
  },
  {
   "cell_type": "code",
   "execution_count": null,
   "metadata": {},
   "outputs": [],
   "source": []
  },
  {
   "cell_type": "code",
   "execution_count": 46,
   "metadata": {
    "ExecuteTime": {
     "end_time": "2019-07-22T17:04:55.482482Z",
     "start_time": "2019-07-22T17:04:55.475854Z"
    }
   },
   "outputs": [
    {
     "name": "stdout",
     "output_type": "stream",
     "text": [
      "['butter', 'brown sugar', 'eggs', 'vanilla', 'canned pumpkin', 'sweet rice flour', 'potato starch', 'buckwheat flour', 'baking powder', 'salt', 'cinnamon', 'nutmeg', 'cloves', 'ginger', 'raisins']\n"
     ]
    }
   ],
   "source": [
    "test_ingredients = []\n",
    "for ingred in dessert_ings[2029]['ingredients']:\n",
    "    test_ingredients.append(ingred['text'])\n",
    "print(test_ingredients)"
   ]
  },
  {
   "cell_type": "code",
   "execution_count": 59,
   "metadata": {
    "ExecuteTime": {
     "end_time": "2019-07-22T17:09:33.507515Z",
     "start_time": "2019-07-22T17:09:33.499371Z"
    }
   },
   "outputs": [
    {
     "name": "stdout",
     "output_type": "stream",
     "text": [
      "None\n"
     ]
    }
   ],
   "source": [
    "food_pattern = 'flourish'\n",
    "# for ing in test_ingredients:\n",
    "m = re.search(food_pattern, 'vanilla and flour don')\n",
    "print(m)"
   ]
  },
  {
   "cell_type": "code",
   "execution_count": null,
   "metadata": {},
   "outputs": [],
   "source": []
  },
  {
   "cell_type": "code",
   "execution_count": 24,
   "metadata": {
    "ExecuteTime": {
     "end_time": "2019-07-20T01:34:30.886166Z",
     "start_time": "2019-07-20T01:34:29.432078Z"
    }
   },
   "outputs": [
    {
     "data": {
      "image/png": "[encoded data removed]",
      "text/plain": [
       "<Figure size 864x576 with 1 Axes>"
      ]
     },
     "metadata": {
      "needs_background": "light"
     },
     "output_type": "display_data"
    }
   ],
   "source": [
    "import matplotlib.pyplot as plt\n",
    "%matplotlib inline\n",
    "\n",
    "fig = plt.figure(figsize=(12, 8))\n",
    "# plt.ylim(0,120)\n",
    "fdist.plot(50,cumulative=False)\n",
    "# plt.ylim(0,30)\n",
    "# plt.show()"
   ]
  },
  {
   "cell_type": "code",
   "execution_count": null,
   "metadata": {},
   "outputs": [],
   "source": []
  },
  {
   "cell_type": "code",
   "execution_count": null,
   "metadata": {
    "ExecuteTime": {
     "end_time": "2019-07-17T21:02:23.558223Z",
     "start_time": "2019-07-17T21:02:22.927034Z"
    }
   },
   "outputs": [],
   "source": [
    "import nltk\n",
    "from nltk.corpus import stopwords\n",
    "import string\n",
    "\n",
    "from nltk import word_tokenize, FreqDist\n",
    "from sklearn.feature_extraction.text import TfidfVectorizer\n",
    "from sklearn.metrics import accuracy_score\n",
    "from sklearn.ensemble import RandomForestClassifier\n",
    "from sklearn.naive_bayes import MultinomialNB\n",
    "import pandas as pd\n",
    "import numpy as np\n",
    "np.random.seed(23)"
   ]
  },
  {
   "cell_type": "code",
   "execution_count": null,
   "metadata": {
    "ExecuteTime": {
     "end_time": "2019-07-17T21:04:23.122367Z",
     "start_time": "2019-07-17T21:04:23.116451Z"
    }
   },
   "outputs": [],
   "source": [
    "stopwords_list  = stopwords.words('english')\n",
    "stopwords_list += list(string.punctuation)\n",
    "stopwords_list +="
   ]
  },
  {
   "cell_type": "code",
   "execution_count": null,
   "metadata": {
    "ExecuteTime": {
     "end_time": "2019-07-17T21:04:24.636738Z",
     "start_time": "2019-07-17T21:04:24.630522Z"
    }
   },
   "outputs": [],
   "source": [
    "stopwords_list[-20:]"
   ]
  },
  {
   "cell_type": "code",
   "execution_count": null,
   "metadata": {},
   "outputs": [],
   "source": []
  }
 ],
 "metadata": {
  "kernelspec": {
   "display_name": "Python 3",
   "language": "python",
   "name": "python3"
  },
  "language_info": {
   "codemirror_mode": {
    "name": "ipython",
    "version": 3
   },
   "file_extension": ".py",
   "mimetype": "text/x-python",
   "name": "python",
   "nbconvert_exporter": "python",
   "pygments_lexer": "ipython3",
   "version": "3.7.3"
  },
  "latex_envs": {
   "LaTeX_envs_menu_present": true,
   "autoclose": false,
   "autocomplete": true,
   "bibliofile": "biblio.bib",
   "cite_by": "apalike",
   "current_citInitial": 1,
   "eqLabelWithNumbers": true,
   "eqNumInitial": 1,
   "hotkeys": {
    "equation": "Ctrl-E",
    "itemize": "Ctrl-I"
   },
   "labels_anchors": false,
   "latex_user_defs": false,
   "report_style_numbering": false,
   "user_envs_cfg": false
  },
  "toc": {
   "base_numbering": 1,
   "nav_menu": {},
   "number_sections": true,
   "sideBar": true,
   "skip_h1_title": false,
   "title_cell": "Table of Contents",
   "title_sidebar": "Contents",
   "toc_cell": false,
   "toc_position": {},
   "toc_section_display": true,
   "toc_window_display": false
  },
  "varInspector": {
   "cols": {
    "lenName": 16,
    "lenType": 16,
    "lenVar": 40
   },
   "kernels_config": {
    "python": {
     "delete_cmd_postfix": "",
     "delete_cmd_prefix": "del ",
     "library": "var_list.py",
     "varRefreshCmd": "print(var_dic_list())"
    },
    "r": {
     "delete_cmd_postfix": ") ",
     "delete_cmd_prefix": "rm(",
     "library": "var_list.r",
     "varRefreshCmd": "cat(var_dic_list()) "
    }
   },
   "types_to_exclude": [
    "module",
    "function",
    "builtin_function_or_method",
    "instance",
    "_Feature"
   ],
   "window_display": false
  }
 },
 "nbformat": 4,
 "nbformat_minor": 2
}
