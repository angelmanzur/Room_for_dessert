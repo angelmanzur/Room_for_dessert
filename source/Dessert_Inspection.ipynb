{
 "cells": [
  {
   "cell_type": "code",
   "execution_count": 1,
   "metadata": {
    "ExecuteTime": {
     "end_time": "2019-07-24T18:44:08.001184Z",
     "start_time": "2019-07-24T18:44:02.029137Z"
    }
   },
   "outputs": [],
   "source": [
    "from extract_desserts import *\n",
    "from pattern.text.en import singularize\n",
    "from nltk import FreqDist\n",
    "import matplotlib.pyplot as plt\n",
    "import numpy as np\n",
    "np.random.seed(seed=2019)\n",
    "\n",
    "import gensim\n",
    "import logging\n",
    "logging.basicConfig(format='%(asctime)s : %(levelname)s : %(message)s',\n",
    "                    datefmt='%H:%M:%S',\n",
    "                   level=logging.INFO)\n",
    "\n",
    "from time import time\n",
    "import multiprocessing\n",
    "\n",
    "import warnings\n",
    "warnings.filterwarnings('ignore')"
   ]
  },
  {
   "cell_type": "code",
   "execution_count": 2,
   "metadata": {
    "ExecuteTime": {
     "end_time": "2019-07-24T18:44:08.595497Z",
     "start_time": "2019-07-24T18:44:08.024872Z"
    }
   },
   "outputs": [
    {
     "name": "stdout",
     "output_type": "stream",
     "text": [
      "Loading file  ../data/sample_layer1.json\n",
      "Loading ingredient file: ../data/sample_det_ingrs.json\n"
     ]
    }
   ],
   "source": [
    "#load the raw data\n",
    "# lets use the default value that only loads 250 recipes,\n",
    "# instead of 1 million\n",
    "# raw_data = get_raw_data('sample_50k_layer1.json')\n",
    "# raw_ingredients = get_raw_ingredients('sample_50k_det_ingrs.json')\n",
    "\n",
    "# load a total of 20k recipes\n",
    "raw_data = get_raw_data('sample_layer1.json')\n",
    "raw_ingredients = get_raw_ingredients('sample_det_ingrs.json')"
   ]
  },
  {
   "cell_type": "code",
   "execution_count": 3,
   "metadata": {
    "ExecuteTime": {
     "end_time": "2019-07-24T18:44:11.043371Z",
     "start_time": "2019-07-24T18:44:11.038893Z"
    }
   },
   "outputs": [
    {
     "name": "stdout",
     "output_type": "stream",
     "text": [
      "N recipes: 20000\t N list of ingredients: 20000\n"
     ]
    }
   ],
   "source": [
    "print('N recipes: {}\\t N list of ingredients: {}'.format(len(raw_data),\n",
    "      len(raw_ingredients)))\n"
   ]
  },
  {
   "cell_type": "code",
   "execution_count": 4,
   "metadata": {
    "ExecuteTime": {
     "end_time": "2019-07-24T18:44:20.726590Z",
     "start_time": "2019-07-24T18:44:13.089032Z"
    },
    "scrolled": false
   },
   "outputs": [],
   "source": [
    "## get a list of desserts only\n",
    "desserts, dessert_ings = find_desserts(raw_data, raw_ingredients)#,test_id='02916fd389')\n"
   ]
  },
  {
   "cell_type": "code",
   "execution_count": 5,
   "metadata": {
    "ExecuteTime": {
     "end_time": "2019-07-24T18:44:23.047657Z",
     "start_time": "2019-07-24T18:44:23.041160Z"
    }
   },
   "outputs": [
    {
     "name": "stdout",
     "output_type": "stream",
     "text": [
      "Will look at 3848 dessert recipes, out of 20000 (~19.2%)\n"
     ]
    }
   ],
   "source": [
    "total_recipes = len(raw_data)\n",
    "dessert_recipes = len(desserts)\n",
    "dessert_ingredients = len(dessert_ings)\n",
    "print('Will look at {} dessert recipes, out of {} (~{:1.1f}%)'.format(\n",
    "                            dessert_recipes, total_recipes,\n",
    "                            dessert_recipes/total_recipes*100))"
   ]
  },
  {
   "cell_type": "code",
   "execution_count": 14,
   "metadata": {
    "ExecuteTime": {
     "end_time": "2019-07-24T14:08:50.194414Z",
     "start_time": "2019-07-24T14:08:50.189553Z"
    }
   },
   "outputs": [],
   "source": [
    "import re\n",
    "\n",
    "not_a_flavor_list = ['flour','cake mix','baking soda','baking powder', 'canola oil',\n",
    "                     'vegetable oil','cornstarch','shortening','margarine','yeast',\n",
    "                     'gelatin' ,'coloring','corn syrup','cooking spray', \n",
    "         'crisco', 'cake', 'crisco','xanthan','bicarbonate','pie shell','pie crust',\n",
    "                     'cornmeal','splenda','stevium','ice cube', 'gluten','bread'\n",
    "                    ]\n",
    "\n",
    "generic_ingredient_list = ['pumpkin', 'vanilla','cinnammon','cocoa powder',\n",
    "                           'chocolate chip','salted butter', 'graham cracker','mint',\n",
    "                          'salted butter','coffee']\n",
    "\n"
   ]
  },
  {
   "cell_type": "code",
   "execution_count": 15,
   "metadata": {
    "ExecuteTime": {
     "end_time": "2019-07-24T14:08:57.071070Z",
     "start_time": "2019-07-24T14:08:57.050350Z"
    }
   },
   "outputs": [],
   "source": [
    "\n",
    "\n",
    "\n",
    "def in_not_a_flavor_list(ingredient):\n",
    "    for word in not_a_flavor_list:\n",
    "        if re.search(word, ingredient):\n",
    "            return True   \n",
    "    return False\n",
    "\n",
    "\n",
    "def is_generic_ingredient(ingredient):\n",
    "    for word in generic_ingredient_list:\n",
    "#         print(word,ingredient)\n",
    "        if re.search(word, ingredient):\n",
    "            return True, word\n",
    "    return False, ingredient\n",
    "\n",
    "def clean_dessert_ingredients(all_ingredients):\n",
    "    count =0\n",
    "    for item, ingredients_list in enumerate(all_ingredients):\n",
    "        to_remove = []\n",
    "        for ingr_item, ingredient in enumerate(ingredients_list['ingredients']):\n",
    "            tmp_ingredient = ingredient['text'].lower().replace(' - ','-')\n",
    "            tmp_ingredient = tmp_ingredient.replace(\"'\",'')\n",
    "            tmp_ingredient = tmp_ingredient.replace(\" & \",'&')\n",
    "            tmp_ingredient = tmp_ingredient.replace('fat free', 'fat-free')\n",
    "#             tmp_ingredient = singularize(tmp_ingredient)\n",
    "            \n",
    "#             print(ingredient['text'].replace(' - ','-'))\n",
    "            if re.search('water', tmp_ingredient) and not re.search('watermelon',tmp_ingredient) and not re.search('rose water',tmp_ingredient):\n",
    "                to_remove.append(ingr_item)\n",
    "            \n",
    "            if in_not_a_flavor_list(tmp_ingredient):\n",
    "                to_remove.append(ingr_item)\n",
    "            elif re.match('oil', tmp_ingredient):\n",
    "                to_remove.append(ingr_item)\n",
    "\n",
    "                        \n",
    "            \n",
    "            if re.search('heavy', tmp_ingredient) and re.search('cream',tmp_ingredient):\n",
    "                tmp_ingredient='heavy cream'\n",
    "            \n",
    "            generic_ingr, ingr = is_generic_ingredient(tmp_ingredient)\n",
    "            if generic_ingr:\n",
    "                tmp_ingredient = ingr\n",
    "\n",
    "                \n",
    "#             elif (re.search('purpose flour', tmp_ingredient) \n",
    "#                   or re.search('cake flour',tmp_ingredient) \n",
    "#                   or re.search('rising flour', tmp_ingredient) \n",
    "#                   or re.search('plain flour', tmp_ingredient)\n",
    "#                   or re.search('white flour', tmp_ingredient)\n",
    "#                   or re.search('raising flour', tmp_ingredient)\n",
    "\n",
    "#                  ):\n",
    "#                 tmp_ingredient = 'flour' \n",
    "            elif re.search('brown sugar', tmp_ingredient) or re.search('demerara sugar', tmp_ingredient):\n",
    "                tmp_ingredient = 'brown sugar'\n",
    "            \n",
    "            elif re.search('powdered sugar', tmp_ingredient) or re.search('confectioners sugar',tmp_ingredient) :\n",
    "                tmp_ingredient ='powdered sugar'\n",
    "            elif re.search('sugar', tmp_ingredient) or re.search('white sugar', tmp_ingredient) or re.search('granulated sugar',tmp_ingredient):\n",
    "                tmp_ingredient = 'sugar'\n",
    "\n",
    "            elif re.search('semi-sweet', tmp_ingredient) and re.search('chocolate',tmp_ingredient):\n",
    "                tmp_ingredient = 'chocolate'\n",
    "\n",
    "            if (not re.search('flour', tmp_ingredient) \n",
    "                and not re.search('molasses',tmp_ingredient)\n",
    "                and not re.search('oats',tmp_ingredient)):\n",
    "                tmp_ingredient = singularize(tmp_ingredient)\n",
    "\n",
    "\n",
    "            all_ingredients[item]['ingredients'][ingr_item]['text'] = tmp_ingredient\n",
    "            \n",
    "        if len(to_remove)>0:\n",
    "            \n",
    "            to_remove.sort(reverse=True)\n",
    "            \n",
    "                \n",
    "#             print(item,'to remove', to_remove)\n",
    "            for i in to_remove:\n",
    "#                 print('try to remove', all_ingredients[item]['ingredients'][i])\n",
    "                del all_ingredients[item]['ingredients'][i]\n",
    "#         for iremove in to_remove:\n",
    "#             del all_ingredients\n",
    "#         print('--------------------------')\n",
    "        if item%500==0:\n",
    "            logging.info(\"read {0} recipes\".format(item))\n",
    "    return all_ingredients\n",
    "\n",
    "def print_dessert_ingredients(all_ingredients):\n",
    "    count =0\n",
    "    for item, ingredients_list in enumerate(all_ingredients):\n",
    "        for ingr_item, ingredient in enumerate(ingredients_list['ingredients']):\n",
    "            \n",
    "            \n",
    "            print(ingredient['text'])\n",
    "        \n",
    "        print('--------------------------')\n",
    "        if item==50:\n",
    "            break\n",
    "    return all_ingredients"
   ]
  },
  {
   "cell_type": "code",
   "execution_count": 16,
   "metadata": {
    "ExecuteTime": {
     "end_time": "2019-07-24T14:09:06.566538Z",
     "start_time": "2019-07-24T14:09:03.261626Z"
    }
   },
   "outputs": [
    {
     "name": "stderr",
     "output_type": "stream",
     "text": [
      "10:09:03 : INFO : read 0 recipes\n",
      "10:09:03 : INFO : read 500 recipes\n",
      "10:09:04 : INFO : read 1000 recipes\n",
      "10:09:04 : INFO : read 1500 recipes\n",
      "10:09:04 : INFO : read 2000 recipes\n",
      "10:09:05 : INFO : read 2500 recipes\n",
      "10:09:05 : INFO : read 3000 recipes\n",
      "10:09:06 : INFO : read 3500 recipes\n"
     ]
    }
   ],
   "source": [
    "clean_ingredients =  clean_dessert_ingredients(dessert_ings);\n",
    "# print_dessert_ingredients(clean_ingredients)\n",
    "# print(dessert_ings)\n"
   ]
  },
  {
   "cell_type": "code",
   "execution_count": 17,
   "metadata": {
    "ExecuteTime": {
     "end_time": "2019-07-24T14:10:00.520636Z",
     "start_time": "2019-07-24T14:10:00.512465Z"
    }
   },
   "outputs": [
    {
     "data": {
      "text/plain": [
       "3848"
      ]
     },
     "execution_count": 17,
     "metadata": {},
     "output_type": "execute_result"
    }
   ],
   "source": [
    "len(clean_ingredients)\n",
    "# item = np.random.randint(dessert_recipes)\n",
    "# print(item, dessert_ings[item]['valid'])\n",
    "# dessert_ings[item]['ingredients']"
   ]
  },
  {
   "cell_type": "code",
   "execution_count": null,
   "metadata": {},
   "outputs": [],
   "source": []
  },
  {
   "cell_type": "code",
   "execution_count": null,
   "metadata": {},
   "outputs": [],
   "source": []
  },
  {
   "cell_type": "markdown",
   "metadata": {},
   "source": [
    "# Let's look at the unique words for a Word2Vec"
   ]
  },
  {
   "cell_type": "code",
   "execution_count": null,
   "metadata": {
    "ExecuteTime": {
     "end_time": "2019-07-23T01:04:21.327056Z",
     "start_time": "2019-07-23T01:04:21.321657Z"
    }
   },
   "outputs": [],
   "source": []
  },
  {
   "cell_type": "code",
   "execution_count": null,
   "metadata": {},
   "outputs": [],
   "source": []
  },
  {
   "cell_type": "code",
   "execution_count": 30,
   "metadata": {
    "ExecuteTime": {
     "end_time": "2019-07-24T14:21:01.692441Z",
     "start_time": "2019-07-24T14:21:01.685929Z"
    }
   },
   "outputs": [
    {
     "data": {
      "text/plain": [
       "(3848, 4)"
      ]
     },
     "execution_count": 30,
     "metadata": {},
     "output_type": "execute_result"
    }
   ],
   "source": [
    "item=0\n",
    "len(dessert_ings),len(dessert_ings[item]['ingredients'])"
   ]
  },
  {
   "cell_type": "markdown",
   "metadata": {},
   "source": [
    "## Lets create a list of ingredients\n",
    "And we will us it as an input to word2Vec"
   ]
  },
  {
   "cell_type": "code",
   "execution_count": 19,
   "metadata": {
    "ExecuteTime": {
     "end_time": "2019-07-24T14:10:40.168801Z",
     "start_time": "2019-07-24T14:10:40.132484Z"
    }
   },
   "outputs": [
    {
     "name": "stderr",
     "output_type": "stream",
     "text": [
      "10:10:40 : INFO : read 500 ingredients\n",
      "10:10:40 : INFO : read 1000 ingredients\n",
      "10:10:40 : INFO : read 1500 ingredients\n",
      "10:10:40 : INFO : read 2000 ingredients\n",
      "10:10:40 : INFO : read 2500 ingredients\n",
      "10:10:40 : INFO : read 3000 ingredients\n",
      "10:10:40 : INFO : read 3500 ingredients\n"
     ]
    }
   ],
   "source": [
    "ingredients_per_recipe = []\n",
    "count =0\n",
    "for drecipe in dessert_ings:\n",
    "    ings =[]\n",
    "    for entry in drecipe['ingredients']:\n",
    "        ings.append(entry['text'])\n",
    "    ingredients_per_recipe.append(ings)\n",
    "    count += 1\n",
    "    if count%500==0:\n",
    "        logging.info(\"read {0} ingredients\".format(count))\n",
    "\n",
    "#         break;\n",
    "\n",
    "# print(all_dingredients)"
   ]
  },
  {
   "cell_type": "code",
   "execution_count": 14,
   "metadata": {
    "ExecuteTime": {
     "end_time": "2019-07-23T20:16:12.068995Z",
     "start_time": "2019-07-23T20:16:12.063394Z"
    }
   },
   "outputs": [
    {
     "data": {
      "text/plain": [
       "['fresh rhubarb', 'frozen rhubarb', 'sugar', 'butter']"
      ]
     },
     "execution_count": 14,
     "metadata": {},
     "output_type": "execute_result"
    }
   ],
   "source": [
    "ingredients_per_recipe[0]"
   ]
  },
  {
   "cell_type": "markdown",
   "metadata": {
    "ExecuteTime": {
     "end_time": "2019-07-20T01:57:00.922754Z",
     "start_time": "2019-07-20T01:57:00.914197Z"
    }
   },
   "source": [
    "## Create a Word2Vec model training on the ingredients. \n"
   ]
  },
  {
   "cell_type": "code",
   "execution_count": 31,
   "metadata": {
    "ExecuteTime": {
     "end_time": "2019-07-24T14:21:09.313276Z",
     "start_time": "2019-07-24T14:21:09.303486Z"
    }
   },
   "outputs": [],
   "source": [
    "vec_size = 100;\n",
    "model = gensim.models.Word2Vec(\n",
    "   # all_dingredients,\n",
    "    size=vec_size,\n",
    "    window=5,\n",
    "    min_count=20,\n",
    "    workers=10,\n",
    "    alpha=0.02,\n",
    "    iter=4,\n",
    "    sg=0)"
   ]
  },
  {
   "cell_type": "code",
   "execution_count": 16,
   "metadata": {
    "ExecuteTime": {
     "end_time": "2019-07-23T20:16:29.126691Z",
     "start_time": "2019-07-23T20:16:29.084080Z"
    },
    "scrolled": true
   },
   "outputs": [
    {
     "name": "stderr",
     "output_type": "stream",
     "text": [
      "16:16:29 : INFO : collecting all words and their counts\n",
      "16:16:29 : INFO : PROGRESS: at sentence #0, processed 0 words, keeping 0 word types\n",
      "16:16:29 : INFO : PROGRESS: at sentence #1000, processed 7132 words, keeping 954 word types\n",
      "16:16:29 : INFO : PROGRESS: at sentence #2000, processed 14320 words, keeping 1456 word types\n",
      "16:16:29 : INFO : PROGRESS: at sentence #3000, processed 21242 words, keeping 1824 word types\n",
      "16:16:29 : INFO : collected 2110 word types from a corpus of 27488 raw words and 3848 sentences\n",
      "16:16:29 : INFO : Loading a fresh vocabulary\n",
      "16:16:29 : INFO : min_count=20 retains 136 unique words (6% of original 2110, drops 1974)\n",
      "16:16:29 : INFO : min_count=20 leaves 22374 word corpus (81% of original 27488, drops 5114)\n",
      "16:16:29 : INFO : deleting the raw counts dictionary of 2110 items\n",
      "16:16:29 : INFO : sample=0.001 downsamples 57 most-common words\n",
      "16:16:29 : INFO : downsampling leaves estimated 7952 word corpus (35.5% of prior 22374)\n",
      "16:16:29 : INFO : estimated required memory for 136 words and 100 dimensions: 176800 bytes\n",
      "16:16:29 : INFO : resetting layer weights\n"
     ]
    }
   ],
   "source": [
    "t = time()\n",
    "model.build_vocab(ingredients_per_recipe, progress_per=1000)"
   ]
  },
  {
   "cell_type": "code",
   "execution_count": 17,
   "metadata": {
    "ExecuteTime": {
     "end_time": "2019-07-23T20:16:35.466065Z",
     "start_time": "2019-07-23T20:16:34.231409Z"
    }
   },
   "outputs": [
    {
     "name": "stderr",
     "output_type": "stream",
     "text": [
      "16:16:34 : INFO : training model with 10 workers on 136 vocabulary and 100 features, using sg=0 hs=0 sample=0.001 negative=5 window=5\n",
      "16:16:34 : INFO : worker thread finished; awaiting finish of 9 more threads\n",
      "16:16:34 : INFO : worker thread finished; awaiting finish of 8 more threads\n",
      "16:16:34 : INFO : worker thread finished; awaiting finish of 7 more threads\n",
      "16:16:34 : INFO : worker thread finished; awaiting finish of 6 more threads\n",
      "16:16:34 : INFO : worker thread finished; awaiting finish of 5 more threads\n",
      "16:16:34 : INFO : worker thread finished; awaiting finish of 4 more threads\n",
      "16:16:34 : INFO : worker thread finished; awaiting finish of 3 more threads\n",
      "16:16:34 : INFO : worker thread finished; awaiting finish of 2 more threads\n",
      "16:16:34 : INFO : worker thread finished; awaiting finish of 1 more threads\n",
      "16:16:34 : INFO : worker thread finished; awaiting finish of 0 more threads\n",
      "16:16:34 : INFO : EPOCH - 1 : training on 27488 raw words (7903 effective words) took 0.0s, 391156 effective words/s\n",
      "16:16:34 : INFO : worker thread finished; awaiting finish of 9 more threads\n",
      "16:16:34 : INFO : worker thread finished; awaiting finish of 8 more threads\n",
      "16:16:34 : INFO : worker thread finished; awaiting finish of 7 more threads\n",
      "16:16:34 : INFO : worker thread finished; awaiting finish of 6 more threads\n",
      "16:16:34 : INFO : worker thread finished; awaiting finish of 5 more threads\n",
      "16:16:34 : INFO : worker thread finished; awaiting finish of 4 more threads\n",
      "16:16:34 : INFO : worker thread finished; awaiting finish of 3 more threads\n",
      "16:16:34 : INFO : worker thread finished; awaiting finish of 2 more threads\n",
      "16:16:34 : INFO : worker thread finished; awaiting finish of 1 more threads\n",
      "16:16:34 : INFO : worker thread finished; awaiting finish of 0 more threads\n",
      "16:16:34 : INFO : EPOCH - 2 : training on 27488 raw words (7913 effective words) took 0.0s, 491760 effective words/s\n",
      "16:16:34 : INFO : worker thread finished; awaiting finish of 9 more threads\n",
      "16:16:34 : INFO : worker thread finished; awaiting finish of 8 more threads\n",
      "16:16:34 : INFO : worker thread finished; awaiting finish of 7 more threads\n",
      "16:16:34 : INFO : worker thread finished; awaiting finish of 6 more threads\n",
      "16:16:34 : INFO : worker thread finished; awaiting finish of 5 more threads\n",
      "16:16:34 : INFO : worker thread finished; awaiting finish of 4 more threads\n",
      "16:16:34 : INFO : worker thread finished; awaiting finish of 3 more threads\n",
      "16:16:34 : INFO : worker thread finished; awaiting finish of 2 more threads\n",
      "16:16:34 : INFO : worker thread finished; awaiting finish of 1 more threads\n",
      "16:16:34 : INFO : worker thread finished; awaiting finish of 0 more threads\n",
      "16:16:34 : INFO : EPOCH - 3 : training on 27488 raw words (7948 effective words) took 0.0s, 235907 effective words/s\n",
      "16:16:34 : INFO : worker thread finished; awaiting finish of 9 more threads\n",
      "16:16:34 : INFO : worker thread finished; awaiting finish of 8 more threads\n",
      "16:16:34 : INFO : worker thread finished; awaiting finish of 7 more threads\n",
      "16:16:34 : INFO : worker thread finished; awaiting finish of 6 more threads\n",
      "16:16:34 : INFO : worker thread finished; awaiting finish of 5 more threads\n",
      "16:16:34 : INFO : worker thread finished; awaiting finish of 4 more threads\n",
      "16:16:34 : INFO : worker thread finished; awaiting finish of 3 more threads\n",
      "16:16:34 : INFO : worker thread finished; awaiting finish of 2 more threads\n",
      "16:16:34 : INFO : worker thread finished; awaiting finish of 1 more threads\n",
      "16:16:34 : INFO : worker thread finished; awaiting finish of 0 more threads\n",
      "16:16:34 : INFO : EPOCH - 4 : training on 27488 raw words (8010 effective words) took 0.0s, 293763 effective words/s\n",
      "16:16:34 : INFO : worker thread finished; awaiting finish of 9 more threads\n",
      "16:16:34 : INFO : worker thread finished; awaiting finish of 8 more threads\n",
      "16:16:34 : INFO : worker thread finished; awaiting finish of 7 more threads\n",
      "16:16:34 : INFO : worker thread finished; awaiting finish of 6 more threads\n",
      "16:16:34 : INFO : worker thread finished; awaiting finish of 5 more threads\n",
      "16:16:34 : INFO : worker thread finished; awaiting finish of 4 more threads\n",
      "16:16:34 : INFO : worker thread finished; awaiting finish of 3 more threads\n",
      "16:16:34 : INFO : worker thread finished; awaiting finish of 2 more threads\n",
      "16:16:34 : INFO : worker thread finished; awaiting finish of 1 more threads\n",
      "16:16:34 : INFO : worker thread finished; awaiting finish of 0 more threads\n",
      "16:16:34 : INFO : EPOCH - 5 : training on 27488 raw words (7858 effective words) took 0.0s, 322609 effective words/s\n",
      "16:16:34 : INFO : worker thread finished; awaiting finish of 9 more threads\n",
      "16:16:34 : INFO : worker thread finished; awaiting finish of 8 more threads\n",
      "16:16:34 : INFO : worker thread finished; awaiting finish of 7 more threads\n",
      "16:16:34 : INFO : worker thread finished; awaiting finish of 6 more threads\n",
      "16:16:34 : INFO : worker thread finished; awaiting finish of 5 more threads\n",
      "16:16:34 : INFO : worker thread finished; awaiting finish of 4 more threads\n",
      "16:16:34 : INFO : worker thread finished; awaiting finish of 3 more threads\n",
      "16:16:34 : INFO : worker thread finished; awaiting finish of 2 more threads\n",
      "16:16:34 : INFO : worker thread finished; awaiting finish of 1 more threads\n",
      "16:16:34 : INFO : worker thread finished; awaiting finish of 0 more threads\n",
      "16:16:34 : INFO : EPOCH - 6 : training on 27488 raw words (7970 effective words) took 0.0s, 319613 effective words/s\n",
      "16:16:34 : INFO : worker thread finished; awaiting finish of 9 more threads\n",
      "16:16:34 : INFO : worker thread finished; awaiting finish of 8 more threads\n",
      "16:16:34 : INFO : worker thread finished; awaiting finish of 7 more threads\n",
      "16:16:34 : INFO : worker thread finished; awaiting finish of 6 more threads\n",
      "16:16:34 : INFO : worker thread finished; awaiting finish of 5 more threads\n",
      "16:16:34 : INFO : worker thread finished; awaiting finish of 4 more threads\n",
      "16:16:34 : INFO : worker thread finished; awaiting finish of 3 more threads\n",
      "16:16:34 : INFO : worker thread finished; awaiting finish of 2 more threads\n",
      "16:16:34 : INFO : worker thread finished; awaiting finish of 1 more threads\n",
      "16:16:34 : INFO : worker thread finished; awaiting finish of 0 more threads\n",
      "16:16:34 : INFO : EPOCH - 7 : training on 27488 raw words (7964 effective words) took 0.0s, 1047529 effective words/s\n",
      "16:16:34 : INFO : worker thread finished; awaiting finish of 9 more threads\n",
      "16:16:34 : INFO : worker thread finished; awaiting finish of 8 more threads\n",
      "16:16:34 : INFO : worker thread finished; awaiting finish of 7 more threads\n",
      "16:16:34 : INFO : worker thread finished; awaiting finish of 6 more threads\n",
      "16:16:34 : INFO : worker thread finished; awaiting finish of 5 more threads\n",
      "16:16:34 : INFO : worker thread finished; awaiting finish of 4 more threads\n",
      "16:16:34 : INFO : worker thread finished; awaiting finish of 3 more threads\n",
      "16:16:34 : INFO : worker thread finished; awaiting finish of 2 more threads\n",
      "16:16:34 : INFO : worker thread finished; awaiting finish of 1 more threads\n",
      "16:16:34 : INFO : worker thread finished; awaiting finish of 0 more threads\n",
      "16:16:34 : INFO : EPOCH - 8 : training on 27488 raw words (7929 effective words) took 0.0s, 437071 effective words/s\n",
      "16:16:34 : INFO : worker thread finished; awaiting finish of 9 more threads\n",
      "16:16:34 : INFO : worker thread finished; awaiting finish of 8 more threads\n",
      "16:16:34 : INFO : worker thread finished; awaiting finish of 7 more threads\n",
      "16:16:34 : INFO : worker thread finished; awaiting finish of 6 more threads\n",
      "16:16:34 : INFO : worker thread finished; awaiting finish of 5 more threads\n",
      "16:16:34 : INFO : worker thread finished; awaiting finish of 4 more threads\n",
      "16:16:34 : INFO : worker thread finished; awaiting finish of 3 more threads\n",
      "16:16:34 : INFO : worker thread finished; awaiting finish of 2 more threads\n",
      "16:16:34 : INFO : worker thread finished; awaiting finish of 1 more threads\n",
      "16:16:34 : INFO : worker thread finished; awaiting finish of 0 more threads\n",
      "16:16:34 : INFO : EPOCH - 9 : training on 27488 raw words (7875 effective words) took 0.0s, 397460 effective words/s\n",
      "16:16:34 : INFO : worker thread finished; awaiting finish of 9 more threads\n",
      "16:16:34 : INFO : worker thread finished; awaiting finish of 8 more threads\n",
      "16:16:34 : INFO : worker thread finished; awaiting finish of 7 more threads\n"
     ]
    },
    {
     "name": "stderr",
     "output_type": "stream",
     "text": [
      "16:16:34 : INFO : worker thread finished; awaiting finish of 6 more threads\n",
      "16:16:34 : INFO : worker thread finished; awaiting finish of 5 more threads\n",
      "16:16:34 : INFO : worker thread finished; awaiting finish of 4 more threads\n",
      "16:16:34 : INFO : worker thread finished; awaiting finish of 3 more threads\n",
      "16:16:34 : INFO : worker thread finished; awaiting finish of 2 more threads\n",
      "16:16:34 : INFO : worker thread finished; awaiting finish of 1 more threads\n",
      "16:16:34 : INFO : worker thread finished; awaiting finish of 0 more threads\n",
      "16:16:34 : INFO : EPOCH - 10 : training on 27488 raw words (8052 effective words) took 0.0s, 386746 effective words/s\n",
      "16:16:34 : INFO : worker thread finished; awaiting finish of 9 more threads\n",
      "16:16:34 : INFO : worker thread finished; awaiting finish of 8 more threads\n",
      "16:16:34 : INFO : worker thread finished; awaiting finish of 7 more threads\n",
      "16:16:34 : INFO : worker thread finished; awaiting finish of 6 more threads\n",
      "16:16:34 : INFO : worker thread finished; awaiting finish of 5 more threads\n",
      "16:16:34 : INFO : worker thread finished; awaiting finish of 4 more threads\n",
      "16:16:34 : INFO : worker thread finished; awaiting finish of 3 more threads\n",
      "16:16:34 : INFO : worker thread finished; awaiting finish of 2 more threads\n",
      "16:16:34 : INFO : worker thread finished; awaiting finish of 1 more threads\n",
      "16:16:34 : INFO : worker thread finished; awaiting finish of 0 more threads\n",
      "16:16:34 : INFO : EPOCH - 11 : training on 27488 raw words (7913 effective words) took 0.0s, 360999 effective words/s\n",
      "16:16:34 : INFO : worker thread finished; awaiting finish of 9 more threads\n",
      "16:16:34 : INFO : worker thread finished; awaiting finish of 8 more threads\n",
      "16:16:34 : INFO : worker thread finished; awaiting finish of 7 more threads\n",
      "16:16:34 : INFO : worker thread finished; awaiting finish of 6 more threads\n",
      "16:16:34 : INFO : worker thread finished; awaiting finish of 5 more threads\n",
      "16:16:34 : INFO : worker thread finished; awaiting finish of 4 more threads\n",
      "16:16:34 : INFO : worker thread finished; awaiting finish of 3 more threads\n",
      "16:16:34 : INFO : worker thread finished; awaiting finish of 2 more threads\n",
      "16:16:34 : INFO : worker thread finished; awaiting finish of 1 more threads\n",
      "16:16:34 : INFO : worker thread finished; awaiting finish of 0 more threads\n",
      "16:16:34 : INFO : EPOCH - 12 : training on 27488 raw words (7892 effective words) took 0.0s, 349241 effective words/s\n",
      "16:16:34 : INFO : worker thread finished; awaiting finish of 9 more threads\n",
      "16:16:34 : INFO : worker thread finished; awaiting finish of 8 more threads\n",
      "16:16:34 : INFO : worker thread finished; awaiting finish of 7 more threads\n",
      "16:16:34 : INFO : worker thread finished; awaiting finish of 6 more threads\n",
      "16:16:34 : INFO : worker thread finished; awaiting finish of 5 more threads\n",
      "16:16:34 : INFO : worker thread finished; awaiting finish of 4 more threads\n",
      "16:16:34 : INFO : worker thread finished; awaiting finish of 3 more threads\n",
      "16:16:34 : INFO : worker thread finished; awaiting finish of 2 more threads\n",
      "16:16:34 : INFO : worker thread finished; awaiting finish of 1 more threads\n",
      "16:16:34 : INFO : worker thread finished; awaiting finish of 0 more threads\n",
      "16:16:34 : INFO : EPOCH - 13 : training on 27488 raw words (7886 effective words) took 0.0s, 439886 effective words/s\n",
      "16:16:34 : INFO : worker thread finished; awaiting finish of 9 more threads\n",
      "16:16:34 : INFO : worker thread finished; awaiting finish of 8 more threads\n",
      "16:16:34 : INFO : worker thread finished; awaiting finish of 7 more threads\n",
      "16:16:34 : INFO : worker thread finished; awaiting finish of 6 more threads\n",
      "16:16:34 : INFO : worker thread finished; awaiting finish of 5 more threads\n",
      "16:16:34 : INFO : worker thread finished; awaiting finish of 4 more threads\n",
      "16:16:34 : INFO : worker thread finished; awaiting finish of 3 more threads\n",
      "16:16:34 : INFO : worker thread finished; awaiting finish of 2 more threads\n",
      "16:16:34 : INFO : worker thread finished; awaiting finish of 1 more threads\n",
      "16:16:34 : INFO : worker thread finished; awaiting finish of 0 more threads\n",
      "16:16:34 : INFO : EPOCH - 14 : training on 27488 raw words (8025 effective words) took 0.0s, 503267 effective words/s\n",
      "16:16:34 : INFO : worker thread finished; awaiting finish of 9 more threads\n",
      "16:16:34 : INFO : worker thread finished; awaiting finish of 8 more threads\n",
      "16:16:34 : INFO : worker thread finished; awaiting finish of 7 more threads\n",
      "16:16:34 : INFO : worker thread finished; awaiting finish of 6 more threads\n",
      "16:16:34 : INFO : worker thread finished; awaiting finish of 5 more threads\n",
      "16:16:34 : INFO : worker thread finished; awaiting finish of 4 more threads\n",
      "16:16:34 : INFO : worker thread finished; awaiting finish of 3 more threads\n",
      "16:16:34 : INFO : worker thread finished; awaiting finish of 2 more threads\n",
      "16:16:34 : INFO : worker thread finished; awaiting finish of 1 more threads\n",
      "16:16:34 : INFO : worker thread finished; awaiting finish of 0 more threads\n",
      "16:16:34 : INFO : EPOCH - 15 : training on 27488 raw words (7897 effective words) took 0.0s, 543221 effective words/s\n",
      "16:16:34 : INFO : worker thread finished; awaiting finish of 9 more threads\n",
      "16:16:34 : INFO : worker thread finished; awaiting finish of 8 more threads\n",
      "16:16:34 : INFO : worker thread finished; awaiting finish of 7 more threads\n",
      "16:16:34 : INFO : worker thread finished; awaiting finish of 6 more threads\n",
      "16:16:34 : INFO : worker thread finished; awaiting finish of 5 more threads\n",
      "16:16:34 : INFO : worker thread finished; awaiting finish of 4 more threads\n",
      "16:16:34 : INFO : worker thread finished; awaiting finish of 3 more threads\n",
      "16:16:34 : INFO : worker thread finished; awaiting finish of 2 more threads\n",
      "16:16:34 : INFO : worker thread finished; awaiting finish of 1 more threads\n",
      "16:16:34 : INFO : worker thread finished; awaiting finish of 0 more threads\n",
      "16:16:34 : INFO : EPOCH - 16 : training on 27488 raw words (7836 effective words) took 0.0s, 402564 effective words/s\n",
      "16:16:34 : INFO : worker thread finished; awaiting finish of 9 more threads\n",
      "16:16:34 : INFO : worker thread finished; awaiting finish of 8 more threads\n",
      "16:16:34 : INFO : worker thread finished; awaiting finish of 7 more threads\n",
      "16:16:34 : INFO : worker thread finished; awaiting finish of 6 more threads\n",
      "16:16:34 : INFO : worker thread finished; awaiting finish of 5 more threads\n",
      "16:16:34 : INFO : worker thread finished; awaiting finish of 4 more threads\n",
      "16:16:34 : INFO : worker thread finished; awaiting finish of 3 more threads\n",
      "16:16:34 : INFO : worker thread finished; awaiting finish of 2 more threads\n",
      "16:16:34 : INFO : worker thread finished; awaiting finish of 1 more threads\n",
      "16:16:34 : INFO : worker thread finished; awaiting finish of 0 more threads\n",
      "16:16:34 : INFO : EPOCH - 17 : training on 27488 raw words (8014 effective words) took 0.0s, 619224 effective words/s\n",
      "16:16:34 : INFO : worker thread finished; awaiting finish of 9 more threads\n",
      "16:16:34 : INFO : worker thread finished; awaiting finish of 8 more threads\n",
      "16:16:34 : INFO : worker thread finished; awaiting finish of 7 more threads\n",
      "16:16:34 : INFO : worker thread finished; awaiting finish of 6 more threads\n",
      "16:16:34 : INFO : worker thread finished; awaiting finish of 5 more threads\n",
      "16:16:34 : INFO : worker thread finished; awaiting finish of 4 more threads\n",
      "16:16:34 : INFO : worker thread finished; awaiting finish of 3 more threads\n",
      "16:16:34 : INFO : worker thread finished; awaiting finish of 2 more threads\n",
      "16:16:34 : INFO : worker thread finished; awaiting finish of 1 more threads\n",
      "16:16:34 : INFO : worker thread finished; awaiting finish of 0 more threads\n",
      "16:16:34 : INFO : EPOCH - 18 : training on 27488 raw words (7956 effective words) took 0.0s, 399953 effective words/s\n",
      "16:16:34 : INFO : worker thread finished; awaiting finish of 9 more threads\n",
      "16:16:34 : INFO : worker thread finished; awaiting finish of 8 more threads\n",
      "16:16:34 : INFO : worker thread finished; awaiting finish of 7 more threads\n",
      "16:16:34 : INFO : worker thread finished; awaiting finish of 6 more threads\n",
      "16:16:34 : INFO : worker thread finished; awaiting finish of 5 more threads\n",
      "16:16:34 : INFO : worker thread finished; awaiting finish of 4 more threads\n",
      "16:16:34 : INFO : worker thread finished; awaiting finish of 3 more threads\n"
     ]
    },
    {
     "name": "stderr",
     "output_type": "stream",
     "text": [
      "16:16:34 : INFO : worker thread finished; awaiting finish of 2 more threads\n",
      "16:16:34 : INFO : worker thread finished; awaiting finish of 1 more threads\n",
      "16:16:34 : INFO : worker thread finished; awaiting finish of 0 more threads\n",
      "16:16:34 : INFO : EPOCH - 19 : training on 27488 raw words (7966 effective words) took 0.0s, 350381 effective words/s\n",
      "16:16:34 : INFO : worker thread finished; awaiting finish of 9 more threads\n",
      "16:16:34 : INFO : worker thread finished; awaiting finish of 8 more threads\n",
      "16:16:34 : INFO : worker thread finished; awaiting finish of 7 more threads\n",
      "16:16:34 : INFO : worker thread finished; awaiting finish of 6 more threads\n",
      "16:16:34 : INFO : worker thread finished; awaiting finish of 5 more threads\n",
      "16:16:34 : INFO : worker thread finished; awaiting finish of 4 more threads\n",
      "16:16:34 : INFO : worker thread finished; awaiting finish of 3 more threads\n",
      "16:16:34 : INFO : worker thread finished; awaiting finish of 2 more threads\n",
      "16:16:34 : INFO : worker thread finished; awaiting finish of 1 more threads\n",
      "16:16:34 : INFO : worker thread finished; awaiting finish of 0 more threads\n",
      "16:16:34 : INFO : EPOCH - 20 : training on 27488 raw words (8042 effective words) took 0.0s, 368088 effective words/s\n",
      "16:16:34 : INFO : worker thread finished; awaiting finish of 9 more threads\n",
      "16:16:34 : INFO : worker thread finished; awaiting finish of 8 more threads\n",
      "16:16:34 : INFO : worker thread finished; awaiting finish of 7 more threads\n",
      "16:16:34 : INFO : worker thread finished; awaiting finish of 6 more threads\n",
      "16:16:34 : INFO : worker thread finished; awaiting finish of 5 more threads\n",
      "16:16:34 : INFO : worker thread finished; awaiting finish of 4 more threads\n",
      "16:16:34 : INFO : worker thread finished; awaiting finish of 3 more threads\n",
      "16:16:34 : INFO : worker thread finished; awaiting finish of 2 more threads\n",
      "16:16:34 : INFO : worker thread finished; awaiting finish of 1 more threads\n",
      "16:16:34 : INFO : worker thread finished; awaiting finish of 0 more threads\n",
      "16:16:34 : INFO : EPOCH - 21 : training on 27488 raw words (7983 effective words) took 0.0s, 589363 effective words/s\n",
      "16:16:34 : INFO : worker thread finished; awaiting finish of 9 more threads\n",
      "16:16:34 : INFO : worker thread finished; awaiting finish of 8 more threads\n",
      "16:16:34 : INFO : worker thread finished; awaiting finish of 7 more threads\n",
      "16:16:34 : INFO : worker thread finished; awaiting finish of 6 more threads\n",
      "16:16:34 : INFO : worker thread finished; awaiting finish of 5 more threads\n",
      "16:16:34 : INFO : worker thread finished; awaiting finish of 4 more threads\n",
      "16:16:34 : INFO : worker thread finished; awaiting finish of 3 more threads\n",
      "16:16:34 : INFO : worker thread finished; awaiting finish of 2 more threads\n",
      "16:16:34 : INFO : worker thread finished; awaiting finish of 1 more threads\n",
      "16:16:34 : INFO : worker thread finished; awaiting finish of 0 more threads\n",
      "16:16:34 : INFO : EPOCH - 22 : training on 27488 raw words (8029 effective words) took 0.0s, 433644 effective words/s\n",
      "16:16:34 : INFO : worker thread finished; awaiting finish of 9 more threads\n",
      "16:16:34 : INFO : worker thread finished; awaiting finish of 8 more threads\n",
      "16:16:34 : INFO : worker thread finished; awaiting finish of 7 more threads\n",
      "16:16:34 : INFO : worker thread finished; awaiting finish of 6 more threads\n",
      "16:16:34 : INFO : worker thread finished; awaiting finish of 5 more threads\n",
      "16:16:34 : INFO : worker thread finished; awaiting finish of 4 more threads\n",
      "16:16:34 : INFO : worker thread finished; awaiting finish of 3 more threads\n",
      "16:16:34 : INFO : worker thread finished; awaiting finish of 2 more threads\n",
      "16:16:34 : INFO : worker thread finished; awaiting finish of 1 more threads\n",
      "16:16:34 : INFO : worker thread finished; awaiting finish of 0 more threads\n",
      "16:16:34 : INFO : EPOCH - 23 : training on 27488 raw words (7873 effective words) took 0.0s, 432687 effective words/s\n",
      "16:16:34 : INFO : worker thread finished; awaiting finish of 9 more threads\n",
      "16:16:34 : INFO : worker thread finished; awaiting finish of 8 more threads\n",
      "16:16:34 : INFO : worker thread finished; awaiting finish of 7 more threads\n",
      "16:16:34 : INFO : worker thread finished; awaiting finish of 6 more threads\n",
      "16:16:34 : INFO : worker thread finished; awaiting finish of 5 more threads\n",
      "16:16:34 : INFO : worker thread finished; awaiting finish of 4 more threads\n",
      "16:16:34 : INFO : worker thread finished; awaiting finish of 3 more threads\n",
      "16:16:34 : INFO : worker thread finished; awaiting finish of 2 more threads\n",
      "16:16:34 : INFO : worker thread finished; awaiting finish of 1 more threads\n",
      "16:16:34 : INFO : worker thread finished; awaiting finish of 0 more threads\n",
      "16:16:34 : INFO : EPOCH - 24 : training on 27488 raw words (7888 effective words) took 0.0s, 493693 effective words/s\n",
      "16:16:34 : INFO : worker thread finished; awaiting finish of 9 more threads\n",
      "16:16:34 : INFO : worker thread finished; awaiting finish of 8 more threads\n",
      "16:16:34 : INFO : worker thread finished; awaiting finish of 7 more threads\n",
      "16:16:34 : INFO : worker thread finished; awaiting finish of 6 more threads\n",
      "16:16:34 : INFO : worker thread finished; awaiting finish of 5 more threads\n",
      "16:16:34 : INFO : worker thread finished; awaiting finish of 4 more threads\n",
      "16:16:34 : INFO : worker thread finished; awaiting finish of 3 more threads\n",
      "16:16:34 : INFO : worker thread finished; awaiting finish of 2 more threads\n",
      "16:16:34 : INFO : worker thread finished; awaiting finish of 1 more threads\n",
      "16:16:34 : INFO : worker thread finished; awaiting finish of 0 more threads\n",
      "16:16:34 : INFO : EPOCH - 25 : training on 27488 raw words (7964 effective words) took 0.0s, 351397 effective words/s\n",
      "16:16:35 : INFO : worker thread finished; awaiting finish of 9 more threads\n",
      "16:16:35 : INFO : worker thread finished; awaiting finish of 8 more threads\n",
      "16:16:35 : INFO : worker thread finished; awaiting finish of 7 more threads\n",
      "16:16:35 : INFO : worker thread finished; awaiting finish of 6 more threads\n",
      "16:16:35 : INFO : worker thread finished; awaiting finish of 5 more threads\n",
      "16:16:35 : INFO : worker thread finished; awaiting finish of 4 more threads\n",
      "16:16:35 : INFO : worker thread finished; awaiting finish of 3 more threads\n",
      "16:16:35 : INFO : worker thread finished; awaiting finish of 2 more threads\n",
      "16:16:35 : INFO : worker thread finished; awaiting finish of 1 more threads\n",
      "16:16:35 : INFO : worker thread finished; awaiting finish of 0 more threads\n",
      "16:16:35 : INFO : EPOCH - 26 : training on 27488 raw words (7898 effective words) took 0.0s, 411857 effective words/s\n",
      "16:16:35 : INFO : worker thread finished; awaiting finish of 9 more threads\n",
      "16:16:35 : INFO : worker thread finished; awaiting finish of 8 more threads\n",
      "16:16:35 : INFO : worker thread finished; awaiting finish of 7 more threads\n",
      "16:16:35 : INFO : worker thread finished; awaiting finish of 6 more threads\n",
      "16:16:35 : INFO : worker thread finished; awaiting finish of 5 more threads\n",
      "16:16:35 : INFO : worker thread finished; awaiting finish of 4 more threads\n",
      "16:16:35 : INFO : worker thread finished; awaiting finish of 3 more threads\n",
      "16:16:35 : INFO : worker thread finished; awaiting finish of 2 more threads\n",
      "16:16:35 : INFO : worker thread finished; awaiting finish of 1 more threads\n",
      "16:16:35 : INFO : worker thread finished; awaiting finish of 0 more threads\n",
      "16:16:35 : INFO : EPOCH - 27 : training on 27488 raw words (7845 effective words) took 0.0s, 361227 effective words/s\n",
      "16:16:35 : INFO : worker thread finished; awaiting finish of 9 more threads\n",
      "16:16:35 : INFO : worker thread finished; awaiting finish of 8 more threads\n",
      "16:16:35 : INFO : worker thread finished; awaiting finish of 7 more threads\n",
      "16:16:35 : INFO : worker thread finished; awaiting finish of 6 more threads\n",
      "16:16:35 : INFO : worker thread finished; awaiting finish of 5 more threads\n",
      "16:16:35 : INFO : worker thread finished; awaiting finish of 4 more threads\n",
      "16:16:35 : INFO : worker thread finished; awaiting finish of 3 more threads\n",
      "16:16:35 : INFO : worker thread finished; awaiting finish of 2 more threads\n",
      "16:16:35 : INFO : worker thread finished; awaiting finish of 1 more threads\n",
      "16:16:35 : INFO : worker thread finished; awaiting finish of 0 more threads\n",
      "16:16:35 : INFO : EPOCH - 28 : training on 27488 raw words (8018 effective words) took 0.0s, 411213 effective words/s\n"
     ]
    },
    {
     "name": "stderr",
     "output_type": "stream",
     "text": [
      "16:16:35 : INFO : worker thread finished; awaiting finish of 9 more threads\n",
      "16:16:35 : INFO : worker thread finished; awaiting finish of 8 more threads\n",
      "16:16:35 : INFO : worker thread finished; awaiting finish of 7 more threads\n",
      "16:16:35 : INFO : worker thread finished; awaiting finish of 6 more threads\n",
      "16:16:35 : INFO : worker thread finished; awaiting finish of 5 more threads\n",
      "16:16:35 : INFO : worker thread finished; awaiting finish of 4 more threads\n",
      "16:16:35 : INFO : worker thread finished; awaiting finish of 3 more threads\n",
      "16:16:35 : INFO : worker thread finished; awaiting finish of 2 more threads\n",
      "16:16:35 : INFO : worker thread finished; awaiting finish of 1 more threads\n",
      "16:16:35 : INFO : worker thread finished; awaiting finish of 0 more threads\n",
      "16:16:35 : INFO : EPOCH - 29 : training on 27488 raw words (7949 effective words) took 0.0s, 423370 effective words/s\n",
      "16:16:35 : INFO : worker thread finished; awaiting finish of 9 more threads\n",
      "16:16:35 : INFO : worker thread finished; awaiting finish of 8 more threads\n",
      "16:16:35 : INFO : worker thread finished; awaiting finish of 7 more threads\n",
      "16:16:35 : INFO : worker thread finished; awaiting finish of 6 more threads\n",
      "16:16:35 : INFO : worker thread finished; awaiting finish of 5 more threads\n",
      "16:16:35 : INFO : worker thread finished; awaiting finish of 4 more threads\n",
      "16:16:35 : INFO : worker thread finished; awaiting finish of 3 more threads\n",
      "16:16:35 : INFO : worker thread finished; awaiting finish of 2 more threads\n",
      "16:16:35 : INFO : worker thread finished; awaiting finish of 1 more threads\n",
      "16:16:35 : INFO : worker thread finished; awaiting finish of 0 more threads\n",
      "16:16:35 : INFO : EPOCH - 30 : training on 27488 raw words (8024 effective words) took 0.0s, 380935 effective words/s\n",
      "16:16:35 : INFO : worker thread finished; awaiting finish of 9 more threads\n",
      "16:16:35 : INFO : worker thread finished; awaiting finish of 8 more threads\n",
      "16:16:35 : INFO : worker thread finished; awaiting finish of 7 more threads\n",
      "16:16:35 : INFO : worker thread finished; awaiting finish of 6 more threads\n",
      "16:16:35 : INFO : worker thread finished; awaiting finish of 5 more threads\n",
      "16:16:35 : INFO : worker thread finished; awaiting finish of 4 more threads\n",
      "16:16:35 : INFO : worker thread finished; awaiting finish of 3 more threads\n",
      "16:16:35 : INFO : worker thread finished; awaiting finish of 2 more threads\n",
      "16:16:35 : INFO : worker thread finished; awaiting finish of 1 more threads\n",
      "16:16:35 : INFO : worker thread finished; awaiting finish of 0 more threads\n",
      "16:16:35 : INFO : EPOCH - 31 : training on 27488 raw words (8012 effective words) took 0.0s, 464356 effective words/s\n",
      "16:16:35 : INFO : worker thread finished; awaiting finish of 9 more threads\n",
      "16:16:35 : INFO : worker thread finished; awaiting finish of 8 more threads\n",
      "16:16:35 : INFO : worker thread finished; awaiting finish of 7 more threads\n",
      "16:16:35 : INFO : worker thread finished; awaiting finish of 6 more threads\n",
      "16:16:35 : INFO : worker thread finished; awaiting finish of 5 more threads\n",
      "16:16:35 : INFO : worker thread finished; awaiting finish of 4 more threads\n",
      "16:16:35 : INFO : worker thread finished; awaiting finish of 3 more threads\n",
      "16:16:35 : INFO : worker thread finished; awaiting finish of 2 more threads\n",
      "16:16:35 : INFO : worker thread finished; awaiting finish of 1 more threads\n",
      "16:16:35 : INFO : worker thread finished; awaiting finish of 0 more threads\n",
      "16:16:35 : INFO : EPOCH - 32 : training on 27488 raw words (8033 effective words) took 0.0s, 422129 effective words/s\n",
      "16:16:35 : INFO : worker thread finished; awaiting finish of 9 more threads\n",
      "16:16:35 : INFO : worker thread finished; awaiting finish of 8 more threads\n",
      "16:16:35 : INFO : worker thread finished; awaiting finish of 7 more threads\n",
      "16:16:35 : INFO : worker thread finished; awaiting finish of 6 more threads\n",
      "16:16:35 : INFO : worker thread finished; awaiting finish of 5 more threads\n",
      "16:16:35 : INFO : worker thread finished; awaiting finish of 4 more threads\n",
      "16:16:35 : INFO : worker thread finished; awaiting finish of 3 more threads\n",
      "16:16:35 : INFO : worker thread finished; awaiting finish of 2 more threads\n",
      "16:16:35 : INFO : worker thread finished; awaiting finish of 1 more threads\n",
      "16:16:35 : INFO : worker thread finished; awaiting finish of 0 more threads\n",
      "16:16:35 : INFO : EPOCH - 33 : training on 27488 raw words (7936 effective words) took 0.0s, 388900 effective words/s\n",
      "16:16:35 : INFO : worker thread finished; awaiting finish of 9 more threads\n",
      "16:16:35 : INFO : worker thread finished; awaiting finish of 8 more threads\n",
      "16:16:35 : INFO : worker thread finished; awaiting finish of 7 more threads\n",
      "16:16:35 : INFO : worker thread finished; awaiting finish of 6 more threads\n",
      "16:16:35 : INFO : worker thread finished; awaiting finish of 5 more threads\n",
      "16:16:35 : INFO : worker thread finished; awaiting finish of 4 more threads\n",
      "16:16:35 : INFO : worker thread finished; awaiting finish of 3 more threads\n",
      "16:16:35 : INFO : worker thread finished; awaiting finish of 2 more threads\n",
      "16:16:35 : INFO : worker thread finished; awaiting finish of 1 more threads\n",
      "16:16:35 : INFO : worker thread finished; awaiting finish of 0 more threads\n",
      "16:16:35 : INFO : EPOCH - 34 : training on 27488 raw words (7894 effective words) took 0.0s, 428850 effective words/s\n",
      "16:16:35 : INFO : worker thread finished; awaiting finish of 9 more threads\n",
      "16:16:35 : INFO : worker thread finished; awaiting finish of 8 more threads\n",
      "16:16:35 : INFO : worker thread finished; awaiting finish of 7 more threads\n",
      "16:16:35 : INFO : worker thread finished; awaiting finish of 6 more threads\n",
      "16:16:35 : INFO : worker thread finished; awaiting finish of 5 more threads\n",
      "16:16:35 : INFO : worker thread finished; awaiting finish of 4 more threads\n",
      "16:16:35 : INFO : worker thread finished; awaiting finish of 3 more threads\n",
      "16:16:35 : INFO : worker thread finished; awaiting finish of 2 more threads\n",
      "16:16:35 : INFO : worker thread finished; awaiting finish of 1 more threads\n",
      "16:16:35 : INFO : worker thread finished; awaiting finish of 0 more threads\n",
      "16:16:35 : INFO : EPOCH - 35 : training on 27488 raw words (7967 effective words) took 0.0s, 443099 effective words/s\n",
      "16:16:35 : INFO : worker thread finished; awaiting finish of 9 more threads\n",
      "16:16:35 : INFO : worker thread finished; awaiting finish of 8 more threads\n",
      "16:16:35 : INFO : worker thread finished; awaiting finish of 7 more threads\n",
      "16:16:35 : INFO : worker thread finished; awaiting finish of 6 more threads\n",
      "16:16:35 : INFO : worker thread finished; awaiting finish of 5 more threads\n",
      "16:16:35 : INFO : worker thread finished; awaiting finish of 4 more threads\n",
      "16:16:35 : INFO : worker thread finished; awaiting finish of 3 more threads\n",
      "16:16:35 : INFO : worker thread finished; awaiting finish of 2 more threads\n",
      "16:16:35 : INFO : worker thread finished; awaiting finish of 1 more threads\n",
      "16:16:35 : INFO : worker thread finished; awaiting finish of 0 more threads\n",
      "16:16:35 : INFO : EPOCH - 36 : training on 27488 raw words (7913 effective words) took 0.0s, 364440 effective words/s\n",
      "16:16:35 : INFO : worker thread finished; awaiting finish of 9 more threads\n",
      "16:16:35 : INFO : worker thread finished; awaiting finish of 8 more threads\n",
      "16:16:35 : INFO : worker thread finished; awaiting finish of 7 more threads\n",
      "16:16:35 : INFO : worker thread finished; awaiting finish of 6 more threads\n",
      "16:16:35 : INFO : worker thread finished; awaiting finish of 5 more threads\n",
      "16:16:35 : INFO : worker thread finished; awaiting finish of 4 more threads\n",
      "16:16:35 : INFO : worker thread finished; awaiting finish of 3 more threads\n",
      "16:16:35 : INFO : worker thread finished; awaiting finish of 2 more threads\n",
      "16:16:35 : INFO : worker thread finished; awaiting finish of 1 more threads\n",
      "16:16:35 : INFO : worker thread finished; awaiting finish of 0 more threads\n",
      "16:16:35 : INFO : EPOCH - 37 : training on 27488 raw words (7974 effective words) took 0.0s, 517043 effective words/s\n",
      "16:16:35 : INFO : worker thread finished; awaiting finish of 9 more threads\n",
      "16:16:35 : INFO : worker thread finished; awaiting finish of 8 more threads\n",
      "16:16:35 : INFO : worker thread finished; awaiting finish of 7 more threads\n",
      "16:16:35 : INFO : worker thread finished; awaiting finish of 6 more threads\n"
     ]
    },
    {
     "name": "stderr",
     "output_type": "stream",
     "text": [
      "16:16:35 : INFO : worker thread finished; awaiting finish of 5 more threads\n",
      "16:16:35 : INFO : worker thread finished; awaiting finish of 4 more threads\n",
      "16:16:35 : INFO : worker thread finished; awaiting finish of 3 more threads\n",
      "16:16:35 : INFO : worker thread finished; awaiting finish of 2 more threads\n",
      "16:16:35 : INFO : worker thread finished; awaiting finish of 1 more threads\n",
      "16:16:35 : INFO : worker thread finished; awaiting finish of 0 more threads\n",
      "16:16:35 : INFO : EPOCH - 38 : training on 27488 raw words (7914 effective words) took 0.0s, 353255 effective words/s\n",
      "16:16:35 : INFO : worker thread finished; awaiting finish of 9 more threads\n",
      "16:16:35 : INFO : worker thread finished; awaiting finish of 8 more threads\n",
      "16:16:35 : INFO : worker thread finished; awaiting finish of 7 more threads\n",
      "16:16:35 : INFO : worker thread finished; awaiting finish of 6 more threads\n",
      "16:16:35 : INFO : worker thread finished; awaiting finish of 5 more threads\n",
      "16:16:35 : INFO : worker thread finished; awaiting finish of 4 more threads\n",
      "16:16:35 : INFO : worker thread finished; awaiting finish of 3 more threads\n",
      "16:16:35 : INFO : worker thread finished; awaiting finish of 2 more threads\n",
      "16:16:35 : INFO : worker thread finished; awaiting finish of 1 more threads\n",
      "16:16:35 : INFO : worker thread finished; awaiting finish of 0 more threads\n",
      "16:16:35 : INFO : EPOCH - 39 : training on 27488 raw words (7928 effective words) took 0.0s, 406481 effective words/s\n",
      "16:16:35 : INFO : worker thread finished; awaiting finish of 9 more threads\n",
      "16:16:35 : INFO : worker thread finished; awaiting finish of 8 more threads\n",
      "16:16:35 : INFO : worker thread finished; awaiting finish of 7 more threads\n",
      "16:16:35 : INFO : worker thread finished; awaiting finish of 6 more threads\n",
      "16:16:35 : INFO : worker thread finished; awaiting finish of 5 more threads\n",
      "16:16:35 : INFO : worker thread finished; awaiting finish of 4 more threads\n",
      "16:16:35 : INFO : worker thread finished; awaiting finish of 3 more threads\n",
      "16:16:35 : INFO : worker thread finished; awaiting finish of 2 more threads\n",
      "16:16:35 : INFO : worker thread finished; awaiting finish of 1 more threads\n",
      "16:16:35 : INFO : worker thread finished; awaiting finish of 0 more threads\n",
      "16:16:35 : INFO : EPOCH - 40 : training on 27488 raw words (7949 effective words) took 0.0s, 393504 effective words/s\n",
      "16:16:35 : INFO : training on a 1099520 raw words (317840 effective words) took 1.2s, 259260 effective words/s\n"
     ]
    },
    {
     "data": {
      "text/plain": [
       "(317840, 1099520)"
      ]
     },
     "execution_count": 17,
     "metadata": {},
     "output_type": "execute_result"
    }
   ],
   "source": [
    "model.train(ingredients_per_recipe, total_examples=model.corpus_count,\n",
    "           epochs=40, report_delay=1)"
   ]
  },
  {
   "cell_type": "code",
   "execution_count": 18,
   "metadata": {
    "ExecuteTime": {
     "end_time": "2019-07-23T20:16:40.835449Z",
     "start_time": "2019-07-23T20:16:40.827862Z"
    }
   },
   "outputs": [
    {
     "name": "stderr",
     "output_type": "stream",
     "text": [
      "16:16:40 : INFO : precomputing L2-norms of word weight vectors\n"
     ]
    }
   ],
   "source": [
    "model.init_sims(replace=True)"
   ]
  },
  {
   "cell_type": "code",
   "execution_count": 19,
   "metadata": {
    "ExecuteTime": {
     "end_time": "2019-07-23T20:16:45.640719Z",
     "start_time": "2019-07-23T20:16:45.628805Z"
    }
   },
   "outputs": [
    {
     "data": {
      "text/plain": [
       "[('raisin', 0.9913337230682373),\n",
       " ('applesauce', 0.977846622467041),\n",
       " ('carrot', 0.971808671951294),\n",
       " ('clove', 0.9607939720153809),\n",
       " ('ginger', 0.9582724571228027),\n",
       " ('apple juice', 0.9580904841423035),\n",
       " ('unsweetened applesauce', 0.9540296792984009),\n",
       " ('nutmeg', 0.9530465602874756),\n",
       " ('allspice', 0.9498273134231567),\n",
       " ('cinnamon', 0.9492180943489075)]"
      ]
     },
     "execution_count": 19,
     "metadata": {},
     "output_type": "execute_result"
    }
   ],
   "source": [
    "w1='apple'\n",
    "# w1='rum'\n",
    "model.wv.most_similar(positive=w1, topn=10)"
   ]
  },
  {
   "cell_type": "code",
   "execution_count": 20,
   "metadata": {
    "ExecuteTime": {
     "end_time": "2019-07-23T20:16:50.750400Z",
     "start_time": "2019-07-23T20:16:50.739857Z"
    },
    "scrolled": true
   },
   "outputs": [
    {
     "data": {
      "text/plain": [
       "[('oats', 0.8970291614532471),\n",
       " ('unsweetened applesauce', 0.8747656345367432),\n",
       " ('honey', 0.87437903881073),\n",
       " ('rolled oats', 0.8737241625785828),\n",
       " ('applesauce', 0.8705345392227173),\n",
       " ('olive oil', 0.8584024906158447),\n",
       " ('apple juice', 0.8570231199264526),\n",
       " ('date', 0.8411449193954468),\n",
       " ('granny smith apple', 0.8403807878494263),\n",
       " ('raisin', 0.835991382598877)]"
      ]
     },
     "execution_count": 20,
     "metadata": {},
     "output_type": "execute_result"
    }
   ],
   "source": [
    "\n",
    "model.wv.most_similar(positive=['apple','banana'],\n",
    "                      negative=['butter'],topn=10)"
   ]
  },
  {
   "cell_type": "code",
   "execution_count": null,
   "metadata": {
    "ExecuteTime": {
     "end_time": "2019-07-20T17:43:24.352195Z",
     "start_time": "2019-07-20T17:43:24.347123Z"
    }
   },
   "outputs": [],
   "source": [
    "# witem = model.wv.__getitem__(['ginger'])\n",
    "# witem[0]"
   ]
  },
  {
   "cell_type": "code",
   "execution_count": 22,
   "metadata": {
    "ExecuteTime": {
     "end_time": "2019-07-23T20:17:00.779656Z",
     "start_time": "2019-07-23T20:17:00.775229Z"
    }
   },
   "outputs": [
    {
     "data": {
      "text/plain": [
       "'apple'"
      ]
     },
     "execution_count": 22,
     "metadata": {},
     "output_type": "execute_result"
    }
   ],
   "source": [
    "model.wv.doesnt_match(['apple','butter','banana',\n",
    "                       'rum'])"
   ]
  },
  {
   "cell_type": "code",
   "execution_count": 23,
   "metadata": {
    "ExecuteTime": {
     "end_time": "2019-07-23T20:17:05.757056Z",
     "start_time": "2019-07-23T20:17:05.508554Z"
    }
   },
   "outputs": [],
   "source": [
    "import matplotlib.pyplot as plt\n",
    "%matplotlib inline \n",
    "import pandas as pd\n",
    "import seaborn as sns\n",
    "sns.set_style('darkgrid')\n",
    "\n",
    "from sklearn.decomposition import PCA\n",
    "\n",
    "\n",
    "from mpl_toolkits.mplot3d import Axes3D"
   ]
  },
  {
   "cell_type": "code",
   "execution_count": 24,
   "metadata": {
    "ExecuteTime": {
     "end_time": "2019-07-23T20:17:10.504498Z",
     "start_time": "2019-07-23T20:17:10.482517Z"
    }
   },
   "outputs": [],
   "source": [
    "\n",
    "def ingredient_scatterplot(model, word):\n",
    "    # create an array with the same size as the vector\n",
    "    arrays = np.empty((0,vec_size), dtype='f')\n",
    "    # set the original word,     \n",
    "    word_labels = [word]\n",
    "    color_list = ['red']\n",
    "    # append the vector for the test word\n",
    "    arrays = np.append(arrays, model.wv.__getitem__([word]),axis=0)\n",
    "    \n",
    "    ####### get the closest words and make then blue\n",
    "    #get a list of the most similar words\n",
    "    close_words = model.wv.most_similar([word],topn=25)\n",
    "    \n",
    "    for word_score in close_words:\n",
    "        # for each word get the vector  \n",
    "        word_vector = model.wv.__getitem__([word_score[0]])\n",
    "        # get the name\n",
    "        word_labels.append(word_score[0])\n",
    "        color_list.append('blue')\n",
    "        arrays = np.append(arrays, word_vector, axis=0)\n",
    "             \n",
    "    Y = PCA(n_components=2).fit_transform(arrays)\n",
    "    \n",
    "    df = pd.DataFrame({'x':[x for x in Y[:, 0]],\n",
    "                       'y':[y for y in Y[:, 1]],\n",
    "#                        'z':[z for z in Y[:, 2]],\n",
    "                       'words':word_labels,\n",
    "                       'color': color_list})\n",
    "    \n",
    "    fig, _ = plt.subplots()\n",
    "    fig.set_size_inches(8,6)\n",
    "    \n",
    "    p1 = sns.regplot(data=df, \n",
    "                    x='x',y='y',fit_reg=False,\n",
    "                    marker='x',\n",
    "                    scatter_kws={'s':40,\n",
    "                                'facecolors':df['color']})\n",
    "    \n",
    "    for line in range(df.shape[0]):\n",
    "        p1.text(df['x'][line],df['y'][line],#df['z'][line],\n",
    "               '  '+df['words'][line].title(),\n",
    "               horizontalalignment='left',\n",
    "                verticalalignment='bottom',size='large',\n",
    "                color=df['color'][line],weight='normal'\n",
    "               ).set_size(10)\n",
    "#     fig = plt.figure(figsize=(8,6))\n",
    "#     ax = Axes3D(fig)  \n",
    "    \n",
    "#     ax.scatter(df['x'], df['y'], df['z'], marker='o')\n",
    "    plt.xlim(Y[:,0].min()-0.1, Y[:,0].max()+0.1 )\n",
    "    plt.ylim(Y[:,1].min()-0.1, Y[:,1].max()+0.1 )\n",
    "#     plt.zlim(Y[:,2].min(), Y[:,2].max() )\n",
    "    plt.title('Food pairing for {}'.format(word.title()))"
   ]
  },
  {
   "cell_type": "code",
   "execution_count": null,
   "metadata": {},
   "outputs": [],
   "source": []
  },
  {
   "cell_type": "code",
   "execution_count": 25,
   "metadata": {
    "ExecuteTime": {
     "end_time": "2019-07-23T20:17:15.922630Z",
     "start_time": "2019-07-23T20:17:15.736316Z"
    }
   },
   "outputs": [
    {
     "data": {
      "image/png": "[encoded data removed]",
      "text/plain": [
       "<Figure size 576x432 with 1 Axes>"
      ]
     },
     "metadata": {},
     "output_type": "display_data"
    }
   ],
   "source": [
    "ingredient_scatterplot(model, 'apple')"
   ]
  },
  {
   "cell_type": "code",
   "execution_count": 28,
   "metadata": {
    "ExecuteTime": {
     "end_time": "2019-07-23T20:18:16.682521Z",
     "start_time": "2019-07-23T20:18:16.459619Z"
    },
    "scrolled": true
   },
   "outputs": [
    {
     "data": {
      "image/png": "[encoded data removed]",
      "text/plain": [
       "<Figure size 576x432 with 1 Axes>"
      ]
     },
     "metadata": {},
     "output_type": "display_data"
    }
   ],
   "source": [
    "test_word = 'orange'\n",
    "ingredient_scatterplot(model, test_word)"
   ]
  },
  {
   "cell_type": "code",
   "execution_count": null,
   "metadata": {
    "ExecuteTime": {
     "end_time": "2019-07-23T17:26:55.939707Z",
     "start_time": "2019-07-23T17:26:55.744084Z"
    },
    "scrolled": true
   },
   "outputs": [],
   "source": [
    "\n",
    "\n"
   ]
  },
  {
   "cell_type": "markdown",
   "metadata": {
    "heading_collapsed": true
   },
   "source": [
    "### Make a network graph"
   ]
  },
  {
   "cell_type": "code",
   "execution_count": null,
   "metadata": {
    "ExecuteTime": {
     "end_time": "2019-07-23T17:28:40.238667Z",
     "start_time": "2019-07-23T17:28:39.671704Z"
    },
    "hidden": true
   },
   "outputs": [],
   "source": [
    "import networkx as nx\n"
   ]
  },
  {
   "cell_type": "code",
   "execution_count": null,
   "metadata": {
    "ExecuteTime": {
     "end_time": "2019-07-23T18:32:24.911250Z",
     "start_time": "2019-07-23T18:32:24.728636Z"
    },
    "hidden": true
   },
   "outputs": [],
   "source": [
    "\n",
    "w1='rum'\n",
    "ingred_list = model.wv.most_similar(positive=w1, topn=20)\n",
    "\n",
    "# print(ingred_list)\n",
    "G = nx.Graph()\n",
    "G.add_node(w1,nodesize=20)\n",
    "for n_node, ingred in enumerate(ingred_list):\n",
    "    G.add_node(ingred[0], nodesize=ingred[1]*10)\n",
    "    G.add_weighted_edges_from([(w1, ingred[0], ingred[1])])\n",
    "               \n",
    "sizes = [G.node[node]['nodesize']*300 for node in G]\n",
    "        #     G.add_edge(1,n_node+2)\n",
    "# G.add_nodes_from([1,2,3,4,5,6,7])\n",
    "# G.add_edge(1,2)\n",
    "# G.add_edge(1,3)\n",
    "# G.add_edge(1,4)\n",
    "# G.add_edge(1,5)\n",
    "# G.add_edge(1,6)\n",
    "# G.add_edge(1,7)\n",
    "\n",
    "# G.node[1]['label']='blue'\n",
    "# G.add_edge(1,4)\n",
    "\n",
    "plt.figure(figsize=(10,8))\n",
    "\n",
    "options = {\n",
    "    'edge_color': '#4C34EB',\n",
    "    'width': 1,\n",
    "    'with_labels': True,\n",
    "    'font_weight': 'heavy',\n",
    "}\n",
    "\n",
    "nx.draw(G,  node_size=sizes, \n",
    "        pos=nx.spring_layout(G, k=0.5, iterations=50), **options)\n",
    "# ax = plt.gca()\n",
    "# ax.collections[0].set_edgecolor('#5555')\n",
    "# plt.show()"
   ]
  },
  {
   "cell_type": "code",
   "execution_count": null,
   "metadata": {
    "ExecuteTime": {
     "end_time": "2019-07-23T18:01:16.073938Z",
     "start_time": "2019-07-23T18:01:16.064670Z"
    },
    "hidden": true
   },
   "outputs": [],
   "source": [
    "G.nodes"
   ]
  },
  {
   "cell_type": "code",
   "execution_count": null,
   "metadata": {
    "hidden": true
   },
   "outputs": [],
   "source": []
  },
  {
   "cell_type": "markdown",
   "metadata": {
    "heading_collapsed": true
   },
   "source": [
    "## look at unique values"
   ]
  },
  {
   "cell_type": "code",
   "execution_count": 9,
   "metadata": {
    "ExecuteTime": {
     "end_time": "2019-07-23T18:53:59.682147Z",
     "start_time": "2019-07-23T18:53:59.675450Z"
    },
    "hidden": true
   },
   "outputs": [],
   "source": []
  },
  {
   "cell_type": "code",
   "execution_count": 20,
   "metadata": {
    "ExecuteTime": {
     "end_time": "2019-07-24T14:10:49.278295Z",
     "start_time": "2019-07-24T14:10:49.257465Z"
    },
    "hidden": true,
    "scrolled": true
   },
   "outputs": [],
   "source": [
    "# create bag of ingredients\n",
    "\n",
    "all_ingredients = []\n",
    "\n",
    "for recipe_ings in clean_ingredients:# dessert_ings:\n",
    "    n_ingredients = len(recipe_ings['valid'])\n",
    "    for item, ingredient in enumerate(recipe_ings['ingredients']):\n",
    "#         if recipe_ings['valid'][item] ==True:\n",
    "        ingred = ingredient['text'].lower()\n",
    "\n",
    "        all_ingredients.append(ingred)\n",
    "                \n",
    "\n",
    "            "
   ]
  },
  {
   "cell_type": "code",
   "execution_count": 21,
   "metadata": {
    "ExecuteTime": {
     "end_time": "2019-07-24T14:10:56.607658Z",
     "start_time": "2019-07-24T14:10:56.586693Z"
    },
    "hidden": true
   },
   "outputs": [],
   "source": [
    "\n",
    "### Funciton to retrieve reciepes given an ingredient list\n",
    "\n",
    "def get_recipes_for_ingredients(search_list, ingredients_list, recipe_list):\n",
    "    \"\"\"\n",
    "    Function to look for a recipe with all the ingredients in  the list passed\n",
    "    \n",
    "    Output:\n",
    "        List of ingredients.\n",
    "    \"\"\"\n",
    "    \n",
    "    found_recipe_list = []\n",
    "    found_ingredient_list = []\n",
    "    for item,recipe_ingrs in enumerate(ingredients_list):\n",
    "        temp_ingr_list = []\n",
    "        ingredients = recipe_ingrs['ingredients']\n",
    "        n_ingredients = len(ingredients)\n",
    "        found_ingredient =0\n",
    "        for ingredient in ingredients:\n",
    "            if re.search(search_list[0], ingredient['text']):\n",
    "                found_ingredient=1\n",
    "            temp_ingr_list.append(ingredient['text'])\n",
    "\n",
    "        # find all elements in the list\n",
    "#         result = all(elem in temp_ingr_list for elem in search_list)\n",
    "        # find any elements in the list\n",
    "        result = any(singularize(elem) in temp_ingr_list for elem in search_list)\n",
    "        \n",
    "        \n",
    "        if result or found_ingredient==1:\n",
    "            found_recipe_list.append(recipe_list[item])\n",
    "            found_ingredient_list.append(temp_ingr_list)\n",
    "#             print('adding item', item)\n",
    "           \n",
    "    \n",
    "    \n",
    "    \n",
    "    return found_recipe_list, found_ingredient_list\n",
    "    "
   ]
  },
  {
   "cell_type": "code",
   "execution_count": 17,
   "metadata": {
    "ExecuteTime": {
     "end_time": "2019-07-23T19:43:22.867129Z",
     "start_time": "2019-07-23T19:43:22.864376Z"
    },
    "hidden": true
   },
   "outputs": [],
   "source": [
    "# all_ingredients"
   ]
  },
  {
   "cell_type": "code",
   "execution_count": 22,
   "metadata": {
    "ExecuteTime": {
     "end_time": "2019-07-24T14:11:03.470560Z",
     "start_time": "2019-07-24T14:11:03.460137Z"
    },
    "hidden": true,
    "scrolled": true
   },
   "outputs": [
    {
     "name": "stdout",
     "output_type": "stream",
     "text": [
      "with 3848 recipes, there are 27488 ingredients, and 2110 unique ingredients.\n"
     ]
    }
   ],
   "source": [
    "ingredient_set = set(all_ingredients)\n",
    "print('with {} recipes, there are {} ingredients, and {} unique ingredients.'.format(\n",
    "                dessert_recipes, len(all_ingredients), len(ingredient_set)))"
   ]
  },
  {
   "cell_type": "code",
   "execution_count": 32,
   "metadata": {
    "ExecuteTime": {
     "end_time": "2019-07-23T20:24:17.144217Z",
     "start_time": "2019-07-23T20:24:17.138286Z"
    },
    "hidden": true
   },
   "outputs": [
    {
     "name": "stdout",
     "output_type": "stream",
     "text": [
      "with 3848 recipes, there are 27488 ingredients, and 2110 unique ingredients.\n"
     ]
    }
   ],
   "source": [
    "ingredient_set = set(all_ingredients)\n",
    "print('with {} recipes, there are {} ingredients, and {} unique ingredients.'.format(\n",
    "                dessert_recipes, len(all_ingredients), len(ingredient_set)))"
   ]
  },
  {
   "cell_type": "code",
   "execution_count": 23,
   "metadata": {
    "ExecuteTime": {
     "end_time": "2019-07-24T14:11:11.264427Z",
     "start_time": "2019-07-24T14:11:11.241104Z"
    },
    "hidden": true
   },
   "outputs": [
    {
     "name": "stdout",
     "output_type": "stream",
     "text": [
      "<FreqDist with 2110 samples and 27488 outcomes>\n"
     ]
    }
   ],
   "source": [
    "fdist = FreqDist(all_ingredients)\n",
    "print(fdist)"
   ]
  },
  {
   "cell_type": "code",
   "execution_count": 25,
   "metadata": {
    "ExecuteTime": {
     "end_time": "2019-07-24T14:11:21.243460Z",
     "start_time": "2019-07-24T14:11:21.234948Z"
    },
    "hidden": true,
    "scrolled": false
   },
   "outputs": [],
   "source": [
    "common = fdist.most_common(500)"
   ]
  },
  {
   "cell_type": "code",
   "execution_count": 26,
   "metadata": {
    "ExecuteTime": {
     "end_time": "2019-07-24T14:11:28.251914Z",
     "start_time": "2019-07-24T14:11:28.244158Z"
    },
    "hidden": true,
    "scrolled": true
   },
   "outputs": [
    {
     "name": "stdout",
     "output_type": "stream",
     "text": [
      "('cherry pie filling', 16)\n",
      "('toffee piece', 12)\n"
     ]
    }
   ],
   "source": [
    "# common\n",
    "# f= open(\"words.txt\",\"w+\")\n",
    "for cc in common:\n",
    "    if re.search('pie', cc[0]) and cc[1]>10:\n",
    "        print(cc)\n",
    "#     f.write('{}: \\t {}\\n'.format(cc[0], cc[1]))"
   ]
  },
  {
   "cell_type": "code",
   "execution_count": 27,
   "metadata": {
    "ExecuteTime": {
     "end_time": "2019-07-24T14:11:39.748950Z",
     "start_time": "2019-07-24T14:11:39.722600Z"
    },
    "hidden": true
   },
   "outputs": [
    {
     "data": {
      "text/plain": [
       "[('sugar', 2853),\n",
       " ('vanilla', 2066),\n",
       " ('egg', 1853),\n",
       " ('salt', 1659),\n",
       " ('butter', 1513),\n",
       " ('brown sugar', 846),\n",
       " ('milk', 741),\n",
       " ('salted butter', 632),\n",
       " ('powdered sugar', 564),\n",
       " ('chocolate chip', 450),\n",
       " ('cinnamon', 444),\n",
       " ('heavy cream', 355),\n",
       " ('ground cinnamon', 338),\n",
       " ('egg yolk', 297),\n",
       " ('cream cheese', 290),\n",
       " ('pecan', 267),\n",
       " ('cocoa powder', 243),\n",
       " ('honey', 237),\n",
       " ('walnut', 236),\n",
       " ('egg white', 208),\n",
       " ('banana', 199),\n",
       " ('nutmeg', 176),\n",
       " ('pumpkin', 174),\n",
       " ('buttermilk', 173),\n",
       " ('lemon juice', 171),\n",
       " ('sour cream', 154),\n",
       " ('whipping cream', 141),\n",
       " ('coffee', 127),\n",
       " ('raisin', 123),\n",
       " ('ground nutmeg', 117),\n",
       " ('almond extract', 110),\n",
       " ('nut', 107),\n",
       " ('ground ginger', 103),\n",
       " ('peanut butter', 101),\n",
       " ('cocoa', 101),\n",
       " ('ground clove', 96),\n",
       " ('apple', 95),\n",
       " ('whole milk', 95),\n",
       " ('lemon', 90),\n",
       " ('chocolate', 87),\n",
       " ('strawberry', 85),\n",
       " ('low-fat milk', 84),\n",
       " ('sweetened condensed milk', 84),\n",
       " ('orange juice', 82),\n",
       " ('evaporated milk', 82),\n",
       " ('semisweet chocolate', 81),\n",
       " ('bittersweet chocolate', 79),\n",
       " ('cream of tartar', 78),\n",
       " ('rolled oats', 77),\n",
       " ('fresh lemon juice', 77),\n",
       " ('kosher salt', 71),\n",
       " ('molasses', 70),\n",
       " ('mint', 65),\n",
       " ('orange zest', 64),\n",
       " ('lemon zest', 63),\n",
       " ('clove', 61),\n",
       " ('almond', 59),\n",
       " ('cool whip', 55),\n",
       " ('sea salt', 55),\n",
       " ('ginger', 54),\n",
       " ('unsweetened chocolate', 53),\n",
       " ('maple syrup', 52),\n",
       " ('whipped cream', 51),\n",
       " ('white chocolate', 50),\n",
       " ('cool whip topping', 50),\n",
       " ('creamy peanut butter', 49),\n",
       " ('applesauce', 47),\n",
       " ('cream', 45),\n",
       " ('ground allspice', 44),\n",
       " ('oats', 42),\n",
       " ('blueberry', 41),\n",
       " ('rum', 41),\n",
       " ('allspice', 40),\n",
       " ('philadelphia cream cheese', 40),\n",
       " ('coconut', 39),\n",
       " ('flaked coconut', 39),\n",
       " ('orange', 37),\n",
       " ('olive oil', 37),\n",
       " ('half-and-half', 36),\n",
       " ('dried cranberry', 36),\n",
       " ('dark chocolate', 36),\n",
       " ('fresh strawberry', 35),\n",
       " ('sliced almond', 35),\n",
       " ('bourbon', 34),\n",
       " ('brandy', 33),\n",
       " ('date', 32),\n",
       " ('crushed pineapple', 32),\n",
       " ('quick-cooking oats', 32),\n",
       " ('peach', 32),\n",
       " ('old fashioned oats', 31),\n",
       " ('pecan half', 31),\n",
       " ('carrot', 30),\n",
       " ('whipped topping', 30),\n",
       " ('skim milk', 30),\n",
       " ('zucchini', 30),\n",
       " ('shredded coconut', 30),\n",
       " ('oatmeal', 28),\n",
       " ('raspberry', 28),\n",
       " ('hazelnut', 28),\n",
       " ('unsweetened applesauce', 28),\n",
       " ('golden raisin', 27),\n",
       " ('chocolate syrup', 27),\n",
       " ('fresh raspberry', 27),\n",
       " ('oreo cookies', 27),\n",
       " ('maraschino cherry', 26),\n",
       " ('cinnamon stick', 26),\n",
       " ('granny smith apple', 26),\n",
       " ('lemon peel', 25),\n",
       " ('apple juice', 25),\n",
       " ('coconut oil', 25),\n",
       " ('butterscotch chip', 25),\n",
       " ('unsweetened cocoa', 25),\n",
       " ('caramel', 24),\n",
       " ('orange rind', 23),\n",
       " ('lemon extract', 23),\n",
       " ('candy sprinkle', 23),\n",
       " ('marshmallow', 23),\n",
       " ('vinegar', 23),\n",
       " ('raspberry jam', 23),\n",
       " ('coconut milk', 22),\n",
       " ('pistachio', 22),\n",
       " ('mango', 21),\n",
       " ('fresh orange juice', 21),\n",
       " ('peanut', 21),\n",
       " ('sweetened flaked coconut', 21),\n",
       " ('fresh blueberry', 21),\n",
       " ('slivered almond', 20),\n",
       " ('smooth peanut butter', 20),\n",
       " ('greek yogurt', 20),\n",
       " ('ricotta cheese', 20),\n",
       " ('ice cream', 20),\n",
       " ('macadamia nut', 20),\n",
       " ('nonfat milk', 20),\n",
       " ('frozen whipped topping', 20),\n",
       " ('sweet potato', 20),\n",
       " ('white vinegar', 20),\n",
       " ('quick oats', 19),\n",
       " ('poppy seed', 19),\n",
       " ('milk chocolate', 19),\n",
       " ('cranberry', 19),\n",
       " ('ground cardamom', 19),\n",
       " ('blackberry', 19),\n",
       " ('pure maple syrup', 19),\n",
       " ('soymilk', 18),\n",
       " ('plain yogurt', 18),\n",
       " ('semisweet chocolate morsel', 18),\n",
       " ('dark rum', 18),\n",
       " ('blanched almond', 18),\n",
       " ('fruit', 18),\n",
       " ('dried cherry', 17),\n",
       " ('fine salt', 17),\n",
       " ('agave nectar', 17),\n",
       " ('instant espresso powder', 17),\n",
       " ('cherry pie filling', 16),\n",
       " ('instant chocolate pudding mix', 16),\n",
       " ('powdered milk', 16),\n",
       " ('peanut butter chip', 16),\n",
       " ('kahlua', 16),\n",
       " ('mayonnaise', 16),\n",
       " ('brownie mix', 16),\n",
       " ('baking cocoa', 16),\n",
       " ('low-fat sour cream', 16),\n",
       " ('caramel ice cream topping', 16),\n",
       " ('chocolate shaving', 16),\n",
       " ('cookies', 15),\n",
       " ('icing', 15),\n",
       " ('marshmallow cream', 15),\n",
       " ('pear', 15),\n",
       " ('half-and-half cream', 15),\n",
       " ('lemon rind', 14),\n",
       " ('fresh cranberry', 14),\n",
       " ('golden syrup', 14),\n",
       " ('dried apricot', 14),\n",
       " ('fresh lime juice', 14),\n",
       " ('yogurt', 14),\n",
       " ('table salt', 14),\n",
       " ('miniature marshmallow', 14),\n",
       " ('wheat germ', 13),\n",
       " ('tart apple', 13),\n",
       " ('rose water', 13),\n",
       " ('cardamom', 13),\n",
       " ('rhubarb', 13),\n",
       " ('vodka', 13),\n",
       " ('syrup', 13),\n",
       " ('orange peel', 13),\n",
       " ('sesame seed', 13),\n",
       " ('sweet butter', 13),\n",
       " ('mascarpone cheese', 13),\n",
       " ('ladyfinger', 13),\n",
       " ('caramel sauce', 12),\n",
       " ('pretzel', 12),\n",
       " ('crystallized ginger', 12),\n",
       " ('chocolate instant pudding', 12),\n",
       " ('coconut extract', 12),\n",
       " ('light cream', 12),\n",
       " ('frozen strawberry', 12),\n",
       " ('crushed pineapple in juice', 12),\n",
       " ('plum', 12),\n",
       " ('lime zest', 12),\n",
       " ('crunchy peanut butter', 12),\n",
       " ('pineapple', 12),\n",
       " ('toffee piece', 12),\n",
       " ('cottage cheese', 12),\n",
       " ('mashed banana', 12),\n",
       " ('juice', 11),\n",
       " ('instant pudding mix', 11),\n",
       " ('nonfat dry milk powder', 11),\n",
       " ('frosting', 11),\n",
       " ('fresh ginger', 11),\n",
       " ('quick-cooking rolled oats', 11),\n",
       " ('2% low-fat milk', 11),\n",
       " ('extra virgin olive oil', 11),\n",
       " ('apple cider', 11),\n",
       " ('pastry dough', 11),\n",
       " ('ice', 11),\n",
       " ('lime juice', 11),\n",
       " ('kirsch', 11),\n",
       " ('ground almond', 11),\n",
       " ('bisquick baking mix', 10),\n",
       " ('orange extract', 10),\n",
       " ('planters pecan', 10),\n",
       " ('apricot jam', 10),\n",
       " ('grand marnier', 10),\n",
       " ('low-fat buttermilk', 10),\n",
       " ('almond meal', 10),\n",
       " ('granola cereal', 10),\n",
       " ('lime', 10),\n",
       " ('orange liqueur', 10),\n",
       " ('cooking apple', 10),\n",
       " ('fresh peach', 10),\n",
       " ('sunflower seed', 10),\n",
       " ('condensed milk', 10),\n",
       " ('creme de cacao', 10),\n",
       " ('cider vinegar', 10),\n",
       " ('mini marshmallow', 10),\n",
       " ('candy', 10),\n",
       " ('almond butter', 9),\n",
       " ('flax seed meal', 9),\n",
       " ('angel flake coconut', 9),\n",
       " ('unsweetened baking chocolate', 9),\n",
       " ('rum extract', 9),\n",
       " ('mixed spice', 9),\n",
       " ('sunflower oil', 9),\n",
       " ('creme fraiche', 9),\n",
       " ('apple cider vinegar', 9),\n",
       " ('double cream', 9),\n",
       " ('cherry', 9),\n",
       " ('1 teaspoon soda', 9),\n",
       " ('cashew', 9),\n",
       " ('knudsen sour cream', 9),\n",
       " ('desiccated coconut', 9),\n",
       " ('almond paste', 9),\n",
       " ('irish cream', 9),\n",
       " ('mascarpone', 9),\n",
       " ('puff pastry', 8),\n",
       " ('cayenne pepper', 8),\n",
       " ('dark cocoa', 8),\n",
       " ('candied cherry', 8),\n",
       " ('custard', 8),\n",
       " ('ground mace', 8),\n",
       " ('jam', 8),\n",
       " ('cognac', 8),\n",
       " ('sweetened whipped cream', 8),\n",
       " ('cheddar cheese', 8),\n",
       " ('kraft caramel', 8),\n",
       " ('almond milk', 8),\n",
       " ('kiwi fruit', 8),\n",
       " ('marshmallow creme', 8),\n",
       " ('reduced-fat cream cheese', 8),\n",
       " ('chunky peanut butter', 8),\n",
       " ('eggnog', 8),\n",
       " ('glaze', 8),\n",
       " ('egg substitute', 8),\n",
       " ('fresh ground black pepper', 8),\n",
       " ('strawberry jam', 8),\n",
       " ('pine nut', 8),\n",
       " ('anise seed', 7),\n",
       " ('unsweetened dried shredded coconut', 7),\n",
       " ('arrowroot', 7),\n",
       " ('oat bran', 7),\n",
       " ('balsamic vinegar', 7),\n",
       " ('candy corn', 7),\n",
       " ('bacon', 7),\n",
       " ('goat cheese', 7),\n",
       " ('lard', 7),\n",
       " ('nutella', 7),\n",
       " ('fresh fruit', 7),\n",
       " ('semisweet chocolate chunk', 7),\n",
       " ('agave syrup', 7),\n",
       " ('corn flake', 7),\n",
       " ('fine sea salt', 7),\n",
       " ('popped popcorn', 7),\n",
       " ('fat-free evaporated milk', 7),\n",
       " ('lemon curd', 7),\n",
       " ('cooking oil', 7),\n",
       " ('sour milk', 7),\n",
       " ('rice krispy', 7),\n",
       " ('liqueur', 7),\n",
       " ('sharp cheddar cheese', 7),\n",
       " ('ground flax seed', 7),\n",
       " ('chocolate bar', 7),\n",
       " ('chocolate wafer crumb', 7),\n",
       " ('frozen puff pastry', 7),\n",
       " ('amaretto', 7),\n",
       " ('amaretto liqueur', 7),\n",
       " ('salt and pepper', 7),\n",
       " ('dark molasses', 7),\n",
       " ('fat-free half-and-half', 6),\n",
       " ('cream cheese frosting', 6),\n",
       " ('popcorn', 6),\n",
       " ('planters sliced almond', 6),\n",
       " ('sliced apple', 6),\n",
       " ('unsulphured molasses', 6),\n",
       " ('shredded cheddar cheese', 6),\n",
       " ('biscuit', 6),\n",
       " ('apple butter', 6),\n",
       " ('coarse salt', 6),\n",
       " ('gingersnap cookies', 6),\n",
       " ('unsweetened chocolate square', 6),\n",
       " ('heath candy bar', 6),\n",
       " ('semolina', 6),\n",
       " ('frozen raspberry', 6),\n",
       " ('lemon, juice of', 6),\n",
       " ('caramel topping', 6),\n",
       " ('beer', 6),\n",
       " ('roasted peanut', 6),\n",
       " ('canned crushed pineapple', 6),\n",
       " ('whole milk ricotta cheese', 6),\n",
       " ('toasted almond', 6),\n",
       " ('frozen blueberry', 6),\n",
       " ('salted peanut', 6),\n",
       " ('baking apple', 6),\n",
       " ('phyllo pastry', 6),\n",
       " ('apricot', 6),\n",
       " ('mandarin orange', 6),\n",
       " ('orange-flavored liqueur', 6),\n",
       " ('cream-filled chocolate sandwich cookies', 6),\n",
       " ('dried fruit', 6),\n",
       " ('parmesan cheese', 6),\n",
       " ('sherry wine', 6),\n",
       " ('chocolate candy bar', 6),\n",
       " ('tapioca', 6),\n",
       " ('pineapple juice', 6),\n",
       " ('walnut piece', 6),\n",
       " ('rice', 6),\n",
       " ('currant', 6),\n",
       " ('caraway seed', 6),\n",
       " ('coconut flake', 6),\n",
       " ('avocado', 6),\n",
       " ('flax seed', 6),\n",
       " ('whole almond', 6),\n",
       " ('bisquick', 6),\n",
       " ('seedless raspberry jam', 6),\n",
       " ('pastry shell', 6),\n",
       " ('chocolate frosting', 6),\n",
       " ('cereal', 6),\n",
       " ('dried sweetened cranberry', 6),\n",
       " ('cream cheese spread', 6),\n",
       " ('chocolate wafer', 6),\n",
       " ('cool whip lite', 6),\n",
       " ('stevium', 6),\n",
       " ('fresh rhubarb', 5),\n",
       " ('egg beaters egg substitute', 5),\n",
       " ('natural-style peanut butter', 5),\n",
       " ('chocolate sprinkle', 5),\n",
       " ('apricot preserve', 5),\n",
       " ('dried currant', 5),\n",
       " ('butter flavor extract', 5),\n",
       " ('extract', 5),\n",
       " ('peach slice', 5),\n",
       " ('whiskey', 5),\n",
       " ('oreo cookie crumb', 5),\n",
       " ('potato starch', 5),\n",
       " ('fresh lemon zest', 5),\n",
       " ('maple flavoring', 5),\n",
       " ('reduced-fat peanut butter', 5),\n",
       " ('gummy worm', 5),\n",
       " ('butter flavoring', 5),\n",
       " ('puree', 5),\n",
       " ('salted cashew', 5),\n",
       " ('chow mein noodle', 5),\n",
       " ('sour cherry', 5),\n",
       " ('pepper', 5),\n",
       " ('sultana', 5),\n",
       " ('salt&freshly ground black pepper', 5),\n",
       " ('candied ginger', 5),\n",
       " ('', 5),\n",
       " ('unsalted peanut', 5),\n",
       " ('curry powder', 5),\n",
       " ('fresh lemon rind', 5),\n",
       " ('orange juice concentrate', 5),\n",
       " ('marzipan', 5),\n",
       " ('refrigerated crescent dinner roll', 5),\n",
       " ('black pepper', 5),\n",
       " ('red wine', 5),\n",
       " ('crispy rice cereal', 5),\n",
       " ('candy cane', 5),\n",
       " ('orange marmalade', 5),\n",
       " ('extra-large egg', 5),\n",
       " ('minute tapioca', 5),\n",
       " ('white chocolate baking square', 5),\n",
       " ('miniature peanut butter cup', 5),\n",
       " ('mace', 5),\n",
       " ('fresh ground pepper', 5),\n",
       " ('golden delicious apple', 5),\n",
       " ('gingersnap', 5),\n",
       " ('pecan piece', 5),\n",
       " ('thickened cream', 5),\n",
       " ('maple extract', 5),\n",
       " ('nectarine', 5),\n",
       " ('chocolate ice cream', 5),\n",
       " ('key lime juice', 5),\n",
       " ('chocolate milk', 5),\n",
       " ('roasted almond', 5),\n",
       " ('cheese', 5),\n",
       " ('ginger powder', 5),\n",
       " ('evaporated low-fat milk', 5),\n",
       " ('bittersweet chocolate square', 5),\n",
       " ('light karo syrup', 5),\n",
       " ('peanut brittle', 5),\n",
       " ('corn oil', 4),\n",
       " ('popped corn', 4),\n",
       " ('milk chocolate candy bar', 4),\n",
       " ('pudding', 4),\n",
       " ('cool whip free', 4),\n",
       " ('dry roasted peanut', 4),\n",
       " ('biscuit mix', 4),\n",
       " ('club soda', 4),\n",
       " ('ice cream cone', 4),\n",
       " ('english toffee bit', 4),\n",
       " ('ritz cracker', 4),\n",
       " ('mixed candied fruit', 4),\n",
       " ('fresh fig', 4),\n",
       " ('ganache', 4),\n",
       " ('gingerroot', 4),\n",
       " ('pecan nut', 4),\n",
       " ('parchment paper', 4),\n",
       " ('frozen waffle', 4),\n",
       " ('instant lemon pudding', 4),\n",
       " ('guar gum', 4),\n",
       " ('candied red cherry', 4),\n",
       " ('free-range egg', 4),\n",
       " ('chocolate hazelnut spread', 4),\n",
       " ('fig', 4),\n",
       " ('espresso', 4),\n",
       " ('light sour cream', 4),\n",
       " ('unsalted dry roasted peanut', 4),\n",
       " ('orange, zest of', 4),\n",
       " ('cayenne', 4),\n",
       " ('almond powder', 4),\n",
       " ('dijon mustard', 4),\n",
       " ('wheat', 4),\n",
       " ('silken tofu', 4),\n",
       " ('boysenberry', 4),\n",
       " ('instant banana pudding mix', 4),\n",
       " ('jar', 4),\n",
       " ('fruit juice', 4),\n",
       " ('light cream cheese', 4),\n",
       " ('espresso powder', 4),\n",
       " ('tart cherry', 4),\n",
       " ('shelled pistachio', 4),\n",
       " ('instant malted milk powder', 4),\n",
       " ('stick', 4),\n",
       " ('chip', 4),\n",
       " ('custard powder', 4),\n",
       " ('tapioca starch', 4),\n",
       " ('candy bar', 4),\n",
       " ('rolo chocolate', 4),\n",
       " ('fresh cherry', 4),\n",
       " ('creme de menthe', 4),\n",
       " ('fat-free cream cheese', 4),\n",
       " ('baking mix', 4),\n",
       " ('quick-cooking oatmeal', 4),\n",
       " ('hersheys syrup', 4),\n",
       " ('canned peach', 4),\n",
       " ('sweet chocolate', 4),\n",
       " ('plain fat-free yogurt', 4),\n",
       " ('fudge brownie mix', 4),\n",
       " ('reeses peanut butter cup', 4),\n",
       " ('mixed nut', 4),\n",
       " ('unsweetened apple juice', 4),\n",
       " ('star anise', 4),\n",
       " ('batter', 4),\n",
       " ('pitted date', 4),\n",
       " ('fat-free sweetened condensed milk', 4),\n",
       " ('strawberry jelly', 4),\n",
       " ('chocolate cookie crumb', 4),\n",
       " ('coconut cream', 4),\n",
       " ('cantaloupe', 4),\n",
       " ('1% low-fat milk', 4),\n",
       " ('pomegranate seed', 4),\n",
       " ('potato', 4),\n",
       " ('clear honey', 4),\n",
       " ('nonfat plain yogurt', 4),\n",
       " ('crisp rice cereal', 4),\n",
       " ('apple pie spice', 4),\n",
       " ('root beer', 4),\n",
       " ('extra large egg', 4),\n",
       " ('banana cream instant pudding', 4),\n",
       " ('tea', 4)]"
      ]
     },
     "execution_count": 27,
     "metadata": {},
     "output_type": "execute_result"
    }
   ],
   "source": [
    "common"
   ]
  },
  {
   "cell_type": "code",
   "execution_count": 28,
   "metadata": {
    "ExecuteTime": {
     "end_time": "2019-07-24T14:11:57.593647Z",
     "start_time": "2019-07-24T14:11:57.365727Z"
    },
    "hidden": true
   },
   "outputs": [
    {
     "name": "stdout",
     "output_type": "stream",
     "text": [
      "found 1 recipes\n",
      "0\tChocolate Stuffed Shells\n"
     ]
    }
   ],
   "source": [
    "found_lists, found_ingredients = get_recipes_for_ingredients(['pasta'], dessert_ings,desserts)\n",
    "print('found {} recipes'.format(len(found_lists)))\n",
    "\n",
    "for item, rec in enumerate(found_lists):\n",
    "    print('{}\\t{}'.format(item, rec['title']))"
   ]
  },
  {
   "cell_type": "code",
   "execution_count": 29,
   "metadata": {
    "ExecuteTime": {
     "end_time": "2019-07-24T14:12:05.470710Z",
     "start_time": "2019-07-24T14:12:05.458808Z"
    },
    "hidden": true
   },
   "outputs": [
    {
     "data": {
      "text/plain": [
       "({'ingredients': [{'text': '24 jumbo shells, conchiglioni, preferably Felicetti brand'},\n",
       "   {'text': 'Salt'},\n",
       "   {'text': '1/4 cup (20 g) unsweetened cocoa powder'},\n",
       "   {'text': \"1/2 cup (50 g) confectioners' sugar, optional\"},\n",
       "   {'text': 'Approximately 2 cups (480 ml) total of gelato, custard, whipped cream, pudding, fruit, yogurt, etc.'}],\n",
       "  'url': 'http://www.cookstr.com/recipes/chocolate-stuffed-shells',\n",
       "  'partition': 'train',\n",
       "  'title': 'Chocolate Stuffed Shells',\n",
       "  'id': '04d61588d7',\n",
       "  'instructions': [{'text': 'Boil the shells in lightly salted water until they are al dente and drain.'},\n",
       "   {'text': \"For sweeter shells, put the cocoa powder and confectioners' sugar, to taste, into a sturdy plastic food -storage bag.\"},\n",
       "   {'text': 'Toss the shells, a few at a time, into the bag until fully coated with cocoa powder.'},\n",
       "   {'text': 'For less sweet shells, toss them in just the cocoa powder.'},\n",
       "   {'text': 'Using a teaspoon, fill the shells with anything you like.'},\n",
       "   {'text': 'A few fun options:'},\n",
       "   {'text': '--Ice cream + banana slices + dollop of fudge sauce+ chopped nuts= mini sundae'},\n",
       "   {'text': '--Ricotta + sugar + mini chocolate chips = soft cannoli'},\n",
       "   {'text': '--Macarpone cheese + sugar + drop of coffee = instant tiramisu'},\n",
       "   {'text': '--Cream cheese + fruit jam + fresh fruit = Italian-style cheese cake'}]},\n",
       " ['jumbo pasta shell',\n",
       "  'salt',\n",
       "  'cocoa powder',\n",
       "  'powdered sugar',\n",
       "  'approximately 2 cups (480 ml) total of gelato, custard, whipped cream, pudding, fruit, yogurt, etc.'])"
      ]
     },
     "execution_count": 29,
     "metadata": {},
     "output_type": "execute_result"
    }
   ],
   "source": [
    "item = 0\n",
    "found_lists[item],found_ingredients[item]"
   ]
  },
  {
   "cell_type": "code",
   "execution_count": null,
   "metadata": {
    "ExecuteTime": {
     "end_time": "2019-07-22T18:11:29.544909Z",
     "start_time": "2019-07-22T18:11:29.530483Z"
    },
    "hidden": true
   },
   "outputs": [],
   "source": []
  },
  {
   "cell_type": "code",
   "execution_count": null,
   "metadata": {
    "hidden": true
   },
   "outputs": [],
   "source": []
  },
  {
   "cell_type": "code",
   "execution_count": null,
   "metadata": {
    "hidden": true
   },
   "outputs": [],
   "source": []
  },
  {
   "cell_type": "code",
   "execution_count": null,
   "metadata": {
    "hidden": true
   },
   "outputs": [],
   "source": []
  },
  {
   "cell_type": "code",
   "execution_count": null,
   "metadata": {
    "ExecuteTime": {
     "end_time": "2019-07-22T17:32:10.212346Z",
     "start_time": "2019-07-22T17:32:10.207223Z"
    },
    "hidden": true
   },
   "outputs": [],
   "source": [
    "test = 'onio'\n",
    "\n",
    "for ingr in found_ingredients[82]:\n",
    "    if re.match(test, ingr):\n",
    "        print('----> found a',test, ingr)\n",
    "    else:\n",
    "        print(ingr)"
   ]
  },
  {
   "cell_type": "code",
   "execution_count": null,
   "metadata": {
    "hidden": true
   },
   "outputs": [],
   "source": []
  },
  {
   "cell_type": "code",
   "execution_count": null,
   "metadata": {
    "hidden": true
   },
   "outputs": [],
   "source": []
  },
  {
   "cell_type": "code",
   "execution_count": null,
   "metadata": {
    "ExecuteTime": {
     "end_time": "2019-07-22T17:04:55.482482Z",
     "start_time": "2019-07-22T17:04:55.475854Z"
    },
    "hidden": true
   },
   "outputs": [],
   "source": [
    "test_ingredients = []\n",
    "for ingred in dessert_ings[2029]['ingredients']:\n",
    "    test_ingredients.append(ingred['text'])\n",
    "print(test_ingredients)"
   ]
  },
  {
   "cell_type": "code",
   "execution_count": null,
   "metadata": {
    "ExecuteTime": {
     "end_time": "2019-07-22T17:09:33.507515Z",
     "start_time": "2019-07-22T17:09:33.499371Z"
    },
    "hidden": true
   },
   "outputs": [],
   "source": [
    "food_pattern = 'flourish'\n",
    "# for ing in test_ingredients:\n",
    "m = re.search(food_pattern, 'vanilla and flour don')\n",
    "print(m)"
   ]
  },
  {
   "cell_type": "code",
   "execution_count": null,
   "metadata": {
    "hidden": true
   },
   "outputs": [],
   "source": []
  },
  {
   "cell_type": "code",
   "execution_count": null,
   "metadata": {
    "ExecuteTime": {
     "end_time": "2019-07-20T01:34:30.886166Z",
     "start_time": "2019-07-20T01:34:29.432078Z"
    },
    "hidden": true
   },
   "outputs": [],
   "source": [
    "import matplotlib.pyplot as plt\n",
    "%matplotlib inline\n",
    "\n",
    "fig = plt.figure(figsize=(12, 8))\n",
    "# plt.ylim(0,120)\n",
    "fdist.plot(50,cumulative=False)\n",
    "# plt.ylim(0,30)\n",
    "# plt.show()"
   ]
  },
  {
   "cell_type": "code",
   "execution_count": null,
   "metadata": {
    "hidden": true
   },
   "outputs": [],
   "source": []
  },
  {
   "cell_type": "code",
   "execution_count": null,
   "metadata": {
    "ExecuteTime": {
     "end_time": "2019-07-17T21:02:23.558223Z",
     "start_time": "2019-07-17T21:02:22.927034Z"
    },
    "hidden": true
   },
   "outputs": [],
   "source": [
    "import nltk\n",
    "from nltk.corpus import stopwords\n",
    "import string\n",
    "\n",
    "from nltk import word_tokenize, FreqDist\n",
    "from sklearn.feature_extraction.text import TfidfVectorizer\n",
    "from sklearn.metrics import accuracy_score\n",
    "from sklearn.ensemble import RandomForestClassifier\n",
    "from sklearn.naive_bayes import MultinomialNB\n",
    "import pandas as pd\n",
    "import numpy as np\n",
    "np.random.seed(23)"
   ]
  },
  {
   "cell_type": "code",
   "execution_count": null,
   "metadata": {
    "ExecuteTime": {
     "end_time": "2019-07-17T21:04:23.122367Z",
     "start_time": "2019-07-17T21:04:23.116451Z"
    },
    "hidden": true
   },
   "outputs": [],
   "source": [
    "stopwords_list  = stopwords.words('english')\n",
    "stopwords_list += list(string.punctuation)\n",
    "stopwords_list +="
   ]
  },
  {
   "cell_type": "code",
   "execution_count": null,
   "metadata": {
    "ExecuteTime": {
     "end_time": "2019-07-17T21:04:24.636738Z",
     "start_time": "2019-07-17T21:04:24.630522Z"
    },
    "hidden": true
   },
   "outputs": [],
   "source": [
    "stopwords_list[-20:]"
   ]
  },
  {
   "cell_type": "code",
   "execution_count": null,
   "metadata": {
    "ExecuteTime": {
     "end_time": "2019-07-23T16:37:58.138977Z",
     "start_time": "2019-07-23T16:37:58.134163Z"
    },
    "hidden": true
   },
   "outputs": [],
   "source": [
    "# import spacy"
   ]
  },
  {
   "cell_type": "code",
   "execution_count": null,
   "metadata": {
    "ExecuteTime": {
     "end_time": "2019-07-23T15:34:45.873441Z",
     "start_time": "2019-07-23T15:34:45.851429Z"
    },
    "hidden": true
   },
   "outputs": [],
   "source": []
  },
  {
   "cell_type": "code",
   "execution_count": null,
   "metadata": {
    "ExecuteTime": {
     "end_time": "2019-07-23T16:51:36.206140Z",
     "start_time": "2019-07-23T16:51:22.135493Z"
    },
    "hidden": true
   },
   "outputs": [],
   "source": [
    "# !python -m spacy download en"
   ]
  },
  {
   "cell_type": "code",
   "execution_count": null,
   "metadata": {
    "ExecuteTime": {
     "end_time": "2019-07-23T16:51:47.019184Z",
     "start_time": "2019-07-23T16:51:47.013248Z"
    },
    "hidden": true
   },
   "outputs": [],
   "source": [
    "import numpy as np\n",
    "import pandas as pd\n",
    "import seaborn as sns\n",
    "from keras.preprocessing.text import Tokenizer\n",
    "from keras.preprocessing.sequence import pad_sequences\n",
    "from keras.utils import to_categorical\n",
    "import matplotlib.pyplot as plt\n",
    "%matplotlib inline\n",
    "import spacy"
   ]
  },
  {
   "cell_type": "code",
   "execution_count": null,
   "metadata": {
    "ExecuteTime": {
     "end_time": "2019-07-23T16:51:48.881414Z",
     "start_time": "2019-07-23T16:51:48.703786Z"
    },
    "hidden": true
   },
   "outputs": [],
   "source": [
    "nlp = spacy.load('en')"
   ]
  },
  {
   "cell_type": "code",
   "execution_count": null,
   "metadata": {
    "ExecuteTime": {
     "end_time": "2019-07-23T16:57:56.039490Z",
     "start_time": "2019-07-23T16:57:56.032940Z"
    },
    "hidden": true
   },
   "outputs": [],
   "source": [
    "desserts[3204]['instructions']\n",
    "\n",
    "test_instructions = ''\n",
    "\n",
    "for instr in desserts[3204]['instructions']:\n",
    "    test_instructions += instr['text'] + ' '\n",
    "    \n",
    "print(test_instructions)"
   ]
  },
  {
   "cell_type": "code",
   "execution_count": null,
   "metadata": {
    "ExecuteTime": {
     "end_time": "2019-07-23T16:58:12.479164Z",
     "start_time": "2019-07-23T16:58:12.429649Z"
    },
    "hidden": true
   },
   "outputs": [],
   "source": [
    "parsed_text = nlp(test_instructions)"
   ]
  },
  {
   "cell_type": "code",
   "execution_count": null,
   "metadata": {
    "ExecuteTime": {
     "end_time": "2019-07-23T16:58:14.607322Z",
     "start_time": "2019-07-23T16:58:14.600954Z"
    },
    "hidden": true
   },
   "outputs": [],
   "source": [
    "parsed_text"
   ]
  },
  {
   "cell_type": "code",
   "execution_count": null,
   "metadata": {
    "ExecuteTime": {
     "end_time": "2019-07-23T16:59:31.238742Z",
     "start_time": "2019-07-23T16:59:31.202734Z"
    },
    "hidden": true
   },
   "outputs": [],
   "source": [
    "for num, entity in enumerate(nlp(test_instructions).ents):\n",
    "    print(num+1,'Entity: ',entity, entity.label_)"
   ]
  },
  {
   "cell_type": "code",
   "execution_count": null,
   "metadata": {
    "ExecuteTime": {
     "end_time": "2019-07-23T17:02:11.336427Z",
     "start_time": "2019-07-23T17:02:11.240253Z"
    },
    "hidden": true
   },
   "outputs": [],
   "source": [
    "token_pos = [token.pos for token in nlp(test_instructions)]\n",
    "tokens = [token for token in nlp(test_instructions)]\n",
    "sd = list(zip(tokens, token_pos))\n",
    "sd = pd.DataFrame(sd, columns=['token','pos'])\n",
    "sd.head()"
   ]
  },
  {
   "cell_type": "code",
   "execution_count": null,
   "metadata": {
    "ExecuteTime": {
     "end_time": "2019-07-23T17:02:24.492685Z",
     "start_time": "2019-07-23T17:02:24.478476Z"
    },
    "hidden": true
   },
   "outputs": [],
   "source": [
    "sd"
   ]
  },
  {
   "cell_type": "code",
   "execution_count": null,
   "metadata": {
    "ExecuteTime": {
     "end_time": "2019-07-23T17:03:56.299469Z",
     "start_time": "2019-07-23T17:03:56.296128Z"
    },
    "hidden": true
   },
   "outputs": [],
   "source": [
    "max_num_words = 1000\n",
    "max_seg_length = 100\n",
    "tokenizer = Tokenizer(num_words=max_num_words)"
   ]
  },
  {
   "cell_type": "code",
   "execution_count": null,
   "metadata": {
    "hidden": true
   },
   "outputs": [],
   "source": []
  },
  {
   "cell_type": "markdown",
   "metadata": {},
   "source": [
    "## get categories"
   ]
  },
  {
   "cell_type": "code",
   "execution_count": 6,
   "metadata": {
    "ExecuteTime": {
     "end_time": "2019-07-24T18:45:05.542801Z",
     "start_time": "2019-07-24T18:45:05.534421Z"
    }
   },
   "outputs": [
    {
     "data": {
      "text/plain": [
       "'Peanut Butter Rice Krispies Bars Recipe'"
      ]
     },
     "execution_count": 6,
     "metadata": {},
     "output_type": "execute_result"
    }
   ],
   "source": [
    "item = np.random.randint(len(desserts))\n",
    "desserts[item]['title']"
   ]
  },
  {
   "cell_type": "code",
   "execution_count": 7,
   "metadata": {
    "ExecuteTime": {
     "end_time": "2019-07-24T18:45:09.199045Z",
     "start_time": "2019-07-24T18:45:09.195744Z"
    }
   },
   "outputs": [],
   "source": [
    "categories = ['cake', 'cookies', 'pie','bread','cupcake','candy', 'pudding','custard']"
   ]
  },
  {
   "cell_type": "code",
   "execution_count": 8,
   "metadata": {
    "ExecuteTime": {
     "end_time": "2019-07-24T18:45:10.406650Z",
     "start_time": "2019-07-24T18:45:10.399970Z"
    }
   },
   "outputs": [],
   "source": [
    "def classify_desserts(recipes, recipe_ingredients):\n",
    "    n_recipes = 0\n",
    "    n_classified =0\n",
    "    new_recipe_list = []\n",
    "    new_recipe_ingredients = []\n",
    "    category_list = []\n",
    "    for item, recipe in enumerate(recipes):\n",
    "        title = recipe['title']\n",
    "        title = title.lower().split(' ')\n",
    "        for category in categories:\n",
    "            if category in title:\n",
    "#                 print(category)\n",
    "                n_classified +=1\n",
    "                recipe['type'] = category\n",
    "                new_recipe_list.append(recipe)\n",
    "                all_ingredients = ''\n",
    "                for ingredient in recipe_ingredients[item]['ingredients']:\n",
    "                    all_ingredients += ingredient['text'] + ' '\n",
    "                new_recipe_ingredients.append(all_ingredients)\n",
    "                category_list.append(category)\n",
    "                break\n",
    "            \n",
    "        \n",
    "#         print(title)\n",
    "        n_recipes += 1\n",
    "        if n_recipes%250==0:\n",
    "            logging.info(\"read {0} recipes\".format(n_recipes))\n",
    "#             break\n",
    "    return new_recipe_list, new_recipe_ingredients, category_list"
   ]
  },
  {
   "cell_type": "code",
   "execution_count": null,
   "metadata": {
    "ExecuteTime": {
     "end_time": "2019-07-24T15:44:20.397226Z",
     "start_time": "2019-07-24T15:44:20.390543Z"
    }
   },
   "outputs": [],
   "source": []
  },
  {
   "cell_type": "code",
   "execution_count": 9,
   "metadata": {
    "ExecuteTime": {
     "end_time": "2019-07-24T18:45:15.098617Z",
     "start_time": "2019-07-24T18:45:15.057549Z"
    }
   },
   "outputs": [
    {
     "name": "stderr",
     "output_type": "stream",
     "text": [
      "14:45:15 : INFO : read 250 recipes\n",
      "14:45:15 : INFO : read 500 recipes\n",
      "14:45:15 : INFO : read 750 recipes\n",
      "14:45:15 : INFO : read 1000 recipes\n",
      "14:45:15 : INFO : read 1250 recipes\n",
      "14:45:15 : INFO : read 1500 recipes\n",
      "14:45:15 : INFO : read 1750 recipes\n",
      "14:45:15 : INFO : read 2000 recipes\n",
      "14:45:15 : INFO : read 2250 recipes\n",
      "14:45:15 : INFO : read 2500 recipes\n",
      "14:45:15 : INFO : read 2750 recipes\n",
      "14:45:15 : INFO : read 3000 recipes\n",
      "14:45:15 : INFO : read 3250 recipes\n",
      "14:45:15 : INFO : read 3500 recipes\n",
      "14:45:15 : INFO : read 3750 recipes\n"
     ]
    },
    {
     "name": "stdout",
     "output_type": "stream",
     "text": [
      "classified 2062/2062\n"
     ]
    }
   ],
   "source": [
    "desserts, dessert_ings\n",
    "new_data, new_data_ings, target = classify_desserts(desserts,dessert_ings)\n",
    "\n",
    "print('classified {0}/{1}'.format(len(new_data),len(new_data_ings)))"
   ]
  },
  {
   "cell_type": "code",
   "execution_count": 10,
   "metadata": {
    "ExecuteTime": {
     "end_time": "2019-07-24T18:45:39.077838Z",
     "start_time": "2019-07-24T18:45:38.506646Z"
    }
   },
   "outputs": [],
   "source": [
    "import pandas as pd\n",
    "df = pd.DataFrame([new_data_ings,target]).T"
   ]
  },
  {
   "cell_type": "code",
   "execution_count": 11,
   "metadata": {
    "ExecuteTime": {
     "end_time": "2019-07-24T18:45:42.676156Z",
     "start_time": "2019-07-24T18:45:42.666204Z"
    },
    "scrolled": true
   },
   "outputs": [
    {
     "data": {
      "text/html": [
       "<div>\n",
       "<style scoped>\n",
       "    .dataframe tbody tr th:only-of-type {\n",
       "        vertical-align: middle;\n",
       "    }\n",
       "\n",
       "    .dataframe tbody tr th {\n",
       "        vertical-align: top;\n",
       "    }\n",
       "\n",
       "    .dataframe thead th {\n",
       "        text-align: right;\n",
       "    }\n",
       "</style>\n",
       "<table border=\"1\" class=\"dataframe\">\n",
       "  <thead>\n",
       "    <tr style=\"text-align: right;\">\n",
       "      <th></th>\n",
       "      <th>ingredients</th>\n",
       "      <th>dessert</th>\n",
       "    </tr>\n",
       "  </thead>\n",
       "  <tbody>\n",
       "    <tr>\n",
       "      <th>0</th>\n",
       "      <td>fresh rhubarb frozen rhubarb granulated sugar ...</td>\n",
       "      <td>cake</td>\n",
       "    </tr>\n",
       "    <tr>\n",
       "      <th>1</th>\n",
       "      <td>flour cinnamon baking soda salt baking powder ...</td>\n",
       "      <td>bread</td>\n",
       "    </tr>\n",
       "    <tr>\n",
       "      <th>2</th>\n",
       "      <td>vanilla wafer cookie bananas coconut milk fat ...</td>\n",
       "      <td>pie</td>\n",
       "    </tr>\n",
       "    <tr>\n",
       "      <th>3</th>\n",
       "      <td>all - purpose flour white sugar salt vegetable...</td>\n",
       "      <td>pie</td>\n",
       "    </tr>\n",
       "    <tr>\n",
       "      <th>4</th>\n",
       "      <td>2 cups peeled, cooked, mashed sweet potatoes* ...</td>\n",
       "      <td>pie</td>\n",
       "    </tr>\n",
       "  </tbody>\n",
       "</table>\n",
       "</div>"
      ],
      "text/plain": [
       "                                         ingredients dessert\n",
       "0  fresh rhubarb frozen rhubarb granulated sugar ...    cake\n",
       "1  flour cinnamon baking soda salt baking powder ...   bread\n",
       "2  vanilla wafer cookie bananas coconut milk fat ...     pie\n",
       "3  all - purpose flour white sugar salt vegetable...     pie\n",
       "4  2 cups peeled, cooked, mashed sweet potatoes* ...     pie"
      ]
     },
     "execution_count": 11,
     "metadata": {},
     "output_type": "execute_result"
    }
   ],
   "source": [
    "df.columns = ['ingredients','dessert']\n",
    "df.head()"
   ]
  },
  {
   "cell_type": "code",
   "execution_count": 15,
   "metadata": {
    "ExecuteTime": {
     "end_time": "2019-07-24T18:45:56.558615Z",
     "start_time": "2019-07-24T18:45:56.550106Z"
    }
   },
   "outputs": [
    {
     "data": {
      "text/plain": [
       "0    1412\n",
       "1     650\n",
       "Name: dessert, dtype: int64"
      ]
     },
     "execution_count": 15,
     "metadata": {},
     "output_type": "execute_result"
    }
   ],
   "source": [
    "df['dessert'].value_counts()"
   ]
  },
  {
   "cell_type": "code",
   "execution_count": 13,
   "metadata": {
    "ExecuteTime": {
     "end_time": "2019-07-24T18:45:51.882827Z",
     "start_time": "2019-07-24T18:45:51.877385Z"
    }
   },
   "outputs": [],
   "source": [
    "df['dessert'] = np.where(df['dessert']=='cake', 1, 0)"
   ]
  },
  {
   "cell_type": "code",
   "execution_count": 14,
   "metadata": {
    "ExecuteTime": {
     "end_time": "2019-07-24T18:45:53.161062Z",
     "start_time": "2019-07-24T18:45:53.155004Z"
    }
   },
   "outputs": [
    {
     "data": {
      "text/plain": [
       "(2062, 2)"
      ]
     },
     "execution_count": 14,
     "metadata": {},
     "output_type": "execute_result"
    }
   ],
   "source": [
    "df.head()\n",
    "df.shape"
   ]
  },
  {
   "cell_type": "code",
   "execution_count": 16,
   "metadata": {
    "ExecuteTime": {
     "end_time": "2019-07-24T18:45:59.848909Z",
     "start_time": "2019-07-24T18:45:59.845743Z"
    }
   },
   "outputs": [],
   "source": [
    "text = df.ingredients.values\n",
    "label = df.dessert.values"
   ]
  },
  {
   "cell_type": "code",
   "execution_count": 17,
   "metadata": {
    "ExecuteTime": {
     "end_time": "2019-07-24T18:46:02.807503Z",
     "start_time": "2019-07-24T18:46:02.332402Z"
    }
   },
   "outputs": [],
   "source": [
    "# nlp = spacy.load('en')"
   ]
  },
  {
   "cell_type": "code",
   "execution_count": 119,
   "metadata": {
    "ExecuteTime": {
     "end_time": "2019-07-24T16:10:27.359748Z",
     "start_time": "2019-07-24T16:10:27.353919Z"
    }
   },
   "outputs": [
    {
     "data": {
      "text/plain": [
       "'fresh rhubarb frozen rhubarb granulated sugar strawberry Jell - O gelatin dessert white cake mix water butter '"
      ]
     },
     "execution_count": 119,
     "metadata": {},
     "output_type": "execute_result"
    }
   ],
   "source": [
    "# text[0]"
   ]
  },
  {
   "cell_type": "code",
   "execution_count": 120,
   "metadata": {
    "ExecuteTime": {
     "end_time": "2019-07-24T16:10:28.484477Z",
     "start_time": "2019-07-24T16:10:28.469811Z"
    }
   },
   "outputs": [
    {
     "data": {
      "text/plain": [
       "margarine instant chocolate pudding mix egg flour sugar apricot preserves semi - sweet chocolate chips margarine "
      ]
     },
     "execution_count": 120,
     "metadata": {},
     "output_type": "execute_result"
    }
   ],
   "source": [
    "# parsed_text = nlp(text[10])\n",
    "# parsed_text"
   ]
  },
  {
   "cell_type": "code",
   "execution_count": 121,
   "metadata": {
    "ExecuteTime": {
     "end_time": "2019-07-24T16:10:29.772775Z",
     "start_time": "2019-07-24T16:10:29.767476Z"
    }
   },
   "outputs": [],
   "source": [
    "# for sent in parsed_text.ents:\n",
    "#     print(sent, sent.label_)"
   ]
  },
  {
   "cell_type": "code",
   "execution_count": 105,
   "metadata": {
    "ExecuteTime": {
     "end_time": "2019-07-24T16:09:26.144575Z",
     "start_time": "2019-07-24T16:09:26.140697Z"
    }
   },
   "outputs": [],
   "source": [
    "# token_pos = [token.pos_ for token in nlp(text[10])]\n",
    "# tokens = [token for token in nlp(text[10])]\n",
    "# sd = list(zip(tokens, token_pos))\n",
    "# sd = pd.DataFrame(sd, columns=['token','pos'])\n",
    "# sd"
   ]
  },
  {
   "cell_type": "code",
   "execution_count": 18,
   "metadata": {
    "ExecuteTime": {
     "end_time": "2019-07-24T18:46:32.892608Z",
     "start_time": "2019-07-24T18:46:30.027289Z"
    }
   },
   "outputs": [
    {
     "name": "stderr",
     "output_type": "stream",
     "text": [
      "Using TensorFlow backend.\n"
     ]
    }
   ],
   "source": [
    "from keras.preprocessing.text import Tokenizer\n",
    "from keras.preprocessing.sequence import pad_sequences\n",
    "from keras.utils import to_categorical\n",
    "import spacy\n",
    "\n",
    "max_num_words= 1000\n",
    "max_seq_length = 100\n",
    "tokenizer = Tokenizer(num_words = max_num_words)"
   ]
  },
  {
   "cell_type": "code",
   "execution_count": 20,
   "metadata": {
    "ExecuteTime": {
     "end_time": "2019-07-24T18:46:46.915998Z",
     "start_time": "2019-07-24T18:46:46.818157Z"
    }
   },
   "outputs": [],
   "source": [
    "tokenizer.fit_on_texts(text)\n",
    "sequences = tokenizer.texts_to_sequences(text)\n",
    "word_index = tokenizer.word_index"
   ]
  },
  {
   "cell_type": "code",
   "execution_count": 21,
   "metadata": {
    "ExecuteTime": {
     "end_time": "2019-07-24T18:46:48.431836Z",
     "start_time": "2019-07-24T18:46:48.406514Z"
    }
   },
   "outputs": [
    {
     "data": {
      "text/plain": [
       "(2062, 100)"
      ]
     },
     "execution_count": 21,
     "metadata": {},
     "output_type": "execute_result"
    }
   ],
   "source": [
    "data = pad_sequences(sequences, maxlen=max_seq_length)\n",
    "data.shape"
   ]
  },
  {
   "cell_type": "code",
   "execution_count": 22,
   "metadata": {
    "ExecuteTime": {
     "end_time": "2019-07-24T18:46:51.520840Z",
     "start_time": "2019-07-24T18:46:51.512972Z"
    }
   },
   "outputs": [
    {
     "data": {
      "text/plain": [
       "array([[0., 1.],\n",
       "       [1., 0.],\n",
       "       [1., 0.],\n",
       "       ...,\n",
       "       [0., 1.],\n",
       "       [1., 0.],\n",
       "       [1., 0.]], dtype=float32)"
      ]
     },
     "execution_count": 22,
     "metadata": {},
     "output_type": "execute_result"
    }
   ],
   "source": [
    "label = to_categorical(np.asarray(label))\n",
    "label"
   ]
  },
  {
   "cell_type": "code",
   "execution_count": 23,
   "metadata": {
    "ExecuteTime": {
     "end_time": "2019-07-24T18:46:55.524574Z",
     "start_time": "2019-07-24T18:46:55.518305Z"
    }
   },
   "outputs": [
    {
     "data": {
      "text/plain": [
       "(2062, 2)"
      ]
     },
     "execution_count": 23,
     "metadata": {},
     "output_type": "execute_result"
    }
   ],
   "source": [
    "label.shape"
   ]
  },
  {
   "cell_type": "code",
   "execution_count": 24,
   "metadata": {
    "ExecuteTime": {
     "end_time": "2019-07-24T18:47:00.531757Z",
     "start_time": "2019-07-24T18:47:00.528079Z"
    }
   },
   "outputs": [],
   "source": [
    "validation_split = 0.2\n",
    "indices = np.arange(data.shape[0])\n",
    "np.random.shuffle(indices)"
   ]
  },
  {
   "cell_type": "code",
   "execution_count": 25,
   "metadata": {
    "ExecuteTime": {
     "end_time": "2019-07-24T18:47:02.096504Z",
     "start_time": "2019-07-24T18:47:02.090600Z"
    }
   },
   "outputs": [
    {
     "data": {
      "text/plain": [
       "array([[  0,   0,   0, ...,  50,  56,  11],\n",
       "       [  0,   0,   0, ...,  30,   1,   7],\n",
       "       [  0,   0,   0, ...,  86, 136,  39],\n",
       "       ...,\n",
       "       [  0,   0,   0, ..., 344, 122, 771],\n",
       "       [  0,   0,   0, ...,  32, 152,   1],\n",
       "       [  0,   0,   0, ...,  52, 512,  57]], dtype=int32)"
      ]
     },
     "execution_count": 25,
     "metadata": {},
     "output_type": "execute_result"
    }
   ],
   "source": [
    "data = data[indices]\n",
    "data"
   ]
  },
  {
   "cell_type": "code",
   "execution_count": 26,
   "metadata": {
    "ExecuteTime": {
     "end_time": "2019-07-24T18:47:05.538770Z",
     "start_time": "2019-07-24T18:47:05.525943Z"
    }
   },
   "outputs": [
    {
     "data": {
      "text/plain": [
       "array([[1., 0.],\n",
       "       [1., 0.],\n",
       "       [0., 1.],\n",
       "       ...,\n",
       "       [0., 1.],\n",
       "       [1., 0.],\n",
       "       [1., 0.]], dtype=float32)"
      ]
     },
     "execution_count": 26,
     "metadata": {},
     "output_type": "execute_result"
    }
   ],
   "source": [
    "label = label[indices]\n",
    "label"
   ]
  },
  {
   "cell_type": "code",
   "execution_count": 27,
   "metadata": {
    "ExecuteTime": {
     "end_time": "2019-07-24T18:47:10.211923Z",
     "start_time": "2019-07-24T18:47:10.205705Z"
    }
   },
   "outputs": [
    {
     "data": {
      "text/plain": [
       "412"
      ]
     },
     "execution_count": 27,
     "metadata": {},
     "output_type": "execute_result"
    }
   ],
   "source": [
    "nb_validation_samples = int(validation_split*data.shape[0])\n",
    "nb_validation_samples"
   ]
  },
  {
   "cell_type": "code",
   "execution_count": 28,
   "metadata": {
    "ExecuteTime": {
     "end_time": "2019-07-24T18:47:14.354284Z",
     "start_time": "2019-07-24T18:47:14.345798Z"
    }
   },
   "outputs": [],
   "source": [
    "x_train = data[:-nb_validation_samples]\n",
    "y_train = label[:-nb_validation_samples]\n",
    "x_val = data[-nb_validation_samples:]\n",
    "y_val = label[-nb_validation_samples:]"
   ]
  },
  {
   "cell_type": "code",
   "execution_count": 135,
   "metadata": {
    "ExecuteTime": {
     "end_time": "2019-07-24T16:15:13.550814Z",
     "start_time": "2019-07-24T16:15:13.546713Z"
    }
   },
   "outputs": [],
   "source": [
    "glove_dir = '../data/glove_data/'"
   ]
  },
  {
   "cell_type": "code",
   "execution_count": 29,
   "metadata": {
    "ExecuteTime": {
     "end_time": "2019-07-24T18:47:29.037446Z",
     "start_time": "2019-07-24T18:47:23.362792Z"
    }
   },
   "outputs": [
    {
     "name": "stdout",
     "output_type": "stream",
     "text": [
      "found word vecs:  400000\n"
     ]
    }
   ],
   "source": [
    "embedding_index = {}\n",
    "f = open('../data/glove_data/glove.6B.50d.txt')\n",
    "for line in f:\n",
    "    values = line.split()\n",
    "    word = values[0]\n",
    "    coefs = np.asarray(values[1:], dtype='float32')\n",
    "    embedding_index[word] = coefs\n",
    "f.close\n",
    "\n",
    "print('found word vecs: ', len(embedding_index))"
   ]
  },
  {
   "cell_type": "code",
   "execution_count": 30,
   "metadata": {
    "ExecuteTime": {
     "end_time": "2019-07-24T18:48:37.690980Z",
     "start_time": "2019-07-24T18:48:37.683155Z"
    }
   },
   "outputs": [
    {
     "data": {
      "text/plain": [
       "(1256, 300)"
      ]
     },
     "execution_count": 30,
     "metadata": {},
     "output_type": "execute_result"
    }
   ],
   "source": [
    "embedding_dim = 50\n",
    "embedding_matrix = np.zeros((len(word_index)+1, embedding_dim))\n",
    "embedding_matrix.shape"
   ]
  },
  {
   "cell_type": "code",
   "execution_count": 31,
   "metadata": {
    "ExecuteTime": {
     "end_time": "2019-07-24T18:49:29.420559Z",
     "start_time": "2019-07-24T18:49:29.414304Z"
    }
   },
   "outputs": [
    {
     "data": {
      "text/plain": [
       "300"
      ]
     },
     "execution_count": 31,
     "metadata": {},
     "output_type": "execute_result"
    }
   ],
   "source": [
    "embedding_dim"
   ]
  },
  {
   "cell_type": "code",
   "execution_count": 32,
   "metadata": {
    "ExecuteTime": {
     "end_time": "2019-07-24T18:55:13.690528Z",
     "start_time": "2019-07-24T18:55:13.656363Z"
    }
   },
   "outputs": [
    {
     "name": "stdout",
     "output_type": "stream",
     "text": [
      "0."
     ]
    },
    {
     "ename": "ValueError",
     "evalue": "could not broadcast input array from shape (50) into shape (300)",
     "output_type": "error",
     "traceback": [
      "\u001b[0;31m---------------------------------------------------------------------------\u001b[0m",
      "\u001b[0;31mValueError\u001b[0m                                Traceback (most recent call last)",
      "\u001b[0;32m<ipython-input-32-d3b86dd2e74a>\u001b[0m in \u001b[0;36m<module>\u001b[0;34m\u001b[0m\n\u001b[1;32m      6\u001b[0m     \u001b[0membedding_vector\u001b[0m \u001b[0;34m=\u001b[0m \u001b[0membedding_index\u001b[0m\u001b[0;34m.\u001b[0m\u001b[0mget\u001b[0m\u001b[0;34m(\u001b[0m\u001b[0mword\u001b[0m\u001b[0;34m)\u001b[0m\u001b[0;34m\u001b[0m\u001b[0;34m\u001b[0m\u001b[0m\n\u001b[1;32m      7\u001b[0m     \u001b[0;32mif\u001b[0m \u001b[0membedding_vector\u001b[0m \u001b[0;32mis\u001b[0m \u001b[0;32mnot\u001b[0m \u001b[0;32mNone\u001b[0m\u001b[0;34m:\u001b[0m\u001b[0;34m\u001b[0m\u001b[0;34m\u001b[0m\u001b[0m\n\u001b[0;32m----> 8\u001b[0;31m         \u001b[0membedding_matrix\u001b[0m\u001b[0;34m[\u001b[0m\u001b[0mi\u001b[0m\u001b[0;34m]\u001b[0m \u001b[0;34m=\u001b[0m \u001b[0membedding_vector\u001b[0m\u001b[0;34m\u001b[0m\u001b[0;34m\u001b[0m\u001b[0m\n\u001b[0m",
      "\u001b[0;31mValueError\u001b[0m: could not broadcast input array from shape (50) into shape (300)"
     ]
    }
   ],
   "source": [
    "count =0\n",
    "for word,i in word_index.items():\n",
    "    if count%10==0:\n",
    "        print(count,end='.')\n",
    "    count+=1\n",
    "    embedding_vector = embedding_index.get(word)\n",
    "    if embedding_vector is not None:\n",
    "        embedding_matrix[i] = embedding_vector"
   ]
  },
  {
   "cell_type": "code",
   "execution_count": null,
   "metadata": {},
   "outputs": [],
   "source": [
    "from keras.layers import Embedding\n",
    "embedding_layer = Embedding(len(word_index)+1,\n",
    "                            embedding_dim,weights=[embedding_matrix],input_length=max_seq_length,trainable=False)"
   ]
  },
  {
   "cell_type": "code",
   "execution_count": null,
   "metadata": {},
   "outputs": [],
   "source": [
    "from keras.layers import Bidirectional,GlobalMaxPool1D,Conv1D\n",
    "from keras.layers import LSTM,Input,Dense,Dropout,Activation\n",
    "from keras.models import Model"
   ]
  },
  {
   "cell_type": "code",
   "execution_count": null,
   "metadata": {},
   "outputs": [],
   "source": [
    "inp = Input(shape=(max_seq_length,))\n",
    "x = embedding_layer(inp)\n",
    "x = Bidirectional(LSTM(50,return_sequences=True,dropout=0.1,recurrent_dropout=0.1))(x)\n",
    "x = GlobalMaxPool1D()(x)\n",
    "x = Dense(50,activation='relu')(x)\n",
    "x = Dropout(0.1)(x)\n",
    "x = Dense(2,activation='sigmoid')(x)\n",
    "model = Model(inputs=inp,outputs=x)"
   ]
  },
  {
   "cell_type": "code",
   "execution_count": null,
   "metadata": {},
   "outputs": [],
   "source": [
    "model.compile(optimizer='adam',loss='binary_crossentropy',metrics=['accuracy'])"
   ]
  },
  {
   "cell_type": "code",
   "execution_count": null,
   "metadata": {},
   "outputs": [],
   "source": [
    "print(x_train.shape)\n",
    "print(y_train.shape)\n",
    "print(x_val.shape)\n",
    "print(y_val.shape)"
   ]
  },
  {
   "cell_type": "code",
   "execution_count": null,
   "metadata": {},
   "outputs": [],
   "source": [
    "model.fit(x_train,y_train,validation_data=(x_val,y_val),epochs=20,batch_size=128);"
   ]
  },
  {
   "cell_type": "code",
   "execution_count": null,
   "metadata": {},
   "outputs": [],
   "source": [
    "score = model.evaluate(x_val,y_val)\n",
    "score"
   ]
  },
  {
   "cell_type": "code",
   "execution_count": null,
   "metadata": {},
   "outputs": [],
   "source": []
  },
  {
   "cell_type": "code",
   "execution_count": null,
   "metadata": {},
   "outputs": [],
   "source": []
  },
  {
   "cell_type": "markdown",
   "metadata": {},
   "source": [
    "## try gloVe"
   ]
  },
  {
   "cell_type": "code",
   "execution_count": 38,
   "metadata": {
    "ExecuteTime": {
     "end_time": "2019-07-24T15:05:50.760521Z",
     "start_time": "2019-07-24T15:05:50.756902Z"
    }
   },
   "outputs": [],
   "source": [
    "import numpy as np"
   ]
  },
  {
   "cell_type": "code",
   "execution_count": 39,
   "metadata": {
    "ExecuteTime": {
     "end_time": "2019-07-24T15:07:26.166606Z",
     "start_time": "2019-07-24T15:07:00.118023Z"
    }
   },
   "outputs": [],
   "source": [
    "with open(\"../data/glove_data/glove.6B.300d.txt\",\"rb\") as lines:\n",
    "    w2v = {line.split()[0]: np.array(map(float, line.split()[1:]))\n",
    "          for line in lines}\n",
    "        "
   ]
  },
  {
   "cell_type": "code",
   "execution_count": 44,
   "metadata": {
    "ExecuteTime": {
     "end_time": "2019-07-24T15:16:43.848456Z",
     "start_time": "2019-07-24T15:16:43.508558Z"
    }
   },
   "outputs": [
    {
     "name": "stderr",
     "output_type": "stream",
     "text": [
      "11:16:43 : INFO : collecting all words and their counts\n",
      "11:16:43 : INFO : PROGRESS: at sentence #0, processed 0 words, keeping 0 word types\n",
      "11:16:43 : INFO : collected 2110 word types from a corpus of 27488 raw words and 3848 sentences\n",
      "11:16:43 : INFO : Loading a fresh vocabulary\n",
      "11:16:43 : INFO : min_count=5 retains 420 unique words (19% of original 2110, drops 1690)\n",
      "11:16:43 : INFO : min_count=5 leaves 24890 word corpus (90% of original 27488, drops 2598)\n",
      "11:16:43 : INFO : deleting the raw counts dictionary of 2110 items\n",
      "11:16:43 : INFO : sample=0.001 downsamples 52 most-common words\n",
      "11:16:43 : INFO : downsampling leaves estimated 10831 word corpus (43.5% of prior 24890)\n",
      "11:16:43 : INFO : estimated required memory for 420 words and 100 dimensions: 546000 bytes\n",
      "11:16:43 : INFO : resetting layer weights\n",
      "11:16:43 : INFO : training model with 3 workers on 420 vocabulary and 100 features, using sg=0 hs=0 sample=0.001 negative=5 window=5\n",
      "11:16:43 : INFO : worker thread finished; awaiting finish of 2 more threads\n",
      "11:16:43 : INFO : worker thread finished; awaiting finish of 1 more threads\n",
      "11:16:43 : INFO : worker thread finished; awaiting finish of 0 more threads\n",
      "11:16:43 : INFO : EPOCH - 1 : training on 27488 raw words (10732 effective words) took 0.1s, 195403 effective words/s\n",
      "11:16:43 : INFO : worker thread finished; awaiting finish of 2 more threads\n",
      "11:16:43 : INFO : worker thread finished; awaiting finish of 1 more threads\n",
      "11:16:43 : INFO : worker thread finished; awaiting finish of 0 more threads\n",
      "11:16:43 : INFO : EPOCH - 2 : training on 27488 raw words (10832 effective words) took 0.0s, 481296 effective words/s\n",
      "11:16:43 : INFO : worker thread finished; awaiting finish of 2 more threads\n",
      "11:16:43 : INFO : worker thread finished; awaiting finish of 1 more threads\n",
      "11:16:43 : INFO : worker thread finished; awaiting finish of 0 more threads\n",
      "11:16:43 : INFO : EPOCH - 3 : training on 27488 raw words (10719 effective words) took 0.0s, 475550 effective words/s\n",
      "11:16:43 : INFO : worker thread finished; awaiting finish of 2 more threads\n",
      "11:16:43 : INFO : worker thread finished; awaiting finish of 1 more threads\n",
      "11:16:43 : INFO : worker thread finished; awaiting finish of 0 more threads\n",
      "11:16:43 : INFO : EPOCH - 4 : training on 27488 raw words (10761 effective words) took 0.0s, 716806 effective words/s\n",
      "11:16:43 : INFO : worker thread finished; awaiting finish of 2 more threads\n",
      "11:16:43 : INFO : worker thread finished; awaiting finish of 1 more threads\n",
      "11:16:43 : INFO : worker thread finished; awaiting finish of 0 more threads\n",
      "11:16:43 : INFO : EPOCH - 5 : training on 27488 raw words (10833 effective words) took 0.0s, 665590 effective words/s\n",
      "11:16:43 : INFO : training on a 137440 raw words (53877 effective words) took 0.3s, 209117 effective words/s\n",
      "11:16:43 : WARNING : under 10 jobs per worker: consider setting a smaller `batch_words' for smoother alpha decay\n"
     ]
    }
   ],
   "source": [
    "import gensim\n",
    "model = gensim.models.Word2Vec(ingredients_per_recipe, size=100)"
   ]
  },
  {
   "cell_type": "code",
   "execution_count": 46,
   "metadata": {
    "ExecuteTime": {
     "end_time": "2019-07-24T15:21:38.295912Z",
     "start_time": "2019-07-24T15:21:38.286040Z"
    }
   },
   "outputs": [],
   "source": [
    "class MeanEmbeddingVectorizer(object):\n",
    "    def __init__(self, word2vec):\n",
    "        self.word2vec = word2vec\n",
    "        # if a text is empty we should return a vector of zeros\n",
    "        # with the same dimensionality as all the other vectors\n",
    "        self.dim = len(word2vec.itervalues().next())\n",
    "\n",
    "    def fit(self, X, y):\n",
    "        return self\n",
    "\n",
    "    def transform(self, X):\n",
    "        return np.array([\n",
    "            np.mean([self.word2vec[w] for w in words if w in self.word2vec]\n",
    "                    or [np.zeros(self.dim)], axis=0)\n",
    "            for words in X\n",
    "        ])"
   ]
  },
  {
   "cell_type": "code",
   "execution_count": 45,
   "metadata": {
    "ExecuteTime": {
     "end_time": "2019-07-24T15:19:28.169488Z",
     "start_time": "2019-07-24T15:19:28.160635Z"
    }
   },
   "outputs": [],
   "source": [
    "\n",
    "class TfidfEmbeddingVectorizer(object):\n",
    "    def __init__(self, word2vec):\n",
    "        self.word2vec = word2vec\n",
    "        self.word2weight = None\n",
    "        self.dim = len(word2vec.itervalues().next())\n",
    "\n",
    "    def fit(self, X, y):\n",
    "        tfidf = TfidfVectorizer(analyzer=lambda x: x)\n",
    "        tfidf.fit(X)\n",
    "        # if a word was never seen - it must be at least as infrequent\n",
    "        # as any of the known words - so the default idf is the max of \n",
    "        # known idf's\n",
    "        max_idf = max(tfidf.idf_)\n",
    "        self.word2weight = defaultdict(\n",
    "            lambda: max_idf,\n",
    "            [(w, tfidf.idf_[i]) for w, i in tfidf.vocabulary_.items()])\n",
    "\n",
    "        return self\n",
    "\n",
    "    def transform(self, X):\n",
    "        return np.array([\n",
    "                np.mean([self.word2vec[w] * self.word2weight[w]\n",
    "                         for w in words if w in self.word2vec] or\n",
    "                        [np.zeros(self.dim)], axis=0)\n",
    "                for words in X\n",
    "            ])"
   ]
  },
  {
   "cell_type": "code",
   "execution_count": 48,
   "metadata": {
    "ExecuteTime": {
     "end_time": "2019-07-24T15:23:39.422434Z",
     "start_time": "2019-07-24T15:23:39.366430Z"
    }
   },
   "outputs": [],
   "source": [
    "from sklearn.pipeline import Pipeline\n",
    "from sklearn.ensemble import ExtraTreesClassifier"
   ]
  },
  {
   "cell_type": "code",
   "execution_count": 49,
   "metadata": {
    "ExecuteTime": {
     "end_time": "2019-07-24T15:25:33.005718Z",
     "start_time": "2019-07-24T15:25:32.952380Z"
    }
   },
   "outputs": [
    {
     "ename": "AttributeError",
     "evalue": "'dict' object has no attribute 'itervalues'",
     "output_type": "error",
     "traceback": [
      "\u001b[0;31m---------------------------------------------------------------------------\u001b[0m",
      "\u001b[0;31mAttributeError\u001b[0m                            Traceback (most recent call last)",
      "\u001b[0;32m<ipython-input-49-c46c6a06b3a1>\u001b[0m in \u001b[0;36m<module>\u001b[0;34m\u001b[0m\n\u001b[1;32m      1\u001b[0m etree_w2v = Pipeline([\n\u001b[0;32m----> 2\u001b[0;31m     \u001b[0;34m(\u001b[0m\u001b[0;34m'word2vec vectorizer'\u001b[0m\u001b[0;34m,\u001b[0m \u001b[0mMeanEmbeddingVectorizer\u001b[0m\u001b[0;34m(\u001b[0m\u001b[0mw2v\u001b[0m\u001b[0;34m)\u001b[0m\u001b[0;34m)\u001b[0m\u001b[0;34m,\u001b[0m\u001b[0;34m\u001b[0m\u001b[0;34m\u001b[0m\u001b[0m\n\u001b[0m\u001b[1;32m      3\u001b[0m     \u001b[0;34m(\u001b[0m\u001b[0;34m'extra trees'\u001b[0m\u001b[0;34m,\u001b[0m \u001b[0mExtraTreesClassifier\u001b[0m\u001b[0;34m(\u001b[0m\u001b[0mn_estimators\u001b[0m\u001b[0;34m=\u001b[0m\u001b[0;36m200\u001b[0m\u001b[0;34m)\u001b[0m\u001b[0;34m)\u001b[0m\u001b[0;34m\u001b[0m\u001b[0;34m\u001b[0m\u001b[0m\n\u001b[1;32m      4\u001b[0m ])\n",
      "\u001b[0;32m<ipython-input-46-073d10bd9224>\u001b[0m in \u001b[0;36m__init__\u001b[0;34m(self, word2vec)\u001b[0m\n\u001b[1;32m      4\u001b[0m         \u001b[0;31m# if a text is empty we should return a vector of zeros\u001b[0m\u001b[0;34m\u001b[0m\u001b[0;34m\u001b[0m\u001b[0;34m\u001b[0m\u001b[0m\n\u001b[1;32m      5\u001b[0m         \u001b[0;31m# with the same dimensionality as all the other vectors\u001b[0m\u001b[0;34m\u001b[0m\u001b[0;34m\u001b[0m\u001b[0;34m\u001b[0m\u001b[0m\n\u001b[0;32m----> 6\u001b[0;31m         \u001b[0mself\u001b[0m\u001b[0;34m.\u001b[0m\u001b[0mdim\u001b[0m \u001b[0;34m=\u001b[0m \u001b[0mlen\u001b[0m\u001b[0;34m(\u001b[0m\u001b[0mword2vec\u001b[0m\u001b[0;34m.\u001b[0m\u001b[0mitervalues\u001b[0m\u001b[0;34m(\u001b[0m\u001b[0;34m)\u001b[0m\u001b[0;34m.\u001b[0m\u001b[0mnext\u001b[0m\u001b[0;34m(\u001b[0m\u001b[0;34m)\u001b[0m\u001b[0;34m)\u001b[0m\u001b[0;34m\u001b[0m\u001b[0;34m\u001b[0m\u001b[0m\n\u001b[0m\u001b[1;32m      7\u001b[0m \u001b[0;34m\u001b[0m\u001b[0m\n\u001b[1;32m      8\u001b[0m     \u001b[0;32mdef\u001b[0m \u001b[0mfit\u001b[0m\u001b[0;34m(\u001b[0m\u001b[0mself\u001b[0m\u001b[0;34m,\u001b[0m \u001b[0mX\u001b[0m\u001b[0;34m,\u001b[0m \u001b[0my\u001b[0m\u001b[0;34m)\u001b[0m\u001b[0;34m:\u001b[0m\u001b[0;34m\u001b[0m\u001b[0;34m\u001b[0m\u001b[0m\n",
      "\u001b[0;31mAttributeError\u001b[0m: 'dict' object has no attribute 'itervalues'"
     ]
    }
   ],
   "source": [
    "etree_w2v = Pipeline([\n",
    "    ('word2vec vectorizer', MeanEmbeddingVectorizer(w2v)),\n",
    "    ('extra trees', ExtraTreesClassifier(n_estimators=200))\n",
    "])"
   ]
  },
  {
   "cell_type": "code",
   "execution_count": null,
   "metadata": {},
   "outputs": [],
   "source": []
  }
 ],
 "metadata": {
  "kernelspec": {
   "display_name": "Python 3",
   "language": "python",
   "name": "python3"
  },
  "language_info": {
   "codemirror_mode": {
    "name": "ipython",
    "version": 3
   },
   "file_extension": ".py",
   "mimetype": "text/x-python",
   "name": "python",
   "nbconvert_exporter": "python",
   "pygments_lexer": "ipython3",
   "version": "3.7.3"
  },
  "latex_envs": {
   "LaTeX_envs_menu_present": true,
   "autoclose": false,
   "autocomplete": true,
   "bibliofile": "biblio.bib",
   "cite_by": "apalike",
   "current_citInitial": 1,
   "eqLabelWithNumbers": true,
   "eqNumInitial": 1,
   "hotkeys": {
    "equation": "Ctrl-E",
    "itemize": "Ctrl-I"
   },
   "labels_anchors": false,
   "latex_user_defs": false,
   "report_style_numbering": false,
   "user_envs_cfg": false
  },
  "toc": {
   "base_numbering": 1,
   "nav_menu": {},
   "number_sections": true,
   "sideBar": true,
   "skip_h1_title": false,
   "title_cell": "Table of Contents",
   "title_sidebar": "Contents",
   "toc_cell": false,
   "toc_position": {},
   "toc_section_display": true,
   "toc_window_display": false
  },
  "varInspector": {
   "cols": {
    "lenName": 16,
    "lenType": 16,
    "lenVar": 40
   },
   "kernels_config": {
    "python": {
     "delete_cmd_postfix": "",
     "delete_cmd_prefix": "del ",
     "library": "var_list.py",
     "varRefreshCmd": "print(var_dic_list())"
    },
    "r": {
     "delete_cmd_postfix": ") ",
     "delete_cmd_prefix": "rm(",
     "library": "var_list.r",
     "varRefreshCmd": "cat(var_dic_list()) "
    }
   },
   "types_to_exclude": [
    "module",
    "function",
    "builtin_function_or_method",
    "instance",
    "_Feature"
   ],
   "window_display": false
  }
 },
 "nbformat": 4,
 "nbformat_minor": 2
}
