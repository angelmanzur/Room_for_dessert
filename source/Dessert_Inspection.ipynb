{
 "cells": [
  {
   "cell_type": "code",
   "execution_count": 2,
   "metadata": {
    "ExecuteTime": {
     "end_time": "2019-07-23T15:02:12.713213Z",
     "start_time": "2019-07-23T15:02:10.184483Z"
    }
   },
   "outputs": [],
   "source": [
    "from extract_desserts import *\n",
    "from pattern.text.en import singularize\n",
    "from nltk import FreqDist\n",
    "import matplotlib.pyplot as plt\n",
    "import numpy as np\n",
    "np.random.seed(seed=2019)\n",
    "\n",
    "import gensim\n",
    "import logging\n",
    "logging.basicConfig(format='%(asctime)s : %(levelname)s : %(message)s',\n",
    "                    datefmt='%H:%M:%S',\n",
    "                   level=logging.INFO)\n",
    "\n",
    "from time import time\n",
    "import multiprocessing"
   ]
  },
  {
   "cell_type": "code",
   "execution_count": 3,
   "metadata": {
    "ExecuteTime": {
     "end_time": "2019-07-23T15:02:23.936900Z",
     "start_time": "2019-07-23T15:02:23.487257Z"
    }
   },
   "outputs": [
    {
     "name": "stdout",
     "output_type": "stream",
     "text": [
      "Loading file  ../data/sample_layer1.json\n",
      "Loading ingredient file: ../data/sample_det_ingrs.json\n"
     ]
    }
   ],
   "source": [
    "#load the raw data\n",
    "# lets use the default value that only loads 250 recipes,\n",
    "# instead of 1 million\n",
    "raw_data = get_raw_data()\n",
    "raw_ingredients = get_raw_ingredients()"
   ]
  },
  {
   "cell_type": "code",
   "execution_count": 4,
   "metadata": {
    "ExecuteTime": {
     "end_time": "2019-07-23T15:02:25.862887Z",
     "start_time": "2019-07-23T15:02:25.857623Z"
    }
   },
   "outputs": [
    {
     "name": "stdout",
     "output_type": "stream",
     "text": [
      "N recipes: 20000\t N list of ingredients: 20000\n"
     ]
    }
   ],
   "source": [
    "print('N recipes: {}\\t N list of ingredients: {}'.format(len(raw_data),\n",
    "      len(raw_ingredients)))\n"
   ]
  },
  {
   "cell_type": "code",
   "execution_count": 5,
   "metadata": {
    "ExecuteTime": {
     "end_time": "2019-07-23T15:02:35.769730Z",
     "start_time": "2019-07-23T15:02:28.403641Z"
    },
    "scrolled": false
   },
   "outputs": [
    {
     "name": "stdout",
     "output_type": "stream",
     "text": [
      "['fish', 'salmon', 'tuna', 'chicken', 'turkey', 'garlic', 'onion', 'lamb', 'sausage', 'shrimp', 'beef', 'taco', 'shallot', 'veal', 'pork', 'mincemeat', 'crab', 'filet', 'chipotle', 'panceta', 'asparagus', 'parsley', 'mushroom', 'sardines', 'olives', 'oyster', 'ham', 'snow pea', 'kimchi', 'cilantro', 'Worcestershire', 'tomato paste', 'salsa', 'bologna']\n"
     ]
    }
   ],
   "source": [
    "## get a list of desserts only\n",
    "desserts, dessert_ings = find_desserts(raw_data, raw_ingredients)#,test_id='02916fd389')\n"
   ]
  },
  {
   "cell_type": "code",
   "execution_count": 6,
   "metadata": {
    "ExecuteTime": {
     "end_time": "2019-07-23T15:02:58.716436Z",
     "start_time": "2019-07-23T15:02:58.711796Z"
    }
   },
   "outputs": [
    {
     "name": "stdout",
     "output_type": "stream",
     "text": [
      "Will look at 3848 dessert recipes, out of 20000 (~19.2%)\n"
     ]
    }
   ],
   "source": [
    "total_recipes = len(raw_data)\n",
    "dessert_recipes = len(desserts)\n",
    "dessert_ingredients = len(dessert_ings)\n",
    "print('Will look at {} dessert recipes, out of {} (~{:1.1f}%)'.format(\n",
    "                            dessert_recipes, total_recipes,\n",
    "                            dessert_recipes/total_recipes*100))"
   ]
  },
  {
   "cell_type": "code",
   "execution_count": 7,
   "metadata": {
    "ExecuteTime": {
     "end_time": "2019-07-23T15:03:13.964757Z",
     "start_time": "2019-07-23T15:03:13.940056Z"
    }
   },
   "outputs": [],
   "source": [
    "def clean_dessert_ingredients(all_ingredients):\n",
    "    count =0\n",
    "    for item, ingredients_list in enumerate(all_ingredients):\n",
    "        to_remove = []\n",
    "        for ingr_item, ingredient in enumerate(ingredients_list['ingredients']):\n",
    "            tmp_ingredient = ingredient['text'].lower().replace(' - ','-')\n",
    "            tmp_ingredient = tmp_ingredient.replace(\"'\",'')\n",
    "            tmp_ingredient = tmp_ingredient.replace(\" & \",'&')\n",
    "            tmp_ingredient = tmp_ingredient.replace('fat free', 'fat-free')\n",
    "#             tmp_ingredient = singularize(tmp_ingredient)\n",
    "            \n",
    "#             print(ingredient['text'].replace(' - ','-'))\n",
    "            if re.search('water', tmp_ingredient) and not re.search('watermelon',tmp_ingredient) and not re.search('rose water',tmp_ingredient):\n",
    "                to_remove.append(ingr_item)\n",
    "            \n",
    "            if re.search('vanilla extract', tmp_ingredient):\n",
    "                tmp_ingredient='vanilla extract'\n",
    "\n",
    "            elif (re.search('purpose flour', tmp_ingredient) \n",
    "                  or re.search('cake flour',tmp_ingredient) \n",
    "                  or re.search('rising flour', tmp_ingredient) \n",
    "                  or re.search('plain flour', tmp_ingredient)\n",
    "                  or re.search('white flour', tmp_ingredient)\n",
    "                  or re.search('raising flour', tmp_ingredient)\n",
    "\n",
    "                 ):\n",
    "                tmp_ingredient = 'flour' \n",
    "            elif re.search('brown sugar', tmp_ingredient) or re.search('demerara sugar', tmp_ingredient):\n",
    "                tmp_ingredient = 'brown sugar'\n",
    "            \n",
    "            elif re.search('powdered sugar', tmp_ingredient) or re.search('confectioners sugar',tmp_ingredient) :\n",
    "                tmp_ingredient ='powdered sugar'\n",
    "            elif re.search('sugar', tmp_ingredient) or re.search('white sugar', tmp_ingredient) or re.search('granulated sugar',tmp_ingredient):\n",
    "                tmp_ingredient = 'sugar'\n",
    "            elif re.search('chocolate chip',tmp_ingredient):\n",
    "#                 print(tmp_ingredient)\n",
    "                tmp_ingredient = 'chocolate chip'\n",
    "            elif re.search('semi-sweet', tmp_ingredient) and re.search('chocolate',tmp_ingredient):\n",
    "                tmp_ingredient = 'chocolate'\n",
    "            elif re.search('salted butter', tmp_ingredient):\n",
    "                tmp_ingredient = 'butter'\n",
    "            elif re.search('cocoa powder', tmp_ingredient):\n",
    "                tmp_ingredient = 'cocoa powder'\n",
    "            elif re.search('cinnamon', tmp_ingredient):\n",
    "                tmp_ingredient = 'cinnamon'\n",
    "            elif re.search('graham cracker', tmp_ingredient):\n",
    "                tmp_ingredient = 'graham cracker'\n",
    "            if not re.search('flour', tmp_ingredient) and not re.search('molasses',tmp_ingredient):\n",
    "                tmp_ingredient = singularize(tmp_ingredient)\n",
    "\n",
    "\n",
    "            all_ingredients[item]['ingredients'][ingr_item]['text'] = tmp_ingredient\n",
    "            \n",
    "        if len(to_remove)>0:\n",
    "            \n",
    "            to_remove.sort(reverse=True)\n",
    "            \n",
    "                \n",
    "#             print(item,'to remove', to_remove)\n",
    "            for i in to_remove:\n",
    "#                 print('try to remove', all_ingredients[item]['ingredients'][i])\n",
    "                del all_ingredients[item]['ingredients'][i]\n",
    "#         for iremove in to_remove:\n",
    "#             del all_ingredients\n",
    "#         print('--------------------------')\n",
    "        if item%500==0:\n",
    "            logging.info(\"read {0} recipes\".format(item))\n",
    "    return all_ingredients\n",
    "\n",
    "def print_dessert_ingredients(all_ingredients):\n",
    "    count =0\n",
    "    for item, ingredients_list in enumerate(all_ingredients):\n",
    "        for ingr_item, ingredient in enumerate(ingredients_list['ingredients']):\n",
    "            \n",
    "            \n",
    "            print(ingredient['text'])\n",
    "        \n",
    "        print('--------------------------')\n",
    "        if item==50:\n",
    "            break\n",
    "    return all_ingredients"
   ]
  },
  {
   "cell_type": "code",
   "execution_count": 8,
   "metadata": {
    "ExecuteTime": {
     "end_time": "2019-07-23T15:03:21.012701Z",
     "start_time": "2019-07-23T15:03:19.099312Z"
    }
   },
   "outputs": [
    {
     "name": "stderr",
     "output_type": "stream",
     "text": [
      "11:03:19 : INFO : read 0 recipes\n",
      "11:03:19 : INFO : read 500 recipes\n",
      "11:03:19 : INFO : read 1000 recipes\n",
      "11:03:19 : INFO : read 1500 recipes\n",
      "11:03:20 : INFO : read 2000 recipes\n",
      "11:03:20 : INFO : read 2500 recipes\n",
      "11:03:20 : INFO : read 3000 recipes\n",
      "11:03:20 : INFO : read 3500 recipes\n"
     ]
    }
   ],
   "source": [
    "clean_ingredients =  clean_dessert_ingredients(dessert_ings);\n",
    "# print_dessert_ingredients(clean_ingredients)\n",
    "# print(dessert_ings)\n"
   ]
  },
  {
   "cell_type": "code",
   "execution_count": 6,
   "metadata": {
    "ExecuteTime": {
     "end_time": "2019-07-23T01:37:58.065716Z",
     "start_time": "2019-07-23T01:37:58.061174Z"
    }
   },
   "outputs": [],
   "source": [
    "# item = np.random.randint(dessert_recipes)\n",
    "# print(item, dessert_ings[item]['valid'])\n",
    "# dessert_ings[item]['ingredients']"
   ]
  },
  {
   "cell_type": "code",
   "execution_count": 10,
   "metadata": {
    "ExecuteTime": {
     "end_time": "2019-07-22T18:55:07.334131Z",
     "start_time": "2019-07-22T18:55:07.328603Z"
    }
   },
   "outputs": [
    {
     "name": "stdout",
     "output_type": "stream",
     "text": [
      "None\n",
      "<re.Match object; span=(7, 12), match='onion'>\n"
     ]
    }
   ],
   "source": [
    "m = re.match('onion', 'yellow onions' )\n",
    "print(m)\n",
    "\n",
    "m = re.search('onion', 'yellow onions' )\n",
    "print(m)"
   ]
  },
  {
   "cell_type": "code",
   "execution_count": null,
   "metadata": {},
   "outputs": [],
   "source": []
  },
  {
   "cell_type": "code",
   "execution_count": null,
   "metadata": {},
   "outputs": [],
   "source": []
  },
  {
   "cell_type": "markdown",
   "metadata": {},
   "source": [
    "# Let's look at the unique words"
   ]
  },
  {
   "cell_type": "code",
   "execution_count": 6,
   "metadata": {
    "ExecuteTime": {
     "end_time": "2019-07-23T01:04:21.327056Z",
     "start_time": "2019-07-23T01:04:21.321657Z"
    }
   },
   "outputs": [],
   "source": [
    "spices =['sugar','salt','water','baking soda','baking powder','flour', 'vegetable oil',\n",
    "        'olive oil', 'cornstarch','nutmeg','white sugar','powdered sugar', 'brown sugar',\n",
    "        'margarine','oil','shortening','kosher salt',\"confectioners' sugar\",'icing sugar',\n",
    "        'canola oil','pepper' ,'low - fat milk','light corn syrup','cooking spray', \n",
    "         'corn syrup','vegetable shortening']"
   ]
  },
  {
   "cell_type": "code",
   "execution_count": null,
   "metadata": {},
   "outputs": [],
   "source": []
  },
  {
   "cell_type": "code",
   "execution_count": 9,
   "metadata": {
    "ExecuteTime": {
     "end_time": "2019-07-22T15:23:54.080375Z",
     "start_time": "2019-07-22T15:23:54.073474Z"
    }
   },
   "outputs": [
    {
     "data": {
      "text/plain": [
       "(4659, 5)"
      ]
     },
     "execution_count": 9,
     "metadata": {},
     "output_type": "execute_result"
    }
   ],
   "source": [
    "item=0\n",
    "len(dessert_ings),len(dessert_ings[item]['ingredients'])"
   ]
  },
  {
   "cell_type": "markdown",
   "metadata": {},
   "source": [
    "## Lets create a list of ingredients\n",
    "And we will us it as an input to word2Vec"
   ]
  },
  {
   "cell_type": "code",
   "execution_count": 24,
   "metadata": {
    "ExecuteTime": {
     "end_time": "2019-07-23T15:08:44.075498Z",
     "start_time": "2019-07-23T15:08:44.047289Z"
    }
   },
   "outputs": [
    {
     "name": "stderr",
     "output_type": "stream",
     "text": [
      "11:08:44 : INFO : read 500 ingredients\n",
      "11:08:44 : INFO : read 1000 ingredients\n",
      "11:08:44 : INFO : read 1500 ingredients\n",
      "11:08:44 : INFO : read 2000 ingredients\n",
      "11:08:44 : INFO : read 2500 ingredients\n",
      "11:08:44 : INFO : read 3000 ingredients\n",
      "11:08:44 : INFO : read 3500 ingredients\n"
     ]
    }
   ],
   "source": [
    "ingredients_per_recipe = []\n",
    "count =0\n",
    "for drecipe in dessert_ings:\n",
    "    ings =[]\n",
    "    for entry in drecipe['ingredients']:\n",
    "        ings.append(entry['text'])\n",
    "    ingredients_per_recipe.append(ings)\n",
    "    count += 1\n",
    "    if count%500==0:\n",
    "        logging.info(\"read {0} ingredients\".format(count))\n",
    "\n",
    "#         break;\n",
    "\n",
    "# print(all_dingredients)"
   ]
  },
  {
   "cell_type": "code",
   "execution_count": 26,
   "metadata": {
    "ExecuteTime": {
     "end_time": "2019-07-23T15:09:32.643435Z",
     "start_time": "2019-07-23T15:09:32.637504Z"
    }
   },
   "outputs": [
    {
     "data": {
      "text/plain": [
       "['fresh rhubarb',\n",
       " 'frozen rhubarb',\n",
       " 'sugar',\n",
       " 'strawberry jell-o gelatin dessert',\n",
       " 'white cake mix',\n",
       " 'butter']"
      ]
     },
     "execution_count": 26,
     "metadata": {},
     "output_type": "execute_result"
    }
   ],
   "source": [
    "ingredients_per_recipe[0]"
   ]
  },
  {
   "cell_type": "markdown",
   "metadata": {
    "ExecuteTime": {
     "end_time": "2019-07-20T01:57:00.922754Z",
     "start_time": "2019-07-20T01:57:00.914197Z"
    }
   },
   "source": [
    "## Create a Word2Vec model training on the ingredients. \n"
   ]
  },
  {
   "cell_type": "code",
   "execution_count": 33,
   "metadata": {
    "ExecuteTime": {
     "end_time": "2019-07-23T15:27:15.647482Z",
     "start_time": "2019-07-23T15:27:15.643585Z"
    }
   },
   "outputs": [],
   "source": [
    "vec_size = 100;\n",
    "model = gensim.models.Word2Vec(\n",
    "   # all_dingredients,\n",
    "    size=vec_size,\n",
    "    window=5,\n",
    "    min_count=20,\n",
    "    workers=10,\n",
    "    alpha=0.02,\n",
    "    iter=4,\n",
    "    sg=0)"
   ]
  },
  {
   "cell_type": "code",
   "execution_count": 34,
   "metadata": {
    "ExecuteTime": {
     "end_time": "2019-07-23T15:27:17.606457Z",
     "start_time": "2019-07-23T15:27:17.571670Z"
    },
    "scrolled": true
   },
   "outputs": [
    {
     "name": "stderr",
     "output_type": "stream",
     "text": [
      "11:27:17 : INFO : collecting all words and their counts\n",
      "11:27:17 : INFO : PROGRESS: at sentence #0, processed 0 words, keeping 0 word types\n",
      "11:27:17 : INFO : PROGRESS: at sentence #1000, processed 8804 words, keeping 1197 word types\n",
      "11:27:17 : INFO : PROGRESS: at sentence #2000, processed 17590 words, keeping 1791 word types\n",
      "11:27:17 : INFO : PROGRESS: at sentence #3000, processed 26079 words, keeping 2240 word types\n",
      "11:27:17 : INFO : collected 2584 word types from a corpus of 33775 raw words and 3848 sentences\n",
      "11:27:17 : INFO : Loading a fresh vocabulary\n",
      "11:27:17 : INFO : min_count=20 retains 172 unique words (6% of original 2584, drops 2412)\n",
      "11:27:17 : INFO : min_count=20 leaves 27382 word corpus (81% of original 33775, drops 6393)\n",
      "11:27:17 : INFO : deleting the raw counts dictionary of 2584 items\n",
      "11:27:17 : INFO : sample=0.001 downsamples 58 most-common words\n",
      "11:27:17 : INFO : downsampling leaves estimated 10646 word corpus (38.9% of prior 27382)\n",
      "11:27:17 : INFO : estimated required memory for 172 words and 100 dimensions: 223600 bytes\n",
      "11:27:17 : INFO : resetting layer weights\n"
     ]
    }
   ],
   "source": [
    "t = time()\n",
    "model.build_vocab(ingredients_per_recipe, progress_per=1000)"
   ]
  },
  {
   "cell_type": "code",
   "execution_count": 36,
   "metadata": {
    "ExecuteTime": {
     "end_time": "2019-07-23T15:27:26.393113Z",
     "start_time": "2019-07-23T15:27:25.007575Z"
    }
   },
   "outputs": [
    {
     "name": "stderr",
     "output_type": "stream",
     "text": [
      "11:27:25 : WARNING : Effective 'alpha' higher than previous training cycles\n",
      "11:27:25 : INFO : training model with 10 workers on 172 vocabulary and 100 features, using sg=0 hs=0 sample=0.001 negative=5 window=5\n",
      "11:27:25 : INFO : worker thread finished; awaiting finish of 9 more threads\n",
      "11:27:25 : INFO : worker thread finished; awaiting finish of 8 more threads\n",
      "11:27:25 : INFO : worker thread finished; awaiting finish of 7 more threads\n",
      "11:27:25 : INFO : worker thread finished; awaiting finish of 6 more threads\n",
      "11:27:25 : INFO : worker thread finished; awaiting finish of 5 more threads\n",
      "11:27:25 : INFO : worker thread finished; awaiting finish of 4 more threads\n",
      "11:27:25 : INFO : worker thread finished; awaiting finish of 3 more threads\n",
      "11:27:25 : INFO : worker thread finished; awaiting finish of 2 more threads\n",
      "11:27:25 : INFO : worker thread finished; awaiting finish of 1 more threads\n",
      "11:27:25 : INFO : worker thread finished; awaiting finish of 0 more threads\n",
      "11:27:25 : INFO : EPOCH - 1 : training on 33775 raw words (10621 effective words) took 0.0s, 327171 effective words/s\n",
      "11:27:25 : INFO : worker thread finished; awaiting finish of 9 more threads\n",
      "11:27:25 : INFO : worker thread finished; awaiting finish of 8 more threads\n",
      "11:27:25 : INFO : worker thread finished; awaiting finish of 7 more threads\n",
      "11:27:25 : INFO : worker thread finished; awaiting finish of 6 more threads\n",
      "11:27:25 : INFO : worker thread finished; awaiting finish of 5 more threads\n",
      "11:27:25 : INFO : worker thread finished; awaiting finish of 4 more threads\n",
      "11:27:25 : INFO : worker thread finished; awaiting finish of 3 more threads\n",
      "11:27:25 : INFO : worker thread finished; awaiting finish of 2 more threads\n",
      "11:27:25 : INFO : worker thread finished; awaiting finish of 1 more threads\n",
      "11:27:25 : INFO : worker thread finished; awaiting finish of 0 more threads\n",
      "11:27:25 : INFO : EPOCH - 2 : training on 33775 raw words (10580 effective words) took 0.0s, 530622 effective words/s\n",
      "11:27:25 : INFO : worker thread finished; awaiting finish of 9 more threads\n",
      "11:27:25 : INFO : worker thread finished; awaiting finish of 8 more threads\n",
      "11:27:25 : INFO : worker thread finished; awaiting finish of 7 more threads\n",
      "11:27:25 : INFO : worker thread finished; awaiting finish of 6 more threads\n",
      "11:27:25 : INFO : worker thread finished; awaiting finish of 5 more threads\n",
      "11:27:25 : INFO : worker thread finished; awaiting finish of 4 more threads\n",
      "11:27:25 : INFO : worker thread finished; awaiting finish of 3 more threads\n",
      "11:27:25 : INFO : worker thread finished; awaiting finish of 2 more threads\n",
      "11:27:25 : INFO : worker thread finished; awaiting finish of 1 more threads\n",
      "11:27:25 : INFO : worker thread finished; awaiting finish of 0 more threads\n",
      "11:27:25 : INFO : EPOCH - 3 : training on 33775 raw words (10571 effective words) took 0.0s, 514086 effective words/s\n",
      "11:27:25 : INFO : worker thread finished; awaiting finish of 9 more threads\n",
      "11:27:25 : INFO : worker thread finished; awaiting finish of 8 more threads\n",
      "11:27:25 : INFO : worker thread finished; awaiting finish of 7 more threads\n",
      "11:27:25 : INFO : worker thread finished; awaiting finish of 6 more threads\n",
      "11:27:25 : INFO : worker thread finished; awaiting finish of 5 more threads\n",
      "11:27:25 : INFO : worker thread finished; awaiting finish of 4 more threads\n",
      "11:27:25 : INFO : worker thread finished; awaiting finish of 3 more threads\n",
      "11:27:25 : INFO : worker thread finished; awaiting finish of 2 more threads\n",
      "11:27:25 : INFO : worker thread finished; awaiting finish of 1 more threads\n",
      "11:27:25 : INFO : worker thread finished; awaiting finish of 0 more threads\n",
      "11:27:25 : INFO : EPOCH - 4 : training on 33775 raw words (10625 effective words) took 0.0s, 566558 effective words/s\n",
      "11:27:25 : INFO : worker thread finished; awaiting finish of 9 more threads\n",
      "11:27:25 : INFO : worker thread finished; awaiting finish of 8 more threads\n",
      "11:27:25 : INFO : worker thread finished; awaiting finish of 7 more threads\n",
      "11:27:25 : INFO : worker thread finished; awaiting finish of 6 more threads\n",
      "11:27:25 : INFO : worker thread finished; awaiting finish of 5 more threads\n",
      "11:27:25 : INFO : worker thread finished; awaiting finish of 4 more threads\n",
      "11:27:25 : INFO : worker thread finished; awaiting finish of 3 more threads\n",
      "11:27:25 : INFO : worker thread finished; awaiting finish of 2 more threads\n",
      "11:27:25 : INFO : worker thread finished; awaiting finish of 1 more threads\n",
      "11:27:25 : INFO : worker thread finished; awaiting finish of 0 more threads\n",
      "11:27:25 : INFO : EPOCH - 5 : training on 33775 raw words (10600 effective words) took 0.0s, 541550 effective words/s\n",
      "11:27:25 : INFO : worker thread finished; awaiting finish of 9 more threads\n",
      "11:27:25 : INFO : worker thread finished; awaiting finish of 8 more threads\n",
      "11:27:25 : INFO : worker thread finished; awaiting finish of 7 more threads\n",
      "11:27:25 : INFO : worker thread finished; awaiting finish of 6 more threads\n",
      "11:27:25 : INFO : worker thread finished; awaiting finish of 5 more threads\n",
      "11:27:25 : INFO : worker thread finished; awaiting finish of 4 more threads\n",
      "11:27:25 : INFO : worker thread finished; awaiting finish of 3 more threads\n",
      "11:27:25 : INFO : worker thread finished; awaiting finish of 2 more threads\n",
      "11:27:25 : INFO : worker thread finished; awaiting finish of 1 more threads\n",
      "11:27:25 : INFO : worker thread finished; awaiting finish of 0 more threads\n",
      "11:27:25 : INFO : EPOCH - 6 : training on 33775 raw words (10642 effective words) took 0.0s, 629555 effective words/s\n",
      "11:27:25 : INFO : worker thread finished; awaiting finish of 9 more threads\n",
      "11:27:25 : INFO : worker thread finished; awaiting finish of 8 more threads\n",
      "11:27:25 : INFO : worker thread finished; awaiting finish of 7 more threads\n",
      "11:27:25 : INFO : worker thread finished; awaiting finish of 6 more threads\n",
      "11:27:25 : INFO : worker thread finished; awaiting finish of 5 more threads\n",
      "11:27:25 : INFO : worker thread finished; awaiting finish of 4 more threads\n",
      "11:27:25 : INFO : worker thread finished; awaiting finish of 3 more threads\n",
      "11:27:25 : INFO : worker thread finished; awaiting finish of 2 more threads\n",
      "11:27:25 : INFO : worker thread finished; awaiting finish of 1 more threads\n",
      "11:27:25 : INFO : worker thread finished; awaiting finish of 0 more threads\n",
      "11:27:25 : INFO : EPOCH - 7 : training on 33775 raw words (10763 effective words) took 0.0s, 565884 effective words/s\n",
      "11:27:25 : INFO : worker thread finished; awaiting finish of 9 more threads\n",
      "11:27:25 : INFO : worker thread finished; awaiting finish of 8 more threads\n",
      "11:27:25 : INFO : worker thread finished; awaiting finish of 7 more threads\n",
      "11:27:25 : INFO : worker thread finished; awaiting finish of 6 more threads\n",
      "11:27:25 : INFO : worker thread finished; awaiting finish of 5 more threads\n",
      "11:27:25 : INFO : worker thread finished; awaiting finish of 4 more threads\n",
      "11:27:25 : INFO : worker thread finished; awaiting finish of 3 more threads\n",
      "11:27:25 : INFO : worker thread finished; awaiting finish of 2 more threads\n",
      "11:27:25 : INFO : worker thread finished; awaiting finish of 1 more threads\n",
      "11:27:25 : INFO : worker thread finished; awaiting finish of 0 more threads\n",
      "11:27:25 : INFO : EPOCH - 8 : training on 33775 raw words (10602 effective words) took 0.0s, 537808 effective words/s\n",
      "11:27:25 : INFO : worker thread finished; awaiting finish of 9 more threads\n",
      "11:27:25 : INFO : worker thread finished; awaiting finish of 8 more threads\n",
      "11:27:25 : INFO : worker thread finished; awaiting finish of 7 more threads\n",
      "11:27:25 : INFO : worker thread finished; awaiting finish of 6 more threads\n",
      "11:27:25 : INFO : worker thread finished; awaiting finish of 5 more threads\n",
      "11:27:25 : INFO : worker thread finished; awaiting finish of 4 more threads\n",
      "11:27:25 : INFO : worker thread finished; awaiting finish of 3 more threads\n",
      "11:27:25 : INFO : worker thread finished; awaiting finish of 2 more threads\n",
      "11:27:25 : INFO : worker thread finished; awaiting finish of 1 more threads\n",
      "11:27:25 : INFO : worker thread finished; awaiting finish of 0 more threads\n",
      "11:27:25 : INFO : EPOCH - 9 : training on 33775 raw words (10588 effective words) took 0.0s, 579200 effective words/s\n",
      "11:27:25 : INFO : worker thread finished; awaiting finish of 9 more threads\n",
      "11:27:25 : INFO : worker thread finished; awaiting finish of 8 more threads\n"
     ]
    },
    {
     "name": "stderr",
     "output_type": "stream",
     "text": [
      "11:27:25 : INFO : worker thread finished; awaiting finish of 7 more threads\n",
      "11:27:25 : INFO : worker thread finished; awaiting finish of 6 more threads\n",
      "11:27:25 : INFO : worker thread finished; awaiting finish of 5 more threads\n",
      "11:27:25 : INFO : worker thread finished; awaiting finish of 4 more threads\n",
      "11:27:25 : INFO : worker thread finished; awaiting finish of 3 more threads\n",
      "11:27:25 : INFO : worker thread finished; awaiting finish of 2 more threads\n",
      "11:27:25 : INFO : worker thread finished; awaiting finish of 1 more threads\n",
      "11:27:25 : INFO : worker thread finished; awaiting finish of 0 more threads\n",
      "11:27:25 : INFO : EPOCH - 10 : training on 33775 raw words (10605 effective words) took 0.0s, 571486 effective words/s\n",
      "11:27:25 : INFO : worker thread finished; awaiting finish of 9 more threads\n",
      "11:27:25 : INFO : worker thread finished; awaiting finish of 8 more threads\n",
      "11:27:25 : INFO : worker thread finished; awaiting finish of 7 more threads\n",
      "11:27:25 : INFO : worker thread finished; awaiting finish of 6 more threads\n",
      "11:27:25 : INFO : worker thread finished; awaiting finish of 5 more threads\n",
      "11:27:25 : INFO : worker thread finished; awaiting finish of 4 more threads\n",
      "11:27:25 : INFO : worker thread finished; awaiting finish of 3 more threads\n",
      "11:27:25 : INFO : worker thread finished; awaiting finish of 2 more threads\n",
      "11:27:25 : INFO : worker thread finished; awaiting finish of 1 more threads\n",
      "11:27:25 : INFO : worker thread finished; awaiting finish of 0 more threads\n",
      "11:27:25 : INFO : EPOCH - 11 : training on 33775 raw words (10622 effective words) took 0.0s, 561060 effective words/s\n",
      "11:27:25 : INFO : worker thread finished; awaiting finish of 9 more threads\n",
      "11:27:25 : INFO : worker thread finished; awaiting finish of 8 more threads\n",
      "11:27:25 : INFO : worker thread finished; awaiting finish of 7 more threads\n",
      "11:27:25 : INFO : worker thread finished; awaiting finish of 6 more threads\n",
      "11:27:25 : INFO : worker thread finished; awaiting finish of 5 more threads\n",
      "11:27:25 : INFO : worker thread finished; awaiting finish of 4 more threads\n",
      "11:27:25 : INFO : worker thread finished; awaiting finish of 3 more threads\n",
      "11:27:25 : INFO : worker thread finished; awaiting finish of 2 more threads\n",
      "11:27:25 : INFO : worker thread finished; awaiting finish of 1 more threads\n",
      "11:27:25 : INFO : worker thread finished; awaiting finish of 0 more threads\n",
      "11:27:25 : INFO : EPOCH - 12 : training on 33775 raw words (10548 effective words) took 0.0s, 394553 effective words/s\n",
      "11:27:25 : INFO : worker thread finished; awaiting finish of 9 more threads\n",
      "11:27:25 : INFO : worker thread finished; awaiting finish of 8 more threads\n",
      "11:27:25 : INFO : worker thread finished; awaiting finish of 7 more threads\n",
      "11:27:25 : INFO : worker thread finished; awaiting finish of 6 more threads\n",
      "11:27:25 : INFO : worker thread finished; awaiting finish of 5 more threads\n",
      "11:27:25 : INFO : worker thread finished; awaiting finish of 4 more threads\n",
      "11:27:25 : INFO : worker thread finished; awaiting finish of 3 more threads\n",
      "11:27:25 : INFO : worker thread finished; awaiting finish of 2 more threads\n",
      "11:27:25 : INFO : worker thread finished; awaiting finish of 1 more threads\n",
      "11:27:25 : INFO : worker thread finished; awaiting finish of 0 more threads\n",
      "11:27:25 : INFO : EPOCH - 13 : training on 33775 raw words (10689 effective words) took 0.0s, 625882 effective words/s\n",
      "11:27:25 : INFO : worker thread finished; awaiting finish of 9 more threads\n",
      "11:27:25 : INFO : worker thread finished; awaiting finish of 8 more threads\n",
      "11:27:25 : INFO : worker thread finished; awaiting finish of 7 more threads\n",
      "11:27:25 : INFO : worker thread finished; awaiting finish of 6 more threads\n",
      "11:27:25 : INFO : worker thread finished; awaiting finish of 5 more threads\n",
      "11:27:25 : INFO : worker thread finished; awaiting finish of 4 more threads\n",
      "11:27:25 : INFO : worker thread finished; awaiting finish of 3 more threads\n",
      "11:27:25 : INFO : worker thread finished; awaiting finish of 2 more threads\n",
      "11:27:25 : INFO : worker thread finished; awaiting finish of 1 more threads\n",
      "11:27:25 : INFO : worker thread finished; awaiting finish of 0 more threads\n",
      "11:27:25 : INFO : EPOCH - 14 : training on 33775 raw words (10598 effective words) took 0.0s, 631248 effective words/s\n",
      "11:27:25 : INFO : worker thread finished; awaiting finish of 9 more threads\n",
      "11:27:25 : INFO : worker thread finished; awaiting finish of 8 more threads\n",
      "11:27:25 : INFO : worker thread finished; awaiting finish of 7 more threads\n",
      "11:27:25 : INFO : worker thread finished; awaiting finish of 6 more threads\n",
      "11:27:25 : INFO : worker thread finished; awaiting finish of 5 more threads\n",
      "11:27:25 : INFO : worker thread finished; awaiting finish of 4 more threads\n",
      "11:27:25 : INFO : worker thread finished; awaiting finish of 3 more threads\n",
      "11:27:25 : INFO : worker thread finished; awaiting finish of 2 more threads\n",
      "11:27:25 : INFO : worker thread finished; awaiting finish of 1 more threads\n",
      "11:27:25 : INFO : worker thread finished; awaiting finish of 0 more threads\n",
      "11:27:25 : INFO : EPOCH - 15 : training on 33775 raw words (10645 effective words) took 0.0s, 366544 effective words/s\n",
      "11:27:25 : INFO : worker thread finished; awaiting finish of 9 more threads\n",
      "11:27:25 : INFO : worker thread finished; awaiting finish of 8 more threads\n",
      "11:27:25 : INFO : worker thread finished; awaiting finish of 7 more threads\n",
      "11:27:25 : INFO : worker thread finished; awaiting finish of 6 more threads\n",
      "11:27:25 : INFO : worker thread finished; awaiting finish of 5 more threads\n",
      "11:27:25 : INFO : worker thread finished; awaiting finish of 4 more threads\n",
      "11:27:25 : INFO : worker thread finished; awaiting finish of 3 more threads\n",
      "11:27:25 : INFO : worker thread finished; awaiting finish of 2 more threads\n",
      "11:27:25 : INFO : worker thread finished; awaiting finish of 1 more threads\n",
      "11:27:25 : INFO : worker thread finished; awaiting finish of 0 more threads\n",
      "11:27:25 : INFO : EPOCH - 16 : training on 33775 raw words (10677 effective words) took 0.0s, 618022 effective words/s\n",
      "11:27:25 : INFO : worker thread finished; awaiting finish of 9 more threads\n",
      "11:27:25 : INFO : worker thread finished; awaiting finish of 8 more threads\n",
      "11:27:25 : INFO : worker thread finished; awaiting finish of 7 more threads\n",
      "11:27:25 : INFO : worker thread finished; awaiting finish of 6 more threads\n",
      "11:27:25 : INFO : worker thread finished; awaiting finish of 5 more threads\n",
      "11:27:25 : INFO : worker thread finished; awaiting finish of 4 more threads\n",
      "11:27:25 : INFO : worker thread finished; awaiting finish of 3 more threads\n",
      "11:27:25 : INFO : worker thread finished; awaiting finish of 2 more threads\n",
      "11:27:25 : INFO : worker thread finished; awaiting finish of 1 more threads\n",
      "11:27:25 : INFO : worker thread finished; awaiting finish of 0 more threads\n",
      "11:27:25 : INFO : EPOCH - 17 : training on 33775 raw words (10805 effective words) took 0.0s, 512984 effective words/s\n",
      "11:27:25 : INFO : worker thread finished; awaiting finish of 9 more threads\n",
      "11:27:25 : INFO : worker thread finished; awaiting finish of 8 more threads\n",
      "11:27:25 : INFO : worker thread finished; awaiting finish of 7 more threads\n",
      "11:27:25 : INFO : worker thread finished; awaiting finish of 6 more threads\n",
      "11:27:25 : INFO : worker thread finished; awaiting finish of 5 more threads\n",
      "11:27:25 : INFO : worker thread finished; awaiting finish of 4 more threads\n",
      "11:27:25 : INFO : worker thread finished; awaiting finish of 3 more threads\n",
      "11:27:25 : INFO : worker thread finished; awaiting finish of 2 more threads\n",
      "11:27:25 : INFO : worker thread finished; awaiting finish of 1 more threads\n",
      "11:27:25 : INFO : worker thread finished; awaiting finish of 0 more threads\n",
      "11:27:25 : INFO : EPOCH - 18 : training on 33775 raw words (10632 effective words) took 0.0s, 758548 effective words/s\n",
      "11:27:25 : INFO : worker thread finished; awaiting finish of 9 more threads\n",
      "11:27:25 : INFO : worker thread finished; awaiting finish of 8 more threads\n",
      "11:27:25 : INFO : worker thread finished; awaiting finish of 7 more threads\n",
      "11:27:25 : INFO : worker thread finished; awaiting finish of 6 more threads\n",
      "11:27:25 : INFO : worker thread finished; awaiting finish of 5 more threads\n",
      "11:27:25 : INFO : worker thread finished; awaiting finish of 4 more threads\n"
     ]
    },
    {
     "name": "stderr",
     "output_type": "stream",
     "text": [
      "11:27:25 : INFO : worker thread finished; awaiting finish of 3 more threads\n",
      "11:27:25 : INFO : worker thread finished; awaiting finish of 2 more threads\n",
      "11:27:25 : INFO : worker thread finished; awaiting finish of 1 more threads\n",
      "11:27:25 : INFO : worker thread finished; awaiting finish of 0 more threads\n",
      "11:27:25 : INFO : EPOCH - 19 : training on 33775 raw words (10635 effective words) took 0.0s, 599496 effective words/s\n",
      "11:27:25 : INFO : worker thread finished; awaiting finish of 9 more threads\n",
      "11:27:25 : INFO : worker thread finished; awaiting finish of 8 more threads\n",
      "11:27:25 : INFO : worker thread finished; awaiting finish of 7 more threads\n",
      "11:27:25 : INFO : worker thread finished; awaiting finish of 6 more threads\n",
      "11:27:25 : INFO : worker thread finished; awaiting finish of 5 more threads\n",
      "11:27:25 : INFO : worker thread finished; awaiting finish of 4 more threads\n",
      "11:27:25 : INFO : worker thread finished; awaiting finish of 3 more threads\n",
      "11:27:25 : INFO : worker thread finished; awaiting finish of 2 more threads\n",
      "11:27:25 : INFO : worker thread finished; awaiting finish of 1 more threads\n",
      "11:27:25 : INFO : worker thread finished; awaiting finish of 0 more threads\n",
      "11:27:25 : INFO : EPOCH - 20 : training on 33775 raw words (10651 effective words) took 0.0s, 519088 effective words/s\n",
      "11:27:25 : INFO : worker thread finished; awaiting finish of 9 more threads\n",
      "11:27:25 : INFO : worker thread finished; awaiting finish of 8 more threads\n",
      "11:27:25 : INFO : worker thread finished; awaiting finish of 7 more threads\n",
      "11:27:25 : INFO : worker thread finished; awaiting finish of 6 more threads\n",
      "11:27:25 : INFO : worker thread finished; awaiting finish of 5 more threads\n",
      "11:27:25 : INFO : worker thread finished; awaiting finish of 4 more threads\n",
      "11:27:25 : INFO : worker thread finished; awaiting finish of 3 more threads\n",
      "11:27:25 : INFO : worker thread finished; awaiting finish of 2 more threads\n",
      "11:27:25 : INFO : worker thread finished; awaiting finish of 1 more threads\n",
      "11:27:25 : INFO : worker thread finished; awaiting finish of 0 more threads\n",
      "11:27:25 : INFO : EPOCH - 21 : training on 33775 raw words (10602 effective words) took 0.0s, 545873 effective words/s\n",
      "11:27:25 : INFO : worker thread finished; awaiting finish of 9 more threads\n",
      "11:27:25 : INFO : worker thread finished; awaiting finish of 8 more threads\n",
      "11:27:25 : INFO : worker thread finished; awaiting finish of 7 more threads\n",
      "11:27:25 : INFO : worker thread finished; awaiting finish of 6 more threads\n",
      "11:27:25 : INFO : worker thread finished; awaiting finish of 5 more threads\n",
      "11:27:25 : INFO : worker thread finished; awaiting finish of 4 more threads\n",
      "11:27:25 : INFO : worker thread finished; awaiting finish of 3 more threads\n",
      "11:27:25 : INFO : worker thread finished; awaiting finish of 2 more threads\n",
      "11:27:25 : INFO : worker thread finished; awaiting finish of 1 more threads\n",
      "11:27:25 : INFO : worker thread finished; awaiting finish of 0 more threads\n",
      "11:27:25 : INFO : EPOCH - 22 : training on 33775 raw words (10729 effective words) took 0.0s, 460376 effective words/s\n",
      "11:27:25 : INFO : worker thread finished; awaiting finish of 9 more threads\n",
      "11:27:25 : INFO : worker thread finished; awaiting finish of 8 more threads\n",
      "11:27:25 : INFO : worker thread finished; awaiting finish of 7 more threads\n",
      "11:27:25 : INFO : worker thread finished; awaiting finish of 6 more threads\n",
      "11:27:25 : INFO : worker thread finished; awaiting finish of 5 more threads\n",
      "11:27:25 : INFO : worker thread finished; awaiting finish of 4 more threads\n",
      "11:27:25 : INFO : worker thread finished; awaiting finish of 3 more threads\n",
      "11:27:25 : INFO : worker thread finished; awaiting finish of 2 more threads\n",
      "11:27:25 : INFO : worker thread finished; awaiting finish of 1 more threads\n",
      "11:27:25 : INFO : worker thread finished; awaiting finish of 0 more threads\n",
      "11:27:25 : INFO : EPOCH - 23 : training on 33775 raw words (10675 effective words) took 0.0s, 533345 effective words/s\n",
      "11:27:25 : INFO : worker thread finished; awaiting finish of 9 more threads\n",
      "11:27:25 : INFO : worker thread finished; awaiting finish of 8 more threads\n",
      "11:27:25 : INFO : worker thread finished; awaiting finish of 7 more threads\n",
      "11:27:25 : INFO : worker thread finished; awaiting finish of 6 more threads\n",
      "11:27:25 : INFO : worker thread finished; awaiting finish of 5 more threads\n",
      "11:27:25 : INFO : worker thread finished; awaiting finish of 4 more threads\n",
      "11:27:25 : INFO : worker thread finished; awaiting finish of 3 more threads\n",
      "11:27:25 : INFO : worker thread finished; awaiting finish of 2 more threads\n",
      "11:27:25 : INFO : worker thread finished; awaiting finish of 1 more threads\n",
      "11:27:25 : INFO : worker thread finished; awaiting finish of 0 more threads\n",
      "11:27:25 : INFO : EPOCH - 24 : training on 33775 raw words (10624 effective words) took 0.0s, 433106 effective words/s\n",
      "11:27:25 : INFO : worker thread finished; awaiting finish of 9 more threads\n",
      "11:27:25 : INFO : worker thread finished; awaiting finish of 8 more threads\n",
      "11:27:25 : INFO : worker thread finished; awaiting finish of 7 more threads\n",
      "11:27:25 : INFO : worker thread finished; awaiting finish of 6 more threads\n",
      "11:27:25 : INFO : worker thread finished; awaiting finish of 5 more threads\n",
      "11:27:25 : INFO : worker thread finished; awaiting finish of 4 more threads\n",
      "11:27:25 : INFO : worker thread finished; awaiting finish of 3 more threads\n",
      "11:27:25 : INFO : worker thread finished; awaiting finish of 2 more threads\n",
      "11:27:25 : INFO : worker thread finished; awaiting finish of 1 more threads\n",
      "11:27:25 : INFO : worker thread finished; awaiting finish of 0 more threads\n",
      "11:27:25 : INFO : EPOCH - 25 : training on 33775 raw words (10635 effective words) took 0.0s, 519364 effective words/s\n",
      "11:27:25 : INFO : worker thread finished; awaiting finish of 9 more threads\n",
      "11:27:25 : INFO : worker thread finished; awaiting finish of 8 more threads\n",
      "11:27:25 : INFO : worker thread finished; awaiting finish of 7 more threads\n",
      "11:27:25 : INFO : worker thread finished; awaiting finish of 6 more threads\n",
      "11:27:25 : INFO : worker thread finished; awaiting finish of 5 more threads\n",
      "11:27:25 : INFO : worker thread finished; awaiting finish of 4 more threads\n",
      "11:27:25 : INFO : worker thread finished; awaiting finish of 3 more threads\n",
      "11:27:25 : INFO : worker thread finished; awaiting finish of 2 more threads\n",
      "11:27:25 : INFO : worker thread finished; awaiting finish of 1 more threads\n",
      "11:27:25 : INFO : worker thread finished; awaiting finish of 0 more threads\n",
      "11:27:25 : INFO : EPOCH - 26 : training on 33775 raw words (10613 effective words) took 0.0s, 583706 effective words/s\n",
      "11:27:25 : INFO : worker thread finished; awaiting finish of 9 more threads\n",
      "11:27:25 : INFO : worker thread finished; awaiting finish of 8 more threads\n",
      "11:27:25 : INFO : worker thread finished; awaiting finish of 7 more threads\n",
      "11:27:25 : INFO : worker thread finished; awaiting finish of 6 more threads\n",
      "11:27:25 : INFO : worker thread finished; awaiting finish of 5 more threads\n",
      "11:27:25 : INFO : worker thread finished; awaiting finish of 4 more threads\n",
      "11:27:25 : INFO : worker thread finished; awaiting finish of 3 more threads\n",
      "11:27:25 : INFO : worker thread finished; awaiting finish of 2 more threads\n",
      "11:27:25 : INFO : worker thread finished; awaiting finish of 1 more threads\n",
      "11:27:25 : INFO : worker thread finished; awaiting finish of 0 more threads\n",
      "11:27:25 : INFO : EPOCH - 27 : training on 33775 raw words (10582 effective words) took 0.0s, 490133 effective words/s\n",
      "11:27:25 : INFO : worker thread finished; awaiting finish of 9 more threads\n",
      "11:27:25 : INFO : worker thread finished; awaiting finish of 8 more threads\n",
      "11:27:25 : INFO : worker thread finished; awaiting finish of 7 more threads\n",
      "11:27:25 : INFO : worker thread finished; awaiting finish of 6 more threads\n",
      "11:27:25 : INFO : worker thread finished; awaiting finish of 5 more threads\n",
      "11:27:25 : INFO : worker thread finished; awaiting finish of 4 more threads\n",
      "11:27:25 : INFO : worker thread finished; awaiting finish of 3 more threads\n",
      "11:27:25 : INFO : worker thread finished; awaiting finish of 2 more threads\n",
      "11:27:25 : INFO : worker thread finished; awaiting finish of 1 more threads\n",
      "11:27:25 : INFO : worker thread finished; awaiting finish of 0 more threads\n"
     ]
    },
    {
     "name": "stderr",
     "output_type": "stream",
     "text": [
      "11:27:25 : INFO : EPOCH - 28 : training on 33775 raw words (10785 effective words) took 0.0s, 624579 effective words/s\n",
      "11:27:25 : INFO : worker thread finished; awaiting finish of 9 more threads\n",
      "11:27:25 : INFO : worker thread finished; awaiting finish of 8 more threads\n",
      "11:27:25 : INFO : worker thread finished; awaiting finish of 7 more threads\n",
      "11:27:25 : INFO : worker thread finished; awaiting finish of 6 more threads\n",
      "11:27:25 : INFO : worker thread finished; awaiting finish of 5 more threads\n",
      "11:27:25 : INFO : worker thread finished; awaiting finish of 4 more threads\n",
      "11:27:25 : INFO : worker thread finished; awaiting finish of 3 more threads\n",
      "11:27:25 : INFO : worker thread finished; awaiting finish of 2 more threads\n",
      "11:27:25 : INFO : worker thread finished; awaiting finish of 1 more threads\n",
      "11:27:25 : INFO : worker thread finished; awaiting finish of 0 more threads\n",
      "11:27:25 : INFO : EPOCH - 29 : training on 33775 raw words (10657 effective words) took 0.0s, 505321 effective words/s\n",
      "11:27:26 : INFO : worker thread finished; awaiting finish of 9 more threads\n",
      "11:27:26 : INFO : worker thread finished; awaiting finish of 8 more threads\n",
      "11:27:26 : INFO : worker thread finished; awaiting finish of 7 more threads\n",
      "11:27:26 : INFO : worker thread finished; awaiting finish of 6 more threads\n",
      "11:27:26 : INFO : worker thread finished; awaiting finish of 5 more threads\n",
      "11:27:26 : INFO : worker thread finished; awaiting finish of 4 more threads\n",
      "11:27:26 : INFO : worker thread finished; awaiting finish of 3 more threads\n",
      "11:27:26 : INFO : worker thread finished; awaiting finish of 2 more threads\n",
      "11:27:26 : INFO : worker thread finished; awaiting finish of 1 more threads\n",
      "11:27:26 : INFO : worker thread finished; awaiting finish of 0 more threads\n",
      "11:27:26 : INFO : EPOCH - 30 : training on 33775 raw words (10601 effective words) took 0.0s, 413979 effective words/s\n",
      "11:27:26 : INFO : worker thread finished; awaiting finish of 9 more threads\n",
      "11:27:26 : INFO : worker thread finished; awaiting finish of 8 more threads\n",
      "11:27:26 : INFO : worker thread finished; awaiting finish of 7 more threads\n",
      "11:27:26 : INFO : worker thread finished; awaiting finish of 6 more threads\n",
      "11:27:26 : INFO : worker thread finished; awaiting finish of 5 more threads\n",
      "11:27:26 : INFO : worker thread finished; awaiting finish of 4 more threads\n",
      "11:27:26 : INFO : worker thread finished; awaiting finish of 3 more threads\n",
      "11:27:26 : INFO : worker thread finished; awaiting finish of 2 more threads\n",
      "11:27:26 : INFO : worker thread finished; awaiting finish of 1 more threads\n",
      "11:27:26 : INFO : worker thread finished; awaiting finish of 0 more threads\n",
      "11:27:26 : INFO : EPOCH - 31 : training on 33775 raw words (10574 effective words) took 0.0s, 443045 effective words/s\n",
      "11:27:26 : INFO : worker thread finished; awaiting finish of 9 more threads\n",
      "11:27:26 : INFO : worker thread finished; awaiting finish of 8 more threads\n",
      "11:27:26 : INFO : worker thread finished; awaiting finish of 7 more threads\n",
      "11:27:26 : INFO : worker thread finished; awaiting finish of 6 more threads\n",
      "11:27:26 : INFO : worker thread finished; awaiting finish of 5 more threads\n",
      "11:27:26 : INFO : worker thread finished; awaiting finish of 4 more threads\n",
      "11:27:26 : INFO : worker thread finished; awaiting finish of 3 more threads\n",
      "11:27:26 : INFO : worker thread finished; awaiting finish of 2 more threads\n",
      "11:27:26 : INFO : worker thread finished; awaiting finish of 1 more threads\n",
      "11:27:26 : INFO : worker thread finished; awaiting finish of 0 more threads\n",
      "11:27:26 : INFO : EPOCH - 32 : training on 33775 raw words (10586 effective words) took 0.0s, 432316 effective words/s\n",
      "11:27:26 : INFO : worker thread finished; awaiting finish of 9 more threads\n",
      "11:27:26 : INFO : worker thread finished; awaiting finish of 8 more threads\n",
      "11:27:26 : INFO : worker thread finished; awaiting finish of 7 more threads\n",
      "11:27:26 : INFO : worker thread finished; awaiting finish of 6 more threads\n",
      "11:27:26 : INFO : worker thread finished; awaiting finish of 5 more threads\n",
      "11:27:26 : INFO : worker thread finished; awaiting finish of 4 more threads\n",
      "11:27:26 : INFO : worker thread finished; awaiting finish of 3 more threads\n",
      "11:27:26 : INFO : worker thread finished; awaiting finish of 2 more threads\n",
      "11:27:26 : INFO : worker thread finished; awaiting finish of 1 more threads\n",
      "11:27:26 : INFO : worker thread finished; awaiting finish of 0 more threads\n",
      "11:27:26 : INFO : EPOCH - 33 : training on 33775 raw words (10543 effective words) took 0.0s, 401502 effective words/s\n",
      "11:27:26 : INFO : worker thread finished; awaiting finish of 9 more threads\n",
      "11:27:26 : INFO : worker thread finished; awaiting finish of 8 more threads\n",
      "11:27:26 : INFO : worker thread finished; awaiting finish of 7 more threads\n",
      "11:27:26 : INFO : worker thread finished; awaiting finish of 6 more threads\n",
      "11:27:26 : INFO : worker thread finished; awaiting finish of 5 more threads\n",
      "11:27:26 : INFO : worker thread finished; awaiting finish of 4 more threads\n",
      "11:27:26 : INFO : worker thread finished; awaiting finish of 3 more threads\n",
      "11:27:26 : INFO : worker thread finished; awaiting finish of 2 more threads\n",
      "11:27:26 : INFO : worker thread finished; awaiting finish of 1 more threads\n",
      "11:27:26 : INFO : worker thread finished; awaiting finish of 0 more threads\n",
      "11:27:26 : INFO : EPOCH - 34 : training on 33775 raw words (10758 effective words) took 0.0s, 592709 effective words/s\n",
      "11:27:26 : INFO : worker thread finished; awaiting finish of 9 more threads\n",
      "11:27:26 : INFO : worker thread finished; awaiting finish of 8 more threads\n",
      "11:27:26 : INFO : worker thread finished; awaiting finish of 7 more threads\n",
      "11:27:26 : INFO : worker thread finished; awaiting finish of 6 more threads\n",
      "11:27:26 : INFO : worker thread finished; awaiting finish of 5 more threads\n",
      "11:27:26 : INFO : worker thread finished; awaiting finish of 4 more threads\n",
      "11:27:26 : INFO : worker thread finished; awaiting finish of 3 more threads\n",
      "11:27:26 : INFO : worker thread finished; awaiting finish of 2 more threads\n",
      "11:27:26 : INFO : worker thread finished; awaiting finish of 1 more threads\n",
      "11:27:26 : INFO : worker thread finished; awaiting finish of 0 more threads\n",
      "11:27:26 : INFO : EPOCH - 35 : training on 33775 raw words (10568 effective words) took 0.0s, 493982 effective words/s\n",
      "11:27:26 : INFO : worker thread finished; awaiting finish of 9 more threads\n",
      "11:27:26 : INFO : worker thread finished; awaiting finish of 8 more threads\n",
      "11:27:26 : INFO : worker thread finished; awaiting finish of 7 more threads\n",
      "11:27:26 : INFO : worker thread finished; awaiting finish of 6 more threads\n",
      "11:27:26 : INFO : worker thread finished; awaiting finish of 5 more threads\n",
      "11:27:26 : INFO : worker thread finished; awaiting finish of 4 more threads\n",
      "11:27:26 : INFO : worker thread finished; awaiting finish of 3 more threads\n",
      "11:27:26 : INFO : worker thread finished; awaiting finish of 2 more threads\n",
      "11:27:26 : INFO : worker thread finished; awaiting finish of 1 more threads\n",
      "11:27:26 : INFO : worker thread finished; awaiting finish of 0 more threads\n",
      "11:27:26 : INFO : EPOCH - 36 : training on 33775 raw words (10739 effective words) took 0.0s, 649265 effective words/s\n",
      "11:27:26 : INFO : worker thread finished; awaiting finish of 9 more threads\n",
      "11:27:26 : INFO : worker thread finished; awaiting finish of 8 more threads\n",
      "11:27:26 : INFO : worker thread finished; awaiting finish of 7 more threads\n",
      "11:27:26 : INFO : worker thread finished; awaiting finish of 6 more threads\n",
      "11:27:26 : INFO : worker thread finished; awaiting finish of 5 more threads\n",
      "11:27:26 : INFO : worker thread finished; awaiting finish of 4 more threads\n",
      "11:27:26 : INFO : worker thread finished; awaiting finish of 3 more threads\n",
      "11:27:26 : INFO : worker thread finished; awaiting finish of 2 more threads\n",
      "11:27:26 : INFO : worker thread finished; awaiting finish of 1 more threads\n",
      "11:27:26 : INFO : worker thread finished; awaiting finish of 0 more threads\n",
      "11:27:26 : INFO : EPOCH - 37 : training on 33775 raw words (10671 effective words) took 0.0s, 466518 effective words/s\n",
      "11:27:26 : INFO : worker thread finished; awaiting finish of 9 more threads\n",
      "11:27:26 : INFO : worker thread finished; awaiting finish of 8 more threads\n",
      "11:27:26 : INFO : worker thread finished; awaiting finish of 7 more threads\n"
     ]
    },
    {
     "name": "stderr",
     "output_type": "stream",
     "text": [
      "11:27:26 : INFO : worker thread finished; awaiting finish of 6 more threads\n",
      "11:27:26 : INFO : worker thread finished; awaiting finish of 5 more threads\n",
      "11:27:26 : INFO : worker thread finished; awaiting finish of 4 more threads\n",
      "11:27:26 : INFO : worker thread finished; awaiting finish of 3 more threads\n",
      "11:27:26 : INFO : worker thread finished; awaiting finish of 2 more threads\n",
      "11:27:26 : INFO : worker thread finished; awaiting finish of 1 more threads\n",
      "11:27:26 : INFO : worker thread finished; awaiting finish of 0 more threads\n",
      "11:27:26 : INFO : EPOCH - 38 : training on 33775 raw words (10672 effective words) took 0.0s, 582798 effective words/s\n",
      "11:27:26 : INFO : worker thread finished; awaiting finish of 9 more threads\n",
      "11:27:26 : INFO : worker thread finished; awaiting finish of 8 more threads\n",
      "11:27:26 : INFO : worker thread finished; awaiting finish of 7 more threads\n",
      "11:27:26 : INFO : worker thread finished; awaiting finish of 6 more threads\n",
      "11:27:26 : INFO : worker thread finished; awaiting finish of 5 more threads\n",
      "11:27:26 : INFO : worker thread finished; awaiting finish of 4 more threads\n",
      "11:27:26 : INFO : worker thread finished; awaiting finish of 3 more threads\n",
      "11:27:26 : INFO : worker thread finished; awaiting finish of 2 more threads\n",
      "11:27:26 : INFO : worker thread finished; awaiting finish of 1 more threads\n",
      "11:27:26 : INFO : worker thread finished; awaiting finish of 0 more threads\n",
      "11:27:26 : INFO : EPOCH - 39 : training on 33775 raw words (10656 effective words) took 0.0s, 538348 effective words/s\n",
      "11:27:26 : INFO : worker thread finished; awaiting finish of 9 more threads\n",
      "11:27:26 : INFO : worker thread finished; awaiting finish of 8 more threads\n",
      "11:27:26 : INFO : worker thread finished; awaiting finish of 7 more threads\n",
      "11:27:26 : INFO : worker thread finished; awaiting finish of 6 more threads\n",
      "11:27:26 : INFO : worker thread finished; awaiting finish of 5 more threads\n",
      "11:27:26 : INFO : worker thread finished; awaiting finish of 4 more threads\n",
      "11:27:26 : INFO : worker thread finished; awaiting finish of 3 more threads\n",
      "11:27:26 : INFO : worker thread finished; awaiting finish of 2 more threads\n",
      "11:27:26 : INFO : worker thread finished; awaiting finish of 1 more threads\n",
      "11:27:26 : INFO : worker thread finished; awaiting finish of 0 more threads\n",
      "11:27:26 : INFO : EPOCH - 40 : training on 33775 raw words (10545 effective words) took 0.0s, 553012 effective words/s\n",
      "11:27:26 : INFO : training on a 1351000 raw words (425514 effective words) took 1.4s, 308521 effective words/s\n"
     ]
    },
    {
     "data": {
      "text/plain": [
       "(425514, 1351000)"
      ]
     },
     "execution_count": 36,
     "metadata": {},
     "output_type": "execute_result"
    }
   ],
   "source": [
    "model.train(ingredients_per_recipe, total_examples=model.corpus_count,\n",
    "           epochs=40, report_delay=1)"
   ]
  },
  {
   "cell_type": "code",
   "execution_count": 37,
   "metadata": {
    "ExecuteTime": {
     "end_time": "2019-07-23T15:27:36.418852Z",
     "start_time": "2019-07-23T15:27:36.411721Z"
    }
   },
   "outputs": [
    {
     "name": "stderr",
     "output_type": "stream",
     "text": [
      "11:27:36 : INFO : precomputing L2-norms of word weight vectors\n"
     ]
    }
   ],
   "source": [
    "model.init_sims(replace=True)"
   ]
  },
  {
   "cell_type": "code",
   "execution_count": 42,
   "metadata": {
    "ExecuteTime": {
     "end_time": "2019-07-23T15:28:29.478947Z",
     "start_time": "2019-07-23T15:28:29.471469Z"
    }
   },
   "outputs": [
    {
     "data": {
      "text/plain": [
       "[('nonfat milk', 0.7077823877334595),\n",
       " ('pie shell', 0.6262170672416687),\n",
       " ('ice cream', 0.5694143772125244),\n",
       " ('pumpkin', 0.537594735622406)]"
      ]
     },
     "execution_count": 42,
     "metadata": {},
     "output_type": "execute_result"
    }
   ],
   "source": [
    "w1='almond'\n",
    "w1='rum'\n",
    "model.wv.most_similar(positive=w1, topn=4)"
   ]
  },
  {
   "cell_type": "code",
   "execution_count": 45,
   "metadata": {
    "ExecuteTime": {
     "end_time": "2019-07-23T15:28:45.458529Z",
     "start_time": "2019-07-23T15:28:45.451236Z"
    },
    "scrolled": true
   },
   "outputs": [
    {
     "data": {
      "text/plain": [
       "[('rolled oat', 0.7477458119392395),\n",
       " ('whole wheat flour', 0.7321438789367676),\n",
       " ('oat', 0.6760835647583008),\n",
       " ('date', 0.663547158241272),\n",
       " ('applesauce', 0.661933183670044),\n",
       " ('unsweetened applesauce', 0.6531609892845154),\n",
       " ('oatmeal', 0.6414744853973389),\n",
       " ('walnut', 0.5976195931434631),\n",
       " ('zucchini', 0.5864806175231934),\n",
       " ('shredded coconut', 0.5629600882530212)]"
      ]
     },
     "execution_count": 45,
     "metadata": {},
     "output_type": "execute_result"
    }
   ],
   "source": [
    "w1='rum'\n",
    "model.wv.most_similar(positive=['apple','banana'],\n",
    "                      negative=['rum'],topn=10)"
   ]
  },
  {
   "cell_type": "code",
   "execution_count": 82,
   "metadata": {
    "ExecuteTime": {
     "end_time": "2019-07-20T17:43:24.352195Z",
     "start_time": "2019-07-20T17:43:24.347123Z"
    }
   },
   "outputs": [],
   "source": [
    "# witem = model.wv.__getitem__(['ginger'])\n",
    "# witem[0]"
   ]
  },
  {
   "cell_type": "code",
   "execution_count": 48,
   "metadata": {
    "ExecuteTime": {
     "end_time": "2019-07-23T15:29:01.643195Z",
     "start_time": "2019-07-23T15:29:01.636590Z"
    }
   },
   "outputs": [
    {
     "data": {
      "text/plain": [
       "'butter'"
      ]
     },
     "execution_count": 48,
     "metadata": {},
     "output_type": "execute_result"
    }
   ],
   "source": [
    "model.wv.doesnt_match(['apple','butter','banana',\n",
    "                       'rum','flour'])"
   ]
  },
  {
   "cell_type": "code",
   "execution_count": 49,
   "metadata": {
    "ExecuteTime": {
     "end_time": "2019-07-23T15:29:08.410664Z",
     "start_time": "2019-07-23T15:29:07.308902Z"
    }
   },
   "outputs": [],
   "source": [
    "import matplotlib.pyplot as plt\n",
    "%matplotlib inline \n",
    "import pandas as pd\n",
    "import seaborn as sns\n",
    "sns.set_style('darkgrid')\n",
    "\n",
    "from sklearn.decomposition import PCA\n",
    "from sklearn.manifold import TSNE"
   ]
  },
  {
   "cell_type": "code",
   "execution_count": 57,
   "metadata": {
    "ExecuteTime": {
     "end_time": "2019-07-23T15:30:54.961974Z",
     "start_time": "2019-07-23T15:30:54.946285Z"
    }
   },
   "outputs": [],
   "source": [
    "def ingredient_scatterplot(model, word, list_names):\n",
    "    # create an array with the same size as the vector\n",
    "    arrays = np.empty((0,vec_size), dtype='f')\n",
    "    # set the original word,     \n",
    "    word_labels = [word]\n",
    "    color_list = ['red']\n",
    "    # append the vector for the test word\n",
    "    arrays = np.append(arrays, model.wv.__getitem__([word]),axis=0)\n",
    "    \n",
    "    ####### get the closest words and make then blue\n",
    "    #get a list of the most similar words\n",
    "    close_words = model.wv.most_similar([word])\n",
    "    \n",
    "    for word_score in close_words:\n",
    "        # for each word get the vector  \n",
    "        word_vector = model.wv.__getitem__([word_score[0]])\n",
    "        # get the name\n",
    "        word_labels.append(word_score[0])\n",
    "        color_list.append('blue')\n",
    "        arrays = np.append(arrays, word_vector, axis=0)\n",
    "     \n",
    "    # get the words passed in the third entry and \n",
    "    # get those vectors, and set the color as green\n",
    "    for wrd in list_names:\n",
    "        word_vector = model.wv.__getitem__([wrd])\n",
    "        word_labels.append(wrd)\n",
    "        color_list.append('green')\n",
    "        arrays = np.append(arrays, word_vector, axis=0)\n",
    "        \n",
    "    Y = PCA(n_components=2).fit_transform(arrays)\n",
    "    \n",
    "#     np.set_printoptions(suppress=True)\n",
    "    \n",
    "#     Y = TSNE(n_components=2, random_state=0, \n",
    "#              perplexity=15).fit_transform(reduc)\n",
    "    df = pd.DataFrame({'x':[x for x in Y[:, 0]],\n",
    "                       'y':[y for y in Y[:,1]],\n",
    "                      'words':word_labels,\n",
    "                      'color': color_list})\n",
    "    \n",
    "    fig, _ = plt.subplots()\n",
    "    fig.set_size_inches(8,6)\n",
    "    \n",
    "    p1 = sns.regplot(data=df, \n",
    "                    x='x',y='y',fit_reg=False,\n",
    "                    marker='x',\n",
    "                    scatter_kws={'s':40,\n",
    "                                'facecolors':df['color']})\n",
    "    \n",
    "    for line in range(df.shape[0]):\n",
    "        p1.text(df['x'][line],df['y'][line],\n",
    "               '  '+df['words'][line].title(),\n",
    "               horizontalalignment='left',\n",
    "                verticalalignment='bottom',size='large',\n",
    "                color=df['color'][line],weight='normal'\n",
    "               ).set_size(10)\n",
    "        \n",
    "    plt.xlim(Y[:,0].min(), Y[:,0].max() )\n",
    "    plt.ylim(Y[:,1].min(), Y[:,1].max() )\n",
    "    \n",
    "    plt.title('t-SNE visualization for {}'.format(word.title()))"
   ]
  },
  {
   "cell_type": "code",
   "execution_count": null,
   "metadata": {},
   "outputs": [],
   "source": []
  },
  {
   "cell_type": "code",
   "execution_count": 59,
   "metadata": {
    "ExecuteTime": {
     "end_time": "2019-07-23T15:31:06.573798Z",
     "start_time": "2019-07-23T15:31:06.378399Z"
    }
   },
   "outputs": [
    {
     "data": {
      "image/png": "[encoded data removed]",
      "text/plain": [
       "<Figure size 576x432 with 1 Axes>"
      ]
     },
     "metadata": {},
     "output_type": "display_data"
    }
   ],
   "source": [
    "ingredient_scatterplot(model, 'apple', ['raisin'])"
   ]
  },
  {
   "cell_type": "code",
   "execution_count": 68,
   "metadata": {
    "ExecuteTime": {
     "end_time": "2019-07-23T15:35:22.132075Z",
     "start_time": "2019-07-23T15:35:22.125934Z"
    }
   },
   "outputs": [],
   "source": [
    "test_word = 'ginger'"
   ]
  },
  {
   "cell_type": "code",
   "execution_count": 69,
   "metadata": {
    "ExecuteTime": {
     "end_time": "2019-07-23T15:35:24.006179Z",
     "start_time": "2019-07-23T15:35:23.827139Z"
    }
   },
   "outputs": [
    {
     "data": {
      "image/png": "[encoded data removed]",
      "text/plain": [
       "<Figure size 576x432 with 1 Axes>"
      ]
     },
     "metadata": {},
     "output_type": "display_data"
    }
   ],
   "source": [
    "ingredient_scatterplot(model, test_word, [t[0] for t in model.wv.most_similar(positive=[test_word], topn=20)][10:])"
   ]
  },
  {
   "cell_type": "code",
   "execution_count": null,
   "metadata": {},
   "outputs": [],
   "source": []
  },
  {
   "cell_type": "code",
   "execution_count": null,
   "metadata": {},
   "outputs": [],
   "source": []
  },
  {
   "cell_type": "code",
   "execution_count": null,
   "metadata": {},
   "outputs": [],
   "source": []
  },
  {
   "cell_type": "markdown",
   "metadata": {},
   "source": [
    "## look at unique values"
   ]
  },
  {
   "cell_type": "code",
   "execution_count": 84,
   "metadata": {
    "ExecuteTime": {
     "end_time": "2019-07-23T14:20:47.165078Z",
     "start_time": "2019-07-23T14:20:47.160028Z"
    }
   },
   "outputs": [],
   "source": [
    "import re\n",
    "\n",
    "spice_list = ['sugar','salt','water','baking soda','baking powder','flour', 'oil',\n",
    "         'cornstarch','sugar','margarine','shortening','pepper' ,'milk','light corn syrup','cooking spray', \n",
    "         'corn syrup', 'butter']\n",
    "\n",
    "def is_it_an_ingredient(ingredient):\n",
    "    for spice in spice_list:\n",
    "        if re.search(spice, ingredient):\n",
    "#             print( ingredient,' -> ingredient is a spice')\n",
    "            return False, spice\n",
    "#     print('Did not find ingredient in the list of spices')    \n",
    "    return True, ingredient"
   ]
  },
  {
   "cell_type": "code",
   "execution_count": 21,
   "metadata": {
    "ExecuteTime": {
     "end_time": "2019-07-23T15:08:22.336043Z",
     "start_time": "2019-07-23T15:08:22.317882Z"
    },
    "scrolled": true
   },
   "outputs": [],
   "source": [
    "# create bag of ingredients\n",
    "\n",
    "all_ingredients = []\n",
    "\n",
    "for recipe_ings in clean_ingredients:# dessert_ings:\n",
    "    n_ingredients = len(recipe_ings['valid'])\n",
    "    for item, ingredient in enumerate(recipe_ings['ingredients']):\n",
    "#         if recipe_ings['valid'][item] ==True:\n",
    "#         ingred = ingredient['text'].lower()\n",
    "#             ingred = singularize(ingred)\n",
    "#             if ingred=='eggs':\n",
    "#                 ingred='egg'\n",
    "#             elif 'butter' in ingred:\n",
    "#                 ingred = 'butter'\n",
    "            \n",
    "#             elif ingred == 'granulated sugar':\n",
    "#                 ingred= 'sugar'\n",
    "#             elif 'flour' in ingred:\n",
    "#                 ingred = 'flour'\n",
    "#             elif ingred == 'all - purpose flour' or ingred == 'cake flour':\n",
    "#                 ingred = 'flour'\n",
    "#             elif ingred == 'boiling water' or  ingred=='cold water':\n",
    "#                 ingred = 'water'\n",
    "#             elif ingred== 'light brown sugar' or ingred == 'dark brown sugar':\n",
    "#                 ingred = 'sugar'\n",
    "#             elif ingred == 'vanilla extract' or ingred == 'pure vanilla extract':\n",
    "#                 ingred = 'vanilla'\n",
    "#             elif ingred == 'fresh lemon juice':\n",
    "#                 ingred = 'lemon juice'\n",
    "            # find if ingredient belongs to a spice list\n",
    "\n",
    "    \n",
    "###             an_ingredient, ingred = is_it_an_ingredient(ingred)\n",
    "###             if an_ingredient:\n",
    "                # make it singular\n",
    "                \n",
    "###                 ingred = singularize(ingred)\n",
    "        all_ingredients.append(ingred)\n",
    "                \n",
    "#             if ingred not in spices:\n",
    "#                 all_ingredients.append(ingred)\n",
    "            "
   ]
  },
  {
   "cell_type": "code",
   "execution_count": 22,
   "metadata": {
    "ExecuteTime": {
     "end_time": "2019-07-23T15:08:24.031745Z",
     "start_time": "2019-07-23T15:08:24.024398Z"
    }
   },
   "outputs": [],
   "source": [
    "\n",
    "### Funciton to retrieve reciepes given an ingredient list\n",
    "\n",
    "def get_recipes_for_ingredients(search_list, ingredients_list, recipe_list):\n",
    "    \"\"\"\n",
    "    Function to look for a recipe with all the ingredients in  the list passed\n",
    "    \n",
    "    Output:\n",
    "        List of ingredients.\n",
    "    \"\"\"\n",
    "    \n",
    "    found_recipe_list = []\n",
    "    found_ingredient_list = []\n",
    "    for item,recipe_ingrs in enumerate(ingredients_list):\n",
    "        temp_ingr_list = []\n",
    "        ingredients = recipe_ingrs['ingredients']\n",
    "        n_ingredients = len(ingredients)\n",
    "        found_ingredient =0\n",
    "        for ingredient in ingredients:\n",
    "            if re.search(search_list[0], ingredient['text']):\n",
    "                found_ingredient=1\n",
    "            temp_ingr_list.append(ingredient['text'])\n",
    "\n",
    "        # find all elements in the list\n",
    "#         result = all(elem in temp_ingr_list for elem in search_list)\n",
    "        # find any elements in the list\n",
    "        result = any(singularize(elem) in temp_ingr_list for elem in search_list)\n",
    "        \n",
    "        \n",
    "        if result or found_ingredient==1:\n",
    "            found_recipe_list.append(recipe_list[item])\n",
    "            found_ingredient_list.append(temp_ingr_list)\n",
    "#             print('adding item', item)\n",
    "           \n",
    "    \n",
    "    \n",
    "    \n",
    "    return found_recipe_list, found_ingredient_list\n",
    "    "
   ]
  },
  {
   "cell_type": "code",
   "execution_count": 12,
   "metadata": {
    "ExecuteTime": {
     "end_time": "2019-07-23T13:55:35.702655Z",
     "start_time": "2019-07-23T13:55:35.693976Z"
    },
    "scrolled": true
   },
   "outputs": [
    {
     "name": "stdout",
     "output_type": "stream",
     "text": [
      "with 4096 recipes, there are 35879 ingredients, and 2908 unique ingredients.\n"
     ]
    }
   ],
   "source": [
    "ingredient_set = set(all_ingredients)\n",
    "print('with {} recipes, there are {} ingredients, and {} unique ingredients.'.format(\n",
    "                dessert_recipes, len(all_ingredients), len(ingredient_set)))"
   ]
  },
  {
   "cell_type": "code",
   "execution_count": 23,
   "metadata": {
    "ExecuteTime": {
     "end_time": "2019-07-23T15:08:26.556725Z",
     "start_time": "2019-07-23T15:08:26.549398Z"
    }
   },
   "outputs": [
    {
     "name": "stdout",
     "output_type": "stream",
     "text": [
      "with 3848 recipes, there are 33775 ingredients, and 2584 unique ingredients.\n"
     ]
    }
   ],
   "source": [
    "ingredient_set = set(all_ingredients)\n",
    "print('with {} recipes, there are {} ingredients, and {} unique ingredients.'.format(\n",
    "                dessert_recipes, len(all_ingredients), len(ingredient_set)))"
   ]
  },
  {
   "cell_type": "code",
   "execution_count": 12,
   "metadata": {
    "ExecuteTime": {
     "end_time": "2019-07-23T15:04:00.099381Z",
     "start_time": "2019-07-23T15:04:00.068427Z"
    }
   },
   "outputs": [
    {
     "name": "stdout",
     "output_type": "stream",
     "text": [
      "<FreqDist with 2584 samples and 33775 outcomes>\n"
     ]
    }
   ],
   "source": [
    "fdist = FreqDist(all_ingredients)\n",
    "print(fdist)"
   ]
  },
  {
   "cell_type": "code",
   "execution_count": 13,
   "metadata": {
    "ExecuteTime": {
     "end_time": "2019-07-23T15:04:01.916110Z",
     "start_time": "2019-07-23T15:04:01.908576Z"
    },
    "scrolled": false
   },
   "outputs": [],
   "source": [
    "common = fdist.most_common(2500)"
   ]
  },
  {
   "cell_type": "code",
   "execution_count": 14,
   "metadata": {
    "ExecuteTime": {
     "end_time": "2019-07-23T15:04:16.687134Z",
     "start_time": "2019-07-23T15:04:16.678556Z"
    },
    "scrolled": true
   },
   "outputs": [],
   "source": [
    "# common\n",
    "f= open(\"words.txt\",\"w+\")\n",
    "for cc in common:\n",
    "    f.write('{}: \\t {}\\n'.format(cc[0], cc[1]))"
   ]
  },
  {
   "cell_type": "code",
   "execution_count": 15,
   "metadata": {
    "ExecuteTime": {
     "end_time": "2019-07-23T15:04:31.972186Z",
     "start_time": "2019-07-23T15:04:31.956825Z"
    },
    "collapsed": true
   },
   "outputs": [
    {
     "data": {
      "text/plain": [
       "[('tawny port', 1),\n",
       " ('violet syrup', 1),\n",
       " ('violet', 1),\n",
       " ('currant jelly', 1),\n",
       " ('1 tsp. soda', 1),\n",
       " ('1 box cake mix of your choice', 1),\n",
       " ('sliced peaches in juice', 1),\n",
       " ('vanilla custard', 1),\n",
       " ('1 pkg. (1.38 oz.) snackwells vanilla creme brownie bites, quartered, divided',\n",
       "  1),\n",
       " ('peach halves in syrup', 1),\n",
       " ('pear preserve', 1),\n",
       " ('1 ready-to-use chocolate flavor crumb crust (6 oz.)', 1),\n",
       " ('peanut butter sandwich cookies', 1),\n",
       " ('3 packages cream cheese (8 ounce packages)', 1),\n",
       " ('grape jelly', 1),\n",
       " ('fresh sage', 1),\n",
       " ('1 -4 package cake decorating gel (green, black, orange or brown, etc, as needed)',\n",
       "  1),\n",
       " ('1 package cream cheese 8 ounce', 1),\n",
       " ('instant mint-chocolate pudding mix', 1),\n",
       " ('butter recipe cake mix', 1),\n",
       " ('2 lb bosc pears-(abt 4) peeled, cored, and thinly sliced', 1),\n",
       " ('ginger wine', 1),\n",
       " ('2 jars salted peanut', 1),\n",
       " ('3 7-ounce packages almond paste,* crumbled into 1-inch piece', 1),\n",
       " ('*available in the baking section of most supermarkets and at specialty foods stores.',\n",
       "  1),\n",
       " ('hemp seed', 1),\n",
       " ('cardamom pod', 1),\n",
       " ('caramel-flavored bit', 1),\n",
       " ('lemon jelly powder', 1),\n",
       " ('red pepper flake', 1),\n",
       " ('1/2 cups peeled, core removed and chopped pear (preferably bartlett)', 1),\n",
       " ('tang orange crystal', 1),\n",
       " ('cool whip whipped topping (optional), thawed', 1),\n",
       " ('milky way bar', 1),\n",
       " ('flower pot', 1),\n",
       " ('1 package chocolate pudding', 1),\n",
       " ('1 (12 ounce.) container cold whip', 1),\n",
       " ('shea butter', 1),\n",
       " ('mango butter', 1),\n",
       " ('wheat germ oil', 1),\n",
       " ('crescent roll', 1),\n",
       " ('113 cup milk, skim, (non fat) powder', 1),\n",
       " ('malibu rum', 1),\n",
       " ('2 envelopes unflavored gelatin', 1),\n",
       " ('chocolate bars with almond', 1),\n",
       " ('frozen dinner roll', 1),\n",
       " ('thick slab bacon', 1),\n",
       " ('packed 1/2 cup (25g) fresh thai basil leaves, chopped', 1),\n",
       " ('apricot brandy', 1),\n",
       " ('cooked pumpkin', 1),\n",
       " ('seven-grain cereal', 1),\n",
       " ('2 cups roasted, salted cashew', 1),\n",
       " ('6 tablespoons earth balance buttery spread', 1),\n",
       " ('1 box angel food cake mix', 1),\n",
       " ('unsalted sunflower seed', 1),\n",
       " ('nut butter', 1),\n",
       " ('glutinous-rice flour', 1),\n",
       " ('bakers special dry milk', 1),\n",
       " ('potato flour', 1),\n",
       " ('german chocolate cake mix with pudding', 1),\n",
       " ('shoestring potato', 1),\n",
       " ('cake decorating gel', 1),\n",
       " ('prepared pumpkin', 1),\n",
       " ('light vanilla soymilk', 1),\n",
       " ('black food coloring', 1),\n",
       " ('light olive oil', 1),\n",
       " ('heavy syrup', 1),\n",
       " ('turmeric', 1),\n",
       " ('coarse unseasoned bread crumb', 1),\n",
       " ('fresh fettuccine', 1),\n",
       " ('2 tablespoons (additional) orange crush', 1),\n",
       " ('orange food coloring', 1),\n",
       " ('1 pkg. yellow cake mix', 1),\n",
       " ('1 pkg. dry yeast', 1),\n",
       " ('1 block butter', 1),\n",
       " ('banana yogurt', 1),\n",
       " ('nut quick bread mix', 1),\n",
       " ('cherry tomato', 1),\n",
       " ('chili flake', 1),\n",
       " ('peach slices in juice', 1),\n",
       " ('toothpick', 1),\n",
       " ('1 crunchy or creamy peanutbuttuer of any brand. (if you want to use almond butter or any other type that is fine as well)',\n",
       "  1),\n",
       " ('1 box of any type of brownie mix', 1),\n",
       " ('cookie dough ice cream', 1),\n",
       " ('1 tablespoon milk, or more if needed', 1),\n",
       " ('whole tomato', 1),\n",
       " ('active starter', 1),\n",
       " ('frozen sliced strawberry', 1),\n",
       " ('2 pkt yeast- active dry', 1),\n",
       " ('1 box white moist cake mix', 1),\n",
       " ('unsalted shelled pistachio', 1),\n",
       " ('1 whole batch baby blue buttercream (recipe below)', 1),\n",
       " ('6 firm, ripe yellow nectarines, cut into thin wedge', 1),\n",
       " ('2 c. all-purpose flou8r', 1),\n",
       " ('reduced-calorie stick margarine', 1),\n",
       " ('peach fruit spread', 1),\n",
       " ('apricot halves in juice', 1),\n",
       " ('mashed sweet potato', 1),\n",
       " ('ginger nut biscuit', 1),\n",
       " ('plain soymilk', 1),\n",
       " ('bran flake', 1),\n",
       " ('1 any kind of fruits you want (small one like cherry, strawberry, etc.)',\n",
       "  1),\n",
       " ('1 box chocolate cake mix (18 oz. box)', 1),\n",
       " ('pudding mix', 1),\n",
       " ('24 pieces raspberry m&m', 1),\n",
       " ('yukon gold potato', 1),\n",
       " ('hidden valley ranch dip', 1),\n",
       " ('baby spinach', 1),\n",
       " ('bacon bit', 1),\n",
       " ('vegetable bouillon cube', 1),\n",
       " ('1 cup cooked prune, , mashed (, no pits)', 1),\n",
       " ('fresh goat cheese', 1),\n",
       " ('sorbet', 1),\n",
       " ('coarse black pepper', 1),\n",
       " ('strawberry muffin mix', 1),\n",
       " ('armagnac', 1),\n",
       " ('raspberry puree', 1),\n",
       " ('balloon', 1),\n",
       " ('4 9 inch by 1-1/2 inch wax paper strip', 1),\n",
       " ('1-1/2 tbsp (20 ml). soda', 1),\n",
       " ('dark chocolate kiss', 1),\n",
       " ('quince', 1),\n",
       " ('special equipment: 10- by 2-inch round cake pan, large roasting pan', 1),\n",
       " ('marble pound cake', 1),\n",
       " ('2 cups chopped chocolate-coated caramel-peanut nougat bars, divided', 1),\n",
       " ('1 x -', 1),\n",
       " ('1 box of white cake mix', 1),\n",
       " ('unsweetened plain yogurt', 1),\n",
       " ('1 envelope gelatin, unflavored', 1),\n",
       " ('2-3 cups fruit *', 1),\n",
       " ('pate brisee', 1),\n",
       " ('3 1/2 pounds tart, firm apples, such as granny smith, macoun, or cortland, peeled, cored, and cut into 1/4-inch slice',\n",
       "  1),\n",
       " ('1 1/2 packages cream cheese', 1),\n",
       " ('mars bar', 1),\n",
       " ('24 soft caramel candy cubes (7 ounces)', 1),\n",
       " ('nabisco lorna doone shortbread cookie', 1),\n",
       " ('1 1/2 cups plus 3 tablespoons basic gluten-free flour mix (page 19)', 1),\n",
       " ('peanut butter extract', 1),\n",
       " ('1 jar candy sprinkles, 2 ounce jar', 1),\n",
       " ('raspberry yogurt', 1),\n",
       " ('chocolate spread', 1),\n",
       " ('pumpkin pulp', 1),\n",
       " ('1 lg. can lowfat milk (evaporated)', 1),\n",
       " ('gooseberry', 1),\n",
       " ('glucose powder', 1),\n",
       " ('1/2 tsp. grated lemon zest safeway 4 ct for $5.00 thru 02/09', 1),\n",
       " ('3 tbsp. fresh lemon juice safeway 4 ct for $5.00 thru 02/09', 1),\n",
       " ('tamarind paste', 1),\n",
       " ('cayenne powder', 1),\n",
       " ('organic peanut butter', 1),\n",
       " ('1 baked (9-inch) pie shell (170 g), cooled', 1),\n",
       " ('3 cups fresh strawberries, hulled safeway 1 lb for $3.99 thru 02/09', 1),\n",
       " ('coffee extract', 1),\n",
       " ('1 pkg. active dry yeast', 1),\n",
       " ('1 envelope plain unflavored gelatin', 1),\n",
       " ('pinhead oat', 1),\n",
       " ('sifter', 1),\n",
       " ('four mixing bowl', 1),\n",
       " ('stand mixer fitted with the paddle attachment or hand mixer', 1),\n",
       " ('smooth cashew butter', 1),\n",
       " ('lemon sherbet', 1),\n",
       " ('1/2 cup lime juice or lemon juice safeway 3 ct for $1.00 thru 02/09', 1),\n",
       " ('white cheddar cheese', 1),\n",
       " ('instant cappuccino mix', 1),\n",
       " ('1/3 c. butter buds liquid, **note', 1),\n",
       " ('mint syrup', 1),\n",
       " ('self-rising cornmeal', 1),\n",
       " ('1 sm. can cream style corn', 1),\n",
       " ('fresh spinach leaf', 1),\n",
       " ('kasuri methi', 1),\n",
       " ('1 can coconut milk', 1),\n",
       " ('green chili pepper', 1),\n",
       " ('1 box german chocolate cake mix (preferably the moist kind)', 1),\n",
       " ('2 cans pear halves in syrup', 1),\n",
       " ('lemon frosting', 1),\n",
       " ('1 x 9\" deepdish pie shell unbake', 1),\n",
       " ('1 packages kyoho grapes (large table grapes)', 1),\n",
       " ('6 large apples, cored, peeled and sliced (about 8 cups) safeway 1 lb for $0.99 thru 02/09',\n",
       "  1),\n",
       " ('instant coffee crystal', 1),\n",
       " ('dry coconut powder', 1),\n",
       " ('sweet milk', 1),\n",
       " ('mandarin orange section', 1),\n",
       " ('vanilla-flavored syrup', 1),\n",
       " ('coriander', 1),\n",
       " ('tamarus', 1),\n",
       " ('rollo candy', 1),\n",
       " ('5 whole thin apple slices, for garnish', 1),\n",
       " ('pre-made chocolate cup', 1),\n",
       " ('1 envelope yeast, active dry', 1),\n",
       " ('yoghurt', 1),\n",
       " ('dark chocolate confectionary coating', 1),\n",
       " ('canadian rye whisky', 1),\n",
       " ('cooked brown rice', 1),\n",
       " ('fresh tomato', 1),\n",
       " ('frozen mixed berry', 1),\n",
       " ('35% cream', 1),\n",
       " ('9-inch deep dish pie crust', 1),\n",
       " ('cheerios toasted oat cereal', 1),\n",
       " ('non-dairy powdered coffee creamer', 1),\n",
       " ('sweet tart crust', 1),\n",
       " ('3 cups oreo pieces-medium', 1),\n",
       " ('roasted soybean', 1),\n",
       " ('tart red cherry', 1),\n",
       " ('1 package gelatin, unflavored unflavored', 1),\n",
       " ('1-1/2 cups jet-puffed vanilla mallow bit', 1),\n",
       " ('suet', 1),\n",
       " ('cream of wheat', 1),\n",
       " ('ice milk', 1),\n",
       " ('2 cups shredded, unpeeled zucchini', 1),\n",
       " ('peaches in juice', 1),\n",
       " ('frozen whole strawberry', 1),\n",
       " ('hostess twinkie', 1),\n",
       " ('1 package brownie mix', 1),\n",
       " ('jiffy corn muffin mix', 1),\n",
       " ('sorghum molasses', 1),\n",
       " ('1 can condensed lowfat milk', 1),\n",
       " ('2 tbsp kinako', 1),\n",
       " ('adzuki bean', 1),\n",
       " ('frozen peach', 1),\n",
       " ('unsweetened orange juice', 1),\n",
       " ('honey nut cream cheese', 1),\n",
       " ('apricot fruit spread', 1),\n",
       " ('fast-rising active dry yeast', 1),\n",
       " ('choice of topping', 1),\n",
       " ('bean', 1),\n",
       " ('this lb. cake is the best i have ever eaten!', 1),\n",
       " ('brie round', 1),\n",
       " ('zest from 1 lime safeway 3 ct for $1.00 thru 02/09', 1),\n",
       " ('guava', 1),\n",
       " ('1 cup sliced fresh strawberries safeway 1 lb for $3.99 thru 02/09', 1),\n",
       " ('12 can condensed milk', 1),\n",
       " ('coca-cola', 1),\n",
       " ('unsweetened flavored drink mix', 1),\n",
       " ('pastry for single-crust pie', 1),\n",
       " ('1 1/2 teaspoons chinese five-spice powder* (optional)', 1),\n",
       " ('white chocolate curl', 1),\n",
       " ('lime twist', 1),\n",
       " ('nestle dark chocolate and raspberry swirled morsel', 1),\n",
       " ('swirl filling:', 1),\n",
       " ('quinoa flour', 1),\n",
       " ('yeast extract', 1),\n",
       " ('70 millilitres molasses black', 1),\n",
       " ('limes, zest of', 1),\n",
       " ('horchatum', 1),\n",
       " ('soybean oil', 1),\n",
       " ('winesap apple', 1),\n",
       " ('mountain dew soda', 1),\n",
       " ('equipment: a 9-inch springform pan', 1),\n",
       " ('1 small can pineapple ring, drained', 1),\n",
       " ('regular margarine', 1)]"
      ]
     },
     "execution_count": 15,
     "metadata": {},
     "output_type": "execute_result"
    }
   ],
   "source": [
    "common[-250:]"
   ]
  },
  {
   "cell_type": "code",
   "execution_count": 184,
   "metadata": {
    "ExecuteTime": {
     "end_time": "2019-07-23T14:59:33.869704Z",
     "start_time": "2019-07-23T14:59:33.646394Z"
    }
   },
   "outputs": [
    {
     "name": "stdout",
     "output_type": "stream",
     "text": [
      "found 1 recipes\n",
      "0\tPeanut Butter Bologna Sandwich\n"
     ]
    }
   ],
   "source": [
    "found_lists, found_ingredients = get_recipes_for_ingredients(['bologna'], dessert_ings,desserts)\n",
    "print('found {} recipes'.format(len(found_lists)))\n",
    "\n",
    "for item, rec in enumerate(found_lists):\n",
    "    print('{}\\t{}'.format(item, rec['title']))"
   ]
  },
  {
   "cell_type": "code",
   "execution_count": 185,
   "metadata": {
    "ExecuteTime": {
     "end_time": "2019-07-23T14:59:38.509886Z",
     "start_time": "2019-07-23T14:59:38.500831Z"
    }
   },
   "outputs": [
    {
     "data": {
      "text/plain": [
       "({'ingredients': [{'text': '2 slices bread'},\n",
       "   {'text': '2 ounces bologna'},\n",
       "   {'text': '2 tablespoons peanut butter'},\n",
       "   {'text': '1 teaspoon oil'}],\n",
       "  'url': 'http://www.food.com/recipe/peanut-butter-bologna-sandwich-321538',\n",
       "  'partition': 'train',\n",
       "  'title': 'Peanut Butter Bologna Sandwich',\n",
       "  'id': '03a26cd0ed',\n",
       "  'instructions': [{'text': 'Heat oil in a skillet and lightly brown the bologna.'},\n",
       "   {'text': 'Meanwhile, spread the bread slices evenly with peanut butter.'},\n",
       "   {'text': 'Remove the bologna from the skillet, place it on one slice of peanut-buttered bread, and top with the other slice!'},\n",
       "   {'text': 'Enjoy!'}]},\n",
       " ['bread', 'bologna', 'peanut butter', 'oil'])"
      ]
     },
     "execution_count": 185,
     "metadata": {},
     "output_type": "execute_result"
    }
   ],
   "source": [
    "item = 0\n",
    "found_lists[item],found_ingredients[item]"
   ]
  },
  {
   "cell_type": "code",
   "execution_count": null,
   "metadata": {
    "ExecuteTime": {
     "end_time": "2019-07-22T18:11:29.544909Z",
     "start_time": "2019-07-22T18:11:29.530483Z"
    }
   },
   "outputs": [],
   "source": []
  },
  {
   "cell_type": "code",
   "execution_count": null,
   "metadata": {},
   "outputs": [],
   "source": []
  },
  {
   "cell_type": "code",
   "execution_count": null,
   "metadata": {},
   "outputs": [],
   "source": []
  },
  {
   "cell_type": "code",
   "execution_count": null,
   "metadata": {},
   "outputs": [],
   "source": []
  },
  {
   "cell_type": "code",
   "execution_count": 26,
   "metadata": {
    "ExecuteTime": {
     "end_time": "2019-07-22T17:32:10.212346Z",
     "start_time": "2019-07-22T17:32:10.207223Z"
    }
   },
   "outputs": [
    {
     "name": "stdout",
     "output_type": "stream",
     "text": [
      "shrimp\n",
      "butter\n",
      "cream cheese\n",
      "chili sauce\n",
      "lemon juice\n",
      "----> found a onio onion\n",
      "celery rib\n"
     ]
    }
   ],
   "source": [
    "test = 'onio'\n",
    "\n",
    "for ingr in found_ingredients[82]:\n",
    "    if re.match(test, ingr):\n",
    "        print('----> found a',test, ingr)\n",
    "    else:\n",
    "        print(ingr)"
   ]
  },
  {
   "cell_type": "code",
   "execution_count": null,
   "metadata": {},
   "outputs": [],
   "source": []
  },
  {
   "cell_type": "code",
   "execution_count": null,
   "metadata": {},
   "outputs": [],
   "source": []
  },
  {
   "cell_type": "code",
   "execution_count": 46,
   "metadata": {
    "ExecuteTime": {
     "end_time": "2019-07-22T17:04:55.482482Z",
     "start_time": "2019-07-22T17:04:55.475854Z"
    }
   },
   "outputs": [
    {
     "name": "stdout",
     "output_type": "stream",
     "text": [
      "['butter', 'brown sugar', 'eggs', 'vanilla', 'canned pumpkin', 'sweet rice flour', 'potato starch', 'buckwheat flour', 'baking powder', 'salt', 'cinnamon', 'nutmeg', 'cloves', 'ginger', 'raisins']\n"
     ]
    }
   ],
   "source": [
    "test_ingredients = []\n",
    "for ingred in dessert_ings[2029]['ingredients']:\n",
    "    test_ingredients.append(ingred['text'])\n",
    "print(test_ingredients)"
   ]
  },
  {
   "cell_type": "code",
   "execution_count": 59,
   "metadata": {
    "ExecuteTime": {
     "end_time": "2019-07-22T17:09:33.507515Z",
     "start_time": "2019-07-22T17:09:33.499371Z"
    }
   },
   "outputs": [
    {
     "name": "stdout",
     "output_type": "stream",
     "text": [
      "None\n"
     ]
    }
   ],
   "source": [
    "food_pattern = 'flourish'\n",
    "# for ing in test_ingredients:\n",
    "m = re.search(food_pattern, 'vanilla and flour don')\n",
    "print(m)"
   ]
  },
  {
   "cell_type": "code",
   "execution_count": null,
   "metadata": {},
   "outputs": [],
   "source": []
  },
  {
   "cell_type": "code",
   "execution_count": 24,
   "metadata": {
    "ExecuteTime": {
     "end_time": "2019-07-20T01:34:30.886166Z",
     "start_time": "2019-07-20T01:34:29.432078Z"
    }
   },
   "outputs": [
    {
     "data": {
      "image/png": "[encoded data removed]",
      "text/plain": [
       "<Figure size 864x576 with 1 Axes>"
      ]
     },
     "metadata": {
      "needs_background": "light"
     },
     "output_type": "display_data"
    }
   ],
   "source": [
    "import matplotlib.pyplot as plt\n",
    "%matplotlib inline\n",
    "\n",
    "fig = plt.figure(figsize=(12, 8))\n",
    "# plt.ylim(0,120)\n",
    "fdist.plot(50,cumulative=False)\n",
    "# plt.ylim(0,30)\n",
    "# plt.show()"
   ]
  },
  {
   "cell_type": "code",
   "execution_count": null,
   "metadata": {},
   "outputs": [],
   "source": []
  },
  {
   "cell_type": "code",
   "execution_count": null,
   "metadata": {
    "ExecuteTime": {
     "end_time": "2019-07-17T21:02:23.558223Z",
     "start_time": "2019-07-17T21:02:22.927034Z"
    }
   },
   "outputs": [],
   "source": [
    "import nltk\n",
    "from nltk.corpus import stopwords\n",
    "import string\n",
    "\n",
    "from nltk import word_tokenize, FreqDist\n",
    "from sklearn.feature_extraction.text import TfidfVectorizer\n",
    "from sklearn.metrics import accuracy_score\n",
    "from sklearn.ensemble import RandomForestClassifier\n",
    "from sklearn.naive_bayes import MultinomialNB\n",
    "import pandas as pd\n",
    "import numpy as np\n",
    "np.random.seed(23)"
   ]
  },
  {
   "cell_type": "code",
   "execution_count": null,
   "metadata": {
    "ExecuteTime": {
     "end_time": "2019-07-17T21:04:23.122367Z",
     "start_time": "2019-07-17T21:04:23.116451Z"
    }
   },
   "outputs": [],
   "source": [
    "stopwords_list  = stopwords.words('english')\n",
    "stopwords_list += list(string.punctuation)\n",
    "stopwords_list +="
   ]
  },
  {
   "cell_type": "code",
   "execution_count": null,
   "metadata": {
    "ExecuteTime": {
     "end_time": "2019-07-17T21:04:24.636738Z",
     "start_time": "2019-07-17T21:04:24.630522Z"
    }
   },
   "outputs": [],
   "source": [
    "stopwords_list[-20:]"
   ]
  },
  {
   "cell_type": "code",
   "execution_count": 76,
   "metadata": {
    "ExecuteTime": {
     "end_time": "2019-07-23T16:37:58.138977Z",
     "start_time": "2019-07-23T16:37:58.134163Z"
    }
   },
   "outputs": [],
   "source": [
    "# import spacy"
   ]
  },
  {
   "cell_type": "code",
   "execution_count": 67,
   "metadata": {
    "ExecuteTime": {
     "end_time": "2019-07-23T15:34:45.873441Z",
     "start_time": "2019-07-23T15:34:45.851429Z"
    }
   },
   "outputs": [
    {
     "ename": "ModuleNotFoundError",
     "evalue": "No module named 'spacy'",
     "output_type": "error",
     "traceback": [
      "\u001b[0;31m---------------------------------------------------------------------------\u001b[0m",
      "\u001b[0;31mModuleNotFoundError\u001b[0m                       Traceback (most recent call last)",
      "\u001b[0;32m<ipython-input-67-76a01d9c502b>\u001b[0m in \u001b[0;36m<module>\u001b[0;34m\u001b[0m\n\u001b[0;32m----> 1\u001b[0;31m \u001b[0;32mimport\u001b[0m \u001b[0mspacy\u001b[0m\u001b[0;34m\u001b[0m\u001b[0;34m\u001b[0m\u001b[0m\n\u001b[0m",
      "\u001b[0;31mModuleNotFoundError\u001b[0m: No module named 'spacy'"
     ]
    }
   ],
   "source": []
  },
  {
   "cell_type": "code",
   "execution_count": 82,
   "metadata": {
    "ExecuteTime": {
     "end_time": "2019-07-23T16:51:36.206140Z",
     "start_time": "2019-07-23T16:51:22.135493Z"
    }
   },
   "outputs": [
    {
     "name": "stdout",
     "output_type": "stream",
     "text": [
      "Collecting en_core_web_sm==2.1.0 from https://github.com/explosion/spacy-models/releases/download/en_core_web_sm-2.1.0/en_core_web_sm-2.1.0.tar.gz#egg=en_core_web_sm==2.1.0\n",
      "\u001b[?25l  Downloading https://github.com/explosion/spacy-models/releases/download/en_core_web_sm-2.1.0/en_core_web_sm-2.1.0.tar.gz (11.1MB)\n",
      "\u001b[K    100% |████████████████████████████████| 11.1MB 1.4MB/s ta 0:00:01118% |██▊                             | 942kB 617kB/s eta 0:00:17\n",
      "\u001b[?25hInstalling collected packages: en-core-web-sm\n",
      "  Running setup.py install for en-core-web-sm ... \u001b[?25ldone\n",
      "\u001b[?25hSuccessfully installed en-core-web-sm-2.1.0\n",
      "\u001b[38;5;2m✔ Download and installation successful\u001b[0m\n",
      "You can now load the model via spacy.load('en_core_web_sm')\n",
      "\u001b[38;5;2m✔ Linking successful\u001b[0m\n",
      "/anaconda3/lib/python3.7/site-packages/en_core_web_sm -->\n",
      "/anaconda3/lib/python3.7/site-packages/spacy/data/en\n",
      "You can now load the model via spacy.load('en')\n"
     ]
    }
   ],
   "source": [
    "# !python -m spacy download en"
   ]
  },
  {
   "cell_type": "code",
   "execution_count": 84,
   "metadata": {
    "ExecuteTime": {
     "end_time": "2019-07-23T16:51:47.019184Z",
     "start_time": "2019-07-23T16:51:47.013248Z"
    }
   },
   "outputs": [],
   "source": [
    "import numpy as np\n",
    "import pandas as pd\n",
    "import seaborn as sns\n",
    "from keras.preprocessing.text import Tokenizer\n",
    "from keras.preprocessing.sequence import pad_sequences\n",
    "from keras.utils import to_categorical\n",
    "import matplotlib.pyplot as plt\n",
    "%matplotlib inline\n",
    "import spacy"
   ]
  },
  {
   "cell_type": "code",
   "execution_count": 85,
   "metadata": {
    "ExecuteTime": {
     "end_time": "2019-07-23T16:51:48.881414Z",
     "start_time": "2019-07-23T16:51:48.703786Z"
    }
   },
   "outputs": [],
   "source": [
    "nlp = spacy.load('en')"
   ]
  },
  {
   "cell_type": "code",
   "execution_count": 112,
   "metadata": {
    "ExecuteTime": {
     "end_time": "2019-07-23T16:57:56.039490Z",
     "start_time": "2019-07-23T16:57:56.032940Z"
    }
   },
   "outputs": [
    {
     "name": "stdout",
     "output_type": "stream",
     "text": [
      "Preheat oven to 325 degrees F (165 degrees C). Grease and flour three 9 inch round cake pans. Cream together butter, 2 cups sugar, eggs, and vanilla. Sift together flour, baking powder, and salt. Add flour mixture alternately with milk into egg mixture. Divide batter into 3 parts. Fill two pans with plain batter. Add spices, raisins, and nuts into remaining batter, and pour batter into third pan. Bake for 25 minutes, or until done. Cool layers on wire racks. Mix together orange juice and rind, 2 cups coconut, 2 cups sugar, boiling water, and cornstarch in a 2 quart pan. Bring to a boil, and cook until mixture falls in lumps from a spoon. Put layers together with filling, placing spiced layer in the center. Ice cake with Seven Minute Frosting, and cover with remaining coconut. \n"
     ]
    }
   ],
   "source": [
    "desserts[3204]['instructions']\n",
    "\n",
    "test_instructions = ''\n",
    "\n",
    "for instr in desserts[3204]['instructions']:\n",
    "    test_instructions += instr['text'] + ' '\n",
    "    \n",
    "print(test_instructions)"
   ]
  },
  {
   "cell_type": "code",
   "execution_count": 113,
   "metadata": {
    "ExecuteTime": {
     "end_time": "2019-07-23T16:58:12.479164Z",
     "start_time": "2019-07-23T16:58:12.429649Z"
    }
   },
   "outputs": [],
   "source": [
    "parsed_text = nlp(test_instructions)"
   ]
  },
  {
   "cell_type": "code",
   "execution_count": 114,
   "metadata": {
    "ExecuteTime": {
     "end_time": "2019-07-23T16:58:14.607322Z",
     "start_time": "2019-07-23T16:58:14.600954Z"
    }
   },
   "outputs": [
    {
     "data": {
      "text/plain": [
       "Preheat oven to 325 degrees F (165 degrees C). Grease and flour three 9 inch round cake pans. Cream together butter, 2 cups sugar, eggs, and vanilla. Sift together flour, baking powder, and salt. Add flour mixture alternately with milk into egg mixture. Divide batter into 3 parts. Fill two pans with plain batter. Add spices, raisins, and nuts into remaining batter, and pour batter into third pan. Bake for 25 minutes, or until done. Cool layers on wire racks. Mix together orange juice and rind, 2 cups coconut, 2 cups sugar, boiling water, and cornstarch in a 2 quart pan. Bring to a boil, and cook until mixture falls in lumps from a spoon. Put layers together with filling, placing spiced layer in the center. Ice cake with Seven Minute Frosting, and cover with remaining coconut. "
      ]
     },
     "execution_count": 114,
     "metadata": {},
     "output_type": "execute_result"
    }
   ],
   "source": [
    "parsed_text"
   ]
  },
  {
   "cell_type": "code",
   "execution_count": 118,
   "metadata": {
    "ExecuteTime": {
     "end_time": "2019-07-23T16:59:31.238742Z",
     "start_time": "2019-07-23T16:59:31.202734Z"
    }
   },
   "outputs": [
    {
     "name": "stdout",
     "output_type": "stream",
     "text": [
      "1 Entity:  325 degrees F QUANTITY\n",
      "2 Entity:  165 degrees QUANTITY\n",
      "3 Entity:  three 9 inch QUANTITY\n",
      "4 Entity:  2 CARDINAL\n",
      "5 Entity:  3 CARDINAL\n",
      "6 Entity:  two CARDINAL\n",
      "7 Entity:  third ORDINAL\n",
      "8 Entity:  25 minutes TIME\n",
      "9 Entity:  2 CARDINAL\n",
      "10 Entity:  2 CARDINAL\n",
      "11 Entity:  2 CARDINAL\n",
      "12 Entity:  Seven Minute Frosting TIME\n"
     ]
    }
   ],
   "source": [
    "for num, entity in enumerate(nlp(test_instructions).ents):\n",
    "    print(num+1,'Entity: ',entity, entity.label_)"
   ]
  },
  {
   "cell_type": "code",
   "execution_count": 123,
   "metadata": {
    "ExecuteTime": {
     "end_time": "2019-07-23T17:02:11.336427Z",
     "start_time": "2019-07-23T17:02:11.240253Z"
    }
   },
   "outputs": [
    {
     "data": {
      "text/html": [
       "<div>\n",
       "<style scoped>\n",
       "    .dataframe tbody tr th:only-of-type {\n",
       "        vertical-align: middle;\n",
       "    }\n",
       "\n",
       "    .dataframe tbody tr th {\n",
       "        vertical-align: top;\n",
       "    }\n",
       "\n",
       "    .dataframe thead th {\n",
       "        text-align: right;\n",
       "    }\n",
       "</style>\n",
       "<table border=\"1\" class=\"dataframe\">\n",
       "  <thead>\n",
       "    <tr style=\"text-align: right;\">\n",
       "      <th></th>\n",
       "      <th>token</th>\n",
       "      <th>pos</th>\n",
       "    </tr>\n",
       "  </thead>\n",
       "  <tbody>\n",
       "    <tr>\n",
       "      <th>0</th>\n",
       "      <td>Preheat</td>\n",
       "      <td>96</td>\n",
       "    </tr>\n",
       "    <tr>\n",
       "      <th>1</th>\n",
       "      <td>oven</td>\n",
       "      <td>100</td>\n",
       "    </tr>\n",
       "    <tr>\n",
       "      <th>2</th>\n",
       "      <td>to</td>\n",
       "      <td>85</td>\n",
       "    </tr>\n",
       "    <tr>\n",
       "      <th>3</th>\n",
       "      <td>325</td>\n",
       "      <td>93</td>\n",
       "    </tr>\n",
       "    <tr>\n",
       "      <th>4</th>\n",
       "      <td>degrees</td>\n",
       "      <td>92</td>\n",
       "    </tr>\n",
       "  </tbody>\n",
       "</table>\n",
       "</div>"
      ],
      "text/plain": [
       "     token  pos\n",
       "0  Preheat   96\n",
       "1     oven  100\n",
       "2       to   85\n",
       "3      325   93\n",
       "4  degrees   92"
      ]
     },
     "execution_count": 123,
     "metadata": {},
     "output_type": "execute_result"
    }
   ],
   "source": [
    "token_pos = [token.pos for token in nlp(test_instructions)]\n",
    "tokens = [token for token in nlp(test_instructions)]\n",
    "sd = list(zip(tokens, token_pos))\n",
    "sd = pd.DataFrame(sd, columns=['token','pos'])\n",
    "sd.head()"
   ]
  },
  {
   "cell_type": "code",
   "execution_count": 124,
   "metadata": {
    "ExecuteTime": {
     "end_time": "2019-07-23T17:02:24.492685Z",
     "start_time": "2019-07-23T17:02:24.478476Z"
    }
   },
   "outputs": [
    {
     "data": {
      "text/html": [
       "<div>\n",
       "<style scoped>\n",
       "    .dataframe tbody tr th:only-of-type {\n",
       "        vertical-align: middle;\n",
       "    }\n",
       "\n",
       "    .dataframe tbody tr th {\n",
       "        vertical-align: top;\n",
       "    }\n",
       "\n",
       "    .dataframe thead th {\n",
       "        text-align: right;\n",
       "    }\n",
       "</style>\n",
       "<table border=\"1\" class=\"dataframe\">\n",
       "  <thead>\n",
       "    <tr style=\"text-align: right;\">\n",
       "      <th></th>\n",
       "      <th>token</th>\n",
       "      <th>pos</th>\n",
       "    </tr>\n",
       "  </thead>\n",
       "  <tbody>\n",
       "    <tr>\n",
       "      <th>0</th>\n",
       "      <td>Preheat</td>\n",
       "      <td>96</td>\n",
       "    </tr>\n",
       "    <tr>\n",
       "      <th>1</th>\n",
       "      <td>oven</td>\n",
       "      <td>100</td>\n",
       "    </tr>\n",
       "    <tr>\n",
       "      <th>2</th>\n",
       "      <td>to</td>\n",
       "      <td>85</td>\n",
       "    </tr>\n",
       "    <tr>\n",
       "      <th>3</th>\n",
       "      <td>325</td>\n",
       "      <td>93</td>\n",
       "    </tr>\n",
       "    <tr>\n",
       "      <th>4</th>\n",
       "      <td>degrees</td>\n",
       "      <td>92</td>\n",
       "    </tr>\n",
       "    <tr>\n",
       "      <th>5</th>\n",
       "      <td>F</td>\n",
       "      <td>96</td>\n",
       "    </tr>\n",
       "    <tr>\n",
       "      <th>6</th>\n",
       "      <td>(</td>\n",
       "      <td>97</td>\n",
       "    </tr>\n",
       "    <tr>\n",
       "      <th>7</th>\n",
       "      <td>165</td>\n",
       "      <td>93</td>\n",
       "    </tr>\n",
       "    <tr>\n",
       "      <th>8</th>\n",
       "      <td>degrees</td>\n",
       "      <td>92</td>\n",
       "    </tr>\n",
       "    <tr>\n",
       "      <th>9</th>\n",
       "      <td>C</td>\n",
       "      <td>96</td>\n",
       "    </tr>\n",
       "    <tr>\n",
       "      <th>10</th>\n",
       "      <td>)</td>\n",
       "      <td>97</td>\n",
       "    </tr>\n",
       "    <tr>\n",
       "      <th>11</th>\n",
       "      <td>.</td>\n",
       "      <td>97</td>\n",
       "    </tr>\n",
       "    <tr>\n",
       "      <th>12</th>\n",
       "      <td>Grease</td>\n",
       "      <td>92</td>\n",
       "    </tr>\n",
       "    <tr>\n",
       "      <th>13</th>\n",
       "      <td>and</td>\n",
       "      <td>89</td>\n",
       "    </tr>\n",
       "    <tr>\n",
       "      <th>14</th>\n",
       "      <td>flour</td>\n",
       "      <td>92</td>\n",
       "    </tr>\n",
       "    <tr>\n",
       "      <th>15</th>\n",
       "      <td>three</td>\n",
       "      <td>93</td>\n",
       "    </tr>\n",
       "    <tr>\n",
       "      <th>16</th>\n",
       "      <td>9</td>\n",
       "      <td>93</td>\n",
       "    </tr>\n",
       "    <tr>\n",
       "      <th>17</th>\n",
       "      <td>inch</td>\n",
       "      <td>92</td>\n",
       "    </tr>\n",
       "    <tr>\n",
       "      <th>18</th>\n",
       "      <td>round</td>\n",
       "      <td>84</td>\n",
       "    </tr>\n",
       "    <tr>\n",
       "      <th>19</th>\n",
       "      <td>cake</td>\n",
       "      <td>92</td>\n",
       "    </tr>\n",
       "    <tr>\n",
       "      <th>20</th>\n",
       "      <td>pans</td>\n",
       "      <td>92</td>\n",
       "    </tr>\n",
       "    <tr>\n",
       "      <th>21</th>\n",
       "      <td>.</td>\n",
       "      <td>97</td>\n",
       "    </tr>\n",
       "    <tr>\n",
       "      <th>22</th>\n",
       "      <td>Cream</td>\n",
       "      <td>100</td>\n",
       "    </tr>\n",
       "    <tr>\n",
       "      <th>23</th>\n",
       "      <td>together</td>\n",
       "      <td>86</td>\n",
       "    </tr>\n",
       "    <tr>\n",
       "      <th>24</th>\n",
       "      <td>butter</td>\n",
       "      <td>92</td>\n",
       "    </tr>\n",
       "    <tr>\n",
       "      <th>25</th>\n",
       "      <td>,</td>\n",
       "      <td>97</td>\n",
       "    </tr>\n",
       "    <tr>\n",
       "      <th>26</th>\n",
       "      <td>2</td>\n",
       "      <td>93</td>\n",
       "    </tr>\n",
       "    <tr>\n",
       "      <th>27</th>\n",
       "      <td>cups</td>\n",
       "      <td>92</td>\n",
       "    </tr>\n",
       "    <tr>\n",
       "      <th>28</th>\n",
       "      <td>sugar</td>\n",
       "      <td>92</td>\n",
       "    </tr>\n",
       "    <tr>\n",
       "      <th>29</th>\n",
       "      <td>,</td>\n",
       "      <td>97</td>\n",
       "    </tr>\n",
       "    <tr>\n",
       "      <th>...</th>\n",
       "      <td>...</td>\n",
       "      <td>...</td>\n",
       "    </tr>\n",
       "    <tr>\n",
       "      <th>139</th>\n",
       "      <td>from</td>\n",
       "      <td>85</td>\n",
       "    </tr>\n",
       "    <tr>\n",
       "      <th>140</th>\n",
       "      <td>a</td>\n",
       "      <td>90</td>\n",
       "    </tr>\n",
       "    <tr>\n",
       "      <th>141</th>\n",
       "      <td>spoon</td>\n",
       "      <td>92</td>\n",
       "    </tr>\n",
       "    <tr>\n",
       "      <th>142</th>\n",
       "      <td>.</td>\n",
       "      <td>97</td>\n",
       "    </tr>\n",
       "    <tr>\n",
       "      <th>143</th>\n",
       "      <td>Put</td>\n",
       "      <td>100</td>\n",
       "    </tr>\n",
       "    <tr>\n",
       "      <th>144</th>\n",
       "      <td>layers</td>\n",
       "      <td>92</td>\n",
       "    </tr>\n",
       "    <tr>\n",
       "      <th>145</th>\n",
       "      <td>together</td>\n",
       "      <td>86</td>\n",
       "    </tr>\n",
       "    <tr>\n",
       "      <th>146</th>\n",
       "      <td>with</td>\n",
       "      <td>85</td>\n",
       "    </tr>\n",
       "    <tr>\n",
       "      <th>147</th>\n",
       "      <td>filling</td>\n",
       "      <td>92</td>\n",
       "    </tr>\n",
       "    <tr>\n",
       "      <th>148</th>\n",
       "      <td>,</td>\n",
       "      <td>97</td>\n",
       "    </tr>\n",
       "    <tr>\n",
       "      <th>149</th>\n",
       "      <td>placing</td>\n",
       "      <td>100</td>\n",
       "    </tr>\n",
       "    <tr>\n",
       "      <th>150</th>\n",
       "      <td>spiced</td>\n",
       "      <td>100</td>\n",
       "    </tr>\n",
       "    <tr>\n",
       "      <th>151</th>\n",
       "      <td>layer</td>\n",
       "      <td>92</td>\n",
       "    </tr>\n",
       "    <tr>\n",
       "      <th>152</th>\n",
       "      <td>in</td>\n",
       "      <td>85</td>\n",
       "    </tr>\n",
       "    <tr>\n",
       "      <th>153</th>\n",
       "      <td>the</td>\n",
       "      <td>90</td>\n",
       "    </tr>\n",
       "    <tr>\n",
       "      <th>154</th>\n",
       "      <td>center</td>\n",
       "      <td>92</td>\n",
       "    </tr>\n",
       "    <tr>\n",
       "      <th>155</th>\n",
       "      <td>.</td>\n",
       "      <td>97</td>\n",
       "    </tr>\n",
       "    <tr>\n",
       "      <th>156</th>\n",
       "      <td>Ice</td>\n",
       "      <td>92</td>\n",
       "    </tr>\n",
       "    <tr>\n",
       "      <th>157</th>\n",
       "      <td>cake</td>\n",
       "      <td>92</td>\n",
       "    </tr>\n",
       "    <tr>\n",
       "      <th>158</th>\n",
       "      <td>with</td>\n",
       "      <td>85</td>\n",
       "    </tr>\n",
       "    <tr>\n",
       "      <th>159</th>\n",
       "      <td>Seven</td>\n",
       "      <td>96</td>\n",
       "    </tr>\n",
       "    <tr>\n",
       "      <th>160</th>\n",
       "      <td>Minute</td>\n",
       "      <td>96</td>\n",
       "    </tr>\n",
       "    <tr>\n",
       "      <th>161</th>\n",
       "      <td>Frosting</td>\n",
       "      <td>96</td>\n",
       "    </tr>\n",
       "    <tr>\n",
       "      <th>162</th>\n",
       "      <td>,</td>\n",
       "      <td>97</td>\n",
       "    </tr>\n",
       "    <tr>\n",
       "      <th>163</th>\n",
       "      <td>and</td>\n",
       "      <td>89</td>\n",
       "    </tr>\n",
       "    <tr>\n",
       "      <th>164</th>\n",
       "      <td>cover</td>\n",
       "      <td>100</td>\n",
       "    </tr>\n",
       "    <tr>\n",
       "      <th>165</th>\n",
       "      <td>with</td>\n",
       "      <td>85</td>\n",
       "    </tr>\n",
       "    <tr>\n",
       "      <th>166</th>\n",
       "      <td>remaining</td>\n",
       "      <td>100</td>\n",
       "    </tr>\n",
       "    <tr>\n",
       "      <th>167</th>\n",
       "      <td>coconut</td>\n",
       "      <td>92</td>\n",
       "    </tr>\n",
       "    <tr>\n",
       "      <th>168</th>\n",
       "      <td>.</td>\n",
       "      <td>97</td>\n",
       "    </tr>\n",
       "  </tbody>\n",
       "</table>\n",
       "<p>169 rows × 2 columns</p>\n",
       "</div>"
      ],
      "text/plain": [
       "         token  pos\n",
       "0      Preheat   96\n",
       "1         oven  100\n",
       "2           to   85\n",
       "3          325   93\n",
       "4      degrees   92\n",
       "5            F   96\n",
       "6            (   97\n",
       "7          165   93\n",
       "8      degrees   92\n",
       "9            C   96\n",
       "10           )   97\n",
       "11           .   97\n",
       "12      Grease   92\n",
       "13         and   89\n",
       "14       flour   92\n",
       "15       three   93\n",
       "16           9   93\n",
       "17        inch   92\n",
       "18       round   84\n",
       "19        cake   92\n",
       "20        pans   92\n",
       "21           .   97\n",
       "22       Cream  100\n",
       "23    together   86\n",
       "24      butter   92\n",
       "25           ,   97\n",
       "26           2   93\n",
       "27        cups   92\n",
       "28       sugar   92\n",
       "29           ,   97\n",
       "..         ...  ...\n",
       "139       from   85\n",
       "140          a   90\n",
       "141      spoon   92\n",
       "142          .   97\n",
       "143        Put  100\n",
       "144     layers   92\n",
       "145   together   86\n",
       "146       with   85\n",
       "147    filling   92\n",
       "148          ,   97\n",
       "149    placing  100\n",
       "150     spiced  100\n",
       "151      layer   92\n",
       "152         in   85\n",
       "153        the   90\n",
       "154     center   92\n",
       "155          .   97\n",
       "156        Ice   92\n",
       "157       cake   92\n",
       "158       with   85\n",
       "159      Seven   96\n",
       "160     Minute   96\n",
       "161   Frosting   96\n",
       "162          ,   97\n",
       "163        and   89\n",
       "164      cover  100\n",
       "165       with   85\n",
       "166  remaining  100\n",
       "167    coconut   92\n",
       "168          .   97\n",
       "\n",
       "[169 rows x 2 columns]"
      ]
     },
     "execution_count": 124,
     "metadata": {},
     "output_type": "execute_result"
    }
   ],
   "source": [
    "sd"
   ]
  },
  {
   "cell_type": "code",
   "execution_count": 125,
   "metadata": {
    "ExecuteTime": {
     "end_time": "2019-07-23T17:03:56.299469Z",
     "start_time": "2019-07-23T17:03:56.296128Z"
    }
   },
   "outputs": [],
   "source": [
    "max_num_words = 1000\n",
    "max_seg_length = 100\n",
    "tokenizer = Tokenizer(num_words=max_num_words)"
   ]
  },
  {
   "cell_type": "code",
   "execution_count": null,
   "metadata": {},
   "outputs": [],
   "source": []
  }
 ],
 "metadata": {
  "kernelspec": {
   "display_name": "Python 3",
   "language": "python",
   "name": "python3"
  },
  "language_info": {
   "codemirror_mode": {
    "name": "ipython",
    "version": 3
   },
   "file_extension": ".py",
   "mimetype": "text/x-python",
   "name": "python",
   "nbconvert_exporter": "python",
   "pygments_lexer": "ipython3",
   "version": "3.7.3"
  },
  "latex_envs": {
   "LaTeX_envs_menu_present": true,
   "autoclose": false,
   "autocomplete": true,
   "bibliofile": "biblio.bib",
   "cite_by": "apalike",
   "current_citInitial": 1,
   "eqLabelWithNumbers": true,
   "eqNumInitial": 1,
   "hotkeys": {
    "equation": "Ctrl-E",
    "itemize": "Ctrl-I"
   },
   "labels_anchors": false,
   "latex_user_defs": false,
   "report_style_numbering": false,
   "user_envs_cfg": false
  },
  "toc": {
   "base_numbering": 1,
   "nav_menu": {},
   "number_sections": true,
   "sideBar": true,
   "skip_h1_title": false,
   "title_cell": "Table of Contents",
   "title_sidebar": "Contents",
   "toc_cell": false,
   "toc_position": {},
   "toc_section_display": true,
   "toc_window_display": false
  },
  "varInspector": {
   "cols": {
    "lenName": 16,
    "lenType": 16,
    "lenVar": 40
   },
   "kernels_config": {
    "python": {
     "delete_cmd_postfix": "",
     "delete_cmd_prefix": "del ",
     "library": "var_list.py",
     "varRefreshCmd": "print(var_dic_list())"
    },
    "r": {
     "delete_cmd_postfix": ") ",
     "delete_cmd_prefix": "rm(",
     "library": "var_list.r",
     "varRefreshCmd": "cat(var_dic_list()) "
    }
   },
   "types_to_exclude": [
    "module",
    "function",
    "builtin_function_or_method",
    "instance",
    "_Feature"
   ],
   "window_display": false
  }
 },
 "nbformat": 4,
 "nbformat_minor": 2
}
