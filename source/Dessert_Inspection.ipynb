{
 "cells": [
  {
   "cell_type": "code",
   "execution_count": 205,
   "metadata": {
    "ExecuteTime": {
     "end_time": "2019-07-18T02:47:06.984253Z",
     "start_time": "2019-07-18T02:47:06.964907Z"
    }
   },
   "outputs": [],
   "source": [
    "from extract_desserts import *"
   ]
  },
  {
   "cell_type": "code",
   "execution_count": 206,
   "metadata": {
    "ExecuteTime": {
     "end_time": "2019-07-18T02:47:08.653544Z",
     "start_time": "2019-07-18T02:47:07.777218Z"
    }
   },
   "outputs": [
    {
     "name": "stdout",
     "output_type": "stream",
     "text": [
      "Loading file  ../data/sample_layer1.json\n",
      "Loading ingredient file: ../data/sample_det_ingrs.json\n"
     ]
    }
   ],
   "source": [
    "#load the raw data\n",
    "# lets use the default value that only loads 250 recipes,\n",
    "# instead of 1 million\n",
    "raw_data = get_raw_data()\n",
    "raw_ingredients = get_raw_ingredients()"
   ]
  },
  {
   "cell_type": "code",
   "execution_count": 207,
   "metadata": {
    "ExecuteTime": {
     "end_time": "2019-07-18T02:47:11.182150Z",
     "start_time": "2019-07-18T02:47:11.176042Z"
    }
   },
   "outputs": [
    {
     "name": "stdout",
     "output_type": "stream",
     "text": [
      "N recipes:  20000 \t N list of ingredients  20000\n"
     ]
    }
   ],
   "source": [
    "print('N recipes: ',len(raw_data),'\\t N list of ingredients ', len(raw_ingredients))"
   ]
  },
  {
   "cell_type": "code",
   "execution_count": 208,
   "metadata": {
    "ExecuteTime": {
     "end_time": "2019-07-18T02:47:14.026134Z",
     "start_time": "2019-07-18T02:47:13.892574Z"
    }
   },
   "outputs": [],
   "source": [
    "desserts, dessert_ings = find_desserts(raw_data, raw_ingredients)"
   ]
  },
  {
   "cell_type": "code",
   "execution_count": 209,
   "metadata": {
    "ExecuteTime": {
     "end_time": "2019-07-18T02:47:15.663405Z",
     "start_time": "2019-07-18T02:47:15.656548Z"
    }
   },
   "outputs": [
    {
     "name": "stdout",
     "output_type": "stream",
     "text": [
      "Will look at 4793 dessert recipes, out of 20000 (~24.0%)\n"
     ]
    }
   ],
   "source": [
    "total_recipes = len(raw_data)\n",
    "dessert_recipes = len(desserts)\n",
    "dessert_ingredients = len(dessert_ings)\n",
    "print('Will look at {} dessert recipes, out of {} (~{:1.1f}%)'.format(\n",
    "                            dessert_recipes, total_recipes,\n",
    "                            dessert_recipes/total_recipes*100))"
   ]
  },
  {
   "cell_type": "code",
   "execution_count": 210,
   "metadata": {
    "ExecuteTime": {
     "end_time": "2019-07-18T02:47:22.043184Z",
     "start_time": "2019-07-18T02:47:22.036659Z"
    },
    "scrolled": true
   },
   "outputs": [
    {
     "name": "stdout",
     "output_type": "stream",
     "text": [
      "[True, True, True, True, True, True, True, True, True]\n"
     ]
    },
    {
     "data": {
      "text/plain": [
       "[{'text': 'butter'},\n",
       " {'text': 'sugar'},\n",
       " {'text': 'baking soda'},\n",
       " {'text': 'eggs'},\n",
       " {'text': 'flour'},\n",
       " {'text': 'cocoa'},\n",
       " {'text': 'soured milk'},\n",
       " {'text': 'raisins'},\n",
       " {'text': 'vanilla'}]"
      ]
     },
     "execution_count": 210,
     "metadata": {},
     "output_type": "execute_result"
    }
   ],
   "source": [
    "item = 123\n",
    "print(dessert_ings[item]['valid'])\n",
    "dessert_ings[item]['ingredients']"
   ]
  },
  {
   "cell_type": "code",
   "execution_count": 213,
   "metadata": {
    "ExecuteTime": {
     "end_time": "2019-07-18T02:47:30.982275Z",
     "start_time": "2019-07-18T02:47:30.929334Z"
    }
   },
   "outputs": [],
   "source": [
    "# create bag of ingredients\n",
    "\n",
    "all_ingredients = []\n",
    "\n",
    "for recipe_ings in dessert_ings:\n",
    "    n_ingredients = len(recipe_ings['valid'])\n",
    "    for item, ingredient in enumerate(recipe_ings['ingredients']):\n",
    "        if recipe_ings['valid'][item] ==True:\n",
    "            ingred = ingredient['text']\n",
    "            if ingred=='eggs':\n",
    "                ingred='egg'\n",
    "            elif 'butter' in ingred:\n",
    "                ingred = 'butter'\n",
    "            \n",
    "            elif ingred == 'granulated sugar':\n",
    "                ingred= 'sugar'\n",
    "            elif 'flour' in ingred:\n",
    "                ingred = 'flour'\n",
    "#             elif ingred == 'all - purpose flour' or ingred == 'cake flour':\n",
    "#                 ingred = 'flour'\n",
    "            elif ingred == 'boiling water' or  ingred=='cold water':\n",
    "                ingred = 'water'\n",
    "            elif ingred== 'light brown sugar' or ingred == 'dark brown sugar':\n",
    "                ingred = 'sugar'\n",
    "            elif ingred == 'vanilla extract' or ingred == 'pure vanilla extract':\n",
    "                ingred = 'vanilla'\n",
    "            elif ingred == 'fresh lemon juice':\n",
    "                ingred = 'lemon juice'\n",
    "            if ingred not in spices:\n",
    "                all_ingredients.append(ingred)\n",
    "            "
   ]
  },
  {
   "cell_type": "code",
   "execution_count": 214,
   "metadata": {
    "ExecuteTime": {
     "end_time": "2019-07-18T02:47:32.087099Z",
     "start_time": "2019-07-18T02:47:32.079686Z"
    },
    "scrolled": true
   },
   "outputs": [
    {
     "name": "stdout",
     "output_type": "stream",
     "text": [
      "with 4793 recipes, there are 29696 ingredients, and 3024 unique ingredients.\n"
     ]
    }
   ],
   "source": [
    "ingredient_set = set(all_ingredients)\n",
    "print('with {} recipes, there are {} ingredients, and {} unique ingredients.'.format(\n",
    "                dessert_recipes, len(all_ingredients), len(ingredient_set)))"
   ]
  },
  {
   "cell_type": "code",
   "execution_count": 215,
   "metadata": {
    "ExecuteTime": {
     "end_time": "2019-07-18T02:47:33.443857Z",
     "start_time": "2019-07-18T02:47:33.439517Z"
    }
   },
   "outputs": [],
   "source": [
    "spices =['sugar','salt','water','baking soda','baking powder','flour', 'vegetable oil',\n",
    "        'olive oil', 'cornstarch','nutmeg','white sugar','powdered sugar', 'brown sugar',\n",
    "        'margarine','oil','shortening','kosher salt',\"confectioners' sugar\",'icing sugar',\n",
    "        'canola oil','pepper' ,'low - fat milk','light corn syrup',]"
   ]
  },
  {
   "cell_type": "code",
   "execution_count": 216,
   "metadata": {
    "ExecuteTime": {
     "end_time": "2019-07-18T02:47:34.579151Z",
     "start_time": "2019-07-18T02:47:34.576322Z"
    }
   },
   "outputs": [],
   "source": [
    "from nltk import FreqDist"
   ]
  },
  {
   "cell_type": "code",
   "execution_count": 217,
   "metadata": {
    "ExecuteTime": {
     "end_time": "2019-07-18T02:47:35.674752Z",
     "start_time": "2019-07-18T02:47:35.650928Z"
    }
   },
   "outputs": [
    {
     "name": "stdout",
     "output_type": "stream",
     "text": [
      "<FreqDist with 3024 samples and 29696 outcomes>\n"
     ]
    }
   ],
   "source": [
    "fdist = FreqDist(all_ingredients)\n",
    "print(fdist)"
   ]
  },
  {
   "cell_type": "code",
   "execution_count": 218,
   "metadata": {
    "ExecuteTime": {
     "end_time": "2019-07-18T02:47:36.747964Z",
     "start_time": "2019-07-18T02:47:36.735659Z"
    },
    "scrolled": false
   },
   "outputs": [
    {
     "data": {
      "text/plain": [
       "[('butter', 3201),\n",
       " ('egg', 2083),\n",
       " ('vanilla', 1813),\n",
       " ('milk', 874),\n",
       " ('cinnamon', 466),\n",
       " ('cream cheese', 408),\n",
       " ('ground cinnamon', 360),\n",
       " ('lemon juice', 347),\n",
       " ('heavy cream', 345),\n",
       " ('honey', 326),\n",
       " ('pecans', 288),\n",
       " ('walnuts', 256),\n",
       " ('sour cream', 231),\n",
       " ('egg yolks', 222),\n",
       " ('egg whites', 177),\n",
       " ('semi - sweet chocolate chips', 173),\n",
       " ('whipping cream', 169),\n",
       " ('bananas', 168),\n",
       " ('cocoa powder', 138),\n",
       " ('chocolate chips', 135),\n",
       " ('ground nutmeg', 129),\n",
       " ('raisins', 128),\n",
       " ('garlic cloves', 127),\n",
       " ('almond extract', 115),\n",
       " ('ground ginger', 112),\n",
       " ('nuts', 112),\n",
       " ('cocoa', 107),\n",
       " ('onions', 106),\n",
       " ('whole milk', 103),\n",
       " ('onion', 102),\n",
       " ('sweetened condensed milk', 102),\n",
       " ('egg yolk', 101),\n",
       " ('unsweetened cocoa powder', 99),\n",
       " ('ground cloves', 99),\n",
       " ('orange juice', 98),\n",
       " ('strawberries', 94),\n",
       " ('heavy whipping cream', 94),\n",
       " ('evaporated milk', 90),\n",
       " ('apples', 87),\n",
       " ('semisweet chocolate', 87),\n",
       " ('lemon zest', 84),\n",
       " ('bittersweet chocolate', 83),\n",
       " ('cream of tartar', 81),\n",
       " ('rolled oats', 77),\n",
       " ('Cool Whip', 75),\n",
       " ('carrots', 75),\n",
       " ('molasses', 75),\n",
       " ('graham cracker crumbs', 74),\n",
       " ('salt and pepper', 71),\n",
       " ('Cool Whip Topping', 69),\n",
       " ('orange zest', 69),\n",
       " ('sea salt', 69),\n",
       " ('warm water', 65),\n",
       " ('lemon', 65),\n",
       " ('parmesan cheese', 65),\n",
       " ('cloves', 64),\n",
       " ('ginger', 64),\n",
       " ('hot water', 64),\n",
       " ('almonds', 63),\n",
       " ('vanilla ice cream', 62),\n",
       " ('cream', 61),\n",
       " ('caster sugar', 60),\n",
       " ('Philadelphia Cream Cheese', 59),\n",
       " ('black pepper', 59),\n",
       " ('vegetable shortening', 57),\n",
       " ('half - and - half', 57),\n",
       " ('maple syrup', 57),\n",
       " ('whipped cream', 55),\n",
       " ('white chocolate', 55),\n",
       " ('unsweetened chocolate', 54),\n",
       " ('garlic clove', 53),\n",
       " ('active dry yeast', 53),\n",
       " ('cooking spray', 52),\n",
       " ('lemons', 51),\n",
       " ('yeast', 50),\n",
       " ('egg white', 48),\n",
       " ('applesauce', 48),\n",
       " ('fresh ground black pepper', 47),\n",
       " ('ground allspice', 46),\n",
       " ('blueberries', 45),\n",
       " ('vanilla bean', 45),\n",
       " ('chocolate', 45),\n",
       " ('fresh strawberries', 45),\n",
       " ('salt & freshly ground black pepper', 45),\n",
       " ('banana', 44),\n",
       " ('flaked coconut', 44),\n",
       " ('rum', 44),\n",
       " ('crushed pineapple', 43),\n",
       " ('garlic powder', 43),\n",
       " ('sliced almonds', 42),\n",
       " ('mayonnaise', 42),\n",
       " ('allspice', 42),\n",
       " ('celery', 42),\n",
       " ('oats', 42),\n",
       " ('potatoes', 42),\n",
       " ('corn syrup', 42),\n",
       " ('garlic', 42),\n",
       " ('red food coloring', 42),\n",
       " ('graham crackers', 42),\n",
       " ('yellow cake mix', 41)]"
      ]
     },
     "execution_count": 218,
     "metadata": {},
     "output_type": "execute_result"
    }
   ],
   "source": [
    "fdist.most_common(100)"
   ]
  },
  {
   "cell_type": "code",
   "execution_count": 219,
   "metadata": {
    "ExecuteTime": {
     "end_time": "2019-07-18T02:48:01.149175Z",
     "start_time": "2019-07-18T02:48:00.746870Z"
    }
   },
   "outputs": [
    {
     "data": {
      "image/png": "[encoded data removed]",
      "text/plain": [
       "<Figure size 864x576 with 1 Axes>"
      ]
     },
     "metadata": {
      "needs_background": "light"
     },
     "output_type": "display_data"
    }
   ],
   "source": [
    "import matplotlib.pyplot as plt\n",
    "%matplotlib inline\n",
    "\n",
    "fig = plt.figure(figsize=(12, 8))\n",
    "# plt.ylim(0,120)\n",
    "fdist.plot(50,cumulative=False)\n",
    "# plt.ylim(0,30)\n",
    "# plt.show()"
   ]
  },
  {
   "cell_type": "code",
   "execution_count": null,
   "metadata": {},
   "outputs": [],
   "source": []
  },
  {
   "cell_type": "code",
   "execution_count": null,
   "metadata": {
    "ExecuteTime": {
     "end_time": "2019-07-17T21:02:23.558223Z",
     "start_time": "2019-07-17T21:02:22.927034Z"
    }
   },
   "outputs": [],
   "source": [
    "import nltk\n",
    "from nltk.corpus import stopwords\n",
    "import string\n",
    "\n",
    "from nltk import word_tokenize, FreqDist\n",
    "from sklearn.feature_extraction.text import TfidfVectorizer\n",
    "from sklearn.metrics import accuracy_score\n",
    "from sklearn.ensemble import RandomForestClassifier\n",
    "from sklearn.naive_bayes import MultinomialNB\n",
    "import pandas as pd\n",
    "import numpy as np\n",
    "np.random.seed(23)"
   ]
  },
  {
   "cell_type": "code",
   "execution_count": null,
   "metadata": {
    "ExecuteTime": {
     "end_time": "2019-07-17T21:04:23.122367Z",
     "start_time": "2019-07-17T21:04:23.116451Z"
    }
   },
   "outputs": [],
   "source": [
    "stopwords_list  = stopwords.words('english')\n",
    "stopwords_list += list(string.punctuation)\n",
    "stopwords_list +="
   ]
  },
  {
   "cell_type": "code",
   "execution_count": null,
   "metadata": {
    "ExecuteTime": {
     "end_time": "2019-07-17T21:04:24.636738Z",
     "start_time": "2019-07-17T21:04:24.630522Z"
    }
   },
   "outputs": [],
   "source": [
    "stopwords_list[-20:]"
   ]
  },
  {
   "cell_type": "code",
   "execution_count": null,
   "metadata": {},
   "outputs": [],
   "source": []
  }
 ],
 "metadata": {
  "kernelspec": {
   "display_name": "Python 3",
   "language": "python",
   "name": "python3"
  },
  "language_info": {
   "codemirror_mode": {
    "name": "ipython",
    "version": 3
   },
   "file_extension": ".py",
   "mimetype": "text/x-python",
   "name": "python",
   "nbconvert_exporter": "python",
   "pygments_lexer": "ipython3",
   "version": "3.7.3"
  },
  "latex_envs": {
   "LaTeX_envs_menu_present": true,
   "autoclose": false,
   "autocomplete": true,
   "bibliofile": "biblio.bib",
   "cite_by": "apalike",
   "current_citInitial": 1,
   "eqLabelWithNumbers": true,
   "eqNumInitial": 1,
   "hotkeys": {
    "equation": "Ctrl-E",
    "itemize": "Ctrl-I"
   },
   "labels_anchors": false,
   "latex_user_defs": false,
   "report_style_numbering": false,
   "user_envs_cfg": false
  },
  "toc": {
   "base_numbering": 1,
   "nav_menu": {},
   "number_sections": true,
   "sideBar": true,
   "skip_h1_title": false,
   "title_cell": "Table of Contents",
   "title_sidebar": "Contents",
   "toc_cell": false,
   "toc_position": {},
   "toc_section_display": true,
   "toc_window_display": false
  },
  "varInspector": {
   "cols": {
    "lenName": 16,
    "lenType": 16,
    "lenVar": 40
   },
   "kernels_config": {
    "python": {
     "delete_cmd_postfix": "",
     "delete_cmd_prefix": "del ",
     "library": "var_list.py",
     "varRefreshCmd": "print(var_dic_list())"
    },
    "r": {
     "delete_cmd_postfix": ") ",
     "delete_cmd_prefix": "rm(",
     "library": "var_list.r",
     "varRefreshCmd": "cat(var_dic_list()) "
    }
   },
   "types_to_exclude": [
    "module",
    "function",
    "builtin_function_or_method",
    "instance",
    "_Feature"
   ],
   "window_display": false
  }
 },
 "nbformat": 4,
 "nbformat_minor": 2
}
